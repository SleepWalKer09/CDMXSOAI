{
 "cells": [
  {
   "cell_type": "markdown",
   "metadata": {
    "collapsed": true
   },
   "source": [
    "# Guia de Instalacion para Ubuntu"
   ]
  },
  {
   "cell_type": "markdown",
   "metadata": {},
   "source": [
    "### Requisitos para poder usar ubuntu en tu maquina "
   ]
  },
  {
   "cell_type": "markdown",
   "metadata": {},
   "source": [
    "- Procesador 2 GHz dual core o mejor.\n",
    "- 2 GB de RAM.\n",
    "- 25 GB de espacio libre en disco duro."
   ]
  },
  {
   "cell_type": "markdown",
   "metadata": {},
   "source": [
    "### Desde Windows"
   ]
  },
  {
   "cell_type": "markdown",
   "metadata": {},
   "source": [
    "#### 1 Para poder instalar Ubuntu desde Window neceistamos:\n",
    "\n",
    "- USB stick con minimo 2GB disponibles\n",
    "- Windows XP o mas reciente\n",
    "- [Rufus](https://rufus.akeo.ie/)\n",
    "- ISO de [Ubuntu](https://www.ubuntu.com/download/desktop)\n",
    "\n",
    "#### 2 Rufus\n",
    "\n",
    "- Insertamos el USB\n",
    "- Abrimos Rufus \n",
    "- Seleccionamos el USB stick en el dropdown menu\n",
    "- Utlizamos el partition scheme de 'MBR partition scheme for UEFI'\n",
    "- Hacemos click en el icono que esta junto y vamos a la carpeta en donde este el ISO de Ubuntu\n",
    "- Dejamos todo lo demas como default e iniciamos el proceso\n",
    "- En el prompt seleccionamos 'Write in ISO Image mode' y pulsamos Ok\n",
    "- El proceso comienza y tarde entre ~3-5 minutos\n",
    "\n",
    "#### 3 Ubuntu\n",
    "\n",
    "- Reiniciamos la maquina y presionamos F12\n",
    "- En el menu de Boot seleccionamos Ubuntu\n",
    "- En el menu seleccionamos Ubuntu Install \n",
    "- Seleccionamos Normal Installation\n",
    "- Si estamos conectados a internet via Ethernet seleccionamos Download updates while installing Ubuntu\n",
    "- Seleccionamos Install alongside Windows\n",
    "- Seleccionamos la cantidad de espacio que le queremos dar a Ubuntu\n",
    "- Le damos continuar al prompt \n",
    "- Seleccionamos nuestra ubicacion\n",
    "- Ponemos nuestros datos (Nombre, Nombre-PC, Usuario, Password)\n",
    "- La instalacion comienza \n",
    "- Al finalizar reiniciamos la maquina y quitamos el USB cuando se nos indique\n",
    "\n",
    "#### 4 LISTO! Ya tienes Ubuntu instalado y listo para utilizar. "
   ]
  },
  {
   "cell_type": "code",
   "execution_count": null,
   "metadata": {},
   "outputs": [],
   "source": []
  }
 ],
 "metadata": {
  "kernelspec": {
   "display_name": "Python 3",
   "language": "python",
   "name": "python3"
  },
  "language_info": {
   "codemirror_mode": {
    "name": "ipython",
    "version": 3
   },
   "file_extension": ".py",
   "mimetype": "text/x-python",
   "name": "python",
   "nbconvert_exporter": "python",
   "pygments_lexer": "ipython3",
   "version": "3.6.5"
  }
 },
 "nbformat": 4,
 "nbformat_minor": 1
}
