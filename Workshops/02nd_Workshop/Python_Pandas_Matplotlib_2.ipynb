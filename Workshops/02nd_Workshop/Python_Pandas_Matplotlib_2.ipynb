{
 "cells": [
  {
   "cell_type": "markdown",
   "metadata": {
    "collapsed": true
   },
   "source": [
    "# Tercer Workshop\n",
    "\n",
    "Para revisar la primera parte de Python 3x, Pandas & Matplotlib; puedes checar el libro del [workshop anterior](http://bit.ly/2P4cNEc)"
   ]
  },
  {
   "cell_type": "markdown",
   "metadata": {},
   "source": [
    "### Python3(Parte 2)\n",
    "\n",
    "#### Functions\n",
    "\n",
    "Recordemos que la idea detras de una funcion es crear un segmento/pedazo de codigo y con variables/parametros, a veces, para asignar _funciones_ o tareas especificas y no tener que escribirlas cada vez que queremos ejecutarlas de nuevo en diferentes partes de nuestros proyectos.\n",
    "\n",
    "En Python las funciones se comienzan a escribir con el keyword 'def' que le indica a Python que vamos a definir una funcion, luego le asignamos un nombre a la funcion, por salud mental siempre es mejor asignar un nombre unico a cada funcion que escribamos para evitar conflictos con otras funciones.\n",
    "\n",
    "En el siguiente ejemplo vamos a crear una funcion llamada '_miFuncion_', luego de asignar el nombre tenemos que especificar los parametros de la funcion que funcionan como variables dentro de la funcion, cabe mencionar que no son obligatorios para que la funcion sea valida."
   ]
  },
  {
   "cell_type": "code",
   "execution_count": 10,
   "metadata": {},
   "outputs": [],
   "source": [
    "def miFuncion():\n",
    "    print('Esta es una funcion de ejemplo!')\n",
    "    x = 2 + 2\n",
    "    print(x)"
   ]
  },
  {
   "cell_type": "markdown",
   "metadata": {},
   "source": [
    "Despues de que corremos la funcion observamos que no sucede nada, esto es porque tenemos que '_llamar_' a la funcion para que se ejecute, lo unico que hicimos en la celda anterior fue definir la funcion y que es lo que hara. Para esto tenemos que hacer lo siguiente:"
   ]
  },
  {
   "cell_type": "code",
   "execution_count": 13,
   "metadata": {},
   "outputs": [
    {
     "name": "stdout",
     "output_type": "stream",
     "text": [
      "Esta es una funcion de ejemplo!\n",
      "4\n"
     ]
    }
   ],
   "source": [
    "mi_funcion()"
   ]
  },
  {
   "cell_type": "markdown",
   "metadata": {},
   "source": [
    "#### Parametros de la Funcion\n",
    "\n",
    "La idea detras de los parametros de una funcion en Python es que el desarrollador que use la funcion pueda definir la variables de manera dinamica. Un ejemplo:"
   ]
  },
  {
   "cell_type": "code",
   "execution_count": 19,
   "metadata": {},
   "outputs": [
    {
     "name": "stdout",
     "output_type": "stream",
     "text": [
      "el pimer numero es: 5\n",
      "el segundor numero es: 3\n",
      "el resultado de la suma es: 8\n"
     ]
    }
   ],
   "source": [
    "def suma(numero1,numero2):\n",
    "    respuesta = numero1 + numero2\n",
    "    print('el pimer numero es:', numero1)\n",
    "    print('el segundor numero es:', numero2)\n",
    "    print('el resultado de la suma es:', respuesta)\n",
    "\n",
    "suma(5,3)"
   ]
  },
  {
   "cell_type": "markdown",
   "metadata": {},
   "source": [
    "En el ejemplo anterior definimos nuestra funcion '_suma_', dentro de la funcion definimos los parametros o '_params_' (comunmente asi los encontraremos) espeficicamos las variables _numero1_ y _numero 2_.\n",
    "\n",
    "Luego dentro de la funcion creamos la variable _respuesta_ que es igual a la suma de los dos parametros de la funcion, para darnos claridad de lo que esta pasando imprimimos el valor que se le asignara a cada parametro y al final imprimimos la _respuesta_.\n",
    "\n",
    "Para ejecutar esta funcion tenemos que hacer uso de los parametros de la siguiente manera: '_suma(5,3)_'. Esto ejecuta '_suma_' utilizando los parametros numero1=5, y numero2=3, luego el programa los suma e imprime el contenido de los parametros y luego imprimimos la '_respuesta_'.\n",
    "\n",
    "No existe un limite para el numero de parametros que podemos asignar a nuestras funciones. Si queremos especificar las definiciones para cada uno de nuestro parametros sin '_llamarlos_' espeficicamente debemos respetar el orden en el cual los pusimos en la definicion de la funcion, si por ejemplo tenemos una funcion con demasiados parametros y recordar el orden especifico es dificil podrias aplicar la siguiente:"
   ]
  },
  {
   "cell_type": "code",
   "execution_count": 20,
   "metadata": {},
   "outputs": [
    {
     "name": "stdout",
     "output_type": "stream",
     "text": [
      "el pimer numero es: 5\n",
      "el segundor numero es: 3\n",
      "el resultado de la suma es: 8\n"
     ]
    }
   ],
   "source": [
    "suma(numero2=3,numero1=5)"
   ]
  },
  {
   "cell_type": "markdown",
   "metadata": {},
   "source": [
    "En el caso anterior cuando _llamamos_ la funcion y definimos los parametros podemos observar que el orden de los parametros esta invertido pero estan especificados/asignados de manera individual, si no es asi tienes que respetar el orden para que la funcion se ejecute de manera adecuada, no quieres quebrar la empresa por una funcion que no puede hacer aritmetica basica de forma correcta. O si?\n",
    "\n",
    "Cabe mencionar que debes respetar el orden especifico siempre pero no puedes asignar parametros adicionales o menos parametros."
   ]
  },
  {
   "cell_type": "code",
   "execution_count": 22,
   "metadata": {},
   "outputs": [
    {
     "ename": "TypeError",
     "evalue": "suma() takes 2 positional arguments but 3 were given",
     "output_type": "error",
     "traceback": [
      "\u001b[0;31m---------------------------------------------------------------------------\u001b[0m",
      "\u001b[0;31mTypeError\u001b[0m                                 Traceback (most recent call last)",
      "\u001b[0;32m<ipython-input-22-f0089c8447fc>\u001b[0m in \u001b[0;36m<module>\u001b[0;34m()\u001b[0m\n\u001b[0;32m----> 1\u001b[0;31m \u001b[0msuma\u001b[0m\u001b[0;34m(\u001b[0m\u001b[0;36m3\u001b[0m\u001b[0;34m,\u001b[0m\u001b[0;36m5\u001b[0m\u001b[0;34m,\u001b[0m\u001b[0;36m6\u001b[0m\u001b[0;34m)\u001b[0m\u001b[0;34m\u001b[0m\u001b[0m\n\u001b[0m",
      "\u001b[0;31mTypeError\u001b[0m: suma() takes 2 positional arguments but 3 were given"
     ]
    }
   ],
   "source": [
    "suma(3,5,6)"
   ]
  },
  {
   "cell_type": "markdown",
   "metadata": {},
   "source": [
    "Lo anterior no jala, y lo siguiente tampoco:"
   ]
  },
  {
   "cell_type": "code",
   "execution_count": 24,
   "metadata": {},
   "outputs": [
    {
     "ename": "TypeError",
     "evalue": "suma() missing 1 required positional argument: 'numero2'",
     "output_type": "error",
     "traceback": [
      "\u001b[0;31m---------------------------------------------------------------------------\u001b[0m",
      "\u001b[0;31mTypeError\u001b[0m                                 Traceback (most recent call last)",
      "\u001b[0;32m<ipython-input-24-78d7da99b866>\u001b[0m in \u001b[0;36m<module>\u001b[0;34m()\u001b[0m\n\u001b[0;32m----> 1\u001b[0;31m \u001b[0msuma\u001b[0m\u001b[0;34m(\u001b[0m\u001b[0;36m3\u001b[0m\u001b[0;34m)\u001b[0m\u001b[0;34m\u001b[0m\u001b[0m\n\u001b[0m",
      "\u001b[0;31mTypeError\u001b[0m: suma() missing 1 required positional argument: 'numero2'"
     ]
    }
   ],
   "source": [
    "suma(3)"
   ]
  },
  {
   "cell_type": "markdown",
   "metadata": {},
   "source": [
    "#### Parametros de la Funcion(defaults)\n",
    "\n",
    "En el ejemplo anterior vimos como funcionan los parametros dentro de un funcion, la verdad es que podriamos tener u numero infinito de parametros en una funcion, pero hacer eso seria muy _sucio_ y bastante tedioso, en especial cuando estamos trabajando en equipo.\n",
    "\n",
    "En ocasiones vamos a encontrar que hay funciones complejas que se pueden customizar de una manera muy sencilla, y es una cuestion de juicio propio decirdir si usarlas en su forma _default_ o customizar. Cuando usamos los parametros con sus valores defualt, estos deben estar al final. Un ejemplo:"
   ]
  },
  {
   "cell_type": "code",
   "execution_count": 25,
   "metadata": {},
   "outputs": [],
   "source": [
    "def simple(numero1, numero2=5):\n",
    "    pass"
   ]
  },
  {
   "cell_type": "markdown",
   "metadata": {},
   "source": [
    "Otro ejemplo:"
   ]
  },
  {
   "cell_type": "code",
   "execution_count": 27,
   "metadata": {},
   "outputs": [
    {
     "name": "stdout",
     "output_type": "stream",
     "text": [
      "350 500 TNR\n"
     ]
    }
   ],
   "source": [
    "def ventana_basica(width,height,font='TNR'):\n",
    "    # let us just print out everything\n",
    "    print(width,height,font)\n",
    "ventana_basica(350,500)"
   ]
  },
  {
   "cell_type": "markdown",
   "metadata": {},
   "source": [
    "Como podemos observar, cuando _llamamos_ a la funcion no hubo necesidad de definir el tercer parametro"
   ]
  },
  {
   "cell_type": "code",
   "execution_count": 28,
   "metadata": {},
   "outputs": [
    {
     "name": "stdout",
     "output_type": "stream",
     "text": [
      "350 500 courier\n"
     ]
    }
   ],
   "source": [
    "ventana_basica(350,500,font='courier')"
   ]
  },
  {
   "cell_type": "markdown",
   "metadata": {},
   "source": [
    "De igual manera podemos observar que a pesar de que un parametro de la funcion tiene un default lo podemos cambiar o customizar."
   ]
  },
  {
   "cell_type": "markdown",
   "metadata": {},
   "source": [
    "#### Variables Locales y Globales\n",
    "\n",
    "Uno de los problemas mas grandes que nos encontramos cuando estamos aprendiendo a programar y en especial cuado comenzamos a usar funciones es la inevitable cunfusion entre variables locales y globales. \n",
    "\n",
    "Estos conceptos sirven para diferenciar los alcances que las variables tienen dentro del programa. Una variables global se puede accesar en cualquier parte del programa. Mientras que una variable local solo se puede accesar dentro de su contexto/'_frame_'. Otra manera de verlo es que las variables globales pueden accederse localmente, pero no pueden modificarse localmente de forma inherente y las variables locales no se pueden accesar de manera gloabal de forma inherente. Unos ejemplos:"
   ]
  },
  {
   "cell_type": "code",
   "execution_count": 32,
   "metadata": {},
   "outputs": [
    {
     "name": "stdout",
     "output_type": "stream",
     "text": [
      "1\n",
      "5\n"
     ]
    },
    {
     "ename": "NameError",
     "evalue": "name 'z' is not defined",
     "output_type": "error",
     "traceback": [
      "\u001b[0;31m---------------------------------------------------------------------------\u001b[0m",
      "\u001b[0;31mNameError\u001b[0m                                 Traceback (most recent call last)",
      "\u001b[0;32m<ipython-input-32-0c3eef4c7b62>\u001b[0m in \u001b[0;36m<module>\u001b[0;34m()\u001b[0m\n\u001b[1;32m     16\u001b[0m \u001b[0;31m# y no la podemos llamar de manera global como lo pudimos hacer con x\u001b[0m\u001b[0;34m\u001b[0m\u001b[0;34m\u001b[0m\u001b[0m\n\u001b[1;32m     17\u001b[0m \u001b[0;34m\u001b[0m\u001b[0m\n\u001b[0;32m---> 18\u001b[0;31m \u001b[0mprint\u001b[0m\u001b[0;34m(\u001b[0m\u001b[0mz\u001b[0m\u001b[0;34m)\u001b[0m\u001b[0;34m\u001b[0m\u001b[0m\n\u001b[0m",
      "\u001b[0;31mNameError\u001b[0m: name 'z' is not defined"
     ]
    }
   ],
   "source": [
    "# la variable x no tiene una 'parent function', pero eso no la hacer una variable global.\n",
    "# lo que esta pasando es que esta asignada a la memoria antes de que llamemos a la funcion\n",
    "# es por ello que podriamos iterarla, llamarla pero hasta ahi.\n",
    "\n",
    "x = 1\n",
    "\n",
    "def ejemplo():\n",
    "    print(x)\n",
    "    # z es una variable local\n",
    "    z = 3\n",
    "    print(z)\n",
    "    \n",
    "example()\n",
    "\n",
    "# esta ultima parte del codigo arroja un NameError dado que z es una variable local\n",
    "# y no la podemos llamar de manera global como lo pudimos hacer con x\n",
    "\n",
    "print(z)"
   ]
  },
  {
   "cell_type": "markdown",
   "metadata": {},
   "source": [
    "Otro ejemplo:"
   ]
  },
  {
   "cell_type": "code",
   "execution_count": 38,
   "metadata": {},
   "outputs": [
    {
     "ename": "UnboundLocalError",
     "evalue": "local variable 'x' referenced before assignment",
     "output_type": "error",
     "traceback": [
      "\u001b[0;31m---------------------------------------------------------------------------\u001b[0m",
      "\u001b[0;31mUnboundLocalError\u001b[0m                         Traceback (most recent call last)",
      "\u001b[0;32m<ipython-input-38-bc5b500e4421>\u001b[0m in \u001b[0;36m<module>\u001b[0;34m()\u001b[0m\n\u001b[1;32m     12\u001b[0m     \u001b[0;31m# its assignment.\u001b[0m\u001b[0;34m\u001b[0m\u001b[0;34m\u001b[0m\u001b[0m\n\u001b[1;32m     13\u001b[0m \u001b[0;34m\u001b[0m\u001b[0m\n\u001b[0;32m---> 14\u001b[0;31m \u001b[0mejemplo2\u001b[0m\u001b[0;34m(\u001b[0m\u001b[0;34m)\u001b[0m\u001b[0;34m\u001b[0m\u001b[0m\n\u001b[0m",
      "\u001b[0;32m<ipython-input-38-bc5b500e4421>\u001b[0m in \u001b[0;36mejemplo2\u001b[0;34m()\u001b[0m\n\u001b[1;32m      2\u001b[0m \u001b[0;34m\u001b[0m\u001b[0m\n\u001b[1;32m      3\u001b[0m \u001b[0;32mdef\u001b[0m \u001b[0mejemplo2\u001b[0m\u001b[0;34m(\u001b[0m\u001b[0;34m)\u001b[0m\u001b[0;34m:\u001b[0m\u001b[0;34m\u001b[0m\u001b[0m\n\u001b[0;32m----> 4\u001b[0;31m     \u001b[0mprint\u001b[0m\u001b[0;34m(\u001b[0m\u001b[0mx\u001b[0m\u001b[0;34m)\u001b[0m\u001b[0;34m\u001b[0m\u001b[0m\n\u001b[0m\u001b[1;32m      5\u001b[0m     \u001b[0mprint\u001b[0m\u001b[0;34m(\u001b[0m\u001b[0mx\u001b[0m\u001b[0;34m+\u001b[0m\u001b[0;36m5\u001b[0m\u001b[0;34m)\u001b[0m\u001b[0;34m\u001b[0m\u001b[0m\n\u001b[1;32m      6\u001b[0m \u001b[0;34m\u001b[0m\u001b[0m\n",
      "\u001b[0;31mUnboundLocalError\u001b[0m: local variable 'x' referenced before assignment"
     ]
    }
   ],
   "source": [
    "x = 6\n",
    "\n",
    "def ejemplo2():\n",
    "    # Todo bien hasta aqui...\n",
    "    print(x)\n",
    "    print(x+5)\n",
    "\n",
    "    # pero si queremos modificar x...\n",
    "    x+=6\n",
    "\n",
    "    # al intentar sumarle 6 a x nos arroja un UnboundLocalError \n",
    "    # dado que estamos haciendo referencia a la variable antes de asignarla\n",
    "    \n",
    "ejemplo2()"
   ]
  },
  {
   "cell_type": "code",
   "execution_count": 39,
   "metadata": {},
   "outputs": [
    {
     "name": "stdout",
     "output_type": "stream",
     "text": [
      "6\n",
      "11\n"
     ]
    }
   ],
   "source": [
    "x = 6\n",
    "\n",
    "def ejemplo3():\n",
    "     \n",
    "    global x\n",
    "    \n",
    "    print(x)\n",
    "    x+=5\n",
    "    print(x)\n",
    "\n",
    "ejemplo3()"
   ]
  },
  {
   "cell_type": "code",
   "execution_count": 40,
   "metadata": {},
   "outputs": [
    {
     "name": "stdout",
     "output_type": "stream",
     "text": [
      "6\n",
      "11\n"
     ]
    }
   ],
   "source": [
    "x = 6\n",
    "\n",
    "def ejemplo4():\n",
    "    globx = x\n",
    "    # now we can:\n",
    "    print(globx)\n",
    "    globx+=5\n",
    "    print(globx)\n",
    "    \n",
    "ejemplo4()"
   ]
  },
  {
   "cell_type": "code",
   "execution_count": 36,
   "metadata": {},
   "outputs": [
    {
     "name": "stdout",
     "output_type": "stream",
     "text": [
      "6\n",
      "11\n",
      "11\n"
     ]
    }
   ],
   "source": [
    "x = 6\n",
    "def example(x):\n",
    " \n",
    "    print(x)\n",
    "    x+=5\n",
    "    print(x)\n",
    "    return x\n",
    " \n",
    "x = example(x)\n",
    "print(x)"
   ]
  },
  {
   "cell_type": "code",
   "execution_count": 37,
   "metadata": {},
   "outputs": [
    {
     "name": "stdout",
     "output_type": "stream",
     "text": [
      "6\n",
      "11\n",
      "11\n"
     ]
    }
   ],
   "source": [
    "x = 6\n",
    "def example(modify):\n",
    " \n",
    "    print(modify)\n",
    "    modify+=5\n",
    "    print(modify)\n",
    "    return modify\n",
    " \n",
    "x = example(x)\n",
    "print(x)"
   ]
  },
  {
   "cell_type": "code",
   "execution_count": null,
   "metadata": {},
   "outputs": [],
   "source": []
  }
 ],
 "metadata": {
  "kernelspec": {
   "display_name": "Python 3",
   "language": "python",
   "name": "python3"
  },
  "language_info": {
   "codemirror_mode": {
    "name": "ipython",
    "version": 3
   },
   "file_extension": ".py",
   "mimetype": "text/x-python",
   "name": "python",
   "nbconvert_exporter": "python",
   "pygments_lexer": "ipython3",
   "version": "3.6.5"
  }
 },
 "nbformat": 4,
 "nbformat_minor": 1
}
