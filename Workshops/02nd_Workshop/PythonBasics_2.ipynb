{
 "cells": [
  {
   "cell_type": "markdown",
   "metadata": {
    "collapsed": true
   },
   "source": [
    "# Tercer Workshop\n",
    "\n",
    "Para revisar la primera parte de Python 3x, Pandas & Matplotlib; puedes checar el libro del [workshop anterior](http://bit.ly/2P4cNEc)"
   ]
  },
  {
   "cell_type": "markdown",
   "metadata": {},
   "source": [
    "### Python3(Parte 2)\n",
    "\n",
    "#### Functions\n",
    "\n",
    "Recordemos que la idea detras de una funcion es crear un segmento/pedazo de codigo y con variables/parametros, a veces, para asignar _funciones_ o tareas especificas y no tener que escribirlas cada vez que queremos ejecutarlas de nuevo en diferentes partes de nuestros proyectos.\n",
    "\n",
    "En Python las funciones se comienzan a escribir con el keyword 'def' que le indica a Python que vamos a definir una funcion, luego le asignamos un nombre a la funcion, por salud mental siempre es mejor asignar un nombre unico a cada funcion que escribamos para evitar conflictos con otras funciones.\n",
    "\n",
    "En el siguiente ejemplo vamos a crear una funcion llamada '_miFuncion_', luego de asignar el nombre tenemos que especificar los parametros de la funcion que funcionan como variables dentro de la funcion, cabe mencionar que no son obligatorios para que la funcion sea valida."
   ]
  },
  {
   "cell_type": "code",
   "execution_count": 6,
   "metadata": {},
   "outputs": [],
   "source": [
    "def miFuncion():\n",
    "    print('Esta es una funcion de ejemplo!')\n",
    "    x = 2 + 2\n",
    "    print(x)"
   ]
  },
  {
   "cell_type": "markdown",
   "metadata": {},
   "source": [
    "Despues de que corremos la funcion observamos que no sucede nada, esto es porque tenemos que '_llamar_' a la funcion para que se ejecute, lo unico que hicimos en la celda anterior fue definir la funcion y que es lo que hara. Para esto tenemos que hacer lo siguiente:"
   ]
  },
  {
   "cell_type": "code",
   "execution_count": 8,
   "metadata": {},
   "outputs": [
    {
     "name": "stdout",
     "output_type": "stream",
     "text": [
      "Esta es una funcion de ejemplo!\n",
      "4\n"
     ]
    }
   ],
   "source": [
    "miFuncion()"
   ]
  },
  {
   "cell_type": "markdown",
   "metadata": {},
   "source": [
    "#### Parametros de la Funcion\n",
    "\n",
    "La idea detras de los parametros de una funcion en Python es que el desarrollador que use la funcion pueda definir la variables de manera dinamica. Un ejemplo:"
   ]
  },
  {
   "cell_type": "code",
   "execution_count": 9,
   "metadata": {},
   "outputs": [
    {
     "name": "stdout",
     "output_type": "stream",
     "text": [
      "el pimer numero es: 5\n",
      "el segundor numero es: 3\n",
      "el resultado de la suma es: 8\n"
     ]
    }
   ],
   "source": [
    "def suma(numero1,numero2):\n",
    "    respuesta = numero1 + numero2\n",
    "    print('el pimer numero es:', numero1)\n",
    "    print('el segundor numero es:', numero2)\n",
    "    print('el resultado de la suma es:', respuesta)\n",
    "\n",
    "suma(5,3)"
   ]
  },
  {
   "cell_type": "markdown",
   "metadata": {},
   "source": [
    "En el ejemplo anterior definimos nuestra funcion '_suma_', dentro de la funcion definimos los parametros o '_params_' (comunmente asi los encontraremos) espeficicamos las variables _numero1_ y _numero 2_.\n",
    "\n",
    "Luego dentro de la funcion creamos la variable _respuesta_ que es igual a la suma de los dos parametros de la funcion, para darnos claridad de lo que esta pasando imprimimos el valor que se le asignara a cada parametro y al final imprimimos la _respuesta_.\n",
    "\n",
    "Para ejecutar esta funcion tenemos que hacer uso de los parametros de la siguiente manera: '_suma(5,3)_'. Esto ejecuta '_suma_' utilizando los parametros numero1=5, y numero2=3, luego el programa los suma e imprime el contenido de los parametros y luego imprimimos la '_respuesta_'.\n",
    "\n",
    "No existe un limite para el numero de parametros que podemos asignar a nuestras funciones. Si queremos especificar las definiciones para cada uno de nuestro parametros sin '_llamarlos_' espeficicamente debemos respetar el orden en el cual los pusimos en la definicion de la funcion, si por ejemplo tenemos una funcion con demasiados parametros y recordar el orden especifico es dificil podrias aplicar la siguiente:"
   ]
  },
  {
   "cell_type": "code",
   "execution_count": 10,
   "metadata": {},
   "outputs": [
    {
     "name": "stdout",
     "output_type": "stream",
     "text": [
      "el pimer numero es: 5\n",
      "el segundor numero es: 3\n",
      "el resultado de la suma es: 8\n"
     ]
    }
   ],
   "source": [
    "suma(numero2=3,numero1=5)"
   ]
  },
  {
   "cell_type": "markdown",
   "metadata": {},
   "source": [
    "En el caso anterior cuando _llamamos_ la funcion y definimos los parametros podemos observar que el orden de los parametros esta invertido pero estan especificados/asignados de manera individual, si no es asi tienes que respetar el orden para que la funcion se ejecute de manera adecuada, no quieres quebrar la empresa por una funcion que no puede hacer aritmetica basica de forma correcta. O si?\n",
    "\n",
    "Cabe mencionar que debes respetar el orden especifico siempre pero no puedes asignar parametros adicionales o menos parametros."
   ]
  },
  {
   "cell_type": "code",
   "execution_count": 11,
   "metadata": {},
   "outputs": [
    {
     "ename": "TypeError",
     "evalue": "suma() takes 2 positional arguments but 3 were given",
     "output_type": "error",
     "traceback": [
      "\u001b[0;31m---------------------------------------------------------------------------\u001b[0m",
      "\u001b[0;31mTypeError\u001b[0m                                 Traceback (most recent call last)",
      "\u001b[0;32m<ipython-input-11-f0089c8447fc>\u001b[0m in \u001b[0;36m<module>\u001b[0;34m()\u001b[0m\n\u001b[0;32m----> 1\u001b[0;31m \u001b[0msuma\u001b[0m\u001b[0;34m(\u001b[0m\u001b[0;36m3\u001b[0m\u001b[0;34m,\u001b[0m\u001b[0;36m5\u001b[0m\u001b[0;34m,\u001b[0m\u001b[0;36m6\u001b[0m\u001b[0;34m)\u001b[0m\u001b[0;34m\u001b[0m\u001b[0m\n\u001b[0m",
      "\u001b[0;31mTypeError\u001b[0m: suma() takes 2 positional arguments but 3 were given"
     ]
    }
   ],
   "source": [
    "suma(3,5,6)"
   ]
  },
  {
   "cell_type": "markdown",
   "metadata": {},
   "source": [
    "Lo anterior no jala, y lo siguiente tampoco:"
   ]
  },
  {
   "cell_type": "code",
   "execution_count": 12,
   "metadata": {},
   "outputs": [
    {
     "ename": "TypeError",
     "evalue": "suma() missing 1 required positional argument: 'numero2'",
     "output_type": "error",
     "traceback": [
      "\u001b[0;31m---------------------------------------------------------------------------\u001b[0m",
      "\u001b[0;31mTypeError\u001b[0m                                 Traceback (most recent call last)",
      "\u001b[0;32m<ipython-input-12-78d7da99b866>\u001b[0m in \u001b[0;36m<module>\u001b[0;34m()\u001b[0m\n\u001b[0;32m----> 1\u001b[0;31m \u001b[0msuma\u001b[0m\u001b[0;34m(\u001b[0m\u001b[0;36m3\u001b[0m\u001b[0;34m)\u001b[0m\u001b[0;34m\u001b[0m\u001b[0m\n\u001b[0m",
      "\u001b[0;31mTypeError\u001b[0m: suma() missing 1 required positional argument: 'numero2'"
     ]
    }
   ],
   "source": [
    "suma(3)"
   ]
  },
  {
   "cell_type": "markdown",
   "metadata": {},
   "source": [
    "#### Parametros de la Funcion(defaults)\n",
    "\n",
    "En el ejemplo anterior vimos como funcionan los parametros dentro de un funcion, la verdad es que podriamos tener u numero infinito de parametros en una funcion, pero hacer eso seria muy _sucio_ y bastante tedioso, en especial cuando estamos trabajando en equipo.\n",
    "\n",
    "En ocasiones vamos a encontrar que hay funciones complejas que se pueden customizar de una manera muy sencilla, y es una cuestion de juicio propio decirdir si usarlas en su forma _default_ o customizar. Cuando usamos los parametros con sus valores defualt, estos deben estar al final. Un ejemplo:"
   ]
  },
  {
   "cell_type": "code",
   "execution_count": 13,
   "metadata": {},
   "outputs": [],
   "source": [
    "def simple(numero1, numero2=5):\n",
    "    pass"
   ]
  },
  {
   "cell_type": "markdown",
   "metadata": {},
   "source": [
    "Otro ejemplo:"
   ]
  },
  {
   "cell_type": "code",
   "execution_count": 14,
   "metadata": {},
   "outputs": [
    {
     "name": "stdout",
     "output_type": "stream",
     "text": [
      "350 500 TNR\n"
     ]
    }
   ],
   "source": [
    "def ventana_basica(width,height,font='TNR'):\n",
    "    # let us just print out everything\n",
    "    print(width,height,font)\n",
    "ventana_basica(350,500)"
   ]
  },
  {
   "cell_type": "markdown",
   "metadata": {},
   "source": [
    "Como podemos observar, cuando _llamamos_ a la funcion no hubo necesidad de definir el tercer parametro"
   ]
  },
  {
   "cell_type": "code",
   "execution_count": 15,
   "metadata": {},
   "outputs": [
    {
     "name": "stdout",
     "output_type": "stream",
     "text": [
      "350 500 courier\n"
     ]
    }
   ],
   "source": [
    "ventana_basica(350,500,font='courier')"
   ]
  },
  {
   "cell_type": "markdown",
   "metadata": {},
   "source": [
    "De igual manera podemos observar que a pesar de que un parametro de la funcion tiene un default lo podemos cambiar o customizar."
   ]
  },
  {
   "cell_type": "markdown",
   "metadata": {},
   "source": [
    "#### Variables Locales y Globales\n",
    "\n",
    "Uno de los problemas mas grandes que nos encontramos cuando estamos aprendiendo a programar y en especial cuado comenzamos a usar funciones es la inevitable cunfusion entre variables locales y globales. \n",
    "\n",
    "Estos conceptos sirven para diferenciar los alcances que las variables tienen dentro del programa. Una variables global se puede accesar en cualquier parte del programa. Mientras que una variable local solo se puede accesar dentro de su contexto/'_frame_'. Otra manera de verlo es que las variables globales pueden accederse localmente, pero no pueden modificarse localmente de forma inherente y las variables locales no se pueden accesar de manera gloabal de forma inherente. Unos ejemplos:"
   ]
  },
  {
   "cell_type": "code",
   "execution_count": 17,
   "metadata": {},
   "outputs": [
    {
     "name": "stdout",
     "output_type": "stream",
     "text": [
      "1\n",
      "3\n"
     ]
    },
    {
     "ename": "NameError",
     "evalue": "name 'z' is not defined",
     "output_type": "error",
     "traceback": [
      "\u001b[0;31m---------------------------------------------------------------------------\u001b[0m",
      "\u001b[0;31mNameError\u001b[0m                                 Traceback (most recent call last)",
      "\u001b[0;32m<ipython-input-17-a68042e9395e>\u001b[0m in \u001b[0;36m<module>\u001b[0;34m()\u001b[0m\n\u001b[1;32m     16\u001b[0m \u001b[0;31m# y no la podemos llamar de manera global como lo pudimos hacer con x\u001b[0m\u001b[0;34m\u001b[0m\u001b[0;34m\u001b[0m\u001b[0m\n\u001b[1;32m     17\u001b[0m \u001b[0;34m\u001b[0m\u001b[0m\n\u001b[0;32m---> 18\u001b[0;31m \u001b[0mprint\u001b[0m\u001b[0;34m(\u001b[0m\u001b[0mz\u001b[0m\u001b[0;34m)\u001b[0m\u001b[0;34m\u001b[0m\u001b[0m\n\u001b[0m",
      "\u001b[0;31mNameError\u001b[0m: name 'z' is not defined"
     ]
    }
   ],
   "source": [
    "# la variable x no tiene una 'parent function', pero eso no la hacer una variable global.\n",
    "# lo que esta pasando es que esta asignada a la memoria antes de que llamemos a la funcion\n",
    "# es por ello que podriamos iterarla, llamarla pero hasta ahi.\n",
    "\n",
    "x = 1\n",
    "\n",
    "def ejemplo():\n",
    "    print(x)\n",
    "    # z es una variable local\n",
    "    z = 3\n",
    "    print(z)\n",
    "    \n",
    "ejemplo()\n",
    "\n",
    "# esta ultima parte del codigo arroja un NameError dado que z es una variable local\n",
    "# y no la podemos llamar de manera global como lo pudimos hacer con x\n",
    "\n",
    "print(z)"
   ]
  },
  {
   "cell_type": "markdown",
   "metadata": {},
   "source": [
    "Otro ejemplo:"
   ]
  },
  {
   "cell_type": "code",
   "execution_count": 18,
   "metadata": {},
   "outputs": [
    {
     "ename": "UnboundLocalError",
     "evalue": "local variable 'x' referenced before assignment",
     "output_type": "error",
     "traceback": [
      "\u001b[0;31m---------------------------------------------------------------------------\u001b[0m",
      "\u001b[0;31mUnboundLocalError\u001b[0m                         Traceback (most recent call last)",
      "\u001b[0;32m<ipython-input-18-7d567c940e29>\u001b[0m in \u001b[0;36m<module>\u001b[0;34m()\u001b[0m\n\u001b[1;32m     12\u001b[0m     \u001b[0;31m# dado que estamos haciendo referencia a la variable antes de asignarla\u001b[0m\u001b[0;34m\u001b[0m\u001b[0;34m\u001b[0m\u001b[0m\n\u001b[1;32m     13\u001b[0m \u001b[0;34m\u001b[0m\u001b[0m\n\u001b[0;32m---> 14\u001b[0;31m \u001b[0mejemplo2\u001b[0m\u001b[0;34m(\u001b[0m\u001b[0;34m)\u001b[0m\u001b[0;34m\u001b[0m\u001b[0m\n\u001b[0m",
      "\u001b[0;32m<ipython-input-18-7d567c940e29>\u001b[0m in \u001b[0;36mejemplo2\u001b[0;34m()\u001b[0m\n\u001b[1;32m      3\u001b[0m \u001b[0;32mdef\u001b[0m \u001b[0mejemplo2\u001b[0m\u001b[0;34m(\u001b[0m\u001b[0;34m)\u001b[0m\u001b[0;34m:\u001b[0m\u001b[0;34m\u001b[0m\u001b[0m\n\u001b[1;32m      4\u001b[0m     \u001b[0;31m# Todo bien hasta aqui...\u001b[0m\u001b[0;34m\u001b[0m\u001b[0;34m\u001b[0m\u001b[0m\n\u001b[0;32m----> 5\u001b[0;31m     \u001b[0mprint\u001b[0m\u001b[0;34m(\u001b[0m\u001b[0mx\u001b[0m\u001b[0;34m)\u001b[0m\u001b[0;34m\u001b[0m\u001b[0m\n\u001b[0m\u001b[1;32m      6\u001b[0m     \u001b[0mprint\u001b[0m\u001b[0;34m(\u001b[0m\u001b[0mx\u001b[0m\u001b[0;34m+\u001b[0m\u001b[0;36m5\u001b[0m\u001b[0;34m)\u001b[0m\u001b[0;34m\u001b[0m\u001b[0m\n\u001b[1;32m      7\u001b[0m \u001b[0;34m\u001b[0m\u001b[0m\n",
      "\u001b[0;31mUnboundLocalError\u001b[0m: local variable 'x' referenced before assignment"
     ]
    }
   ],
   "source": [
    "x = 6\n",
    "\n",
    "def ejemplo2():\n",
    "    # Todo bien hasta aqui...\n",
    "    print(x)\n",
    "    print(x+5)\n",
    "\n",
    "    # pero si queremos modificar x...\n",
    "    x+=6\n",
    "\n",
    "    # al intentar sumarle 6 a x nos arroja un UnboundLocalError \n",
    "    # dado que estamos haciendo referencia a la variable antes de asignarla\n",
    "    \n",
    "ejemplo2()"
   ]
  },
  {
   "cell_type": "code",
   "execution_count": 19,
   "metadata": {},
   "outputs": [
    {
     "name": "stdout",
     "output_type": "stream",
     "text": [
      "6\n",
      "11\n"
     ]
    }
   ],
   "source": [
    "x = 6\n",
    "\n",
    "def ejemplo3():\n",
    "    # al utiliza global podemos modificar x dentro de nuesta funcion\n",
    "    global x\n",
    "    \n",
    "    print(x)\n",
    "    x+=5\n",
    "    print(x)\n",
    "\n",
    "ejemplo3()"
   ]
  },
  {
   "cell_type": "markdown",
   "metadata": {},
   "source": [
    "Pero que tal si no quieres usar global cada vez que te encuentres con este inconveniente..."
   ]
  },
  {
   "cell_type": "code",
   "execution_count": 20,
   "metadata": {},
   "outputs": [
    {
     "name": "stdout",
     "output_type": "stream",
     "text": [
      "6\n",
      "11\n"
     ]
    }
   ],
   "source": [
    "x = 6\n",
    "\n",
    "def ejemplo4():\n",
    "    # lo hacemos mediante una variable local\n",
    "    globx = x\n",
    "    print(globx)\n",
    "    globx+=5\n",
    "    print(globx)\n",
    "    \n",
    "ejemplo4()"
   ]
  },
  {
   "cell_type": "markdown",
   "metadata": {},
   "source": [
    "Igual podemos:"
   ]
  },
  {
   "cell_type": "code",
   "execution_count": 21,
   "metadata": {},
   "outputs": [
    {
     "name": "stdout",
     "output_type": "stream",
     "text": [
      "6\n",
      "11\n",
      "11\n"
     ]
    }
   ],
   "source": [
    "x = 6\n",
    "def ejemplo(x):\n",
    " \n",
    "    print(x)\n",
    "    x+=5\n",
    "    print(x)\n",
    "    return x\n",
    " \n",
    "x = ejemplo(x)\n",
    "print(x)"
   ]
  },
  {
   "cell_type": "markdown",
   "metadata": {},
   "source": [
    "En el ejemplo anterior hemos hecho que la funcion modifique x, el claro inconveniente es el uso de x en diferentes lugares lo cual puede ser '_confuso_', asi que podriamos:"
   ]
  },
  {
   "cell_type": "code",
   "execution_count": 22,
   "metadata": {},
   "outputs": [
    {
     "name": "stdout",
     "output_type": "stream",
     "text": [
      "6\n",
      "11\n",
      "11\n"
     ]
    }
   ],
   "source": [
    "x = 6\n",
    "def ejemplo(modificar):\n",
    " \n",
    "    print(modificar)\n",
    "    modificar+=5\n",
    "    print(modificar)\n",
    "    return modificar\n",
    " \n",
    "x = ejemplo(x)\n",
    "print(x)"
   ]
  },
  {
   "cell_type": "markdown",
   "metadata": {},
   "source": [
    "Como podemos observar hemos puesto el parametro '_modificar_' en nuestra funcion en donde vamos a modificar cualquier variable que 'pasemos' por la funcion, solo necesitamos reasignar la variable que queremos modificar como un parametro y listo!"
   ]
  },
  {
   "cell_type": "markdown",
   "metadata": {},
   "source": [
    "#### Instalando Modulos\n",
    "\n",
    "Hasta ahora hemos podido estudiar Python sin tener que hacer instalacion de modulos adicionales de Python. Dicho esto ha llegado la hora de instalar modulos.\n",
    "\n",
    "Como siempre Linux hace que todo en la vida de un desarrollador sea hermoso, y usar Python no es la excepcion, como cualquiera de ustedes lo puede averiguar, instalar modulos de Python en Linux es muy facil. Cuando hacemos un '_import_' dentro de nuestro codigo, Python busca el modulo a importar dentro de '_site-packages_'. En las dark ages de Python 2.7 instalar modulos podria ser un poco mas laborioso, pero hoy en dia haremos uso de pip.\n",
    "\n",
    "En la terminal y dentro de nuestro ambiente vitual podemos:\n",
    "\n",
    "    pip install pandas\n",
    "    pip install matplolib\n",
    "    \n",
    "Lo anterior instala la ultima version de los modulos disponibles de pyhton, si queremos instalar una version especifica:\n",
    "\n",
    "    pip install pandas==0.23.4\n",
    "    pip install matplotlib==3.0.0\n",
    "\n",
    "Si tenemos un '_custom build_' de algun modulo lo podemos instalar asi:\n",
    "\n",
    "    pip install SomePackage-1.0-py2.py3-none-any.whl\n",
    "    \n",
    "Para saber cuales de nuestro modulos ya estan viejitos:\n",
    "\n",
    "    pip list --outdated\n",
    "    \n",
    "Para actualizar algun modulo:\n",
    "\n",
    "    pip install --upgrade SomePackage\n",
    "    \n",
    "Para desinstalar algun modulo: \n",
    "\n",
    "    pip uninstall SomePackage"
   ]
  },
  {
   "cell_type": "markdown",
   "metadata": {},
   "source": [
    "#### Errores mas comunes un Python\n",
    "\n",
    "Parte de la vida de cualquier desarrollador conlleva hacer debugging. En el caso de Python los errores de principiante mas comunos son typos y errores de indentacion. Recordemos que Python tiene estandares para que puedas organizar tu codigo de la mejor manera posible. En Python a diferencia de otros lenguajes de programacion definimos bloques de codigo como funciones mediante la indentacion. La mayoria de los editores decentes van a indentar de manera automatica los bloques.\n",
    "\n",
    "Comencemos con erroes comunes en Python..."
   ]
  },
  {
   "cell_type": "code",
   "execution_count": 23,
   "metadata": {},
   "outputs": [
    {
     "ename": "NameError",
     "evalue": "name 'varaible' is not defined",
     "output_type": "error",
     "traceback": [
      "\u001b[0;31m---------------------------------------------------------------------------\u001b[0m",
      "\u001b[0;31mNameError\u001b[0m                                 Traceback (most recent call last)",
      "\u001b[0;32m<ipython-input-23-08b5c7a45839>\u001b[0m in \u001b[0;36m<module>\u001b[0;34m()\u001b[0m\n\u001b[1;32m      1\u001b[0m \u001b[0mvariable\u001b[0m \u001b[0;34m=\u001b[0m \u001b[0;36m55\u001b[0m\u001b[0;34m\u001b[0m\u001b[0m\n\u001b[0;32m----> 2\u001b[0;31m \u001b[0mprint\u001b[0m\u001b[0;34m(\u001b[0m\u001b[0mvaraible\u001b[0m\u001b[0;34m)\u001b[0m\u001b[0;34m\u001b[0m\u001b[0m\n\u001b[0m",
      "\u001b[0;31mNameError\u001b[0m: name 'varaible' is not defined"
     ]
    }
   ],
   "source": [
    "variable = 55\n",
    "print(varaible)"
   ]
  },
  {
   "cell_type": "markdown",
   "metadata": {},
   "source": [
    "Como podemos observar arriba este error es: NameError: is not defined. El error radica en un typo dentro de la funcion print(), la clave de corregir este error esta en '_is not defined._'"
   ]
  },
  {
   "cell_type": "code",
   "execution_count": 24,
   "metadata": {},
   "outputs": [
    {
     "ename": "IndentationError",
     "evalue": "expected an indented block (<ipython-input-24-ca571085fec7>, line 2)",
     "output_type": "error",
     "traceback": [
      "\u001b[0;36m  File \u001b[0;32m\"<ipython-input-24-ca571085fec7>\"\u001b[0;36m, line \u001b[0;32m2\u001b[0m\n\u001b[0;31m    def task2():\u001b[0m\n\u001b[0m      ^\u001b[0m\n\u001b[0;31mIndentationError\u001b[0m\u001b[0;31m:\u001b[0m expected an indented block\n"
     ]
    }
   ],
   "source": [
    "def task1():\n",
    "def task2():\n",
    "    print('algo')"
   ]
  },
  {
   "cell_type": "markdown",
   "metadata": {},
   "source": [
    "Como podemos observar arriba, Python nos dice que esperaba que la siguiente linea despues de definir la funcion tuviera indentacion."
   ]
  },
  {
   "cell_type": "code",
   "execution_count": 25,
   "metadata": {},
   "outputs": [
    {
     "ename": "IndentationError",
     "evalue": "unexpected indent (<ipython-input-25-df89aaadeff1>, line 6)",
     "output_type": "error",
     "traceback": [
      "\u001b[0;36m  File \u001b[0;32m\"<ipython-input-25-df89aaadeff1>\"\u001b[0;36m, line \u001b[0;32m6\u001b[0m\n\u001b[0;31m    print('stuff')\u001b[0m\n\u001b[0m    ^\u001b[0m\n\u001b[0;31mIndentationError\u001b[0m\u001b[0;31m:\u001b[0m unexpected indent\n"
     ]
    }
   ],
   "source": [
    "def task():\n",
    "    print ('stuff')\n",
    "\n",
    "print('more stuff')\n",
    "\n",
    "    print('stuff')"
   ]
  },
  {
   "cell_type": "markdown",
   "metadata": {},
   "source": [
    "Como podemos observar arriba, Python nos dice que hay una indentacion inesperada."
   ]
  },
  {
   "cell_type": "code",
   "execution_count": 29,
   "metadata": {},
   "outputs": [
    {
     "ename": "SyntaxError",
     "evalue": "EOL while scanning string literal (<ipython-input-29-0ac347b05405>, line 2)",
     "output_type": "error",
     "traceback": [
      "\u001b[0;36m  File \u001b[0;32m\"<ipython-input-29-0ac347b05405>\"\u001b[0;36m, line \u001b[0;32m2\u001b[0m\n\u001b[0;31m    print('some people find themselves committing this too\u001b[0m\n\u001b[0m                                                          ^\u001b[0m\n\u001b[0;31mSyntaxError\u001b[0m\u001b[0;31m:\u001b[0m EOL while scanning string literal\n"
     ]
    }
   ],
   "source": [
    "def task():\n",
    "    print('some people find themselves committing this too\n",
    "\n",
    "\n",
    "    print('ouch...')"
   ]
  },
  {
   "cell_type": "markdown",
   "metadata": {},
   "source": [
    "Como podemos observar arriba, Python nos dice que tenemos un error de Suntaxis, esto sucedio por que no cerramos el string y el parentesis de la funcion print() y nos arrojo un EOL \"End Of Line\"."
   ]
  },
  {
   "cell_type": "markdown",
   "metadata": {},
   "source": [
    "#### Escribiendo un archivo con Python\n",
    "\n",
    "Con Python podemos escribir un archivo de una manera muy sencilla, tenemos que distinguir los dos metodos para escribir un archivo, '_writting_' y '_appending_'\n",
    "\n",
    "'_writting_' va a crear un archivo y escribira lo que le indiquemos\n",
    "\n",
    "'_appending_' va a sumar al contenido de un archivo."
   ]
  },
  {
   "cell_type": "code",
   "execution_count": 30,
   "metadata": {},
   "outputs": [],
   "source": [
    "text = 'Un ejejmplo aqui\\nSiguiente linea del ejemplo!'\n",
    "\n",
    "# aqui le estamos diciendo a Python que abriremos un archivo y que vamos a escribir\n",
    "saveFile = open('./data/archivoEjemplo.txt','w')\n",
    "\n",
    "# se escribe la informacion\n",
    "saveFile.write(text)\n",
    "\n",
    "# Es importante cerrar el archivo, de otro modo puede causar problemas en nuestro codigo\n",
    "saveFile.close()"
   ]
  },
  {
   "cell_type": "markdown",
   "metadata": {},
   "source": [
    "Ahora hagamos appending, recordemos que writing borrara el contenido del archivo y escribira lo que se le indique, appending sumara al contenido existente. \n",
    "\n",
    "Para esto tambien usaremos '_.write_' solo que especificaremos el appending con 'a'"
   ]
  },
  {
   "cell_type": "code",
   "execution_count": 31,
   "metadata": {},
   "outputs": [],
   "source": [
    "appendMe = '\\nInformacion adicional'\n",
    "\n",
    "appendFile = open('./data/archivoEjemplo.txt','a')\n",
    "appendFile.write(appendMe)\n",
    "appendFile.close()"
   ]
  },
  {
   "cell_type": "markdown",
   "metadata": {},
   "source": [
    "#### Leyendo un archivo\n",
    "\n",
    "Una vez que podemos escribir y anadir archivos, tenemos que saber como leer archivos, y afortunadamente es bastante sencillo."
   ]
  },
  {
   "cell_type": "code",
   "execution_count": 34,
   "metadata": {},
   "outputs": [
    {
     "name": "stdout",
     "output_type": "stream",
     "text": [
      "Un ejejmplo aqui\n",
      "Siguiente linea del ejemplo!\n",
      "Informacion adicional\n"
     ]
    }
   ],
   "source": [
    "# como podemos ver aqui usamos 'r' para leer el archivo\n",
    "readMe = open('./data/archivoEjemplo.txt','r').read()\n",
    "print(readMe)"
   ]
  },
  {
   "cell_type": "markdown",
   "metadata": {},
   "source": [
    "A veces queremos leer algo con muchas lineas, si usamos '_readlines()_' para ayudarnos crear una lista."
   ]
  },
  {
   "cell_type": "code",
   "execution_count": 35,
   "metadata": {},
   "outputs": [
    {
     "name": "stdout",
     "output_type": "stream",
     "text": [
      "['Un ejejmplo aqui\\n', 'Siguiente linea del ejemplo!\\n', 'Informacion adicional']\n"
     ]
    }
   ],
   "source": [
    "# va a leer el archivo a manera de lista \n",
    "readMe = open('./data/archivoEjemplo.txt','r').readlines()\n",
    "print(readMe)"
   ]
  },
  {
   "cell_type": "markdown",
   "metadata": {},
   "source": [
    "#### Clases\n",
    "\n",
    "En Python las clases las podemos entender como grupos de funciones y son el centro de la programacion orientada a objetos. Veamos un ejemplo:"
   ]
  },
  {
   "cell_type": "code",
   "execution_count": 36,
   "metadata": {},
   "outputs": [],
   "source": [
    "class calculadora:\n",
    "    \n",
    "    def suma(x,y):\n",
    "        added = x + y\n",
    "        print(added)\n",
    "        \n",
    "    def resta(x,y):\n",
    "        sub = x - y\n",
    "        print(sub)\n",
    "\n",
    "    def multiplicacion(x,y):\n",
    "        mult = x * y\n",
    "        print(mult)\n",
    "\n",
    "    def division(x,y):\n",
    "        div = x / y\n",
    "        print(div)"
   ]
  },
  {
   "cell_type": "code",
   "execution_count": 37,
   "metadata": {},
   "outputs": [
    {
     "name": "stdout",
     "output_type": "stream",
     "text": [
      "-3\n"
     ]
    }
   ],
   "source": [
    "calculadora.resta(5,8)"
   ]
  },
  {
   "cell_type": "code",
   "execution_count": 38,
   "metadata": {},
   "outputs": [
    {
     "name": "stdout",
     "output_type": "stream",
     "text": [
      "15\n"
     ]
    }
   ],
   "source": [
    "calculadora.multiplicacion(3,5)"
   ]
  },
  {
   "cell_type": "code",
   "execution_count": 39,
   "metadata": {},
   "outputs": [
    {
     "name": "stdout",
     "output_type": "stream",
     "text": [
      "1.6666666666666667\n"
     ]
    }
   ],
   "source": [
    "calculadora.division(5,3)"
   ]
  },
  {
   "cell_type": "code",
   "execution_count": 40,
   "metadata": {},
   "outputs": [
    {
     "name": "stdout",
     "output_type": "stream",
     "text": [
      "7\n"
     ]
    }
   ],
   "source": [
    "calculadora.suma(5,2)"
   ]
  },
  {
   "cell_type": "markdown",
   "metadata": {},
   "source": [
    "#### Input basico de usuarios"
   ]
  },
  {
   "cell_type": "code",
   "execution_count": 41,
   "metadata": {},
   "outputs": [
    {
     "name": "stdout",
     "output_type": "stream",
     "text": [
      "Como te llamas?: Mario\n",
      "Hola Mario\n"
     ]
    }
   ],
   "source": [
    "x = input('Como te llamas?: ')\n",
    "print('Hola',x)"
   ]
  },
  {
   "cell_type": "markdown",
   "metadata": {},
   "source": [
    "#### Estadistica\n",
    "\n",
    "Dado que Python es un lenguaje de programacion muy popular para el analisis de datos es obvio que tiene un modulo de estadistica que incluye todo lo necesario para hacer analisis estadisticos de datos. Un ejemplo:"
   ]
  },
  {
   "cell_type": "code",
   "execution_count": 42,
   "metadata": {},
   "outputs": [
    {
     "name": "stdout",
     "output_type": "stream",
     "text": [
      "Mean:  4.230769230769231\n",
      "Median:  5\n",
      "Mode:  5\n",
      "stdev:  1.9644272343292228\n",
      "Variance:  3.858974358974359\n"
     ]
    }
   ],
   "source": [
    "import statistics\n",
    "\n",
    "lista_ejemplo = [5,2,5,6,1,2,6,7,2,6,3,5,5]\n",
    "\n",
    "x = statistics.mean(lista_ejemplo)\n",
    "print('Mean: ', x)\n",
    "\n",
    "y = statistics.median(lista_ejemplo)\n",
    "print('Median: ', y)\n",
    "\n",
    "z = statistics.mode(lista_ejemplo)\n",
    "print('Mode: ', z)\n",
    "\n",
    "a = statistics.stdev(lista_ejemplo)\n",
    "print('stdev: ', a)\n",
    "\n",
    "b = statistics.variance(lista_ejemplo)\n",
    "print('Variance: ', b)"
   ]
  },
  {
   "cell_type": "markdown",
   "metadata": {},
   "source": [
    "Como puedes observar es tan sencillo como pasar la lista por una funcion del modulo para obtener el resultado deseado, en nuestro caso estamos guardando el resultado dentro de una variable para poderla imprimir. \n",
    "\n",
    "Si queremos que nuestro codigo este mas limpio podemos jugar con la sytaxis para hacer importaciones"
   ]
  },
  {
   "cell_type": "code",
   "execution_count": 43,
   "metadata": {},
   "outputs": [
    {
     "name": "stdout",
     "output_type": "stream",
     "text": [
      "4.230769230769231\n",
      "4.230769230769231\n",
      "4.230769230769231\n",
      "5\n"
     ]
    }
   ],
   "source": [
    "import statistics as s\n",
    "from statistics import mean as m\n",
    "from statistics import mean as m, median as d\n",
    "\n",
    "print(s.mean(lista_ejemplo))\n",
    "print(m(lista_ejemplo))\n",
    "print(m(lista_ejemplo))\n",
    "print(d(lista_ejemplo))"
   ]
  },
  {
   "cell_type": "markdown",
   "metadata": {},
   "source": [
    "Que tal si queremos importar todos los contenidos y tener un codigo mas limpio, en ese caso hacemos:"
   ]
  },
  {
   "cell_type": "code",
   "execution_count": 44,
   "metadata": {},
   "outputs": [
    {
     "name": "stdout",
     "output_type": "stream",
     "text": [
      "4.230769230769231\n"
     ]
    }
   ],
   "source": [
    "from statistics import *\n",
    "\n",
    "print(mean(lista_ejemplo))"
   ]
  },
  {
   "cell_type": "markdown",
   "metadata": {},
   "source": [
    "#### Listas vs Tupples\n",
    "\n",
    "Vamos a entender las diferencias entre listas y tupples en Python, aunque no lo puedas creer se confunden muy seguido dado que son 'similares' pero en la realidad no pueden ser mas diferentes. \n",
    "\n",
    "Una lista es una 'seleccion' de datos, separados por comas, dentro de corchetes, a los cuales podemos agregar, quitar y cambiar datos.\n",
    "\n",
    "Un tupple es una 'seleccion' de datos, sepados por comas, dentro de parentesis, pero a diferencia de las listas, lo tupples son inmutables. Esto quiere decir que no se pueden cambiar, modificar o manipular. Es juto por esta propiedad que son muy populares. Un unso muy comun de los tupples es unpacking de secuencias de datos. Un ejemplo:"
   ]
  },
  {
   "cell_type": "code",
   "execution_count": 45,
   "metadata": {},
   "outputs": [],
   "source": [
    "#Lista \n",
    "lista = [1,2,3,4,5]\n",
    "\n",
    "# Tupple\n",
    "tupple = (1,2,3,4,5)"
   ]
  },
  {
   "cell_type": "code",
   "execution_count": 46,
   "metadata": {},
   "outputs": [
    {
     "name": "stdout",
     "output_type": "stream",
     "text": [
      "lista: 5\n",
      "tupple:  5\n"
     ]
    }
   ],
   "source": [
    "# Podemos usar len en ambos casos\n",
    "\n",
    "print('lista:', len(lista))\n",
    "print('tupple: ', len(tupple))"
   ]
  },
  {
   "cell_type": "code",
   "execution_count": 47,
   "metadata": {},
   "outputs": [
    {
     "name": "stdout",
     "output_type": "stream",
     "text": [
      "lista:  1\n",
      "lista:  2\n",
      "lista:  3\n",
      "lista:  4\n",
      "lista:  5\n",
      "tupple:  1\n",
      "tupple:  2\n",
      "tupple:  3\n",
      "tupple:  4\n",
      "tupple:  5\n"
     ]
    }
   ],
   "source": [
    "# Podemos iterar en ambos\n",
    "\n",
    "for l in lista:\n",
    "    print('lista: ', l)\n",
    "    \n",
    "for t in tupple:\n",
    "    print('tupple: ', t)"
   ]
  },
  {
   "cell_type": "code",
   "execution_count": 48,
   "metadata": {},
   "outputs": [
    {
     "name": "stdout",
     "output_type": "stream",
     "text": [
      "Metodos lista:  ['__add__', '__class__', '__contains__', '__delattr__', '__delitem__', '__dir__', '__doc__', '__eq__', '__format__', '__ge__', '__getattribute__', '__getitem__', '__gt__', '__hash__', '__iadd__', '__imul__', '__init__', '__init_subclass__', '__iter__', '__le__', '__len__', '__lt__', '__mul__', '__ne__', '__new__', '__reduce__', '__reduce_ex__', '__repr__', '__reversed__', '__rmul__', '__setattr__', '__setitem__', '__sizeof__', '__str__', '__subclasshook__', 'append', 'clear', 'copy', 'count', 'extend', 'index', 'insert', 'pop', 'remove', 'reverse', 'sort']\n",
      "------------------------------------------------------------------------------------------------------------------------\n",
      "Metodos tupple:  ['__add__', '__class__', '__contains__', '__delattr__', '__dir__', '__doc__', '__eq__', '__format__', '__ge__', '__getattribute__', '__getitem__', '__getnewargs__', '__gt__', '__hash__', '__init__', '__init_subclass__', '__iter__', '__le__', '__len__', '__lt__', '__mul__', '__ne__', '__new__', '__reduce__', '__reduce_ex__', '__repr__', '__rmul__', '__setattr__', '__sizeof__', '__str__', '__subclasshook__', 'count', 'index']\n"
     ]
    }
   ],
   "source": [
    "# Y entonces cual es la diferencia?\n",
    "# Vamos a ver cuales metodos tienen disponibles cada uno\n",
    "\n",
    "print('Metodos lista: ', dir(lista))\n",
    "print(120*'-')\n",
    "print('Metodos tupple: ', dir(tupple))"
   ]
  },
  {
   "cell_type": "markdown",
   "metadata": {},
   "source": [
    "Como podemos ver, las listas tienen mas metodos disponibles, pero esto que significa? En terminos simples esto significa que las listas ocupan mas memoria que los tupples. Vamos a avergiarlo"
   ]
  },
  {
   "cell_type": "code",
   "execution_count": 49,
   "metadata": {},
   "outputs": [
    {
     "name": "stdout",
     "output_type": "stream",
     "text": [
      "Tamano lista:  104\n",
      "Tamano tupple:  88\n"
     ]
    }
   ],
   "source": [
    "import sys\n",
    "\n",
    "print('Tamano lista: ', sys.getsizeof(lista))\n",
    "print('Tamano tupple: ', sys.getsizeof(tupple))\n",
    "\n"
   ]
  },
  {
   "cell_type": "markdown",
   "metadata": {},
   "source": [
    "Como podemos comprobar, la lista ocupa mas espacio que un tupple y cuando trabajamos con un dataset grande esto puede hacer toda la diferencia en terminos de eficiencia. Vemos un ejemplo:"
   ]
  },
  {
   "cell_type": "code",
   "execution_count": 50,
   "metadata": {},
   "outputs": [
    {
     "name": "stdout",
     "output_type": "stream",
     "text": [
      "Tiempo_lista:  7.044823087000623\n",
      "Tiempo_tupple:  1.192856550000215\n"
     ]
    }
   ],
   "source": [
    "# Usando el modulo timeit vamos a medir cuanto tiempo toma crear 100 millones de listas y 100 millones de tupples\n",
    "import timeit\n",
    "\n",
    "tiempo_lista = timeit.timeit(stmt='[1,2,3,4,5]', number=100000000)\n",
    "tiempo_tupple = timeit.timeit(stmt='(1,2,3,4,5)', number=100000000)\n",
    "\n",
    "print('Tiempo_lista: ', tiempo_lista)\n",
    "print('Tiempo_tupple: ', tiempo_tupple)"
   ]
  },
  {
   "cell_type": "markdown",
   "metadata": {},
   "source": [
    "Trabajemos con mas tupples"
   ]
  },
  {
   "cell_type": "code",
   "execution_count": 54,
   "metadata": {},
   "outputs": [
    {
     "name": "stdout",
     "output_type": "stream",
     "text": [
      "()\n",
      "1\n",
      "('1', '2')\n",
      "('1', '2', '3')\n"
     ]
    }
   ],
   "source": [
    "tupple_vacio = ()\n",
    "tupple_1 = ('1')\n",
    "tupple_2 = ('1', '2')\n",
    "tupple_3 = ('1', '2', '3')\n",
    "\n",
    "print(tupple_vacio)\n",
    "print(tupple_1)\n",
    "print(tupple_2)\n",
    "print(tupple_3)"
   ]
  },
  {
   "cell_type": "markdown",
   "metadata": {},
   "source": [
    "Puedes ver el error? Como lo corregirias?"
   ]
  },
  {
   "cell_type": "code",
   "execution_count": 56,
   "metadata": {},
   "outputs": [
    {
     "name": "stdout",
     "output_type": "stream",
     "text": [
      "(1,)\n",
      "(1, 2)\n",
      "(1, 2, 3)\n",
      "<class 'tuple'>\n",
      "<class 'tuple'>\n",
      "<class 'tuple'>\n"
     ]
    }
   ],
   "source": [
    "# Otro modo de hacer tuples\n",
    "\n",
    "tupple_11 = 1,\n",
    "tupple_22 = 1, 2\n",
    "tupple_33 = 1, 2, 3\n",
    "\n",
    "print(tupple_11)\n",
    "print(tupple_22)\n",
    "print(tupple_33)\n",
    "\n",
    "# Como se si son tupples\n",
    "\n",
    "print(type(tupple_11))\n",
    "print(type(tupple_22))\n",
    "print(type(tupple_33))"
   ]
  },
  {
   "cell_type": "code",
   "execution_count": 57,
   "metadata": {},
   "outputs": [
    {
     "name": "stdout",
     "output_type": "stream",
     "text": [
      "Edad : 18\n",
      "Pais:  Mexico\n",
      "Genero:  H\n"
     ]
    }
   ],
   "source": [
    "# Listas vs tupples ejemplo\n",
    "\n",
    "encuesta1 = (18, 'Mexico', 'H')\n",
    "\n",
    "edad = encuesta1[0]\n",
    "pais = encuesta1[1]\n",
    "genero = encuesta1[2]\n",
    "\n",
    "print('Edad :', edad)\n",
    "print('Pais: ', pais)\n",
    "print('Genero: ', genero)"
   ]
  },
  {
   "cell_type": "code",
   "execution_count": 59,
   "metadata": {},
   "outputs": [
    {
     "name": "stdout",
     "output_type": "stream",
     "text": [
      "Edad : 21\n",
      "Pais:  Mexico\n",
      "Genero:  M\n"
     ]
    }
   ],
   "source": [
    "encuesta2 = (21, 'Mexico', 'M')\n",
    "edad, pais, genero = encuesta2\n",
    "\n",
    "print('Edad :', edad)\n",
    "print('Pais: ', pais)\n",
    "print('Genero: ', genero)"
   ]
  },
  {
   "cell_type": "code",
   "execution_count": 60,
   "metadata": {},
   "outputs": [
    {
     "name": "stdout",
     "output_type": "stream",
     "text": [
      "<class 'str'>\n",
      "<class 'tuple'>\n"
     ]
    }
   ],
   "source": [
    "# Por que los tupples de un elemento pueden confundirse sin una coma al final con un string\n",
    "\n",
    "# Si hacemos esto, estamos asignando el valor a una variable\n",
    "pais=('Mexico')\n",
    "print(type(pais))\n",
    "# Si hacemos esto estamos creando un tupple de un solo elemento\n",
    "pais1=('Mexico', )\n",
    "print(type(pais1))"
   ]
  },
  {
   "cell_type": "markdown",
   "metadata": {},
   "source": [
    "Es importante que el numero de variables sea identico al numero de elementos detro del tupple"
   ]
  },
  {
   "cell_type": "code",
   "execution_count": null,
   "metadata": {},
   "outputs": [],
   "source": []
  }
 ],
 "metadata": {
  "kernelspec": {
   "display_name": "Python 3",
   "language": "python",
   "name": "python3"
  },
  "language_info": {
   "codemirror_mode": {
    "name": "ipython",
    "version": 3
   },
   "file_extension": ".py",
   "mimetype": "text/x-python",
   "name": "python",
   "nbconvert_exporter": "python",
   "pygments_lexer": "ipython3",
   "version": "3.6.5"
  }
 },
 "nbformat": 4,
 "nbformat_minor": 1
}
