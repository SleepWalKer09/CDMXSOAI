{
 "cells": [
  {
   "cell_type": "markdown",
   "metadata": {
    "collapsed": true
   },
   "source": [
    "# Segundo Workshop"
   ]
  },
  {
   "cell_type": "markdown",
   "metadata": {},
   "source": [
    "## Requisitos\n",
    "\n",
    "Para este Worshop vamos a necestiar:\n",
    "\n",
    "    - Python 3\n",
    "    - Pandas\n",
    "    - Matplotlib\n",
    "    \n",
    "### Para instalar Python 3 \n",
    "\n",
    "\n",
    "#### En Linux/Ubuntu\n",
    "\n",
    "Por default Linux tiene instalado Python 3x, para checar la version:\n",
    "\n",
    "    - Tecleamos: Ctrl + Alt + T\n",
    "    - Escribimos: python3\n",
    "    - Debemos recibir la version de Python que tenemos instalada\n",
    "    \n",
    "#### En Mac OS X\n",
    "\n",
    "Por default Mac OS X tiene instalado Python 3x, para checar la version:\n",
    "\n",
    "    - Tecleamos: CMD + Espacio\n",
    "    - Abrimos una terminal\n",
    "    - Escribimos: which -a python python2 python3\n",
    "    - Debemos recibir la version de Python que tenemos instalada  \n",
    "\n",
    "#### En Windows\n",
    "\n",
    "Nos tenemos que dirigir a https://www.python.org/downloads/ y bajamos la version 3.5 o mas reciente. Para comprobar la instalacion:\n",
    "\n",
    "    - Tecleamos: WinKey + R\n",
    "    - Escribimos: cmd\n",
    "    - Oprimimos: Enter\n",
    "    - Escribimos: python -v\n",
    "    - Debemos recibir la version de Python que tenemos instalada"
   ]
  },
  {
   "cell_type": "markdown",
   "metadata": {},
   "source": [
    "### Python 3\n",
    "\n",
    "#### Por que Python?\n",
    "\n",
    "Python es muy amigable para principiantes. La sintaxis (palabras y estructura) es extremadamente simple de leer y seguir como lo podemos apreciar con el siguiente ejemplo:"
   ]
  },
  {
   "cell_type": "code",
   "execution_count": 1,
   "metadata": {},
   "outputs": [
    {
     "name": "stdout",
     "output_type": "stream",
     "text": [
      "UX/UI\n",
      "FullStack\n",
      "JavaScript\n",
      "Node.js\n"
     ]
    }
   ],
   "source": [
    "IronHack = \"UX/UI\", \"FullStack\", \"JavaScript\", \"Node.js\"\n",
    "\n",
    "for course in IronHack:\n",
    "    print(course)"
   ]
  },
  {
   "cell_type": "markdown",
   "metadata": {},
   "source": [
    "Python es un lenguaje de programación completamente funcional que puede hacer cualquier cosa que cualquier otro lenguaje puede hacer.\n",
    "\n",
    "La mayoría de los módulos de procesamiento de datos son en realidad 'wrappers' de Python alrededor del código C / C ++.\n",
    "\n",
    "Para hacer la labor de programar mas eficiente Python hace uso de modulos que son codigos de Python pre-escritos y listos para ser utlizados por desarrolladores como tu, la idea detras de estos modulos es hacer que el codigo que escribas sea lo mas limpio y eficiente posible.  Como otros lenguejes de programacion Python incentiva el hacer uso del concepto de DRY, Don't Repeat Yourself.\n",
    "\n",
    "### Strings & funcion Print\n",
    "\n",
    "#### Funcion Print\n",
    "\n",
    "La funcion 'print()'es una función que se envía a la ventana de la consola, independientemente de lo que diga que desea imprimir.  Puede parecer que la función 'print()' es bastante inútil, pero en realidad es una de las funciones más utilizadas en Python. La razón de esto es que es una excelente herramienta de debugging.\n",
    "\n",
    "\"Debugging\" es el término dado al acto de buscar, eliminar y corregir errores y errores dentro del código. Si algo no está funcionando bien, puede usar la función de impresión para imprimir lo que está sucediendo en el programa.\n",
    "\n",
    "#### Strings\n",
    "\n",
    "Los 'strings' son strings/cadenas de texto. Los strings son un tipo de datos. Otro tipo de datos son los integers. Un ejemplo simple:"
   ]
  },
  {
   "cell_type": "code",
   "execution_count": 1,
   "metadata": {},
   "outputs": [
    {
     "name": "stdout",
     "output_type": "stream",
     "text": [
      "Single Quotes\n",
      "double quotes\n"
     ]
    }
   ],
   "source": [
    "print('Single Quotes')\n",
    "print(\"double quotes\")"
   ]
  },
  {
   "cell_type": "markdown",
   "metadata": {},
   "source": [
    "En el ejemplo anterior estamos imprimiendo un String, es importante que observes que podemos usar '' o \"\".\n",
    "\n",
    "Podemos usar la funcion print() para concatenar usando \"+\" o \",\" para concatenar Strings. Si usamos \",\" vamos a tener un espacion entre los strings que unimos. Si utlizamos \"+\" los Strings se van a unir sin espacio.\n",
    "\n",
    "Si usamos \"+\" para un integer y un float, se realizara una operacion aritmetica. Si utilizamos \",\" se van a imprimir por separado un un espacio entre ellos. \n",
    "\n",
    "Para unir Strings con Integers o Floats no puedes usar \"+\", tienes que usar \",\""
   ]
  },
  {
   "cell_type": "code",
   "execution_count": 5,
   "metadata": {},
   "outputs": [
    {
     "name": "stdout",
     "output_type": "stream",
     "text": [
      "Correcto 5\n"
     ]
    }
   ],
   "source": [
    "print('Correcto',5)"
   ]
  },
  {
   "cell_type": "code",
   "execution_count": 4,
   "metadata": {},
   "outputs": [
    {
     "ename": "TypeError",
     "evalue": "must be str, not int",
     "output_type": "error",
     "traceback": [
      "\u001b[0;31m---------------------------------------------------------------------------\u001b[0m",
      "\u001b[0;31mTypeError\u001b[0m                                 Traceback (most recent call last)",
      "\u001b[0;32m<ipython-input-4-735fe468d0b9>\u001b[0m in \u001b[0;36m<module>\u001b[0;34m()\u001b[0m\n\u001b[0;32m----> 1\u001b[0;31m \u001b[0mprint\u001b[0m\u001b[0;34m(\u001b[0m\u001b[0;34m'Incorrecto:'\u001b[0m\u001b[0;34m+\u001b[0m\u001b[0;36m5\u001b[0m\u001b[0;34m)\u001b[0m\u001b[0;34m\u001b[0m\u001b[0m\n\u001b[0m",
      "\u001b[0;31mTypeError\u001b[0m: must be str, not int"
     ]
    }
   ],
   "source": [
    "print('Incorrecto:'+5)"
   ]
  },
  {
   "cell_type": "markdown",
   "metadata": {},
   "source": [
    "Es importante tener en cuenta como colocar las comillas dentro de los Strings. Puedes poner comillas dobles dentro de las cadenas, comillas sencillas dentro de dobles o usar la barra diagonal inversa \"\\\". \"\\\" es un caracter de escape, esto quiere decir que cuando lo usemos va a 'escapar' a la caracteristica del siguiete caracter y solo va a tomar el aspecto visual. Ejemplo:"
   ]
  },
  {
   "cell_type": "code",
   "execution_count": 6,
   "metadata": {},
   "outputs": [
    {
     "ename": "SyntaxError",
     "evalue": "invalid syntax (<ipython-input-6-92737080bde1>, line 1)",
     "output_type": "error",
     "traceback": [
      "\u001b[0;36m  File \u001b[0;32m\"<ipython-input-6-92737080bde1>\"\u001b[0;36m, line \u001b[0;32m1\u001b[0m\n\u001b[0;31m    print('Incorrecto's')\u001b[0m\n\u001b[0m                      ^\u001b[0m\n\u001b[0;31mSyntaxError\u001b[0m\u001b[0;31m:\u001b[0m invalid syntax\n"
     ]
    }
   ],
   "source": [
    "print('Incorrecto's')"
   ]
  },
  {
   "cell_type": "code",
   "execution_count": 7,
   "metadata": {},
   "outputs": [
    {
     "name": "stdout",
     "output_type": "stream",
     "text": [
      "you'll have success here\n"
     ]
    }
   ],
   "source": [
    "print('you\\'ll have success here')"
   ]
  },
  {
   "cell_type": "code",
   "execution_count": 8,
   "metadata": {},
   "outputs": [
    {
     "name": "stdout",
     "output_type": "stream",
     "text": [
      "you'll have success here too\n"
     ]
    }
   ],
   "source": [
    "print(\"you'll have success here too\")"
   ]
  },
  {
   "cell_type": "markdown",
   "metadata": {},
   "source": [
    "### Matematicas\n",
    "\n",
    "Las matematicas son un tema muy popular y eso hizo que sean muy sencillas de utlizar con Python."
   ]
  },
  {
   "cell_type": "code",
   "execution_count": 9,
   "metadata": {},
   "outputs": [
    {
     "data": {
      "text/plain": [
       "4"
      ]
     },
     "execution_count": 9,
     "metadata": {},
     "output_type": "execute_result"
    }
   ],
   "source": [
    "# Esto es una suma simple.\n",
    "1+3"
   ]
  },
  {
   "cell_type": "code",
   "execution_count": 10,
   "metadata": {},
   "outputs": [
    {
     "data": {
      "text/plain": [
       "16"
      ]
     },
     "execution_count": 10,
     "metadata": {},
     "output_type": "execute_result"
    }
   ],
   "source": [
    "# Esto es una multiplicacion simple\n",
    "4*4"
   ]
  },
  {
   "cell_type": "code",
   "execution_count": 11,
   "metadata": {},
   "outputs": [
    {
     "data": {
      "text/plain": [
       "3"
      ]
     },
     "execution_count": 11,
     "metadata": {},
     "output_type": "execute_result"
    }
   ],
   "source": [
    "# Esto es una resta simple.\n",
    "5-2"
   ]
  },
  {
   "cell_type": "code",
   "execution_count": 12,
   "metadata": {},
   "outputs": [
    {
     "data": {
      "text/plain": [
       "2.5"
      ]
     },
     "execution_count": 12,
     "metadata": {},
     "output_type": "execute_result"
    }
   ],
   "source": [
    "# Esto es una division simple \n",
    "5/2"
   ]
  },
  {
   "cell_type": "code",
   "execution_count": 13,
   "metadata": {},
   "outputs": [
    {
     "data": {
      "text/plain": [
       "256"
      ]
     },
     "execution_count": 13,
     "metadata": {},
     "output_type": "execute_result"
    }
   ],
   "source": [
    "# Esto es un exponencial simple\n",
    "4**4"
   ]
  },
  {
   "cell_type": "markdown",
   "metadata": {},
   "source": [
    "#### Variables\n",
    "\n",
    "En casi todos los progrmas que escribas en Python vas a hacer uso de variables, que en terminos muy simples son 'placeholders'. Las variables ayudan a los programas a volverse mucho más dinámicos, y permiten que un programa siempre haga referencia a un valor en un punto, en lugar de que el programador tenga que escribirlo repetidamente o cambiarlo si deciden usar una definición diferente para él.\n",
    "\n",
    "Puedes nombrar a tus variables como quieras, es buena practica que no hangan conflicto con las funciones de tu programa y no podras asignar nombres reservados por Python al igual que no pueden comenzar con un numero. Debes tener cuidado al nombrar tus varianles, clases y funciones para evitar conflictos."
   ]
  },
  {
   "cell_type": "code",
   "execution_count": 16,
   "metadata": {},
   "outputs": [
    {
     "name": "stdout",
     "output_type": "stream",
     "text": [
      "55\n"
     ]
    }
   ],
   "source": [
    "# En este caso el 55 se va a imprimir\n",
    "varEjemplo = 55\n",
    "print(varEjemplo)"
   ]
  },
  {
   "cell_type": "code",
   "execution_count": 17,
   "metadata": {},
   "outputs": [
    {
     "ename": "SyntaxError",
     "evalue": "invalid syntax (<ipython-input-17-7dd92b52eaa1>, line 2)",
     "output_type": "error",
     "traceback": [
      "\u001b[0;36m  File \u001b[0;32m\"<ipython-input-17-7dd92b52eaa1>\"\u001b[0;36m, line \u001b[0;32m2\u001b[0m\n\u001b[0;31m    malaVariable = Hey!\u001b[0m\n\u001b[0m                      ^\u001b[0m\n\u001b[0;31mSyntaxError\u001b[0m\u001b[0;31m:\u001b[0m invalid syntax\n"
     ]
    }
   ],
   "source": [
    "# Esto va a arrojar un error, necesitas poner comillas para que sea una variable valida\n",
    "malaVariable = Hey!"
   ]
  },
  {
   "cell_type": "code",
   "execution_count": 20,
   "metadata": {},
   "outputs": [
    {
     "name": "stdout",
     "output_type": "stream",
     "text": [
      "Hola!\n"
     ]
    }
   ],
   "source": [
    "# Esta es una variable aceptable\n",
    "buenaVariable = 'Hola!'\n",
    "print(buenaVariable)"
   ]
  },
  {
   "cell_type": "code",
   "execution_count": 21,
   "metadata": {},
   "outputs": [
    {
     "name": "stdout",
     "output_type": "stream",
     "text": [
      "1.25\n"
     ]
    }
   ],
   "source": [
    "# Como podemos ver, se puede tener el resultado de una operacion dentro de una variable\n",
    "conOperaciones = 5/4\n",
    "print(conOperaciones) "
   ]
  },
  {
   "cell_type": "code",
   "execution_count": null,
   "metadata": {},
   "outputs": [],
   "source": []
  },
  {
   "cell_type": "code",
   "execution_count": null,
   "metadata": {},
   "outputs": [],
   "source": []
  },
  {
   "cell_type": "code",
   "execution_count": null,
   "metadata": {},
   "outputs": [],
   "source": []
  },
  {
   "cell_type": "code",
   "execution_count": null,
   "metadata": {},
   "outputs": [],
   "source": []
  },
  {
   "cell_type": "code",
   "execution_count": null,
   "metadata": {},
   "outputs": [],
   "source": []
  },
  {
   "cell_type": "code",
   "execution_count": null,
   "metadata": {},
   "outputs": [],
   "source": []
  },
  {
   "cell_type": "code",
   "execution_count": null,
   "metadata": {},
   "outputs": [],
   "source": []
  },
  {
   "cell_type": "code",
   "execution_count": null,
   "metadata": {},
   "outputs": [],
   "source": []
  },
  {
   "cell_type": "code",
   "execution_count": null,
   "metadata": {},
   "outputs": [],
   "source": []
  },
  {
   "cell_type": "markdown",
   "metadata": {},
   "source": [
    "### Pandas"
   ]
  },
  {
   "cell_type": "markdown",
   "metadata": {},
   "source": [
    "### Matplotlib"
   ]
  },
  {
   "cell_type": "code",
   "execution_count": null,
   "metadata": {},
   "outputs": [],
   "source": []
  }
 ],
 "metadata": {
  "kernelspec": {
   "display_name": "Python 3",
   "language": "python",
   "name": "python3"
  },
  "language_info": {
   "codemirror_mode": {
    "name": "ipython",
    "version": 3
   },
   "file_extension": ".py",
   "mimetype": "text/x-python",
   "name": "python",
   "nbconvert_exporter": "python",
   "pygments_lexer": "ipython3",
   "version": "3.6.5"
  }
 },
 "nbformat": 4,
 "nbformat_minor": 1
}
