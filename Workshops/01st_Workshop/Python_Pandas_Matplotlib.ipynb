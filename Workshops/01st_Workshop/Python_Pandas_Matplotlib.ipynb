{
 "cells": [
  {
   "cell_type": "markdown",
   "metadata": {
    "collapsed": true
   },
   "source": [
    "# Segundo Workshop"
   ]
  },
  {
   "cell_type": "markdown",
   "metadata": {},
   "source": [
    "## Requisitos\n",
    "\n",
    "Para este Worshop vamos a necestiar:\n",
    "\n",
    "    - Python 3\n",
    "    - Pandas\n",
    "    - Matplotlib\n",
    "    \n",
    "### Para instalar Python 3 \n",
    "\n",
    "\n",
    "#### En Linux/Ubuntu\n",
    "\n",
    "Por default Linux tiene instalado Python 3x, para checar la version:\n",
    "\n",
    "    - Tecleamos: Ctrl + Alt + T\n",
    "    - Escribimos: python3\n",
    "    - Debemos recibir la version de Python que tenemos instalada\n",
    "    \n",
    "#### En Mac OS X\n",
    "\n",
    "Por default Mac OS X tiene instalado Python 3x, para checar la version:\n",
    "\n",
    "    - Tecleamos: CMD + Espacio\n",
    "    - Abrimos una terminal\n",
    "    - Escribimos: which -a python python2 python3\n",
    "    - Debemos recibir la version de Python que tenemos instalada  \n",
    "\n",
    "#### En Windows\n",
    "\n",
    "Nos tenemos que dirigir a https://www.python.org/downloads/ y bajamos la version 3.5 o mas reciente. Para comprobar la instalacion:\n",
    "\n",
    "    - Tecleamos: WinKey + R\n",
    "    - Escribimos: cmd\n",
    "    - Oprimimos: Enter\n",
    "    - Escribimos: python -v\n",
    "    - Debemos recibir la version de Python que tenemos instalada"
   ]
  },
  {
   "cell_type": "markdown",
   "metadata": {},
   "source": [
    "### Python 3(Parte 1)\n",
    "\n",
    "#### Por que Python?\n",
    "\n",
    "Python es muy amigable para principiantes. La sintaxis (palabras y estructura) es extremadamente simple de leer y seguir como lo podemos apreciar con el siguiente ejemplo:"
   ]
  },
  {
   "cell_type": "code",
   "execution_count": null,
   "metadata": {},
   "outputs": [],
   "source": [
    "IronHack = \"UX/UI\", \"FullStack\", \"JavaScript\", \"Node.js\"\n",
    "\n",
    "for course in IronHack:\n",
    "    print(course)"
   ]
  },
  {
   "cell_type": "markdown",
   "metadata": {},
   "source": [
    "Python es un lenguaje de programación completamente funcional que puede hacer cualquier cosa que cualquier otro lenguaje puede hacer.\n",
    "\n",
    "La mayoría de los módulos de procesamiento de datos son en realidad 'wrappers' de Python alrededor del código C / C ++.\n",
    "\n",
    "Para hacer la labor de programar mas eficiente Python hace uso de modulos que son codigos de Python pre-escritos y listos para ser utlizados por desarrolladores como tu, la idea detras de estos modulos es hacer que el codigo que escribas sea lo mas limpio y eficiente posible.  Como otros lenguejes de programacion Python incentiva el hacer uso del concepto de DRY, Don't Repeat Yourself.\n",
    "\n",
    "### Strings & funcion Print\n",
    "\n",
    "#### Funcion Print\n",
    "\n",
    "La funcion 'print()'es una función que se envía a la ventana de la consola, independientemente de lo que diga que desea imprimir.  Puede parecer que la función 'print()' es bastante inútil, pero en realidad es una de las funciones más utilizadas en Python. La razón de esto es que es una excelente herramienta de debugging.\n",
    "\n",
    "\"Debugging\" es el término dado al acto de buscar, eliminar y corregir errores y errores dentro del código. Si algo no está funcionando bien, puede usar la función de impresión para imprimir lo que está sucediendo en el programa.\n",
    "\n",
    "#### Strings\n",
    "\n",
    "Los 'strings' son strings/cadenas de texto. Los strings son un tipo de datos. Otro tipo de datos son los integers. Un ejemplo simple:"
   ]
  },
  {
   "cell_type": "code",
   "execution_count": null,
   "metadata": {},
   "outputs": [],
   "source": [
    "print('Single Quotes')\n",
    "print(\"double quotes\")"
   ]
  },
  {
   "cell_type": "markdown",
   "metadata": {},
   "source": [
    "En el ejemplo anterior estamos imprimiendo un String, es importante que observes que podemos usar '' o \"\".\n",
    "\n",
    "Podemos usar la funcion print() para concatenar usando \"+\" o \",\" para concatenar Strings. Si usamos \",\" vamos a tener un espacion entre los strings que unimos. Si utlizamos \"+\" los Strings se van a unir sin espacio.\n",
    "\n",
    "Si usamos \"+\" para un integer y un float, se realizara una operacion aritmetica. Si utilizamos \",\" se van a imprimir por separado un un espacio entre ellos. \n",
    "\n",
    "Para unir Strings con Integers o Floats no puedes usar \"+\", tienes que usar \",\""
   ]
  },
  {
   "cell_type": "code",
   "execution_count": null,
   "metadata": {},
   "outputs": [],
   "source": [
    "print('Correcto',5)"
   ]
  },
  {
   "cell_type": "code",
   "execution_count": null,
   "metadata": {},
   "outputs": [],
   "source": [
    "print('Incorrecto:'+5)"
   ]
  },
  {
   "cell_type": "markdown",
   "metadata": {},
   "source": [
    "Es importante tener en cuenta como colocar las comillas dentro de los Strings. Puedes poner comillas dobles dentro de las cadenas, comillas sencillas dentro de dobles o usar la barra diagonal inversa \"\\\". \"\\\" es un caracter de escape, esto quiere decir que cuando lo usemos va a 'escapar' a la caracteristica del siguiete caracter y solo va a tomar el aspecto visual. Ejemplo:"
   ]
  },
  {
   "cell_type": "code",
   "execution_count": null,
   "metadata": {},
   "outputs": [],
   "source": [
    "print('Incorrecto's')"
   ]
  },
  {
   "cell_type": "code",
   "execution_count": null,
   "metadata": {},
   "outputs": [],
   "source": [
    "print('you\\'ll have success here')"
   ]
  },
  {
   "cell_type": "code",
   "execution_count": null,
   "metadata": {},
   "outputs": [],
   "source": [
    "print(\"you'll have success here too\")"
   ]
  },
  {
   "cell_type": "markdown",
   "metadata": {},
   "source": [
    "### Matematicas\n",
    "\n",
    "Las matematicas son un tema muy popular y eso hizo que sean muy sencillas de utlizar con Python."
   ]
  },
  {
   "cell_type": "code",
   "execution_count": null,
   "metadata": {},
   "outputs": [],
   "source": [
    "# Esto es una suma simple.\n",
    "1+3"
   ]
  },
  {
   "cell_type": "code",
   "execution_count": null,
   "metadata": {},
   "outputs": [],
   "source": [
    "# Esto es una multiplicacion simple\n",
    "4*4"
   ]
  },
  {
   "cell_type": "code",
   "execution_count": null,
   "metadata": {},
   "outputs": [],
   "source": [
    "# Esto es una resta simple.\n",
    "5-2"
   ]
  },
  {
   "cell_type": "code",
   "execution_count": null,
   "metadata": {},
   "outputs": [],
   "source": [
    "# Esto es una division simple \n",
    "5/2"
   ]
  },
  {
   "cell_type": "code",
   "execution_count": null,
   "metadata": {},
   "outputs": [],
   "source": [
    "# Esto es un exponencial simple\n",
    "4**4"
   ]
  },
  {
   "cell_type": "markdown",
   "metadata": {},
   "source": [
    "#### Variables\n",
    "\n",
    "En casi todos los progrmas que escribas en Python vas a hacer uso de variables, que en terminos muy simples son 'placeholders'. Las variables ayudan a los programas a volverse mucho más dinámicos, y permiten que un programa siempre haga referencia a un valor en un punto, en lugar de que el programador tenga que escribirlo repetidamente o cambiarlo si deciden usar una definición diferente para él.\n",
    "\n",
    "Puedes nombrar a tus variables como quieras, es buena practica que no hangan conflicto con las funciones de tu programa y no podras asignar nombres reservados por Python al igual que no pueden comenzar con un numero. Debes tener cuidado al nombrar tus varianles, clases y funciones para evitar conflictos."
   ]
  },
  {
   "cell_type": "code",
   "execution_count": null,
   "metadata": {},
   "outputs": [],
   "source": [
    "# En este caso el 55 se va a imprimir\n",
    "varEjemplo = 55\n",
    "print(varEjemplo)"
   ]
  },
  {
   "cell_type": "code",
   "execution_count": null,
   "metadata": {},
   "outputs": [],
   "source": [
    "# Esto va a arrojar un error, necesitas poner comillas para que sea una variable valida\n",
    "malaVariable = Hey!"
   ]
  },
  {
   "cell_type": "code",
   "execution_count": null,
   "metadata": {},
   "outputs": [],
   "source": [
    "# Esta es una variable aceptable\n",
    "buenaVariable = 'Hola!'\n",
    "print(buenaVariable)"
   ]
  },
  {
   "cell_type": "code",
   "execution_count": null,
   "metadata": {},
   "outputs": [],
   "source": [
    "# Como podemos ver, se puede tener el resultado de una operacion dentro de una variable\n",
    "conOperaciones = 5/4\n",
    "print(conOperaciones) "
   ]
  },
  {
   "cell_type": "markdown",
   "metadata": {},
   "source": [
    "#### While Loop\n",
    "\n",
    "Tenemos 2 Loops en Python:\n",
    "\n",
    "    - for loop\n",
    "    - while loop\n",
    "\n",
    "Ambos alcanzan resultados similares y se pueden usar, en la mayoria de los casos, para alcanzar el mismo resultado. Generalmente el 'for loop' es mas eficiente que el 'while loop', pero no siempre.\n",
    "\n",
    "La idea detras del while loop:\n",
    "\n",
    "_Mientras algo sea se cumpla, ejecuta lo siguiente:_\n",
    "    \n",
    "Un ejemplo sencillo:"
   ]
  },
  {
   "cell_type": "code",
   "execution_count": null,
   "metadata": {},
   "outputs": [],
   "source": [
    "# En este caso tenemos la variable 'condition' y empieza con el valor de 1.\n",
    "# A continuacion especificamos los terminos del while statement:\n",
    "# Mientras la condicion sea menor a 10 vamos a imprimir la variable condition\n",
    "# y vamos a sumar 1 en cada iteracion\n",
    "condition = 1\n",
    "\n",
    "while condition < 10:\n",
    "    print(condition)\n",
    "    condition += 1"
   ]
  },
  {
   "cell_type": "code",
   "execution_count": null,
   "metadata": {},
   "outputs": [],
   "source": [
    "# Un loop infinto\n",
    "while True:\n",
    "    print('doing stuff!!')"
   ]
  },
  {
   "cell_type": "markdown",
   "metadata": {},
   "source": [
    "#### For loop\n",
    "\n",
    "El siguiente loop es el for loop. La idea del for loop es iterar algo. Es decir: por cada cosa ejecuta este codigo. Un ejemplo sencillo:"
   ]
  },
  {
   "cell_type": "code",
   "execution_count": null,
   "metadata": {},
   "outputs": [],
   "source": [
    "# Este codigo va a imprimir cada articulo en la lista\n",
    "exampleList = [1,5,6,6,2,1,5,2,1,4]\n",
    "\n",
    "for x in exampleList:\n",
    "    print(x)"
   ]
  },
  {
   "cell_type": "markdown",
   "metadata": {},
   "source": [
    "Una manera sencilla de entender los distintos caso de uso para cada loop es que en la mayoria de los casos el while loop se usa para tareas finitas y el for loop para tareas con temporalidad incierta o variable. El for loop se puede usar para las mismas tareas que un while loop.\n",
    "\n",
    "Otro ejemplo de uso para un for loop es una funcion generadora, las cuales son increiblemente eficientes, un ejemplo sencillo:"
   ]
  },
  {
   "cell_type": "code",
   "execution_count": null,
   "metadata": {},
   "outputs": [],
   "source": [
    "# Este ejemplo es parecido al ejemplo que usamos en el while loop,\n",
    "# Solo que este ejemplo es mucho mas rapido y eficiente\n",
    "for x in range(1,11):\n",
    "    print(x)"
   ]
  },
  {
   "cell_type": "markdown",
   "metadata": {},
   "source": [
    "#### If statement\n",
    "\n",
    "Los if statements es una de las formas mas basicas de logica que puedes utilizar en tus programas. La idea detras de un if statement es evaluar si 'algo' cumple alguna condicion y de ser asi ejecutar el siguiente bloque de codigo, un ejemplo sencillo:"
   ]
  },
  {
   "cell_type": "code",
   "execution_count": null,
   "metadata": {},
   "outputs": [],
   "source": [
    "# Aqui definimos las variables x & y, luego 'preguntamos' si x es mayor a y \n",
    "# de ser asi vamos a imprimir 'x es mayor que y', de no ser asi no pasara nada\n",
    "x = 5\n",
    "y = 10\n",
    "\n",
    "if x > y:\n",
    "    print('x es mayor grande que y')"
   ]
  },
  {
   "cell_type": "code",
   "execution_count": null,
   "metadata": {},
   "outputs": [],
   "source": [
    "# Aqui definimos las variables x & y, luego 'preguntamos' si x es mayor a y \n",
    "# de ser asi vamos a imprimir 'x es menor que y', de no ser asi no pasara nada\n",
    "x = 5\n",
    "y = 10\n",
    "\n",
    "if x < y:\n",
    "    print('x es menor que y')"
   ]
  },
  {
   "cell_type": "markdown",
   "metadata": {},
   "source": [
    "#### If-else statement\n",
    "\n",
    "El if-else statement esta disenado para construir sobre la logica del if statement. En este caso evaluamos si algo cumple alguna condicion y de ser asi se ejecuta el siguiente bloque de codigo. En caso de no ser asi se ejecuta otro bloque de codigo. Si el if statement es True, el else statement no se ejecutara. Si el if statement es False, entonces el else statement se ejecutara. Un ejemplo sencillo:"
   ]
  },
  {
   "cell_type": "code",
   "execution_count": null,
   "metadata": {},
   "outputs": [],
   "source": [
    "# Definimos x & y y luego preguntamos si x es mayor a 55\n",
    "# al no ser asi se ejecuta el else statement\n",
    "x = 5\n",
    "y = 8\n",
    "if x > 55:\n",
    "    print('x es mayor a 55')\n",
    "else:\n",
    "    print('x es menor a 55')"
   ]
  },
  {
   "cell_type": "code",
   "execution_count": null,
   "metadata": {},
   "outputs": [],
   "source": [
    "# Definimos x & y y luego preguntamos si x es menor a 55\n",
    "# al ser asi se ejecuta el if statement\n",
    "x = 5\n",
    "y = 8\n",
    "if x < 55:\n",
    "    print('x is less than 55')\n",
    "else:\n",
    "    print('x is not less than 55')"
   ]
  },
  {
   "cell_type": "markdown",
   "metadata": {},
   "source": [
    "Es importante hacer notar que el else statement solo aplica al mas reciente if statement. Puedes apilar varios if statements pero el else statemen solo dependera del if statement que este antes de este."
   ]
  },
  {
   "cell_type": "markdown",
   "metadata": {},
   "source": [
    "#### Elif statement\n",
    "\n",
    "Ahora exploremos el elif statement. El elif statement nos permite unir varios if statements como lo hubieramos intentado hacer si no supieramos que el else statement solo depende del ultimo if statement.\n",
    "\n",
    "El elif statement es un hibrido del else stament y el if statement, lo podemos entender de la siguiente manera:\n",
    "\n",
    "Evaluamos si algo cumple una condicion, de ser asi el elif statement y el else statement no se ejecutaran. De no ser asi el elif statement se ejecutara y 'cuestionara' la condicion en el if statement. Si es True se ejecutara y el else statement no. Si es False el else statement se ejecutara. Un ejemplo sencillo:"
   ]
  },
  {
   "cell_type": "code",
   "execution_count": null,
   "metadata": {},
   "outputs": [],
   "source": [
    "# Definimos x, y & z y evaluamos si x es mayor que y, al no ser asi se ejecuta el elif\n",
    "# y cuestiona si x es menor que z, en este caso es asi y el else statement no se ejecutara\n",
    "x = 5\n",
    "y = 10\n",
    "z = 22\n",
    "\n",
    "if x > y:\n",
    "    print('x es mayor que y')\n",
    "elif x < z:\n",
    "    print('x es menor que z')\n",
    "else:\n",
    "    print('if & elif nunca se ejecutaron...')"
   ]
  },
  {
   "cell_type": "code",
   "execution_count": null,
   "metadata": {},
   "outputs": [],
   "source": [
    "# Definimos x, y & z y evaluamos si x es mayor que y, al no ser asi se ejecuta el elif\n",
    "# y cuestiona si x es menor que z, en este caso es tampoco es asi y el else statement se ejecutara\n",
    "x = 5\n",
    "y = 10\n",
    "z = 22\n",
    "\n",
    "if x > y:\n",
    "    print('x es mayor que y')\n",
    "elif x > z:\n",
    "    print('x es mayor que z')\n",
    "else:\n",
    "    print('if & elif nunca se ejecutaron...')"
   ]
  },
  {
   "cell_type": "markdown",
   "metadata": {},
   "source": [
    "# Python basics to be continued next session..."
   ]
  },
  {
   "cell_type": "markdown",
   "metadata": {},
   "source": [
    "### Pandas\n",
    "\n",
    "Pandas es un modulo de Python de análisis de datos de alto rendimiento, alta eficiencia y alto nivel que es muy parecido a operar una versión fea de una hoja de cálculo, como Excel. En Pandas los datasets con lo que trabajamos seran conocidos como __dataframes__ que en el marco de los datos es una hoja de calculo, asi es, hay filas y columnas por todas partes pero con la gran ventaja de que podremos trabajar a una velocidad ridiculamente rapida.\n",
    "\n",
    "Pandas también es compatible con muchas de las otras bibliotecas de análisis de datos, como Scikit-Learn para Machine Learning, Matplotlib para gráficos, NumPy y más. \n",
    "\n",
    "Puedes cargar y enviar fácilmente en formato xls o xlsx rápidamente. Pandas también es compatible con archivos de texto, csv, archivos hdf, xml, html y más con su increíblemente potente IO(Input/Output).\n",
    "\n",
    "#### Lo basico"
   ]
  },
  {
   "cell_type": "code",
   "execution_count": null,
   "metadata": {},
   "outputs": [],
   "source": [
    "# Comunmente pandas se importa como pd\n",
    "import pandas as pd\n",
    "# El modulo datetime nos sirve para interactuar con fechas\n",
    "import datetime\n",
    "# Lo importamos como web dado que usaremos informacion de internet\n",
    "import pandas_datareader.data as web"
   ]
  },
  {
   "cell_type": "code",
   "execution_count": null,
   "metadata": {},
   "outputs": [],
   "source": [
    "# Creamos el punto de inicio y el fin para tener un parametro de fechas\n",
    "start = datetime.datetime(2018, 1, 1)\n",
    "end = datetime.datetime.now()"
   ]
  },
  {
   "cell_type": "code",
   "execution_count": null,
   "metadata": {},
   "outputs": [],
   "source": [
    "# Vamos a leer informacion del API de yahoo de la empresa Tesla de inicion de 2018 al dia de hoy\n",
    "TSLA_df = web.DataReader ('TSLA' ,'yahoo', start, end)"
   ]
  },
  {
   "cell_type": "code",
   "execution_count": null,
   "metadata": {},
   "outputs": [],
   "source": [
    "# Vamos a imprimir el contenido de nustro dataframe\n",
    "print(TSLA_df)"
   ]
  },
  {
   "cell_type": "code",
   "execution_count": null,
   "metadata": {},
   "outputs": [],
   "source": [
    "# Para hacer un Exploratory Data Analysis que en la practica lo van a ver como EDA\n",
    "# mas efectivo solo imprimimos las primeras 5 filas \n",
    "print(TSLA_df.head())"
   ]
  },
  {
   "cell_type": "code",
   "execution_count": null,
   "metadata": {},
   "outputs": [],
   "source": [
    "# En la mayoria de los casos los dataframes tienen una columna numerica a la izquierda que para efectos practicos\n",
    "# es completamente inutil, por lo que tenemos que resetear el indice del dataframe.\n",
    "TSLA_df.reset_index(inplace=True)\n",
    "TSLA_df.set_index(\"Date\", inplace=True)\n",
    "print(TSLA_df.head())"
   ]
  },
  {
   "cell_type": "code",
   "execution_count": null,
   "metadata": {},
   "outputs": [],
   "source": [
    "# Vamos a graficar nuestro dataframe con matplotlib\n",
    "# Para que nuestras graficas aparezcan dentro de nuestro archivo ipynb tenemos que hacer uso de %matplotlib inline\n",
    "%matplotlib inline\n",
    "import matplotlib.pyplot as plt\n",
    "from matplotlib import style\n",
    "\n",
    "style.use('fivethirtyeight')"
   ]
  },
  {
   "cell_type": "code",
   "execution_count": null,
   "metadata": {},
   "outputs": [],
   "source": [
    "TSLA_df['High'].plot()\n",
    "plt.legend()\n",
    "plt.show()"
   ]
  },
  {
   "cell_type": "code",
   "execution_count": null,
   "metadata": {},
   "outputs": [],
   "source": [
    "# Para este siguiente ejemplo usemos este diccionario ficticio\n",
    "web_stats = {'Day':[1,2,3,4,5,6],\n",
    "             'Visitors':[43,34,65,56,29,76],\n",
    "             'Bounce Rate':[65,67,78,65,45,52]}"
   ]
  },
  {
   "cell_type": "code",
   "execution_count": null,
   "metadata": {},
   "outputs": [],
   "source": [
    "# vamos a convertir este diccionario en un dataframe\n",
    "web_stats = {'Day':[1,2,3,4,5,6],\n",
    "             'Visitors':[43,34,65,56,29,76],\n",
    "             'Bounce Rate':[65,67,78,65,45,52]}\n",
    "\n",
    "WS_df = pd.DataFrame(web_stats)"
   ]
  },
  {
   "cell_type": "code",
   "execution_count": null,
   "metadata": {},
   "outputs": [],
   "source": [
    "# imprimimos la cabeza del df\n",
    "print(WS_df.head())"
   ]
  },
  {
   "cell_type": "code",
   "execution_count": null,
   "metadata": {},
   "outputs": [],
   "source": [
    "# imprimos la cola del df que son las ultimas 5 filas\n",
    "print(WS_df.tail())"
   ]
  },
  {
   "cell_type": "code",
   "execution_count": null,
   "metadata": {},
   "outputs": [],
   "source": [
    "# Podemos espeficicar cuantas filas queremos de la cola o de la cabeza\n",
    "print(WS_df.tail(2))"
   ]
  },
  {
   "cell_type": "code",
   "execution_count": null,
   "metadata": {},
   "outputs": [],
   "source": [
    "# Hacemos reset del index\n",
    "WS_df.reset_index(inplace=True)\n",
    "WS_df.set_index(\"Day\", inplace=True)\n",
    "print(WS_df.head())"
   ]
  },
  {
   "cell_type": "code",
   "execution_count": null,
   "metadata": {},
   "outputs": [],
   "source": [
    "%matplotlib inline\n",
    "import matplotlib.pyplot as plt\n",
    "from matplotlib import style\n",
    "\n",
    "style.use('fivethirtyeight')"
   ]
  },
  {
   "cell_type": "code",
   "execution_count": null,
   "metadata": {},
   "outputs": [],
   "source": [
    "# queremos que solo ver la columna de 'Visitors'\n",
    "print(WS_df['Visitors'])"
   ]
  },
  {
   "cell_type": "code",
   "execution_count": null,
   "metadata": {},
   "outputs": [],
   "source": [
    "# Podemos hacer uso de los dataframes tambien como objetos\n",
    "print(WS_df.Visitors)"
   ]
  },
  {
   "cell_type": "code",
   "execution_count": null,
   "metadata": {},
   "outputs": [],
   "source": [
    "# Graficamos\n",
    "WS_df['Visitors'].plot()\n",
    "plt.show()"
   ]
  },
  {
   "cell_type": "code",
   "execution_count": null,
   "metadata": {},
   "outputs": [],
   "source": [
    "# Graficamos todo el df\n",
    "WS_df.plot()\n",
    "plt.show()"
   ]
  },
  {
   "cell_type": "code",
   "execution_count": null,
   "metadata": {},
   "outputs": [],
   "source": [
    "# De igual manera podemos hacer uso solamente de las columnas que nos interesan\n",
    "print(WS_df[['Visitors','Bounce Rate']])"
   ]
  },
  {
   "cell_type": "markdown",
   "metadata": {},
   "source": [
    "#### Lo basico de IO\n",
    "\n",
    "Como seguramente ya lo sabes IO se refiere a Input/Output. Para esta parte del tutorial haremos uso de [Quandl](www.quandl.com) que es una excelente fuente de datos financiers, economicos, etc. gratuitos o pagados. En este caso trabajaremos con datos de precios de casas en Palo Alto,CA. \n",
    "\n",
    "Es importante tener en cuenta que rara vez los datasets estan limpios y listos para usarse como el que vamos a utilizar aqui."
   ]
  },
  {
   "cell_type": "code",
   "execution_count": null,
   "metadata": {},
   "outputs": [],
   "source": [
    "# Vamos a hacer uso de la funcion de pandas 'read_csv' que como la syntaxix lo indica nos ayuda a \n",
    "# convertir un csv en un dataframe\n",
    "house_df = pd.read_csv('./data/housing_Z94304.csv')\n",
    "print(house_df.head())"
   ]
  },
  {
   "cell_type": "code",
   "execution_count": null,
   "metadata": {},
   "outputs": [],
   "source": [
    "# Reseteamos el indice\n",
    "house_df.reset_index(inplace=True)\n",
    "house_df.set_index('Date', inplace = True)\n",
    "print(house_df)"
   ]
  },
  {
   "cell_type": "code",
   "execution_count": null,
   "metadata": {},
   "outputs": [],
   "source": [
    "# Supongamos que nuestra labor solo consistia en limpiar el dataset y guardarlo, lo podemos hacer mediante\n",
    "# la funcion de pandas 'to_csv' que guarda el dataframe en un csv\n",
    "house_df.to_csv('./data/newcsv2.csv')"
   ]
  },
  {
   "cell_type": "code",
   "execution_count": null,
   "metadata": {},
   "outputs": [],
   "source": [
    "# Supongamos que solo queremos una columna, lo podemos hacer de esta manera\n",
    "house_df['Value'].to_csv('./data/newcsv3.csv')"
   ]
  },
  {
   "cell_type": "code",
   "execution_count": null,
   "metadata": {},
   "outputs": [],
   "source": [
    "# Leemos el csv que guardamos y el indice esta mal de nuevo...\n",
    "house2_df = pd.read_csv('./data/newcsv2.csv')\n",
    "print(house2_df.head())"
   ]
  },
  {
   "cell_type": "code",
   "execution_count": null,
   "metadata": {},
   "outputs": [],
   "source": [
    "# Si ya conocemos el dataset podemos hacer el reset del indice desde la importacion con 'index_col=0'\n",
    "house2_df = pd.read_csv('./data/newcsv2.csv', index_col=0)\n",
    "print(house2_df.head())"
   ]
  },
  {
   "cell_type": "code",
   "execution_count": null,
   "metadata": {},
   "outputs": [],
   "source": [
    "# El nombre de 'valor' no nos dice mucho sobre el dataframe, asi que cambiemos el nombre\n",
    "house2_df.columns = ['House_Prices']\n",
    "print(house2_df.head())"
   ]
  },
  {
   "cell_type": "code",
   "execution_count": null,
   "metadata": {},
   "outputs": [],
   "source": [
    "# Asi lo podemos guardar\n",
    "house2_df.to_csv('./data/newcsv4.csv')"
   ]
  },
  {
   "cell_type": "code",
   "execution_count": null,
   "metadata": {},
   "outputs": [],
   "source": [
    "# Que tal si no quieres que haya encabezados, lo hacemos asi\n",
    "house2_df.to_csv('./data/newcsv5.csv', header=False)"
   ]
  },
  {
   "cell_type": "code",
   "execution_count": null,
   "metadata": {},
   "outputs": [],
   "source": [
    "house3_df = pd.read_csv('./data/newcsv4.csv')\n",
    "print(house3_df.head())"
   ]
  },
  {
   "cell_type": "code",
   "execution_count": null,
   "metadata": {},
   "outputs": [],
   "source": [
    "house4_df = pd.read_csv('./data/newcsv5.csv')\n",
    "print(house4_df.head())"
   ]
  },
  {
   "cell_type": "code",
   "execution_count": null,
   "metadata": {},
   "outputs": [],
   "source": [
    "# Si quieres insertar encabezados al dataframe lo puedes hacer asi\n",
    "house4_df = pd.read_csv('./data/newcsv5.csv', names = ['Date','House_Price'], index_col=0)\n",
    "print(house4_df.head())"
   ]
  },
  {
   "cell_type": "code",
   "execution_count": null,
   "metadata": {},
   "outputs": [],
   "source": [
    "# Podemos guardar el dataframe como una hoja html\n",
    "house4_df.to_html('./data/example.html')"
   ]
  },
  {
   "cell_type": "code",
   "execution_count": null,
   "metadata": {},
   "outputs": [],
   "source": [
    "# Que tal que solo queremos renombrar una sola columna? Lo hacemos asi:\n",
    "house3_df = pd.read_csv('./data/newcsv5.csv', names = ['Date','House_Price'])\n",
    "print(house3_df.head())\n",
    "\n",
    "house3_df.rename(columns={'House_Price':'Prices'}, inplace=True)\n",
    "print(house3_df.head())"
   ]
  },
  {
   "cell_type": "markdown",
   "metadata": {},
   "source": [
    "#### Construyendo un dataset\n",
    "\n",
    "Supongamos que tenemos que hacer la odiosa, tediosa y nada elegante labor de crear un dataset para un proyecto, esto puede ser bastante pesado, afortunadamente Python, Pandas y un numero de APIs en el mundo nos van a facilitar esta tarea.\n",
    "\n",
    "Tomemos el siguiente escenario, supongamos que quieres invertir en bienes raices en USA y necesitas saber en que estado de la union vas a obtener un mejor rendimiento. Sabemos que los precios de las casas se ven afectados por cosas como la economia, las tasas de interes, y las tendencias demograficas(por mencionar algo muy elemental).\n",
    "\n",
    "Lo primero que haremos es colectar la informacion de quandl, para esto tienes que hacer una cuenta y hacer uso de tu API key.\n",
    "\n",
    "Luego bajamos el modulo de quandl usando en la terminal pip install quandl"
   ]
  },
  {
   "cell_type": "code",
   "execution_count": null,
   "metadata": {},
   "outputs": [],
   "source": [
    "import quandl"
   ]
  },
  {
   "cell_type": "code",
   "execution_count": null,
   "metadata": {},
   "outputs": [],
   "source": [
    "# Nuestro API key como variable\n",
    "api_key = ''\n",
    "# Nuestro dataframe usado  FMAC = Freddie Mac. HPI = House Price Index TX=Texas\n",
    "quandl_df = quandl.get(\"FMAC/HPI_TX\", authtoken=api_key)\n",
    "\n",
    "print(quandl_df.head())"
   ]
  },
  {
   "cell_type": "code",
   "execution_count": null,
   "metadata": {},
   "outputs": [],
   "source": [
    "# Para nuestro analisis necesitamos hacer una exploracion en todos los estados y por lo tanto requerimos \n",
    "# bajar las abreviaturas de wikipedia, lo hacemos asi:\n",
    "fiddy_states = pd.read_html('https://simple.wikipedia.org/wiki/List_of_U.S._states')\n",
    "print(fiddy_states)"
   ]
  },
  {
   "cell_type": "code",
   "execution_count": null,
   "metadata": {},
   "outputs": [],
   "source": [
    "# Vamo a ponerlo mas presentable\n",
    "print(fiddy_states[0])"
   ]
  },
  {
   "cell_type": "code",
   "execution_count": null,
   "metadata": {},
   "outputs": [],
   "source": [
    "# Solo queremos las abreviaciones, por lo que usaremos un for loop para imprimir solo eso\n",
    "for abbv in fiddy_states[0][1][1:]:\n",
    "    print(abbv)"
   ]
  },
  {
   "cell_type": "code",
   "execution_count": null,
   "metadata": {},
   "outputs": [],
   "source": [
    "# Ahora combinamos la informacion de quandl y de wikipedia para tener un 'ticker' de cada estado.\n",
    "for abbv in fiddy_states[0][1][1:]:\n",
    "    #print(abbv)\n",
    "    print(\"FMAC/HPI_\"+str(abbv))"
   ]
  },
  {
   "cell_type": "markdown",
   "metadata": {},
   "source": [
    "Antes de continuar construyendo el ticker es importante sabes que podemos combinar dataframes, ya sea anexandolos, creando nuevas columnas o eliminando las que no nos sirvan para nuestra tarea"
   ]
  },
  {
   "cell_type": "code",
   "execution_count": null,
   "metadata": {},
   "outputs": [],
   "source": [
    "# 3 dataframes distintos\n",
    "state_df1 = pd.DataFrame({'HPI':[80,85,88,85],\n",
    "                    'Int_rate':[2, 3, 2, 2],\n",
    "                    'US_GDP_Thousands':[50, 55, 65, 55]},\n",
    "                   index = [2001, 2002, 2003, 2004])\n",
    "\n",
    "state_df2 = pd.DataFrame({'HPI':[80,85,88,85],\n",
    "                    'Int_rate':[2, 3, 2, 2],\n",
    "                    'US_GDP_Thousands':[50, 55, 65, 55]},\n",
    "                   index = [2005, 2006, 2007, 2008])\n",
    "\n",
    "state_df3 = pd.DataFrame({'HPI':[80,85,88,85],\n",
    "                    'Int_rate':[2, 3, 2, 2],\n",
    "                    'Low_tier_HPI':[50, 52, 50, 53]},\n",
    "                   index = [2001, 2002, 2003, 2004])"
   ]
  },
  {
   "cell_type": "code",
   "execution_count": null,
   "metadata": {},
   "outputs": [],
   "source": [
    "# Vamos a concatenar el df1 y el df2\n",
    "concat = pd.concat([state_df1, state_df2])\n",
    "print(concat)"
   ]
  },
  {
   "cell_type": "code",
   "execution_count": null,
   "metadata": {},
   "outputs": [],
   "source": [
    "# Concatenemos los 3 df y nos aparecen valores NaN dado que no hay info para eso campos \n",
    "concat = pd.concat([state_df1, state_df2, state_df3])\n",
    "print(concat)"
   ]
  },
  {
   "cell_type": "markdown",
   "metadata": {},
   "source": [
    "#### Appending\n",
    "\n",
    "El appending es como la concatenacion solo que se anexan filas, vamos a ver como funciona y como puede salir mal:"
   ]
  },
  {
   "cell_type": "code",
   "execution_count": null,
   "metadata": {},
   "outputs": [],
   "source": [
    "df4 = state_df1.append(state_df2)\n",
    "print(df4)"
   ]
  },
  {
   "cell_type": "markdown",
   "metadata": {},
   "source": [
    "Es de esperarse que pase esto con el appending, en la mayoría de los casos, va a hacer algo como esto, como si estuviera insertando una nueva fila en una base de datos.\n",
    "\n",
    "¿Qué sucede cuando agregamos datos con el mismo índice?"
   ]
  },
  {
   "cell_type": "code",
   "execution_count": null,
   "metadata": {},
   "outputs": [],
   "source": [
    "df4 = state_df1.append(state_df3, sort=True)\n",
    "print(df4)"
   ]
  },
  {
   "cell_type": "markdown",
   "metadata": {},
   "source": [
    "Que mal! La pregunta obvia es por que existen la concatenacion y el appending. Y la respuesta es que depende de un tema de necesidad, es poco comun que requieras combinar dataframes enteros y que lo comun sea combinar series de datos. Una serie de datos es un dataframe de una sola columna"
   ]
  },
  {
   "cell_type": "code",
   "execution_count": null,
   "metadata": {},
   "outputs": [],
   "source": [
    "s = pd.Series([80,2,50], index=['HPI','Int_rate','US_GDP_Thousands'])\n",
    "df4 = state_df1.append(s, ignore_index=True)\n",
    "print(df4)"
   ]
  },
  {
   "cell_type": "markdown",
   "metadata": {},
   "source": [
    "Tenemos que ignorar el índice al hacer appending de una serie, porque esa es la ley, a menos que la serie tenga un nombre."
   ]
  },
  {
   "cell_type": "markdown",
   "metadata": {},
   "source": [
    "# Pandas basics to be continued next session..."
   ]
  },
  {
   "cell_type": "markdown",
   "metadata": {},
   "source": [
    "### Matplotlib"
   ]
  },
  {
   "cell_type": "code",
   "execution_count": null,
   "metadata": {},
   "outputs": [],
   "source": [
    "%matplotlib inline\n",
    "import matplotlib.pyplot as plt"
   ]
  },
  {
   "cell_type": "code",
   "execution_count": null,
   "metadata": {},
   "outputs": [],
   "source": [
    "plt.plot([1,2,3],[5,7,4])\n",
    "plt.show()"
   ]
  },
  {
   "cell_type": "code",
   "execution_count": null,
   "metadata": {},
   "outputs": [],
   "source": [
    "x = [1,2,3]\n",
    "y = [5,7,4]\n",
    "\n",
    "x2 = [1,2,3]\n",
    "y2 = [10,14,12]"
   ]
  },
  {
   "cell_type": "code",
   "execution_count": null,
   "metadata": {},
   "outputs": [],
   "source": [
    "plt.plot(x, y, label='First Line')\n",
    "plt.plot(x2, y2, label='Second Line')\n",
    "plt.xlabel('Plot Number')\n",
    "plt.ylabel('Important var')\n",
    "plt.title('Interesting Graph\\nCheck it out')\n",
    "plt.legend()\n",
    "plt.show()"
   ]
  },
  {
   "cell_type": "code",
   "execution_count": null,
   "metadata": {},
   "outputs": [],
   "source": [
    "plt.bar([1,3,5,7,9],[5,2,7,8,2], label=\"Example one\")\n",
    "\n",
    "plt.bar([2,4,6,8,10],[8,6,2,5,6], label=\"Example two\", color='g')\n",
    "plt.legend()\n",
    "plt.xlabel('bar number')\n",
    "plt.ylabel('bar height')\n",
    "\n",
    "plt.title('Epic Graph\\nAnother Line! Whoa')\n",
    "\n",
    "plt.show()"
   ]
  },
  {
   "cell_type": "code",
   "execution_count": null,
   "metadata": {},
   "outputs": [],
   "source": [
    "population_ages = [22,55,62,45,21,22,34,42,42,4,99,102,110,120,121,122,130,111,115,112,80,75,65,54,44,43,42,48]\n",
    "\n",
    "bins = [0,10,20,30,40,50,60,70,80,90,100,110,120,130]\n",
    "\n",
    "plt.hist(population_ages, bins, histtype='bar', rwidth=0.8)\n",
    "\n",
    "plt.xlabel('x')\n",
    "plt.ylabel('y')\n",
    "plt.title('Interesting Graph\\nCheck it out')\n",
    "plt.legend()\n",
    "plt.show()"
   ]
  },
  {
   "cell_type": "code",
   "execution_count": null,
   "metadata": {},
   "outputs": [],
   "source": [
    "x3 = [1,2,3,4,5,6,7,8]\n",
    "y3 = [5,2,4,2,1,4,5,2]\n",
    "\n",
    "plt.scatter(x3,y3, label='skitscat', color='k', s=25, marker=\"o\")\n",
    "\n",
    "plt.xlabel('x')\n",
    "plt.ylabel('y')\n",
    "plt.title('Interesting Graph\\nCheck it out')\n",
    "plt.legend()\n",
    "plt.show()"
   ]
  },
  {
   "cell_type": "code",
   "execution_count": null,
   "metadata": {},
   "outputs": [],
   "source": [
    "days = [1,2,3,4,5]\n",
    "sleeping = [7,8,6,11,7]\n",
    "eating =   [2,3,4,3,2]\n",
    "working =  [7,8,7,2,2]\n",
    "playing =  [8,5,7,8,13]"
   ]
  },
  {
   "cell_type": "code",
   "execution_count": null,
   "metadata": {},
   "outputs": [],
   "source": [
    "fig, ax = plt.subplots()\n",
    "ax.stackplot(days, sleeping, eating, working, playing, colors=['r','g','b','k']) \n",
    "\n",
    "plt.xlabel('x')\n",
    "plt.ylabel('y')\n",
    "plt.title('Interesting Graph\\nCheck it out')\n",
    "plt.show()"
   ]
  },
  {
   "cell_type": "code",
   "execution_count": null,
   "metadata": {},
   "outputs": [],
   "source": [
    "days = [1,2,3,4,5]\n",
    "\n",
    "sleeping = [7,8,6,11,7]\n",
    "eating =   [2,3,4,3,2]\n",
    "working =  [7,8,7,2,2]\n",
    "playing =  [8,5,7,8,13]\n",
    "\n",
    "fig, ax = plt.subplots()\n",
    "plt.plot([],[],color='m', label='Sleeping', linewidth=5)\n",
    "plt.plot([],[],color='c', label='Eating', linewidth=5)\n",
    "plt.plot([],[],color='r', label='Working', linewidth=5)\n",
    "plt.plot([],[],color='k', label='Playing', linewidth=5)\n",
    "\n",
    "\n",
    "ax.stackplot(days, sleeping, eating, working, playing, colors=['m','c','r','k']) \n",
    "\n",
    "plt.xlabel('x')\n",
    "plt.ylabel('y')\n",
    "plt.title('Interesting Graph\\nCheck it out')\n",
    "#plt.legend()\n",
    "plt.show()"
   ]
  },
  {
   "cell_type": "code",
   "execution_count": null,
   "metadata": {},
   "outputs": [],
   "source": [
    "slices = [7,2,2,13]\n",
    "activities = ['sleeping','eating','working','playing']\n",
    "cols = ['c','m','r','b']\n",
    "\n",
    "plt.pie(slices,\n",
    "        labels=activities,\n",
    "        colors=cols,\n",
    "        startangle=90,\n",
    "        shadow= True,\n",
    "        explode=(0,0.1,0,0),\n",
    "        autopct='%1.1f%%')\n",
    "\n",
    "plt.title('Interesting Graph\\nCheck it out')\n",
    "plt.show()"
   ]
  },
  {
   "cell_type": "code",
   "execution_count": null,
   "metadata": {},
   "outputs": [],
   "source": [
    "import csv\n",
    "import numpy as np"
   ]
  },
  {
   "cell_type": "code",
   "execution_count": null,
   "metadata": {},
   "outputs": [],
   "source": [
    "x = []\n",
    "y = []\n",
    "\n",
    "with open('./data/example.txt','r') as csvfile:\n",
    "    plots = csv.reader(csvfile, delimiter=',')\n",
    "    for row in plots:\n",
    "        x.append(int(row[0]))\n",
    "        y.append(int(row[1]))\n",
    "\n",
    "plt.plot(x,y, label='Loaded from file!')\n",
    "plt.xlabel('x')\n",
    "plt.ylabel('y')\n",
    "plt.title('Interesting Graph\\nCheck it out')\n",
    "plt.legend()\n",
    "plt.show()"
   ]
  },
  {
   "cell_type": "code",
   "execution_count": null,
   "metadata": {},
   "outputs": [],
   "source": [
    "x, y = np.loadtxt('./data/example.txt', delimiter=',', unpack=True)\n",
    "plt.plot(x,y, label='Loaded from file!')\n",
    "\n",
    "plt.xlabel('x')\n",
    "plt.ylabel('y')\n",
    "plt.title('Interesting Graph\\nCheck it out')\n",
    "plt.legend()\n",
    "plt.show()"
   ]
  },
  {
   "cell_type": "code",
   "execution_count": null,
   "metadata": {},
   "outputs": [],
   "source": []
  }
 ],
 "metadata": {
  "kernelspec": {
   "display_name": "Python 3",
   "language": "python",
   "name": "python3"
  },
  "language_info": {
   "codemirror_mode": {
    "name": "ipython",
    "version": 3
   },
   "file_extension": ".py",
   "mimetype": "text/x-python",
   "name": "python",
   "nbconvert_exporter": "python",
   "pygments_lexer": "ipython3",
   "version": "3.6.5"
  }
 },
 "nbformat": 4,
 "nbformat_minor": 1
}
