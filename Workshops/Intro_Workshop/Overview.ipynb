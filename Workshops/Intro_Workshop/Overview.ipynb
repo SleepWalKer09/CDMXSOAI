{
 "cells": [
  {
   "cell_type": "markdown",
   "metadata": {
    "collapsed": true
   },
   "source": [
    "# Workshop Overview\n",
    "\n",
    "### Objetivos\n",
    "\n",
    "    - Entender los datos no estructurados y bases de datos NoSQL.\n",
    "    - Familiarizarnos con pyMongo. \n",
    "    - Entender Spark y la estructura de datos.\n",
    "    - Familiarizarnos con los pipelines tipicos de la ciencia de datos.\n",
    "\n",
    "\n",
    "### Seccion 1\n",
    "\n",
    "    - Intro MongoDB\n",
    "    \n",
    "### Seccion 2\n",
    "\n",
    "    - Intro PyMongo\n",
    "    \n",
    "### Seccion 3\n",
    "\n",
    "    - Trabajo basico con Datos Climaticos\n",
    "\n",
    "### Seccion 4\n",
    "\n",
    "    - pySpark & MongoDB\n",
    "    \n",
    "### Seccion 5\n",
    "\n",
    "    - Apliquemos todo lo anterior\n",
    "    \n",
    "### Prerequisitos\n",
    "\n",
    "    - Python\n",
    "    - Pandas\n",
    "    - JupyterNotebook\n",
    "    - SQL"
   ]
  },
  {
   "cell_type": "code",
   "execution_count": null,
   "metadata": {},
   "outputs": [],
   "source": []
  }
 ],
 "metadata": {
  "kernelspec": {
   "display_name": "Python 3",
   "language": "python",
   "name": "python3"
  },
  "language_info": {
   "codemirror_mode": {
    "name": "ipython",
    "version": 3
   },
   "file_extension": ".py",
   "mimetype": "text/x-python",
   "name": "python",
   "nbconvert_exporter": "python",
   "pygments_lexer": "ipython3",
   "version": "3.6.5"
  }
 },
 "nbformat": 4,
 "nbformat_minor": 1
}
