{
 "cells": [
  {
   "cell_type": "markdown",
   "metadata": {},
   "source": [
    "# 3 Retos de Python"
   ]
  },
  {
   "cell_type": "markdown",
   "metadata": {},
   "source": [
    "Los siguientes retos buscan retomar y combinar parte de lo visto en la ultima sesion. Suerte!"
   ]
  },
  {
   "cell_type": "markdown",
   "metadata": {},
   "source": [
    "## 1. Crea un script que genere un archivo de texto con todas las letras del abecedario, una letra por linea."
   ]
  },
  {
   "cell_type": "code",
   "execution_count": 1,
   "metadata": {},
   "outputs": [],
   "source": [
    "import string\n",
    "\n",
    "with open('./data/letras.txt', 'w') as file:\n",
    "    for letter in string.ascii_lowercase:\n",
    "        file.write(letter + '\\n')"
   ]
  },
  {
   "cell_type": "markdown",
   "metadata": {},
   "source": [
    "## 2. Anade, con Python, tu nombre y apellido al final del siguiente diccionario y luego guardalo en un archivo json, con Python"
   ]
  },
  {
   "cell_type": "code",
   "execution_count": 2,
   "metadata": {},
   "outputs": [],
   "source": [
    "school = {\"schoolofAI\":[{\"firstName\": \"Adrian\", \"lastName\": \"Espindola\"},\n",
    "                {\"firstName\": \"Eyal\", \"lastName\": \"Schuller\"}],}"
   ]
  },
  {
   "cell_type": "code",
   "execution_count": 4,
   "metadata": {},
   "outputs": [
    {
     "name": "stdout",
     "output_type": "stream",
     "text": [
      "{'schoolofAI': [{'firstName': 'Adrian', 'lastName': 'Espindola'}, {'firstName': 'Eyal', 'lastName': 'Schuller'}, {'firstName': 'Albert', 'lastName': 'Bert'}, {'firstName': 'Alguien', 'lastName': 'Algo'}]}\n"
     ]
    }
   ],
   "source": [
    "import json\n",
    "\n",
    "school[\"schoolofAI\"].append(dict(firstName='Alguien', lastName='Algo'))\n",
    "print(school)\n",
    "\n",
    "with open('./data/soai.json', 'w') as file:\n",
    "    json.dump(school, file, indent=4, sort_keys=True)"
   ]
  },
  {
   "cell_type": "markdown",
   "metadata": {},
   "source": [
    "## 3. Crea un traductor Ingles a Espanol usando la lista de ejemplo, o una propia. El programa tiene que tomar el input del usario y regresarle su traduccion. Muy importante el programa tiene que regresar el mensaje 'Esa no  me la se!' cuando el usuario de un input que no este en la lista."
   ]
  },
  {
   "cell_type": "code",
   "execution_count": 9,
   "metadata": {},
   "outputs": [],
   "source": [
    "d = dict(school = 'escuela', intelligence = 'inteligencia', artificial = 'artificial')"
   ]
  },
  {
   "cell_type": "code",
   "execution_count": 10,
   "metadata": {},
   "outputs": [
    {
     "name": "stdout",
     "output_type": "stream",
     "text": [
      "Dime una palabra: intelligence\n",
      "inteligencia\n"
     ]
    }
   ],
   "source": [
    "def vocabulary(word):\n",
    "    try:\n",
    "        return d[word]\n",
    "    except KeyError:\n",
    "        return 'Esa no me la se!'\n",
    "\n",
    "\n",
    "word = input('Dime una palabra: ')\n",
    "print(vocabulary(word))"
   ]
  },
  {
   "cell_type": "code",
   "execution_count": null,
   "metadata": {},
   "outputs": [],
   "source": []
  }
 ],
 "metadata": {
  "kernelspec": {
   "display_name": "Python 3",
   "language": "python",
   "name": "python3"
  },
  "language_info": {
   "codemirror_mode": {
    "name": "ipython",
    "version": 3
   },
   "file_extension": ".py",
   "mimetype": "text/x-python",
   "name": "python",
   "nbconvert_exporter": "python",
   "pygments_lexer": "ipython3",
   "version": "3.6.5"
  }
 },
 "nbformat": 4,
 "nbformat_minor": 2
}
