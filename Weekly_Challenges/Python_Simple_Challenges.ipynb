{
 "cells": [
  {
   "cell_type": "markdown",
   "metadata": {},
   "source": [
    "# 3 Retos de Python"
   ]
  },
  {
   "cell_type": "markdown",
   "metadata": {},
   "source": [
    "Los siguientes retos buscan retomar y combinar parte de lo visto en la ultima sesion. Suerte!"
   ]
  },
  {
   "cell_type": "markdown",
   "metadata": {},
   "source": [
    "## 1. Crea un script que genere un archivo de texto con todas las letras del abecedario, una letra por linea."
   ]
  },
  {
   "cell_type": "code",
   "execution_count": null,
   "metadata": {},
   "outputs": [],
   "source": []
  },
  {
   "cell_type": "markdown",
   "metadata": {},
   "source": [
    "## 2. Anade, con Python, tu nombre y apellido al final del siguiente diccionario y luego guardalo en un archivo json, con Python"
   ]
  },
  {
   "cell_type": "code",
   "execution_count": null,
   "metadata": {},
   "outputs": [],
   "source": [
    "{\"schoolofAI\":[{\"firstName\": \"Adrian\", \"lastName\": \"Espindola\"},\n",
    "                {\"firstName\": \"Eyal\", \"lastName\": \"Schuller\"}],}"
   ]
  },
  {
   "cell_type": "markdown",
   "metadata": {},
   "source": [
    "## 3. Crea un traductor Ingles a Espanol usando la lista de ejemplo, o una propia. El programa tiene que tomar el input del usario y regresarle su traduccion. Muy importante el programa tiene que regresar el mensaje 'Esa no  me la se!' cuando el usuario de un input que no este en la lista."
   ]
  },
  {
   "cell_type": "code",
   "execution_count": null,
   "metadata": {},
   "outputs": [],
   "source": [
    "d = dict(school = 'escuela', inteligencia = 'intelligence', artificial = 'artificial')"
   ]
  }
 ],
 "metadata": {
  "kernelspec": {
   "display_name": "Python 3",
   "language": "python",
   "name": "python3"
  },
  "language_info": {
   "codemirror_mode": {
    "name": "ipython",
    "version": 3
   },
   "file_extension": ".py",
   "mimetype": "text/x-python",
   "name": "python",
   "nbconvert_exporter": "python",
   "pygments_lexer": "ipython3",
   "version": "3.6.5"
  }
 },
 "nbformat": 4,
 "nbformat_minor": 2
}
