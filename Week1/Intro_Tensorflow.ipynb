{
 "cells": [
  {
   "cell_type": "markdown",
   "metadata": {
    "collapsed": true
   },
   "source": [
    "# Comenzando con Tensorflow"
   ]
  },
  {
   "cell_type": "markdown",
   "metadata": {},
   "source": [
    "## En esta seccion\n",
    "\n",
    "- Vamos a explorar Tensorflow como herramienta de aprendizaje y descubrimiento para el desarrollo de Machine Learning, para comenzar es importante [instalar Tensorflow](https://github.com/mariocespindola/CDMXSOAI/blob/master/Guias/Tensorflow_install_guide.ipynb) \n",
    "\n",
    "- Vamos a descubrir los tipos de datos fundamentales y operaciones que podemos utilizar en Tensorflow\n",
    "- Comprender como se almacenan los tensores y las operaciones en graficos y como ejecutar los graficos en sesiones de Tensorflow\n",
    "- Entender el proceso de entrenamiento de Tensorflow, y como este reduce la disparidad entre el modelo y el mundo real. "
   ]
  },
  {
   "cell_type": "markdown",
   "metadata": {},
   "source": [
    "### Machine Leraning \n",
    "\n",
    "Machine Learning en la historia:\n",
    "\n",
    "<img src='./Screenshot from 2018-08-24 22-10-31.png'>\n",
    "\n",
    "### Machine Learning Frameworks\n",
    "\n",
    "Uno de los avances más importantes del Machine Learning implicó la creación de Frameworks. Los Frameworks automatizan muchos aspectos del desarrollo de aplicaciones de Machine Learning y permite a los desarrolladores reutilizar el código y aprovechar las mejores prácticas. Estos son los Frameworks más populares: \n",
    "\n",
    "- Torch. Es el primer marco de Machine Learning. Originalmente lanzado en 2002 por Ronan Collobert, comenzó como un conjunto de herramientas para computación numérica. Los cálculos de Torch implican matrices multidimensionales llamadas tensores, que se pueden procesar con operaciones regulares de vectores / matrices. Con el tiempo, Torch adquirió rutinas para construir, entrenar y evaluar redes neuronales. Torch atrajo un gran interés de académicos y corporaciones como IBM y Facebook. Pero su adopción ha sido limitada por su dependencia de Lua como su lenguaje de interfaz. Los otros marcos(Theano, Caffe, Keras y TensorFlow) pueden interconectarse a través de Python, que se ha convertido en el lenguaje de elección en el dominio del Machine Learning.\n",
    "\n",
    "- Theano. En 2010, un grupo de Machine Learning de la Universidad de Montreal lanzó Theano, una biblioteca para computación numérica. Al igual que NumPy, Theano proporciona una amplia gama de rutinas de Python para operar en matrices multidimensionales. A diferencia de NumPy, Theano almacena operaciones en una estructura de datos llamada gráfica, que compila en código de alto rendimiento. Theano también es compatible con la diferenciación simbólica, lo que permite encontrar derivados de funciones de forma automática. Debido a su alto rendimiento y diferenciación simbólica, muchos desarrolladores de Machine Learning han adoptado a Theano como su conjunto de herramientas de cálculo numérico. Los desarrolladores aprecian especialmente la capacidad de Theano para ejecutar gráficos en unidades de procesamiento de gráficos (GPU), así como en unidades de procesamiento central (CPU).\n",
    "\n",
    "- Caffe. Como parte de su disertación de doctorado en UC Berkeley, Yangqing Jia creó Caffe, un marco para el desarrollo de aplicaciones de reconocimiento de imágenes. Mientras otros se unieron al desarrollo, Caffe se expandió para admitir otros algoritmos de Machine Learning y muchos tipos diferentes de redes neuronales. Caffe está escrito en C ++, y al igual que Theano, es compatible con la aceleración de GPU. Este énfasis en el rendimiento ha hecho que Caffe se haya ganado la simpatía de muchos desarrolladores académicos y corporativos. Facebook se ha interesado especialmente en Caffe, y en 2007 lanzó una versión modificada llamada Caffe2. Esta versión mejora el rendimiento de Caffe y posibilita la ejecución de aplicaciones en teléfonos inteligentes.\n",
    "\n",
    "- Keras. Mientras que otras ofertas se centran en el rendimiento y la amplitud de las capacidades, Keras se preocupa por la modularidad y la simplicidad del desarrollo. François Chollet creó Keras como una interfaz para otros marcos de Machine Learning, y muchos desarrolladores acceden a Theano a través de Keras para combinar la simplicidad de Keras con el rendimiento de Theano. La simplicidad de Keras se debe a su pequeña API y su conjunto de funciones intuitivas. Estas funciones se centran en la realización de tareas estándar en el Machine Learning, lo que hace que Keras sea ideal para los recién llegados al campo pero de valor limitado para aquellos que desean personalizar sus operaciones. François Chollet lanzó Keras bajo la licencia MIT, y Google ha incorporado su interfaz en TensorFlow. Por esta razón, muchos desarrolladores de TensorFlow prefieren codificar sus redes neuronales usando Keras.\n",
    "\n",
    "- TensorFlow. El regalo de Google para el mundo del Machine Learning. El equipo de Google Brain lanzó TensorFlow 1.0 en 2015. Se proporciona bajo la licencia de código abierto Apache 2.0, lo que significa que usted es libre de usarlo, modificarlo y distribuir sus modificaciones. La interfaz principal de TensorFlow es Python, pero al igual que Caffe, su funcionalidad principal está escrita en C ++ para un mejor rendimiento. Al igual que Theano, TensorFlow almacena las operaciones en un gráfico que se puede implementar en una GPU, un sistema remoto o una red de sistemas remotos. Además, TensorFlow proporciona una utilidad llamada TensorBoard, que hace posible la visualización de gráficos y sus operaciones. Al igual que otros marcos, TensorFlow admite la ejecución en CPU y GPU. Además, las aplicaciones de TensorFlow se pueden ejecutar en Google Cloud Platform (GCP). El GCP proporciona una potencia de procesamiento de clase mundial a un costo relativamente bajo, y en mi opinión, el procesamiento de GCP es la ventaja más importante de TensorFlow. "
   ]
  },
  {
   "cell_type": "markdown",
   "metadata": {},
   "source": [
    "### Tensorflow quick reference\n",
    "\n",
    "\n",
    "\n",
    "    - tensorflow > Paquete central de Tensorflow, comunmente se accesa como tf\n",
    "    \n",
    "    - tf.train > Optimizadores y otras clases relacionadas al entrenamiento\n",
    "    \n",
    "    - tf.nn > Neural Network y otras clases relacionadas al entrenamiento\n",
    "    \n",
    "    - tf.layers > Funciones relacionadas a Redes Neurales multinivel\n",
    "    \n",
    "    - tf.contrib > Codigo volatil o experimental\n",
    "    \n",
    "    - tf.image > Funciones para el procesamiento de imagenes\n",
    "    \n",
    "    - tf.estimator > Herramientas de alto nivel para entrenamiento y evaluacion\n",
    "    \n",
    "    - tf.logging > Funciones que escriben datos en un log\n",
    "    \n",
    "    - tf.summary > Clases necesarias para generar un resumen de los datos\n",
    "    \n",
    "    - tf. metrics > Funciones para medir el resultado de un script de Machine Learning\n",
    "    \n",
    "    - tf.contrib.keras > Hace posible usar Tensorflow con atraves de Keras\n",
    "    \n",
    "    - tf.contrib.ffmpeg > Lo usamos para procesar audio a traves de la herramienta open-source de FFMPEG\n",
    "    \n",
    "    - tf.contrib.bayesflow > Contiene modulos relacionados con el aprendizaje 'Bayesiano'\n",
    "    \n",
    "    - tf.contrib.intrgrate > Nos da acceso a la funcion odeint que integra ecuaciones diferenciales y ordinarias\n",
    "    \n",
    "\n",
    "### Tensores\n",
    "\n",
    "\n",
    "El tipo de datos central de TensorFlow es el 'tensor;  un tensor es solo una matriz regular. Si estas familiarizado con Torch's Tensors o NumPy's ndarrays,  ya estas del otro lado ya qye los tensores de Tensorflow son similares a estos. Desafortunadamente no puedes acceder a estos tensores con scripts regulares de Python. Por esta razón el API TensorFlow proporciona una gran variedad de funciones para crear, transformar y operar en tensores. \n",
    "\n",
    "### Creando tensores\n",
    "\n",
    "Así como la mayoría de los programas comienzan declarando variables, la mayoría de las aplicaciones de TensorFlow comienzan creando tensores. Un tensor es una matriz con cero o más dimensiones. Un tensor de dimensión cero se llama escalar, un tensor de una dimensión se llama vector y un tensor bidimensional se denomina matriz. Ten en cuenta estos tres puntos acerca de los tensores:\n",
    "\n",
    "    - Cada tensor es una instancia de la clase Tensor.\n",
    "    - Un tensor puede contener números, cadenas o valores booleanos. Cada elemento de un tensor debe tener el mismo tipo.\n",
    "    - Los tensores se pueden crear, transformar y operar con las funciones del paquete tf.\n",
    "\n",
    "En esta seccion vamos a aprender a crear tensores con valores conocidos y con valores aleatorios, luego vamos a transformar el contenido del tensor, una vez comprendido esto nos sera mas facil codear tensores.\n",
    "\n",
    "### Tensores con Valores conocidos\n",
    "\n"
   ]
  },
  {
   "cell_type": "code",
   "execution_count": null,
   "metadata": {},
   "outputs": [],
   "source": []
  }
 ],
 "metadata": {
  "kernelspec": {
   "display_name": "Python 3",
   "language": "python",
   "name": "python3"
  },
  "language_info": {
   "codemirror_mode": {
    "name": "ipython",
    "version": 3
   },
   "file_extension": ".py",
   "mimetype": "text/x-python",
   "name": "python",
   "nbconvert_exporter": "python",
   "pygments_lexer": "ipython3",
   "version": "3.6.5"
  }
 },
 "nbformat": 4,
 "nbformat_minor": 1
}
