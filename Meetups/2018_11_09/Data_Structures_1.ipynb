{
 "cells": [
  {
   "cell_type": "markdown",
   "metadata": {
    "collapsed": true
   },
   "source": [
    "# Estructura de datos(parte 1)\n",
    "\n",
    "#### Entendiendo las estrucuturas de datos y los algoritomos\n",
    "\n",
    "Los algoritmos y las estructuras de datos son los conceptos mas fundamentales en la computacion, en escencia son los cimientos del software complejo. Es importante que entendamos estos conceptos para el desarrollo de software y a groso modo involucra las siguientes 3 caracteristicas:\n",
    "\n",
    "    - Cómo los algoritmos manipulan la información contenida dentro de las estructuras de datos.\n",
    "    - Cómo se organizan los datos en la memoria\n",
    "    - Cuáles son las características de rendimiento de las estructuras de datos particulares\n",
    "\n",
    "\n",
    "Para poder entender este tema necesitamos entender los fundamentales de Python, de igual manera necesitamos la herramientas matematicas correctas, y por ultimo necesitamos una excelente estrategia de diseno. Esto ultimo implica poder traducir problemas de la vida real a un algoritmo. \n",
    "\n",
    "#### Un ejemplo sencillo\n",
    "\n",
    "Imaginemos que vamos a una nueva ciudad y tenemos que hacer el super, pero este super es un desmadre, los productos estan ordenados de manera random y en cada pasillo hay de todo. Para esto, y como no tenemos una gran memoria, tenemos una lista de cosas que queremos comprar. Nuestro objetivo al ser mitad de quincena es pagar lo menos posible y tambien estar el menor tiempo posible en el super. Como lo harian?\n",
    "\n",
    "    -Checamos cada pasillo para ver si en ese pasillo hay algun articulo dentro de mi lista y ver si es el mas barato.\n",
    "    - En ese caso, lo ponemos en el carrito, lo tachamos de la lista y seguimos. Y si no seguimos buscando\n",
    "    - Si recorremos todos los pasillos y no encontramos nada de nuestra lista nos vamos.\n",
    "\n",
    "\n",
    "Como podemos ver, esto puede ser un desafio interesante dado el caos del supermercado."
   ]
  },
  {
   "cell_type": "markdown",
   "metadata": {},
   "source": [
    "#### Python para datos\n",
    "\n",
    "Python tiene varias estructuras de datos _built-in_:\n",
    "\n",
    "    - listas\n",
    "    - diccionarios\n",
    "    - sets\n",
    "    - etc\n",
    "    \n",
    "De igual modo tenemos librerias que vienen con nuestra instalacion de Python pero no estan _built-in_:\n",
    "\n",
    "    - collections\n",
    "    - math\n",
    "    - statistics\n",
    "    - etc\n",
    "\n",
    "De igual manera tenemos librerias externas como las que estan incluidas en SciPy, estas nos permiten ejecutar tareas avanzadas como regresiones ligisticas y binarias, visualizaciones, y operaciones matematicas con matrices y vectores. \n",
    "\n",
    "\n",
    "Es importante que estudien y practiquen PYTHON!"
   ]
  },
  {
   "cell_type": "markdown",
   "metadata": {},
   "source": [
    "#### Diseno de Algoritmos\n",
    "\n",
    "Por que estudiamos el diseno de algoritmos? Claro que hay un rango de razones, pero para efectos de la sesion, y por salud mental. Entendamos que los algoritmos son los cimientos de la computacion. La idea general de la computacion es hardware, un disco duro, un procesador, etc, etc... Sin embargor el cornerstone de todo lo anterior son los algoritmos. \n",
    "\n",
    "Los principios de los algoritmos se establecieron decadas antes de los circuitos logicos digitales pudieran implementar la maquina. Esto fue gracias a las maquinas de Turing. La maquina de Turing es un modelo matematico que utlizando un set de reglas transforma inputs en outputs.\n",
    "\n",
    "Un gran ejemplo de esto es el _page rank algorithm_ que es una variacion de lo que esta detras del search engine de Google, mediante la implementeacion de este y otros algoritmos similares podemos buscar en un mar infinito de informacion y encontrar lo que buscamos.\n",
    "\n",
    "El estudio de algoritmos es importate por que nos ayudar a pensar de una manera eficiente sobre un problema especifico. Si nos preguntan en la calle por que estamos estudiando algoritmos les tenemos que contestar lo siguiente:\n",
    "\n",
    "    - Son esenciales para la informática y los sistemas inteligentes.\n",
    "    - Son importantes en muchos otros dominios (biología computacional, economía, ecología, comunicaciones, ecología, física, etc.).\n",
    "    - Juegan un papel en la innovación tecnológica.\n",
    "    - Mejoran la resolución de problemas y el pensamiento analítico.\n",
    "\n",
    "\n",
    "#### Y si me pregunta que son los algoritmos?\n",
    "\n",
    "Les puedes contestar que los algoritmos son, de una manera riduculamente simple, secuencias de acciones/una lista de instrucciones. Que tienen clausulas que condicionan su funcionamiento y sus iteraciones, a las cuales podemos sumarle la recursion, una funcion recursiva es una funcion que se llama a si misma. Y para complementar esta respuesta podemos decir que dentro de los algoritmos hay 4 cosas basicas:\n",
    "\n",
    "    - Operaciones secuenciales\n",
    "    - Acciones basadas en el estado de una estructura de datos.\n",
    "    - Iteración, repitiendo una acción varias veces.\n",
    "    - Recursión, llamándose a sí mismo en un subconjunto de entradas."
   ]
  },
  {
   "cell_type": "code",
   "execution_count": null,
   "metadata": {},
   "outputs": [],
   "source": []
  }
 ],
 "metadata": {
  "kernelspec": {
   "display_name": "Python 3",
   "language": "python",
   "name": "python3"
  },
  "language_info": {
   "codemirror_mode": {
    "name": "ipython",
    "version": 3
   },
   "file_extension": ".py",
   "mimetype": "text/x-python",
   "name": "python",
   "nbconvert_exporter": "python",
   "pygments_lexer": "ipython3",
   "version": "3.6.5"
  }
 },
 "nbformat": 4,
 "nbformat_minor": 1
}
