{
 "cells": [
  {
   "cell_type": "markdown",
   "metadata": {},
   "source": [
    "# Solución Ejercicio"
   ]
  },
  {
   "cell_type": "code",
   "execution_count": null,
   "metadata": {},
   "outputs": [],
   "source": [
    "import pandas as pd\n",
    "import matplotlib.pyplot as plt\n",
    "import numpy as np"
   ]
  },
  {
   "cell_type": "code",
   "execution_count": null,
   "metadata": {},
   "outputs": [],
   "source": [
    "rankings = pd.read_csv('./data/fifa_ranking.csv')\n",
    "partidos = pd.read_csv('./data/WorldCupMatches.csv')"
   ]
  },
  {
   "cell_type": "code",
   "execution_count": null,
   "metadata": {},
   "outputs": [],
   "source": [
    "rankings.head()"
   ]
  },
  {
   "cell_type": "code",
   "execution_count": null,
   "metadata": {},
   "outputs": [],
   "source": [
    "partidos['Datetime']=pd.to_datetime(partidos['Datetime']).dt.date\n",
    "partidos.head()"
   ]
  },
  {
   "cell_type": "code",
   "execution_count": null,
   "metadata": {},
   "outputs": [],
   "source": [
    "partidos.drop(columns=['Stage', 'Stadium', 'City', 'Win conditions',\n",
    "                       'Attendance', 'Half-time Home Goals', 'Half-time Away Goals',\n",
    "                       'Referee', 'Assistant 1', 'Assistant 2', 'RoundID', 'MatchID',\n",
    "                       'Year', 'Home Team Name', 'Away Team Name'], inplace=True)"
   ]
  },
  {
   "cell_type": "code",
   "execution_count": null,
   "metadata": {},
   "outputs": [],
   "source": [
    "rankings['rank_date']=pd.to_datetime(rankings['rank_date']).dt.date"
   ]
  },
  {
   "cell_type": "code",
   "execution_count": null,
   "metadata": {},
   "outputs": [],
   "source": [
    "rankings=rankings[['rank', 'country_abrv', 'rank_date']]"
   ]
  },
  {
   "cell_type": "code",
   "execution_count": null,
   "metadata": {},
   "outputs": [],
   "source": [
    "rankings.head()"
   ]
  },
  {
   "cell_type": "code",
   "execution_count": null,
   "metadata": {},
   "outputs": [],
   "source": [
    "partidos.head()"
   ]
  },
  {
   "cell_type": "code",
   "execution_count": null,
   "metadata": {},
   "outputs": [],
   "source": [
    "partidos['Winner']=partidos['Home Team Goals']-partidos['Away Team Goals']\n",
    "partidos.head()"
   ]
  },
  {
   "cell_type": "code",
   "execution_count": null,
   "metadata": {},
   "outputs": [],
   "source": [
    "rankings['rank_date']=pd.to_datetime(rankings['rank_date'])\n",
    "partidos['Datetime']=pd.to_datetime(partidos['Datetime'])"
   ]
  },
  {
   "cell_type": "code",
   "execution_count": null,
   "metadata": {},
   "outputs": [],
   "source": [
    "partidos=partidos[partidos['Datetime']>='1993-08-08']\n",
    "partidos.reset_index(inplace=True, drop=True)"
   ]
  },
  {
   "cell_type": "code",
   "execution_count": null,
   "metadata": {},
   "outputs": [],
   "source": [
    "partidos.drop(columns=['Home Team Goals', 'Away Team Goals'], inplace=True)"
   ]
  },
  {
   "cell_type": "code",
   "execution_count": null,
   "metadata": {},
   "outputs": [],
   "source": [
    "rankings.head()"
   ]
  },
  {
   "cell_type": "code",
   "execution_count": null,
   "metadata": {},
   "outputs": [],
   "source": [
    "partidos.head()"
   ]
  },
  {
   "cell_type": "code",
   "execution_count": null,
   "metadata": {},
   "outputs": [],
   "source": [
    "partidos['Home Rank']=np.nan\n",
    "partidos['Away Rank']=np.nan"
   ]
  },
  {
   "cell_type": "code",
   "execution_count": null,
   "metadata": {},
   "outputs": [],
   "source": [
    "for i in range (0,partidos.shape[0]):\n",
    "    partidos.iloc[i, partidos.columns.get_loc('Home Rank')]=rankings[(rankings['country_abrv']==partidos.iloc[i]['Home Team Initials']) &\n",
    "         (rankings['rank_date']<=partidos.iloc[i]['Datetime'])].sort_values(by='rank_date', ascending=False).iloc[0]['rank']\n",
    "    partidos.iloc[i, partidos.columns.get_loc('Away Rank')]=rankings[(rankings['country_abrv']==partidos.iloc[i]['Away Team Initials']) &\n",
    "         (rankings['rank_date']<=partidos.iloc[i]['Datetime'])].sort_values(by='rank_date', ascending=False).iloc[0]['rank']"
   ]
  },
  {
   "cell_type": "code",
   "execution_count": null,
   "metadata": {},
   "outputs": [],
   "source": [
    "partidos['Home Rank']=partidos['Home Rank'].astype('int')\n",
    "partidos['Away Rank']=partidos['Away Rank'].astype('int')"
   ]
  },
  {
   "cell_type": "code",
   "execution_count": null,
   "metadata": {},
   "outputs": [],
   "source": [
    "partidos.head()"
   ]
  },
  {
   "cell_type": "code",
   "execution_count": null,
   "metadata": {},
   "outputs": [],
   "source": [
    "partidos['Winner']=partidos['Winner'].apply(lambda d: 'Home' if d>0 else('tie' if d==0 else 'Away'))\n",
    "partidos.head()"
   ]
  },
  {
   "cell_type": "code",
   "execution_count": null,
   "metadata": {},
   "outputs": [],
   "source": [
    "partidos.to_csv('./data/dataset.csv')"
   ]
  },
  {
   "cell_type": "code",
   "execution_count": null,
   "metadata": {},
   "outputs": [],
   "source": []
  }
 ],
 "metadata": {
  "kernelspec": {
   "display_name": "Python 3",
   "language": "python",
   "name": "python3"
  },
  "language_info": {
   "codemirror_mode": {
    "name": "ipython",
    "version": 3
   },
   "file_extension": ".py",
   "mimetype": "text/x-python",
   "name": "python",
   "nbconvert_exporter": "python",
   "pygments_lexer": "ipython3",
   "version": "3.6.5"
  }
 },
 "nbformat": 4,
 "nbformat_minor": 2
}
