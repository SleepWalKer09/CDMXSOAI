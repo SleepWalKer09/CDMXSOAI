{
 "cells": [
  {
   "cell_type": "markdown",
   "metadata": {},
   "source": [
    "# Pandas\n",
    "\n",
    "Pandas es un paquete bien diseñado para almacenar, administrar y manipular datos en Python. Vamos a discutir los dos objetos más importantes proporcionados por pandas: series y DataFrames. \n",
    "\n",
    "\n",
    "## Y esto pa que sirve?\n",
    "\n",
    "Pandas introduce dos objetos clave en Python, series y DataFrames, siendo este último el más útil, pero los pandas DataFrames se pueden considerar como series unidas entre sí. Una serie es una secuencia de datos, como una lista en Python básico o una matriz 1D NumPy. Y, al igual que la matriz NumPy, una serie tiene un solo tipo de datos, pero la indexación con una serie es diferente. Con NumPy no hay mucho control sobre los índices de fila y columna; pero con una serie, cada elemento de la serie debe tener un índice, nombre, clave únicos, sin embargo, usted quiere pensar en ello. El índice podría consistir en cadenas, como ciudades en una nación, con los elementos correspondientes de la serie que denotan algún valor estadístico, como la población de la ciudad; o fechas, como los días de negociación para una serie de acciones.\n",
    "\n",
    "Un DataFrame se puede considerar como varias series de longitud común, con un índice común, unidas en un solo objeto tabular. Este objeto se parece a un ndarray NumPy 2D, pero no es lo mismo. No todas las columnas deben ser del mismo tipo de datos. Volviendo al ejemplo de ciudades, podríamos tener una columna que contenga población y otra que contenga el estado o provincia en la que se encuentra la ciudad, y otra columna que contenga valores booleanos para identificar si la ciudad es una capital estatal o provincial: una hazaña difícil. para arrancar solo con NumPy. Es probable que cada una de estas columnas tenga un nombre único, una cadena para identificar la información que contienen; Tal vez esto se puede considerar como una variable. Con este objeto, podemos almacenar, acceder y manipular nuestros datos de manera fácil y eficiente.\n",
    "\n",
    "Ejemplos:"
   ]
  },
  {
   "cell_type": "code",
   "execution_count": null,
   "metadata": {},
   "outputs": [],
   "source": [
    "import numpy as np\n",
    "import pandas as pd\n",
    "from pandas import Series, DataFrame\n",
    "import random"
   ]
  },
  {
   "cell_type": "markdown",
   "metadata": {},
   "source": [
    "Vamos a cargar un CSV tanto en NumPy como en Pandas. De hecho, podemos cargar archivos CSV en NumPy, y pueden tener diferentes tipos de datos, pero para administrar dichos archivos, debe crear un tipo de dato personalizado para parecerse a dichos datos. Así que aquí tenemos un archivo CSV, iris.csv, que contiene el conjunto de datos Iris.\n",
    "\n",
    "Ahora, si deseamos cargar esto, debemos tener en cuenta el hecho de que cada fila tiene datos que no son necesariamente del mismo tipo. En particular, la última columna es para especies, y esto no es numérico sino un string. Entonces necesitamos crear un dtype personalizado, lo que hacemos aquí, llamando a este nuevo esquema de dtype:"
   ]
  },
  {
   "cell_type": "code",
   "execution_count": null,
   "metadata": {},
   "outputs": [],
   "source": [
    "schema = np.dtype([('sepal_length', np.float16),    # Necesitamos definir un dtype customizado para leer un CSV de tipos de datos mixtos                   ('sepal_width',  np.float16),\n",
    "                   ('petal_length', np.float16),\n",
    "                   ('petal_width',  np.float16),\n",
    "                   ('species',      '<U16')])"
   ]
  },
  {
   "cell_type": "markdown",
   "metadata": {},
   "source": [
    "Podemos cargar en este conjunto de datos con la función NumPy loadtxt, dando el tipo de dtype como el objeto de esquema, y configurando el delimitador a coma para indicar que es un archivo CSV. De hecho, podemos leer este conjunto de datos en:"
   ]
  },
  {
   "cell_type": "code",
   "execution_count": null,
   "metadata": {},
   "outputs": [],
   "source": [
    "np_data = np.loadtxt(\"./data/iris.csv\", skiprows=1, dtype=schema, delimiter=',')"
   ]
  },
  {
   "cell_type": "markdown",
   "metadata": {},
   "source": [
    "Tenga en cuenta que este dataset debe estar en su directorio de trabajo. Si exploramos el dataset, esto es lo que vamos a observar:"
   ]
  },
  {
   "cell_type": "code",
   "execution_count": null,
   "metadata": {
    "scrolled": true
   },
   "outputs": [],
   "source": [
    "np_data"
   ]
  },
  {
   "cell_type": "code",
   "execution_count": null,
   "metadata": {},
   "outputs": [],
   "source": [
    "type(np_data)"
   ]
  },
  {
   "cell_type": "markdown",
   "metadata": {},
   "source": [
    "Seleccionamos las primeras cinco filas con el siguiente comando:"
   ]
  },
  {
   "cell_type": "code",
   "execution_count": null,
   "metadata": {},
   "outputs": [],
   "source": [
    "np_data[:5] # Operaciones de Slicing"
   ]
  },
  {
   "cell_type": "markdown",
   "metadata": {},
   "source": [
    "Podemos seleccionar las primeras cinco filas y especificar que queremos trabajar solo con longitudes de sépalos, que son los primeros elementos de cada fila:"
   ]
  },
  {
   "cell_type": "code",
   "execution_count": null,
   "metadata": {},
   "outputs": [],
   "source": [
    "np_data[:5]['sepal_length']"
   ]
  },
  {
   "cell_type": "markdown",
   "metadata": {},
   "source": [
    "E incluso podemos seleccionar la longitud del pétalo y la especie:"
   ]
  },
  {
   "cell_type": "code",
   "execution_count": null,
   "metadata": {},
   "outputs": [],
   "source": [
    "np_data[:5][['petal_length', 'species']]"
   ]
  },
  {
   "cell_type": "markdown",
   "metadata": {},
   "source": [
    "Pero hay una mejor manera de hacer esto con Pandas. En pandas, lo que haremos es usar la función read_csv, que automáticamente analizará el archivo CSV correctamente:"
   ]
  },
  {
   "cell_type": "code",
   "execution_count": null,
   "metadata": {},
   "outputs": [],
   "source": [
    "pd_data = pd.read_csv(\"./data/iris.csv\")"
   ]
  },
  {
   "cell_type": "code",
   "execution_count": null,
   "metadata": {},
   "outputs": [],
   "source": [
    "pd_data"
   ]
  },
  {
   "cell_type": "markdown",
   "metadata": {},
   "source": [
    "Miremos este dataset y observemos que esto es un DataFrame de pandas:"
   ]
  },
  {
   "cell_type": "code",
   "execution_count": null,
   "metadata": {},
   "outputs": [],
   "source": [
    "type(pd_data)"
   ]
  },
  {
   "cell_type": "markdown",
   "metadata": {},
   "source": [
    "Las primeras cinco filas se pueden ver usando la función head:"
   ]
  },
  {
   "cell_type": "code",
   "execution_count": null,
   "metadata": {},
   "outputs": [],
   "source": [
    "pd_data.head()"
   ]
  },
  {
   "cell_type": "markdown",
   "metadata": {},
   "source": [
    "También podemos ver la longitud del sépalo, especificándolo como si fuera un atributo de este DataFrame:"
   ]
  },
  {
   "cell_type": "code",
   "execution_count": null,
   "metadata": {},
   "outputs": [],
   "source": [
    "pd_data.head().sepal_length"
   ]
  },
  {
   "cell_type": "markdown",
   "metadata": {},
   "source": [
    "Lo que obtenemos es en realidad una serie. Podemos seleccionar un subconjunto de este DataFrame, yendo de nuevo con las primeras cinco filas y seleccionando las columnas petal_length y especies:"
   ]
  },
  {
   "cell_type": "code",
   "execution_count": null,
   "metadata": {},
   "outputs": [],
   "source": [
    "pd_data.head().loc[:, ['petal_length', 'species']]"
   ]
  },
  {
   "cell_type": "code",
   "execution_count": null,
   "metadata": {},
   "outputs": [],
   "source": [
    "type(pd_data.sepal_length)"
   ]
  },
  {
   "cell_type": "markdown",
   "metadata": {},
   "source": [
    "Dicho esto, los pandas, en su núcleo, están construidos sobre NumPy. De hecho, podemos ver el objeto NumPy que usan los pandas para describir su contenido:"
   ]
  },
  {
   "cell_type": "code",
   "execution_count": null,
   "metadata": {},
   "outputs": [],
   "source": [
    "pd_data.values"
   ]
  },
  {
   "cell_type": "markdown",
   "metadata": {},
   "source": [
    "Y, de hecho, ese objeto NumPy que creamos anteriormente se puede usar para construir un DataFrame de pandas:"
   ]
  },
  {
   "cell_type": "code",
   "execution_count": null,
   "metadata": {},
   "outputs": [],
   "source": [
    "np_pd_data = pd.DataFrame(np_data)    # Converting to a DataFrame\n",
    "np_pd_data"
   ]
  },
  {
   "cell_type": "markdown",
   "metadata": {},
   "source": [
    "Ahora es el momento de echar un vistazo a las series de pandas y a los DataFrames."
   ]
  },
  {
   "cell_type": "markdown",
   "metadata": {},
   "source": [
    "### Objetos de Series y DataFrames\n",
    "\n",
    "Vamos a empezar a mirar las series de pandas y los objetos DataFrame. En esta sección, comenzaremos a familiarizarnos con las series de pandas y DataFrames al observar cómo se crean. Comenzaremos con las series ya que son el bloque de construcción de DataFrames. Las series son objetos unidimensionales de tipo matriz que contienen datos de un solo tipo. Solo por este hecho, con razón concluiría que son muy similares a los arreglos NumPy unidimensionales, pero las series tienen métodos diferentes a los arreglos NumPy que los hacen más ideales para administrar datos. Se pueden crear con un índice, que es metadatos que identifican los contenidos de la serie. Las series pueden manejar datos faltantes; lo hacen representando los datos faltantes con el NaN de NumPy.\n",
    "\n",
    "### Creando series\n",
    "\n",
    "Podemos crear series a partir de objetos de tipo matriz; estos incluyen listas, tuplas y objetos Numdar ndarray. También podemos crear una serie a partir de un dict de Python. Otra forma de agregar un índice a una serie es crear uno pasando un índice o un objeto similar a una matriz de valores hashables únicos al argumento de índice del método de creación de la serie.\n",
    "\n",
    "También podemos crear un índice por separado. Crear un índice es muy parecido a crear una serie, pero requerimos que todos los valores sean únicos. Cada serie tiene un índice; Si no asignamos un índice, se utilizará como índice una secuencia numérica simple que comienza desde 0. Podemos dar un nombre a una serie pasando una cadena al argumento de nombre del método de creación de la serie. Hacemos esto para que, si tuviéramos que crear un DataFrame usando esta serie, podamos asignar automáticamente un nombre de columna o fila a la serie, y así podamos decir qué fecha describe la serie.\n",
    "\n",
    "En otras palabras, el nombre proporciona metadatos útiles, y recomendaría establecer este argumento siempre que sea posible, dentro de lo razonable. Veamos un ejemplo de trabajo. Tenga en cuenta que importamos las series y los objetos DataFrame directamente en el espacio de nombres.\n",
    "\n",
    "Lo hacemos con mucha frecuencia porque estos objetos se utilizan de forma exhaustiva. Aquí, creamos dos series, una consistente en los números 1, 2, 3, 4 y otra consistente en las letras a, b y c:"
   ]
  },
  {
   "cell_type": "code",
   "execution_count": null,
   "metadata": {},
   "outputs": [],
   "source": [
    "ser1 = Series([1, 2, 3, 4])\n",
    "ser2 = Series(['a', 'b', 'c'])\n",
    "print(ser1)"
   ]
  },
  {
   "cell_type": "code",
   "execution_count": null,
   "metadata": {},
   "outputs": [],
   "source": [
    "print(ser2)"
   ]
  },
  {
   "cell_type": "markdown",
   "metadata": {},
   "source": [
    "Observe que un índice se asignó automáticamente a estas dos series.\n",
    "\n",
    "Vamos a crear un índice; este índice consiste en nombres de ciudades en los Estados Unidos:"
   ]
  },
  {
   "cell_type": "code",
   "execution_count": null,
   "metadata": {},
   "outputs": [],
   "source": [
    "# Create a pandas Index\n",
    "idx = pd.Index([\"New York\", \"Los Angeles\", \"Chicago\",\n",
    "                \"Houston\", \"Philadelphia\", \"Phoenix\", \"San Antonio\",\n",
    "                \"San Diego\", \"Dallas\"])\n",
    "print(idx)"
   ]
  },
  {
   "cell_type": "markdown",
   "metadata": {},
   "source": [
    "Vamos a crear una nueva serie que consiste en números llamados pops, y asignaremos este índice a la serie que creamos. La población de estas ciudades es de miles. Obtuve estos datos de Wikipedia. También asignamos el nombre de Población a esta serie. Este es el resultado:"
   ]
  },
  {
   "cell_type": "code",
   "execution_count": null,
   "metadata": {},
   "outputs": [],
   "source": [
    "pops = Series([8550, 3972, 2721, 2296, 1567, np.nan, 1470, 1395, 1300],\n",
    "              index=idx, name=\"Population\")\n",
    "print(pops)"
   ]
  },
  {
   "cell_type": "markdown",
   "metadata": {},
   "source": [
    "Observe que inserté un valor faltante; Esta es la población de Phoenix, lo que sí sabemos, pero sentí que quería agregar un poco más solo para demostrar. También podemos crear una serie utilizando un diccionario. En este caso, las claves del diccionario serán el índice de la serie resultante, y los valores serán los valores de la serie resultante. Así que aquí, agregamos nombres de estados:"
   ]
  },
  {
   "cell_type": "code",
   "execution_count": null,
   "metadata": {},
   "outputs": [],
   "source": [
    "state = Series({\"New York\": \"New York\", \"Los Angeles\": \"California\", \"Phoenix\": \"Arizona\", \"San Antonio\": \"Texas\",\n",
    "                \"San Diego\": \"California\", \"Dallas\": \"Texas\"}, name = \"State\")\n",
    "print(state)"
   ]
  },
  {
   "cell_type": "markdown",
   "metadata": {},
   "source": [
    "También creo una serie utilizando un diccionario y la coloco en las áreas de estas ciudades respectivas:"
   ]
  },
  {
   "cell_type": "code",
   "execution_count": null,
   "metadata": {},
   "outputs": [],
   "source": [
    "area = Series({\"New York\": 302.6, \"Los Angeles\": 468.7, \"Philadelphia\": 134.1, \"Phoenix\": 516.7, \"Austin\": 322.48},\n",
    "              name = \"Area\")\n",
    "print(area)"
   ]
  },
  {
   "cell_type": "markdown",
   "metadata": {},
   "source": [
    "Ahora me gustaría llamar su atención sobre el hecho de que estas series no tienen la misma longitud y, además, no todas contienen las mismas claves. No todos contienen los mismos índices. Vamos a usar estas series más tarde, así que ten esto en cuenta.\n",
    "\n",
    "### Creando DataFrames\n",
    "\n",
    "Las series son interesantes, principalmente porque se usan para construir marcos de datos de pandas. Podemos pensar en un marco de datos de pandas como la combinación de series para formar un objeto tabular, con filas y columnas como la serie. Podemos crear DataFrames de varias maneras y demostraremos algunos aquí. Podemos darle un índice a un DataFrame. También podemos especificar manualmente los nombres de las columnas estableciendo el argumento de las columnas. La elección de nombres de columna sigue las mismas reglas que la selección de nombres de índice.\n",
    "\n",
    "Veamos algunas de las formas en que podemos crear DataFrames. Lo primero que haremos es crear DataFrames, y no nos preocuparemos demasiado por sus índices. Podemos crear un DataFrame desde una matriz NumPy:"
   ]
  },
  {
   "cell_type": "code",
   "execution_count": null,
   "metadata": {},
   "outputs": [],
   "source": [
    "# Desde una matriz NumPy\n",
    "mat = np.arange(0,9).reshape(3, 3)\n",
    "print(mat)"
   ]
  },
  {
   "cell_type": "code",
   "execution_count": null,
   "metadata": {},
   "outputs": [],
   "source": [
    "print(DataFrame(mat))"
   ]
  },
  {
   "cell_type": "code",
   "execution_count": null,
   "metadata": {},
   "outputs": [],
   "source": [
    "# ponemos labels\n",
    "print(DataFrame(mat, index=['a', 'b', 'c'], columns = ['alpha', 'beta', 'gamma']))"
   ]
  },
  {
   "cell_type": "code",
   "execution_count": null,
   "metadata": {},
   "outputs": [],
   "source": [
    "# What amounts to a 2D array (each tuple a row)\n",
    "arr = [(1, 'a'), (2, 'b'), (3, 'c')]\n",
    "print(arr)"
   ]
  },
  {
   "cell_type": "code",
   "execution_count": null,
   "metadata": {},
   "outputs": [],
   "source": [
    "print(DataFrame(arr, columns = [\"Numbers\", \"Letters\"]))"
   ]
  },
  {
   "cell_type": "code",
   "execution_count": null,
   "metadata": {},
   "outputs": [],
   "source": [
    "# Creando desde un diccionario\n",
    "print(DataFrame({\"Numbers\": [1, 2, 3], \"Letters\": ['a', 'b', 'c']}))"
   ]
  },
  {
   "cell_type": "code",
   "execution_count": null,
   "metadata": {},
   "outputs": [],
   "source": [
    "# Y si las listas no son de la misma longitud\n",
    "# tenemos un error\n",
    "print(DataFrame({\"Numbers\": [1, 2, 3, 4], \"Letters\": ['a', 'b', 'c']}))"
   ]
  },
  {
   "cell_type": "code",
   "execution_count": null,
   "metadata": {},
   "outputs": [],
   "source": [
    "# Nos marcara error?\n",
    "DataFrame({\"Numbers\": ser1, \"Letters\": ser2})    # nan llena informacion faltante"
   ]
  },
  {
   "cell_type": "code",
   "execution_count": null,
   "metadata": {},
   "outputs": [],
   "source": [
    "# When passed as a list, series are treated as rows\n",
    "# Notice that these Series are not the same length nor all have the same entries; nan will be generated\n",
    "print(DataFrame([pops, state, area]))"
   ]
  },
  {
   "cell_type": "code",
   "execution_count": null,
   "metadata": {},
   "outputs": [],
   "source": [
    "print(DataFrame({\"Population\": pops, \"State\": state, \"Area\": area}))"
   ]
  },
  {
   "cell_type": "code",
   "execution_count": null,
   "metadata": {},
   "outputs": [],
   "source": [
    "# Or, we could use DataFrame's T (transpose) method\n",
    "print(DataFrame([pops, state, area]).T)"
   ]
  },
  {
   "cell_type": "code",
   "execution_count": null,
   "metadata": {},
   "outputs": [],
   "source": [
    "# Let's append new data to each Series\n",
    "pops.append(Series({\"Seattle\": 684, \"Denver\": 683}))     # Not done in place"
   ]
  },
  {
   "cell_type": "code",
   "execution_count": null,
   "metadata": {},
   "outputs": [],
   "source": [
    "df = DataFrame([pops, state, area]).T\n",
    "df.append(DataFrame({\"Population\": Series({\"Seattle\": 684, \"Denver\": 683}),\n",
    "                     \"State\": Series({\"Seattle\": \"Washington\", \"Denver\": \"Colorado\"}),\n",
    "                     \"Area\": Series({\"Seattle\": np.nan, \"Denver\": np.nan})}))"
   ]
  },
  {
   "cell_type": "code",
   "execution_count": null,
   "metadata": {},
   "outputs": [],
   "source": [
    "pd.concat([df, DataFrame({\"Numbers\": Series(np.arange(9), index=pops.index),\n",
    "                         \"Letters\": Series(['a', 'c', 'd', 'h', 'l', 'n', 'p', 'p', 's'], index=pops.index)})],\n",
    "         axis=1, sort=True)"
   ]
  },
  {
   "cell_type": "code",
   "execution_count": null,
   "metadata": {},
   "outputs": [],
   "source": [
    "df = DataFrame([pops, state, area]).T\n",
    "# Saving data to csv file\n",
    "df.to_csv(\"./data/cities.csv\")"
   ]
  },
  {
   "cell_type": "markdown",
   "metadata": {},
   "source": [
    "### Subconjunto de datos"
   ]
  },
  {
   "cell_type": "code",
   "execution_count": null,
   "metadata": {},
   "outputs": [],
   "source": [
    "srs = Series(np.arange(5),\n",
    "             index=[\"alpha\", \"beta\", \"gamma\", \"delta\", \"epsilon\"])\n",
    "srs"
   ]
  },
  {
   "cell_type": "code",
   "execution_count": null,
   "metadata": {},
   "outputs": [],
   "source": [
    "srs[:2]"
   ]
  },
  {
   "cell_type": "code",
   "execution_count": null,
   "metadata": {},
   "outputs": [],
   "source": [
    "srs[[\"beta\", \"delta\"]]"
   ]
  },
  {
   "cell_type": "code",
   "execution_count": null,
   "metadata": {},
   "outputs": [],
   "source": [
    "srs[\"beta\":\"delta\"]     # Select everything BETWEEN (and\n",
    "                        # including) beta and delta"
   ]
  },
  {
   "cell_type": "code",
   "execution_count": null,
   "metadata": {},
   "outputs": [],
   "source": [
    "srs[srs > 3]    # Select elements of srs greater than 3"
   ]
  },
  {
   "cell_type": "code",
   "execution_count": null,
   "metadata": {},
   "outputs": [],
   "source": [
    "srs > 3    # A look at the indexing object"
   ]
  },
  {
   "cell_type": "code",
   "execution_count": null,
   "metadata": {},
   "outputs": [],
   "source": [
    "srs2 = Series([\"zero\", \"one\", \"two\", \"three\", \"four\"],\n",
    "              index=[3, 2, 4, 0, 1])\n",
    "\n",
    "srs2"
   ]
  },
  {
   "cell_type": "code",
   "execution_count": null,
   "metadata": {},
   "outputs": [],
   "source": [
    "srs2[2:4]    # Ambiguous"
   ]
  },
  {
   "cell_type": "code",
   "execution_count": null,
   "metadata": {},
   "outputs": [],
   "source": [
    "srs2.iloc[2:4]"
   ]
  },
  {
   "cell_type": "code",
   "execution_count": null,
   "metadata": {},
   "outputs": [],
   "source": [
    "srs2.loc[2:4]"
   ]
  },
  {
   "cell_type": "code",
   "execution_count": null,
   "metadata": {},
   "outputs": [],
   "source": [
    "df = DataFrame(np.arange(21).reshape(7, 3),\n",
    "               columns=['AAA', 'BBB', 'CCC'],\n",
    "               index=[\"alpha\", \"beta\", \"gamma\", \"delta\",\n",
    "                      \"epsilon\", \"zeta\", \"eta\"])\n",
    "df"
   ]
  },
  {
   "cell_type": "code",
   "execution_count": null,
   "metadata": {},
   "outputs": [],
   "source": [
    "df.AAA"
   ]
  },
  {
   "cell_type": "code",
   "execution_count": null,
   "metadata": {},
   "outputs": [],
   "source": [
    "df['AAA']"
   ]
  },
  {
   "cell_type": "code",
   "execution_count": null,
   "metadata": {},
   "outputs": [],
   "source": [
    "df[['BBB', 'CCC']]"
   ]
  },
  {
   "cell_type": "code",
   "execution_count": null,
   "metadata": {},
   "outputs": [],
   "source": [
    "df.iloc[1:3, 1:2]"
   ]
  },
  {
   "cell_type": "code",
   "execution_count": null,
   "metadata": {},
   "outputs": [],
   "source": [
    "df.loc['beta':'delta', 'BBB':'CCC']"
   ]
  },
  {
   "cell_type": "code",
   "execution_count": null,
   "metadata": {},
   "outputs": [],
   "source": [
    "df.iloc[:, 1:3]"
   ]
  },
  {
   "cell_type": "code",
   "execution_count": null,
   "metadata": {},
   "outputs": [],
   "source": [
    "df.iloc[:, 1:3].loc[['alpha', 'gamma', 'zeta']]    # Mixing"
   ]
  },
  {
   "cell_type": "code",
   "execution_count": null,
   "metadata": {},
   "outputs": [],
   "source": [
    "df2 = df.iloc[:, 1:3].loc[['alpha', 'gamma', 'zeta']].copy()\n",
    "\n",
    "df2"
   ]
  },
  {
   "cell_type": "code",
   "execution_count": null,
   "metadata": {},
   "outputs": [],
   "source": [
    "df2['CCC'] = Series({'alpha': 11, 'gamma': 18, 'zeta': 5})\n",
    "\n",
    "df2"
   ]
  },
  {
   "cell_type": "code",
   "execution_count": null,
   "metadata": {},
   "outputs": [],
   "source": [
    "df2.iloc[1, 1] = 2\n",
    "df2"
   ]
  },
  {
   "cell_type": "code",
   "execution_count": null,
   "metadata": {},
   "outputs": [],
   "source": [
    "df2.iloc[:, 1] = 0\n",
    "df2"
   ]
  },
  {
   "cell_type": "markdown",
   "metadata": {},
   "source": [
    "### Aritmética, Aplicación de Funciones, Mapeo con pandas."
   ]
  },
  {
   "cell_type": "code",
   "execution_count": null,
   "metadata": {},
   "outputs": [],
   "source": [
    "srs1 = Series([1, 9, -4, 3, 3])\n",
    "srs2 = Series([2, 3, 4, 5, 10], index=[0, 1, 2, 3, 5])\n",
    "print(srs1)"
   ]
  },
  {
   "cell_type": "code",
   "execution_count": null,
   "metadata": {},
   "outputs": [],
   "source": [
    "print(srs2)"
   ]
  },
  {
   "cell_type": "code",
   "execution_count": null,
   "metadata": {},
   "outputs": [],
   "source": [
    "srs1 + srs2"
   ]
  },
  {
   "cell_type": "code",
   "execution_count": null,
   "metadata": {},
   "outputs": [],
   "source": [
    "srs1 * srs2"
   ]
  },
  {
   "cell_type": "code",
   "execution_count": null,
   "metadata": {},
   "outputs": [],
   "source": [
    "srs1 ** srs2"
   ]
  },
  {
   "cell_type": "code",
   "execution_count": null,
   "metadata": {},
   "outputs": [],
   "source": [
    "# Boolean arithmetic is different\n",
    "srs1 > srs2"
   ]
  },
  {
   "cell_type": "code",
   "execution_count": null,
   "metadata": {},
   "outputs": [],
   "source": [
    "srs1 <= srs2    # Opposite of above"
   ]
  },
  {
   "cell_type": "code",
   "execution_count": null,
   "metadata": {},
   "outputs": [],
   "source": [
    "srs1 > Series([1, 2, 3, 4, 5], index = [4, 3, 2, 1, 0])"
   ]
  },
  {
   "cell_type": "code",
   "execution_count": null,
   "metadata": {},
   "outputs": [],
   "source": [
    "np.sqrt(srs2)"
   ]
  },
  {
   "cell_type": "code",
   "execution_count": null,
   "metadata": {},
   "outputs": [],
   "source": [
    "np.abs(srs1)"
   ]
  },
  {
   "cell_type": "code",
   "execution_count": null,
   "metadata": {},
   "outputs": [],
   "source": [
    "type(np.abs(srs1))"
   ]
  },
  {
   "cell_type": "code",
   "execution_count": null,
   "metadata": {},
   "outputs": [],
   "source": [
    "# Define a cusom ufunc: notice the decorator notation?\n",
    "@np.vectorize\n",
    "def trunc(x):\n",
    "    return x if x > 0 else 0\n",
    "\n",
    "trunc(np.array([-1, 5, 4, -3, 0]))"
   ]
  },
  {
   "cell_type": "code",
   "execution_count": null,
   "metadata": {},
   "outputs": [],
   "source": [
    "trunc(srs1)"
   ]
  },
  {
   "cell_type": "code",
   "execution_count": null,
   "metadata": {},
   "outputs": [],
   "source": [
    "type(trunc(srs1))"
   ]
  },
  {
   "cell_type": "markdown",
   "metadata": {},
   "source": [
    "Métodos para las series y aplicación de funciones"
   ]
  },
  {
   "cell_type": "code",
   "execution_count": null,
   "metadata": {},
   "outputs": [],
   "source": [
    "# Mean of a series\n",
    "srs1.mean()"
   ]
  },
  {
   "cell_type": "code",
   "execution_count": null,
   "metadata": {},
   "outputs": [],
   "source": [
    "srs1.std()"
   ]
  },
  {
   "cell_type": "code",
   "execution_count": null,
   "metadata": {},
   "outputs": [],
   "source": [
    "srs1.max()"
   ]
  },
  {
   "cell_type": "code",
   "execution_count": null,
   "metadata": {},
   "outputs": [],
   "source": [
    "srs1.idxmax()   # Returns the index where the maximum is"
   ]
  },
  {
   "cell_type": "code",
   "execution_count": null,
   "metadata": {},
   "outputs": [],
   "source": [
    "srs1"
   ]
  },
  {
   "cell_type": "code",
   "execution_count": null,
   "metadata": {},
   "outputs": [],
   "source": [
    "srs1.cumsum()"
   ]
  },
  {
   "cell_type": "code",
   "execution_count": null,
   "metadata": {},
   "outputs": [],
   "source": [
    "srs1.abs()    # An alternative to the abs function in NumPy"
   ]
  },
  {
   "cell_type": "markdown",
   "metadata": {},
   "source": [
    "La palabra clave lambda en Python proporciona un acceso directo para declarar pequeñas funciones anónimas. Las funciones Lambda se comportan como funciones regulares declaradas con la palabra clave def. Se pueden utilizar siempre que se requieran objetos de función."
   ]
  },
  {
   "cell_type": "code",
   "execution_count": null,
   "metadata": {},
   "outputs": [],
   "source": [
    "srs1"
   ]
  },
  {
   "cell_type": "code",
   "execution_count": null,
   "metadata": {},
   "outputs": [],
   "source": [
    "srs1.apply(lambda x: x if x > 2 else 2)"
   ]
  },
  {
   "cell_type": "code",
   "execution_count": null,
   "metadata": {},
   "outputs": [],
   "source": [
    "srs3 = Series(['alpha', 'beta', 'gamma', 'delta'], index = ['a', 'b', 'c', 'd'])\n",
    "print(srs3)"
   ]
  },
  {
   "cell_type": "code",
   "execution_count": null,
   "metadata": {},
   "outputs": [],
   "source": [
    "obj = {\"alpha\": 1, \"beta\": 2, \"gamma\": -1, \"delta\": -3}\n",
    "srs3.map(obj)"
   ]
  },
  {
   "cell_type": "code",
   "execution_count": null,
   "metadata": {},
   "outputs": [],
   "source": [
    "srs4 = Series(obj)\n",
    "print(srs4)"
   ]
  },
  {
   "cell_type": "code",
   "execution_count": null,
   "metadata": {},
   "outputs": [],
   "source": [
    "srs3.map(srs4)"
   ]
  },
  {
   "cell_type": "code",
   "execution_count": null,
   "metadata": {},
   "outputs": [],
   "source": [
    "srs1.map(lambda x: x if x > 2 else 2)    # Works like apply"
   ]
  },
  {
   "cell_type": "markdown",
   "metadata": {},
   "source": [
    "### DataFrames"
   ]
  },
  {
   "cell_type": "code",
   "execution_count": null,
   "metadata": {},
   "outputs": [],
   "source": [
    "df = DataFrame(np.arange(15).reshape(5, 3), columns=[\"AAA\", \"BBB\", \"CCC\"])\n",
    "print(df)"
   ]
  },
  {
   "cell_type": "code",
   "execution_count": null,
   "metadata": {},
   "outputs": [],
   "source": [
    "# Should get 0's, and CCC gets NaN because no match\n",
    "df - df.loc[:,[\"AAA\", \"BBB\"]]"
   ]
  },
  {
   "cell_type": "code",
   "execution_count": null,
   "metadata": {},
   "outputs": [],
   "source": [
    "df.mean()"
   ]
  },
  {
   "cell_type": "code",
   "execution_count": null,
   "metadata": {},
   "outputs": [],
   "source": [
    "df.std()"
   ]
  },
  {
   "cell_type": "code",
   "execution_count": null,
   "metadata": {},
   "outputs": [],
   "source": [
    "# This is known as standardization\n",
    "(df - df.mean())/df.std()"
   ]
  },
  {
   "cell_type": "code",
   "execution_count": null,
   "metadata": {},
   "outputs": [],
   "source": [
    "np.sqrt(df)"
   ]
  },
  {
   "cell_type": "code",
   "execution_count": null,
   "metadata": {},
   "outputs": [],
   "source": [
    "# trunc is a custom ufunc: does not give a DataFrame\n",
    "trunc(df)"
   ]
  },
  {
   "cell_type": "code",
   "execution_count": null,
   "metadata": {},
   "outputs": [],
   "source": [
    "# Mixed data\n",
    "df2 = DataFrame({\"AAA\": [1, 2, 3, 4], \"BBB\": [0, -9, 9, 3], \"CCC\": [\"Bob\", \"Terry\", \"Matt\", \"Simon\"]})\n",
    "print(df2)"
   ]
  },
  {
   "cell_type": "code",
   "execution_count": null,
   "metadata": {},
   "outputs": [],
   "source": [
    "# Produces an error\n",
    "np.sqrt(df2)"
   ]
  },
  {
   "cell_type": "code",
   "execution_count": null,
   "metadata": {},
   "outputs": [],
   "source": [
    "# Let's select JUST numeric data\n",
    "# The select_dtypes() method selects columns based on their dtype\n",
    "# np.number indicates numeric dtypes\n",
    "# Here we select columns only with numeric data\n",
    "df2.select_dtypes([np.number])"
   ]
  },
  {
   "cell_type": "code",
   "execution_count": null,
   "metadata": {},
   "outputs": [],
   "source": [
    "np.sqrt(df2.select_dtypes([np.number]))"
   ]
  },
  {
   "cell_type": "code",
   "execution_count": null,
   "metadata": {},
   "outputs": [],
   "source": [
    "# Define a function for the geometric mean\n",
    "def geomean(srs):\n",
    "    return srs.prod() ** (1 / len(srs))   # prod method is product of all elements of srs\n",
    "\n",
    "# Demo\n",
    "geomean(Series([2, 3, 4]))"
   ]
  },
  {
   "cell_type": "code",
   "execution_count": null,
   "metadata": {},
   "outputs": [],
   "source": [
    "df"
   ]
  },
  {
   "cell_type": "code",
   "execution_count": null,
   "metadata": {},
   "outputs": [],
   "source": [
    "df.apply(geomean)"
   ]
  },
  {
   "cell_type": "code",
   "execution_count": null,
   "metadata": {},
   "outputs": [],
   "source": [
    "df.apply(geomean, axis='columns')"
   ]
  },
  {
   "cell_type": "code",
   "execution_count": null,
   "metadata": {},
   "outputs": [],
   "source": [
    "df"
   ]
  },
  {
   "cell_type": "code",
   "execution_count": null,
   "metadata": {},
   "outputs": [],
   "source": [
    "# Apply a truncation function to each element of df\n",
    "df.applymap(lambda x: x if x > 3 else 3)"
   ]
  },
  {
   "cell_type": "markdown",
   "metadata": {},
   "source": [
    "## Manejando datos faltantes en un DataFrame"
   ]
  },
  {
   "cell_type": "code",
   "execution_count": null,
   "metadata": {},
   "outputs": [],
   "source": [
    "vals = np.random.randn(21)\n",
    "vals[random.sample([i for i in range(21)], 5)] = np.nan\n",
    "df = DataFrame(vals.reshape(7, 3), columns = [\"AAA\", \"BBB\", \"CCC\"])\n",
    "df"
   ]
  },
  {
   "cell_type": "code",
   "execution_count": null,
   "metadata": {},
   "outputs": [],
   "source": [
    "srs = Series([2, 3, 3, 9, 8, np.nan, 8, np.nan, 4, 4, 5])\n",
    "print(srs)"
   ]
  },
  {
   "cell_type": "code",
   "execution_count": null,
   "metadata": {},
   "outputs": [],
   "source": [
    "np.isnan(df)"
   ]
  },
  {
   "cell_type": "code",
   "execution_count": null,
   "metadata": {},
   "outputs": [],
   "source": [
    "df.isnull()"
   ]
  },
  {
   "cell_type": "code",
   "execution_count": null,
   "metadata": {},
   "outputs": [],
   "source": [
    "df.notnull()    # Opposite of isnull() and isnan()"
   ]
  },
  {
   "cell_type": "code",
   "execution_count": null,
   "metadata": {},
   "outputs": [],
   "source": [
    "df"
   ]
  },
  {
   "cell_type": "code",
   "execution_count": null,
   "metadata": {},
   "outputs": [],
   "source": [
    "df.dropna()"
   ]
  },
  {
   "cell_type": "code",
   "execution_count": null,
   "metadata": {},
   "outputs": [],
   "source": [
    "srs"
   ]
  },
  {
   "cell_type": "code",
   "execution_count": null,
   "metadata": {},
   "outputs": [],
   "source": [
    "print(srs.dropna())"
   ]
  },
  {
   "cell_type": "code",
   "execution_count": null,
   "metadata": {},
   "outputs": [],
   "source": [
    "xbar = srs.mean()    # By default, ignores nan\n",
    "print(xbar)"
   ]
  },
  {
   "cell_type": "code",
   "execution_count": null,
   "metadata": {},
   "outputs": [],
   "source": [
    "print(srs.fillna(5))"
   ]
  },
  {
   "cell_type": "code",
   "execution_count": null,
   "metadata": {},
   "outputs": [],
   "source": [
    "print(srs.fillna(xbar))"
   ]
  },
  {
   "cell_type": "code",
   "execution_count": null,
   "metadata": {},
   "outputs": [],
   "source": [
    "# How does the mean of this data compare to before?\n",
    "srs.fillna(xbar).mean()"
   ]
  },
  {
   "cell_type": "code",
   "execution_count": null,
   "metadata": {},
   "outputs": [],
   "source": [
    "# What about the standard deviation (a measure of how dispersed data is)?\n",
    "srs.std()"
   ]
  },
  {
   "cell_type": "code",
   "execution_count": null,
   "metadata": {},
   "outputs": [],
   "source": [
    "srs.fillna(xbar).std()"
   ]
  },
  {
   "cell_type": "code",
   "execution_count": null,
   "metadata": {},
   "outputs": [],
   "source": [
    "s = srs.std()\n",
    "# Generate a NumPy ndarray filled with randomly generated data, of the same length as the missing data\n",
    "rep = Series(np.random.choice(srs[srs.notnull()], size=2), index=[5, 7])\n",
    "print(rep)"
   ]
  },
  {
   "cell_type": "code",
   "execution_count": null,
   "metadata": {
    "scrolled": true
   },
   "outputs": [],
   "source": [
    "srs.fillna(rep)"
   ]
  },
  {
   "cell_type": "code",
   "execution_count": null,
   "metadata": {},
   "outputs": [],
   "source": [
    "srs.fillna(rep).mean()"
   ]
  },
  {
   "cell_type": "code",
   "execution_count": null,
   "metadata": {},
   "outputs": [],
   "source": [
    "srs.fillna(rep).std()"
   ]
  },
  {
   "cell_type": "code",
   "execution_count": null,
   "metadata": {},
   "outputs": [],
   "source": [
    "df"
   ]
  },
  {
   "cell_type": "code",
   "execution_count": null,
   "metadata": {},
   "outputs": [],
   "source": [
    "df.fillna(0)"
   ]
  },
  {
   "cell_type": "code",
   "execution_count": null,
   "metadata": {},
   "outputs": [],
   "source": [
    "df.mean()"
   ]
  },
  {
   "cell_type": "code",
   "execution_count": null,
   "metadata": {},
   "outputs": [],
   "source": [
    "df"
   ]
  },
  {
   "cell_type": "code",
   "execution_count": null,
   "metadata": {},
   "outputs": [],
   "source": [
    "df.fillna(df.mean())"
   ]
  },
  {
   "cell_type": "code",
   "execution_count": null,
   "metadata": {},
   "outputs": [],
   "source": [
    "df.std()"
   ]
  },
  {
   "cell_type": "code",
   "execution_count": null,
   "metadata": {},
   "outputs": [],
   "source": [
    "df.fillna(df.mean()).std()    # All standard deviations go down"
   ]
  },
  {
   "cell_type": "code",
   "execution_count": null,
   "metadata": {},
   "outputs": [],
   "source": [
    "col='AAA'\n",
    "df[col][df[col].notnull()]"
   ]
  },
  {
   "cell_type": "code",
   "execution_count": null,
   "metadata": {},
   "outputs": [],
   "source": [
    "# We will fill missing data via a dict\n",
    "rep_df = {col: Series(np.random.choice(df[col][df[col].notnull()],    # Create a Series of random values from col...\n",
    "                                       size=df.isnull()[col].value_counts()[True]),     # ... as many as there are missing values\n",
    "                                                                                        # in col...\n",
    "                      index=df[col][df[col].isnull()].index)    # ... and having an index corresponding to the missing values\n",
    "                                                                # in the column col of df ...\n",
    "          for col in df}    # ... for each column in df\n",
    "rep_df"
   ]
  },
  {
   "cell_type": "code",
   "execution_count": null,
   "metadata": {},
   "outputs": [],
   "source": [
    "df.fillna(rep_df)"
   ]
  },
  {
   "cell_type": "code",
   "execution_count": null,
   "metadata": {},
   "outputs": [],
   "source": [
    "df.fillna(rep_df).mean()"
   ]
  },
  {
   "cell_type": "code",
   "execution_count": null,
   "metadata": {},
   "outputs": [],
   "source": [
    "df.fillna(rep_df).std()"
   ]
  },
  {
   "cell_type": "markdown",
   "metadata": {},
   "source": [
    "### Sorting & Ranking"
   ]
  },
  {
   "cell_type": "code",
   "execution_count": null,
   "metadata": {},
   "outputs": [],
   "source": [
    "df = DataFrame(np.round(np.random.randn(7, 3) * 10),\n",
    "               columns=[\"AAA\", \"BBB\", \"CCC\"],\n",
    "               index=list(\"defcabg\"))\n",
    "df"
   ]
  },
  {
   "cell_type": "code",
   "execution_count": null,
   "metadata": {},
   "outputs": [],
   "source": [
    "df.sort_index()"
   ]
  },
  {
   "cell_type": "code",
   "execution_count": null,
   "metadata": {},
   "outputs": [],
   "source": [
    "df.sort_index(axis=1, ascending=False)    # Sorting columns by\n",
    "                                          # index, opposite\n",
    "                                          # order"
   ]
  },
  {
   "cell_type": "code",
   "execution_count": null,
   "metadata": {},
   "outputs": [],
   "source": [
    "df.sort_values(by='AAA')    # According to contents of AAA"
   ]
  },
  {
   "cell_type": "code",
   "execution_count": null,
   "metadata": {},
   "outputs": [],
   "source": [
    "df.sort_values(by=['BBB', 'CCC'])    # Arrange first by BBB,\n",
    "                                     # breaking ties with CCC"
   ]
  },
  {
   "cell_type": "code",
   "execution_count": null,
   "metadata": {},
   "outputs": [],
   "source": [
    "df"
   ]
  },
  {
   "cell_type": "code",
   "execution_count": null,
   "metadata": {},
   "outputs": [],
   "source": [
    "df.rank()"
   ]
  },
  {
   "cell_type": "code",
   "execution_count": null,
   "metadata": {},
   "outputs": [],
   "source": [
    "df.rank(method=\"max\")"
   ]
  },
  {
   "cell_type": "markdown",
   "metadata": {},
   "source": [
    "### Indexación jerárquica"
   ]
  },
  {
   "cell_type": "code",
   "execution_count": null,
   "metadata": {},
   "outputs": [],
   "source": [
    "# Directly with MultiIndex\n",
    "midx = pd.MultiIndex([['a', 'b'], ['alpha', 'beta'], [1, 2]],\n",
    "                     [[0, 0, 0, 0, 1, 1, 1, 1],\n",
    "                      [0, 0, 1, 1, 0, 0, 1, 1],\n",
    "                      [0, 1, 0, 1, 0, 1, 0, 1]])\n",
    "Series(np.arange(8), index=midx)"
   ]
  },
  {
   "cell_type": "code",
   "execution_count": null,
   "metadata": {},
   "outputs": [],
   "source": [
    "# In the Series creation\n",
    "srs = Series(np.arange(8),\n",
    "             index=[['a', 'a', 'a', 'a', 'b', 'b', 'b', 'b'],\n",
    "                    ['alpha', 'alpha', 'beta', 'beta',\n",
    "                     'alpha', 'alpha', 'beta', 'beta'],\n",
    "                    [1, 2, 1, 2, 1, 2, 1, 2]])\n",
    "srs"
   ]
  },
  {
   "cell_type": "code",
   "execution_count": null,
   "metadata": {},
   "outputs": [],
   "source": [
    "srs.loc['b']"
   ]
  },
  {
   "cell_type": "code",
   "execution_count": null,
   "metadata": {},
   "outputs": [],
   "source": [
    "srs.loc['b', 'alpha']    # The following won't work for DataFrames"
   ]
  },
  {
   "cell_type": "code",
   "execution_count": null,
   "metadata": {},
   "outputs": [],
   "source": [
    "srs.loc['b', 'alpha', 1]"
   ]
  },
  {
   "cell_type": "code",
   "execution_count": null,
   "metadata": {},
   "outputs": [],
   "source": [
    "srs.loc['a', :, 1]"
   ]
  },
  {
   "cell_type": "code",
   "execution_count": null,
   "metadata": {},
   "outputs": [],
   "source": [
    "df = DataFrame(np.random.randn(8, 3), index=midx,\n",
    "               columns=['AAA', 'BBB', 'CCC'])\n",
    "df.loc['b']"
   ]
  },
  {
   "cell_type": "code",
   "execution_count": null,
   "metadata": {},
   "outputs": [],
   "source": [
    "df.loc[('b', 'alpha')]    # Must use a tuple here"
   ]
  },
  {
   "cell_type": "code",
   "execution_count": null,
   "metadata": {},
   "outputs": [],
   "source": [
    "df.loc[('b', 'alpha', 1)]"
   ]
  },
  {
   "cell_type": "code",
   "execution_count": null,
   "metadata": {},
   "outputs": [],
   "source": [
    "df.loc[('b', slice(None), 1), :]    # Don't treat : as optional"
   ]
  },
  {
   "cell_type": "code",
   "execution_count": null,
   "metadata": {},
   "outputs": [],
   "source": [
    "df.loc[(slice(None, 'b'), slice(None), 1), ['AAA', 'BBB']]    # :'b'"
   ]
  },
  {
   "cell_type": "code",
   "execution_count": null,
   "metadata": {},
   "outputs": [],
   "source": [
    "df.loc[(slice(None), slice(None), 1), 'CCC']"
   ]
  },
  {
   "cell_type": "code",
   "execution_count": null,
   "metadata": {},
   "outputs": [],
   "source": []
  }
 ],
 "metadata": {
  "kernelspec": {
   "display_name": "Python 3",
   "language": "python",
   "name": "python3"
  },
  "language_info": {
   "codemirror_mode": {
    "name": "ipython",
    "version": 3
   },
   "file_extension": ".py",
   "mimetype": "text/x-python",
   "name": "python",
   "nbconvert_exporter": "python",
   "pygments_lexer": "ipython3",
   "version": "3.6.5"
  }
 },
 "nbformat": 4,
 "nbformat_minor": 2
}
