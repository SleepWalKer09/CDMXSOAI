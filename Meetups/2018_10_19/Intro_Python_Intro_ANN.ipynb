{
 "cells": [
  {
   "cell_type": "markdown",
   "metadata": {},
   "source": [
    "# Introducción a Python"
   ]
  },
  {
   "cell_type": "markdown",
   "metadata": {},
   "source": [
    "En Python, podemos utilizar todos los tipos primitivos que conocemos normalmente: int, double, float, string, etc. Pero para asignarlos a una variable, no es necesario decir qué tipo de dato será.\n",
    "\n",
    "Para saber el tipo que tiene alguna variable se utiliza `type`."
   ]
  },
  {
   "cell_type": "code",
   "execution_count": 1,
   "metadata": {},
   "outputs": [],
   "source": [
    "num = 3\n",
    "decimal = 3.2\n",
    "string = 'Hola'"
   ]
  },
  {
   "cell_type": "code",
   "execution_count": 2,
   "metadata": {},
   "outputs": [
    {
     "data": {
      "text/plain": [
       "int"
      ]
     },
     "execution_count": 2,
     "metadata": {},
     "output_type": "execute_result"
    }
   ],
   "source": [
    "type(num)"
   ]
  },
  {
   "cell_type": "code",
   "execution_count": 3,
   "metadata": {},
   "outputs": [
    {
     "data": {
      "text/plain": [
       "float"
      ]
     },
     "execution_count": 3,
     "metadata": {},
     "output_type": "execute_result"
    }
   ],
   "source": [
    "type(decimal)"
   ]
  },
  {
   "cell_type": "code",
   "execution_count": 4,
   "metadata": {},
   "outputs": [
    {
     "data": {
      "text/plain": [
       "str"
      ]
     },
     "execution_count": 4,
     "metadata": {},
     "output_type": "execute_result"
    }
   ],
   "source": [
    "type(string)"
   ]
  },
  {
   "cell_type": "markdown",
   "metadata": {},
   "source": [
    "También podemos imprimir las variables con print(), hacer operaciones y concatenar texto. Se puede concatenar texto utilizando + o una coma. Además, se puede hacer operaciones antes de imprimir."
   ]
  },
  {
   "cell_type": "code",
   "execution_count": 5,
   "metadata": {},
   "outputs": [
    {
     "name": "stdout",
     "output_type": "stream",
     "text": [
      "Int: 5\n",
      "Float: 3.2\n",
      "Estos son strings: Hola\n"
     ]
    }
   ],
   "source": [
    "print(\"Int:\",num+2)\n",
    "print(\"Float: \"+ str(decimal))\n",
    "print(\"Estos \"+\"son \"+\"strings: \"+string)"
   ]
  },
  {
   "cell_type": "markdown",
   "metadata": {},
   "source": [
    "La diferencia entre `,` y `+` es que la `,` agrega un espacio en medio, y no se necesita convertir todo a String"
   ]
  },
  {
   "cell_type": "markdown",
   "metadata": {},
   "source": [
    "Con los Strings tambieén se pueden hacer operacines."
   ]
  },
  {
   "cell_type": "code",
   "execution_count": 6,
   "metadata": {},
   "outputs": [
    {
     "data": {
      "text/plain": [
       "'HolaHolaHola'"
      ]
     },
     "execution_count": 6,
     "metadata": {},
     "output_type": "execute_result"
    }
   ],
   "source": [
    "string*3"
   ]
  },
  {
   "cell_type": "code",
   "execution_count": 7,
   "metadata": {},
   "outputs": [
    {
     "data": {
      "text/plain": [
       "'HoleHoleHole'"
      ]
     },
     "execution_count": 7,
     "metadata": {},
     "output_type": "execute_result"
    }
   ],
   "source": [
    "(string*3).replace('a','e')"
   ]
  },
  {
   "cell_type": "markdown",
   "metadata": {},
   "source": [
    "## Operaciones"
   ]
  },
  {
   "cell_type": "code",
   "execution_count": 8,
   "metadata": {},
   "outputs": [
    {
     "data": {
      "text/plain": [
       "4"
      ]
     },
     "execution_count": 8,
     "metadata": {},
     "output_type": "execute_result"
    }
   ],
   "source": [
    "2+2"
   ]
  },
  {
   "cell_type": "code",
   "execution_count": 9,
   "metadata": {},
   "outputs": [
    {
     "data": {
      "text/plain": [
       "-1"
      ]
     },
     "execution_count": 9,
     "metadata": {},
     "output_type": "execute_result"
    }
   ],
   "source": [
    "2-3"
   ]
  },
  {
   "cell_type": "code",
   "execution_count": 10,
   "metadata": {},
   "outputs": [
    {
     "data": {
      "text/plain": [
       "16"
      ]
     },
     "execution_count": 10,
     "metadata": {},
     "output_type": "execute_result"
    }
   ],
   "source": [
    "4*4"
   ]
  },
  {
   "cell_type": "code",
   "execution_count": 11,
   "metadata": {},
   "outputs": [
    {
     "data": {
      "text/plain": [
       "256"
      ]
     },
     "execution_count": 11,
     "metadata": {},
     "output_type": "execute_result"
    }
   ],
   "source": [
    "4**4"
   ]
  },
  {
   "cell_type": "code",
   "execution_count": 12,
   "metadata": {},
   "outputs": [
    {
     "data": {
      "text/plain": [
       "1"
      ]
     },
     "execution_count": 12,
     "metadata": {},
     "output_type": "execute_result"
    }
   ],
   "source": [
    "5%2"
   ]
  },
  {
   "cell_type": "code",
   "execution_count": 13,
   "metadata": {},
   "outputs": [
    {
     "data": {
      "text/plain": [
       "5"
      ]
     },
     "execution_count": 13,
     "metadata": {},
     "output_type": "execute_result"
    }
   ],
   "source": [
    "abs(-5)"
   ]
  },
  {
   "cell_type": "code",
   "execution_count": 14,
   "metadata": {},
   "outputs": [
    {
     "data": {
      "text/plain": [
       "'3'"
      ]
     },
     "execution_count": 14,
     "metadata": {},
     "output_type": "execute_result"
    }
   ],
   "source": [
    "str(3)"
   ]
  },
  {
   "cell_type": "code",
   "execution_count": 15,
   "metadata": {},
   "outputs": [
    {
     "data": {
      "text/plain": [
       "'HolaHola'"
      ]
     },
     "execution_count": 15,
     "metadata": {},
     "output_type": "execute_result"
    }
   ],
   "source": [
    "'Hola'*2"
   ]
  },
  {
   "cell_type": "code",
   "execution_count": 16,
   "metadata": {},
   "outputs": [
    {
     "data": {
      "text/plain": [
       "'Hola Adios'"
      ]
     },
     "execution_count": 16,
     "metadata": {},
     "output_type": "execute_result"
    }
   ],
   "source": [
    "'Hola '+'Adios'"
   ]
  },
  {
   "cell_type": "code",
   "execution_count": 17,
   "metadata": {},
   "outputs": [
    {
     "data": {
      "text/plain": [
       "2"
      ]
     },
     "execution_count": 17,
     "metadata": {},
     "output_type": "execute_result"
    }
   ],
   "source": [
    "int('2')"
   ]
  },
  {
   "cell_type": "code",
   "execution_count": 18,
   "metadata": {},
   "outputs": [
    {
     "data": {
      "text/plain": [
       "2.4"
      ]
     },
     "execution_count": 18,
     "metadata": {},
     "output_type": "execute_result"
    }
   ],
   "source": [
    "float('2.4')"
   ]
  },
  {
   "cell_type": "markdown",
   "metadata": {},
   "source": [
    "Utilizando estas operaciones se pueden hacer cosas interesantes como imprimir números muy grandes."
   ]
  },
  {
   "cell_type": "code",
   "execution_count": 19,
   "metadata": {},
   "outputs": [
    {
     "data": {
      "text/plain": [
       "10000000000000000000000000000000000000000000000000000000000000000000000000000000000000000000000000000"
      ]
     },
     "execution_count": 19,
     "metadata": {},
     "output_type": "execute_result"
    }
   ],
   "source": [
    "int('1'+'0'*100)"
   ]
  },
  {
   "cell_type": "markdown",
   "metadata": {},
   "source": [
    "## Listas"
   ]
  },
  {
   "cell_type": "markdown",
   "metadata": {},
   "source": [
    "Las listas se definen utilizando corchetes y se les puede agregar cualquier tipo de objeto."
   ]
  },
  {
   "cell_type": "code",
   "execution_count": 20,
   "metadata": {},
   "outputs": [
    {
     "data": {
      "text/plain": [
       "list"
      ]
     },
     "execution_count": 20,
     "metadata": {},
     "output_type": "execute_result"
    }
   ],
   "source": [
    "lista = []\n",
    "type(lista)"
   ]
  },
  {
   "cell_type": "code",
   "execution_count": 21,
   "metadata": {},
   "outputs": [
    {
     "name": "stdout",
     "output_type": "stream",
     "text": [
      "[1, 2.0, '3']\n"
     ]
    }
   ],
   "source": [
    "lista=[1,2.0, \"3\"]\n",
    "print(lista)"
   ]
  },
  {
   "cell_type": "markdown",
   "metadata": {},
   "source": [
    "Para acceder a los valores de la lista, se utilizan corchetes. Recuerden que los indices comienzan en 0."
   ]
  },
  {
   "cell_type": "code",
   "execution_count": 22,
   "metadata": {},
   "outputs": [
    {
     "data": {
      "text/plain": [
       "'3'"
      ]
     },
     "execution_count": 22,
     "metadata": {},
     "output_type": "execute_result"
    }
   ],
   "source": [
    "lista[2]"
   ]
  },
  {
   "cell_type": "markdown",
   "metadata": {},
   "source": [
    "Para medir la longitud de la lista, se utiliza `len`."
   ]
  },
  {
   "cell_type": "code",
   "execution_count": 23,
   "metadata": {},
   "outputs": [
    {
     "data": {
      "text/plain": [
       "3"
      ]
     },
     "execution_count": 23,
     "metadata": {},
     "output_type": "execute_result"
    }
   ],
   "source": [
    "len(lista)"
   ]
  },
  {
   "cell_type": "markdown",
   "metadata": {},
   "source": [
    "Para agregar nuevos elementos se utiliza `append`."
   ]
  },
  {
   "cell_type": "code",
   "execution_count": 24,
   "metadata": {},
   "outputs": [
    {
     "name": "stdout",
     "output_type": "stream",
     "text": [
      "[1, 2.0, '3', 4]\n"
     ]
    }
   ],
   "source": [
    "lista.append(4)\n",
    "print(lista)"
   ]
  },
  {
   "cell_type": "markdown",
   "metadata": {},
   "source": [
    "Y podemos accesar a solamente un *slice* de la lista."
   ]
  },
  {
   "cell_type": "code",
   "execution_count": 25,
   "metadata": {},
   "outputs": [
    {
     "data": {
      "text/plain": [
       "[2.0, '3']"
      ]
     },
     "execution_count": 25,
     "metadata": {},
     "output_type": "execute_result"
    }
   ],
   "source": [
    "lista[1:3]"
   ]
  },
  {
   "cell_type": "code",
   "execution_count": 26,
   "metadata": {},
   "outputs": [
    {
     "data": {
      "text/plain": [
       "[1, 2.0]"
      ]
     },
     "execution_count": 26,
     "metadata": {},
     "output_type": "execute_result"
    }
   ],
   "source": [
    "lista[:2]"
   ]
  },
  {
   "cell_type": "code",
   "execution_count": 27,
   "metadata": {},
   "outputs": [
    {
     "data": {
      "text/plain": [
       "[2.0, '3', 4]"
      ]
     },
     "execution_count": 27,
     "metadata": {},
     "output_type": "execute_result"
    }
   ],
   "source": [
    "lista[1:]"
   ]
  },
  {
   "cell_type": "code",
   "execution_count": 28,
   "metadata": {},
   "outputs": [
    {
     "data": {
      "text/plain": [
       "[1, '3']"
      ]
     },
     "execution_count": 28,
     "metadata": {},
     "output_type": "execute_result"
    }
   ],
   "source": [
    "lista[::2]"
   ]
  },
  {
   "cell_type": "markdown",
   "metadata": {},
   "source": [
    "Al igual que con los strings, se pueden sumar las listas."
   ]
  },
  {
   "cell_type": "code",
   "execution_count": 29,
   "metadata": {},
   "outputs": [
    {
     "data": {
      "text/plain": [
       "[1, 2.0, '3', 4, 1, 2.0, '3', 4]"
      ]
     },
     "execution_count": 29,
     "metadata": {},
     "output_type": "execute_result"
    }
   ],
   "source": [
    "lista+lista"
   ]
  },
  {
   "cell_type": "markdown",
   "metadata": {},
   "source": [
    "Y para obtener un conjunto de valores únicos utlizamos `set`"
   ]
  },
  {
   "cell_type": "code",
   "execution_count": 30,
   "metadata": {},
   "outputs": [
    {
     "data": {
      "text/plain": [
       "{1, 2.0, 4, '3'}"
      ]
     },
     "execution_count": 30,
     "metadata": {},
     "output_type": "execute_result"
    }
   ],
   "source": [
    "set(lista+lista)"
   ]
  },
  {
   "cell_type": "code",
   "execution_count": 31,
   "metadata": {},
   "outputs": [
    {
     "data": {
      "text/plain": [
       "set"
      ]
     },
     "execution_count": 31,
     "metadata": {},
     "output_type": "execute_result"
    }
   ],
   "source": [
    "type(set(lista+lista))"
   ]
  },
  {
   "cell_type": "code",
   "execution_count": 32,
   "metadata": {},
   "outputs": [
    {
     "data": {
      "text/plain": [
       "'aprendiendo Python'"
      ]
     },
     "execution_count": 32,
     "metadata": {},
     "output_type": "execute_result"
    }
   ],
   "source": [
    "\"Estamos aprendiendo Python\"[8:]"
   ]
  },
  {
   "cell_type": "markdown",
   "metadata": {},
   "source": [
    "## Booleanos"
   ]
  },
  {
   "cell_type": "code",
   "execution_count": 33,
   "metadata": {},
   "outputs": [
    {
     "name": "stdout",
     "output_type": "stream",
     "text": [
      "1 == 1:  True\n",
      "1 != 1:  False\n",
      "1 <= 2:  True\n",
      "1 >= 2:  False\n",
      "1 < 2:  True\n",
      "1 > 2:  False\n",
      "hola >= hola:  True\n",
      "'hola' in 'hola':  True\n"
     ]
    }
   ],
   "source": [
    "# Igualdad\n",
    "print(\"1 == 1: \", 1 == 1)\n",
    "print(\"1 != 1: \", 1 != 1)\n",
    "print(\"1 <= 2: \", 1 <= 2)\n",
    "print(\"1 >= 2: \", 1 >= 2)\n",
    "print(\"1 < 2: \", 1 < 2)\n",
    "print(\"1 > 2: \", 1 > 2)\n",
    "print(\"hola >= hola: \",\"hola\" >= \"hola\")\n",
    "print(\"'hola' in 'hola': \",\"hola\" in \"hola\")"
   ]
  },
  {
   "cell_type": "code",
   "execution_count": 34,
   "metadata": {},
   "outputs": [
    {
     "name": "stdout",
     "output_type": "stream",
     "text": [
      "True & True:  True\n",
      "True & False:  False\n",
      "False & False:  False\n",
      "True | True:  True\n",
      "True | False:  True\n",
      "False | False:  False\n"
     ]
    }
   ],
   "source": [
    "print('True & True: ', True & True)\n",
    "print('True & False: ', True & False)\n",
    "print('False & False: ', False & False)\n",
    "print('True | True: ', True | True)\n",
    "print('True | False: ', True | False)\n",
    "print('False | False: ', False | False)"
   ]
  },
  {
   "cell_type": "markdown",
   "metadata": {},
   "source": [
    "También se pueden utilizar `or` y `and`."
   ]
  },
  {
   "cell_type": "code",
   "execution_count": 35,
   "metadata": {},
   "outputs": [
    {
     "data": {
      "text/plain": [
       "True"
      ]
     },
     "execution_count": 35,
     "metadata": {},
     "output_type": "execute_result"
    }
   ],
   "source": [
    "True or False"
   ]
  },
  {
   "cell_type": "code",
   "execution_count": 36,
   "metadata": {},
   "outputs": [
    {
     "data": {
      "text/plain": [
       "False"
      ]
     },
     "execution_count": 36,
     "metadata": {},
     "output_type": "execute_result"
    }
   ],
   "source": [
    "True and False"
   ]
  },
  {
   "cell_type": "markdown",
   "metadata": {},
   "source": [
    "## Condicionales y ciclos"
   ]
  },
  {
   "cell_type": "markdown",
   "metadata": {},
   "source": [
    "Podemos utilizar los los condicionales y los ciclos normales: `if`, `for` y `while`."
   ]
  },
  {
   "cell_type": "code",
   "execution_count": 37,
   "metadata": {},
   "outputs": [
    {
     "name": "stdout",
     "output_type": "stream",
     "text": [
      "if\n"
     ]
    }
   ],
   "source": [
    "if True:\n",
    "    print('if')\n",
    "elif True:\n",
    "    print('elif')\n",
    "else:\n",
    "    print('else')"
   ]
  },
  {
   "cell_type": "markdown",
   "metadata": {},
   "source": [
    "Dos ejemplos de objetos iterables son la función `range` y una lista."
   ]
  },
  {
   "cell_type": "code",
   "execution_count": 38,
   "metadata": {},
   "outputs": [
    {
     "data": {
      "text/plain": [
       "range(0, 10)"
      ]
     },
     "execution_count": 38,
     "metadata": {},
     "output_type": "execute_result"
    }
   ],
   "source": [
    "range(0,10)"
   ]
  },
  {
   "cell_type": "code",
   "execution_count": 39,
   "metadata": {},
   "outputs": [
    {
     "name": "stdout",
     "output_type": "stream",
     "text": [
      "0\n",
      "1\n",
      "2\n",
      "3\n",
      "4\n"
     ]
    }
   ],
   "source": [
    "for i in range(0,5):\n",
    "    print(i)"
   ]
  },
  {
   "cell_type": "code",
   "execution_count": 40,
   "metadata": {},
   "outputs": [
    {
     "name": "stdout",
     "output_type": "stream",
     "text": [
      "1\n",
      "2.0\n",
      "3\n",
      "4\n"
     ]
    }
   ],
   "source": [
    "for i in lista:\n",
    "    print(i)"
   ]
  },
  {
   "cell_type": "code",
   "execution_count": 41,
   "metadata": {},
   "outputs": [
    {
     "name": "stdout",
     "output_type": "stream",
     "text": [
      "10\n",
      "9\n",
      "8\n",
      "7\n",
      "6\n",
      "5\n",
      "4\n",
      "3\n"
     ]
    }
   ],
   "source": [
    "n=10\n",
    "while n>=3:\n",
    "    print(n)\n",
    "    n-=1"
   ]
  },
  {
   "cell_type": "markdown",
   "metadata": {},
   "source": [
    "En Python se pueden crear listas directamente con un ciclo."
   ]
  },
  {
   "cell_type": "code",
   "execution_count": 42,
   "metadata": {},
   "outputs": [
    {
     "data": {
      "text/plain": [
       "[0, 1, 2, 3, 4, 5, 6, 7, 8, 9]"
      ]
     },
     "execution_count": 42,
     "metadata": {},
     "output_type": "execute_result"
    }
   ],
   "source": [
    "[i for i in range(0,10)]"
   ]
  },
  {
   "cell_type": "code",
   "execution_count": 43,
   "metadata": {},
   "outputs": [
    {
     "data": {
      "text/plain": [
       "list"
      ]
     },
     "execution_count": 43,
     "metadata": {},
     "output_type": "execute_result"
    }
   ],
   "source": [
    "type([i for i in range(0,10)])"
   ]
  },
  {
   "cell_type": "code",
   "execution_count": 44,
   "metadata": {},
   "outputs": [
    {
     "data": {
      "text/plain": [
       "[1, 4, 9, 16, 25, 36, 49, 64, 81]"
      ]
     },
     "execution_count": 44,
     "metadata": {},
     "output_type": "execute_result"
    }
   ],
   "source": [
    "[i**2 for i in range(1,10)]"
   ]
  },
  {
   "cell_type": "markdown",
   "metadata": {},
   "source": [
    "## Funciones"
   ]
  },
  {
   "cell_type": "code",
   "execution_count": 45,
   "metadata": {},
   "outputs": [
    {
     "data": {
      "text/plain": [
       "9"
      ]
     },
     "execution_count": 45,
     "metadata": {},
     "output_type": "execute_result"
    }
   ],
   "source": [
    "def cuadrado(x):\n",
    "    return x**2\n",
    "cuadrado(3)"
   ]
  },
  {
   "cell_type": "code",
   "execution_count": 46,
   "metadata": {},
   "outputs": [
    {
     "data": {
      "text/plain": [
       "16"
      ]
     },
     "execution_count": 46,
     "metadata": {},
     "output_type": "execute_result"
    }
   ],
   "source": [
    "def potencia_n(x,n):\n",
    "    return x**n\n",
    "potencia_n(2,4)"
   ]
  },
  {
   "cell_type": "code",
   "execution_count": 47,
   "metadata": {},
   "outputs": [
    {
     "name": "stdout",
     "output_type": "stream",
     "text": [
      "1\n",
      "2\n",
      "3\n",
      "4\n",
      "5\n",
      "6\n",
      "7\n",
      "8\n",
      "9\n",
      "0\n"
     ]
    }
   ],
   "source": [
    "def imprime_lista(lista):\n",
    "    for i in lista:\n",
    "        print(i)\n",
    "imprime_lista([1,2,3,4,5,6,7,8,9,0])"
   ]
  },
  {
   "cell_type": "markdown",
   "metadata": {},
   "source": [
    "#### Ejercicio"
   ]
  },
  {
   "cell_type": "markdown",
   "metadata": {},
   "source": [
    "Haz una funcion que reciba una lista de nombres de personas e imprima una lista de los nombres que contienen una 'a'.\n",
    "\n",
    "Nota: la 'a' que debe de contener no importa si es mayuscula o minuscula."
   ]
  },
  {
   "cell_type": "code",
   "execution_count": 48,
   "metadata": {},
   "outputs": [
    {
     "data": {
      "text/plain": [
       "['Dan', 'Andrea', 'Eyal', 'Daniela']"
      ]
     },
     "execution_count": 48,
     "metadata": {},
     "output_type": "execute_result"
    }
   ],
   "source": [
    "def nombres_con_a(lista):\n",
    "    lista_res=[]\n",
    "    for i in lista:\n",
    "        if ('a' in i or 'A' in i):\n",
    "            lista_res.append(i) \n",
    "    return lista_res\n",
    "nombres_con_a(['Dan', 'Andrea', 'Eyal', 'Diego', 'Jose', 'Daniela'])"
   ]
  },
  {
   "cell_type": "markdown",
   "metadata": {},
   "source": [
    "## Diccionarios"
   ]
  },
  {
   "cell_type": "code",
   "execution_count": 49,
   "metadata": {},
   "outputs": [
    {
     "data": {
      "text/plain": [
       "dict"
      ]
     },
     "execution_count": 49,
     "metadata": {},
     "output_type": "execute_result"
    }
   ],
   "source": [
    "dic = {}\n",
    "type(dic)"
   ]
  },
  {
   "cell_type": "code",
   "execution_count": 50,
   "metadata": {},
   "outputs": [],
   "source": [
    "dic = {'llave 1':'valor 1', 'llave 2':'valor 2'}"
   ]
  },
  {
   "cell_type": "code",
   "execution_count": 51,
   "metadata": {},
   "outputs": [
    {
     "data": {
      "text/plain": [
       "{'llave 1': 'valor 1', 'llave 2': 'valor 2'}"
      ]
     },
     "execution_count": 51,
     "metadata": {},
     "output_type": "execute_result"
    }
   ],
   "source": [
    "dic"
   ]
  },
  {
   "cell_type": "code",
   "execution_count": 52,
   "metadata": {},
   "outputs": [
    {
     "data": {
      "text/plain": [
       "'valor 1'"
      ]
     },
     "execution_count": 52,
     "metadata": {},
     "output_type": "execute_result"
    }
   ],
   "source": [
    "dic['llave 1']"
   ]
  },
  {
   "cell_type": "markdown",
   "metadata": {},
   "source": [
    "Los diccionarios tienen dos listas principales: llaves (`keys`) y valores (`values`)."
   ]
  },
  {
   "cell_type": "code",
   "execution_count": 53,
   "metadata": {},
   "outputs": [
    {
     "data": {
      "text/plain": [
       "dict_keys(['llave 1', 'llave 2'])"
      ]
     },
     "execution_count": 53,
     "metadata": {},
     "output_type": "execute_result"
    }
   ],
   "source": [
    "dic.keys()"
   ]
  },
  {
   "cell_type": "code",
   "execution_count": 54,
   "metadata": {},
   "outputs": [
    {
     "data": {
      "text/plain": [
       "dict_values(['valor 1', 'valor 2'])"
      ]
     },
     "execution_count": 54,
     "metadata": {},
     "output_type": "execute_result"
    }
   ],
   "source": [
    "dic.values()"
   ]
  },
  {
   "cell_type": "code",
   "execution_count": 55,
   "metadata": {},
   "outputs": [
    {
     "name": "stdout",
     "output_type": "stream",
     "text": [
      "La calificación de Juan es 7\n",
      "La calificación de Pedro es 8\n",
      "La calificación de Jose es 6\n",
      "La calificación de Gabriel es 10\n"
     ]
    }
   ],
   "source": [
    "calificaciones = {'Juan':7,\n",
    "                  'Pedro':8,\n",
    "                  'Jose':6,\n",
    "                  'Gabriel':10}\n",
    "for i in calificaciones.keys():\n",
    "    print('La calificación de',i,'es',calificaciones[i])"
   ]
  },
  {
   "cell_type": "markdown",
   "metadata": {},
   "source": [
    "## Archivos"
   ]
  },
  {
   "cell_type": "markdown",
   "metadata": {},
   "source": [
    "En Python, según lo que queramos hacer con el archivo, hay varias cosas diferentes que se pueden hacer. Pero siempre lo primero que se debe de hacer es abrir el archivo."
   ]
  },
  {
   "cell_type": "code",
   "execution_count": 56,
   "metadata": {},
   "outputs": [
    {
     "data": {
      "text/plain": [
       "_io.TextIOWrapper"
      ]
     },
     "execution_count": 56,
     "metadata": {},
     "output_type": "execute_result"
    }
   ],
   "source": [
    "archivo = open('./data/nombres.txt')\n",
    "type(archivo)"
   ]
  },
  {
   "cell_type": "markdown",
   "metadata": {},
   "source": [
    "Después de utilizar el archivo, se debe de cerrar."
   ]
  },
  {
   "cell_type": "code",
   "execution_count": 57,
   "metadata": {},
   "outputs": [],
   "source": [
    "archivo.close()"
   ]
  },
  {
   "cell_type": "markdown",
   "metadata": {},
   "source": [
    "### Lectura"
   ]
  },
  {
   "cell_type": "code",
   "execution_count": 58,
   "metadata": {},
   "outputs": [
    {
     "data": {
      "text/plain": [
       "'Juan\\nAndrea\\nPedro\\nEsther\\nJose\\nRicardo\\nElias'"
      ]
     },
     "execution_count": 58,
     "metadata": {},
     "output_type": "execute_result"
    }
   ],
   "source": [
    "archivo = open('./data/nombres.txt')\n",
    "nombres = archivo.read()\n",
    "archivo.close()\n",
    "nombres"
   ]
  },
  {
   "cell_type": "code",
   "execution_count": 59,
   "metadata": {},
   "outputs": [
    {
     "name": "stdout",
     "output_type": "stream",
     "text": [
      "Juan\n",
      "Andrea\n",
      "Pedro\n",
      "Esther\n",
      "Jose\n",
      "Ricardo\n",
      "Elias\n"
     ]
    }
   ],
   "source": [
    "print(nombres)"
   ]
  },
  {
   "cell_type": "markdown",
   "metadata": {},
   "source": [
    "En los archivos, las lineas diferentes se pueden ver con `\\n` por eso, tenemos que utilizar `split` plara limpiarlo y convertirlo en una lista."
   ]
  },
  {
   "cell_type": "code",
   "execution_count": 60,
   "metadata": {},
   "outputs": [
    {
     "data": {
      "text/plain": [
       "['Juan', 'Andrea', 'Pedro', 'Esther', 'Jose', 'Ricardo', 'Elias']"
      ]
     },
     "execution_count": 60,
     "metadata": {},
     "output_type": "execute_result"
    }
   ],
   "source": [
    "nombres.split('\\n')"
   ]
  },
  {
   "cell_type": "markdown",
   "metadata": {},
   "source": [
    "Otra manera de leer el archivo es como una lista de renglones con `readlines`."
   ]
  },
  {
   "cell_type": "code",
   "execution_count": 61,
   "metadata": {},
   "outputs": [
    {
     "data": {
      "text/plain": [
       "['Juan\\n', 'Andrea\\n', 'Pedro\\n', 'Esther\\n', 'Jose\\n', 'Ricardo\\n', 'Elias']"
      ]
     },
     "execution_count": 61,
     "metadata": {},
     "output_type": "execute_result"
    }
   ],
   "source": [
    "archivo = open('./data/nombres.txt')\n",
    "nombres = archivo.readlines()\n",
    "archivo.close()\n",
    "nombres"
   ]
  },
  {
   "cell_type": "markdown",
   "metadata": {},
   "source": [
    "Por último, se puede utilizar `with` para no tener que cerrar el archivo."
   ]
  },
  {
   "cell_type": "code",
   "execution_count": 62,
   "metadata": {},
   "outputs": [
    {
     "data": {
      "text/plain": [
       "['Juan\\n', 'Andrea\\n', 'Pedro\\n', 'Esther\\n', 'Jose\\n', 'Ricardo\\n', 'Elias']"
      ]
     },
     "execution_count": 62,
     "metadata": {},
     "output_type": "execute_result"
    }
   ],
   "source": [
    "with open('./data/nombres.txt') as archivo:\n",
    "    nombres = archivo.readlines()\n",
    "nombres"
   ]
  },
  {
   "cell_type": "markdown",
   "metadata": {},
   "source": [
    "### Escritura"
   ]
  },
  {
   "cell_type": "markdown",
   "metadata": {},
   "source": [
    "Para escribir en un archivo, se tiene que utilizar `'w'` para escribirlo desde cero o `'a'` para agregar cosas."
   ]
  },
  {
   "cell_type": "code",
   "execution_count": 63,
   "metadata": {},
   "outputs": [],
   "source": [
    "with open('./data/arch.txt','w') as f:\n",
    "    f.write('Hola')"
   ]
  },
  {
   "cell_type": "code",
   "execution_count": 64,
   "metadata": {},
   "outputs": [],
   "source": [
    "with open('./data/arch.txt','w') as f:\n",
    "    f.write('Adios')"
   ]
  },
  {
   "cell_type": "code",
   "execution_count": 65,
   "metadata": {},
   "outputs": [],
   "source": [
    "with open('./data/arch.txt','a') as f:\n",
    "    f.write('Hola')"
   ]
  },
  {
   "cell_type": "markdown",
   "metadata": {},
   "source": [
    "Recuerden agregar `\\n` para hacer saltos de linea."
   ]
  },
  {
   "cell_type": "markdown",
   "metadata": {},
   "source": [
    "## Ejercicio"
   ]
  },
  {
   "cell_type": "markdown",
   "metadata": {},
   "source": [
    "Busquen un archivo de texto con La Iliada en http://www.gutenberg.org/cache/epub/2199/pg2199.txt.\n",
    "* ¿Cuántas palabras tiene en total?\n",
    "* ¿Cuántas palabras son únicas?"
   ]
  },
  {
   "cell_type": "code",
   "execution_count": 66,
   "metadata": {},
   "outputs": [],
   "source": [
    "with open('./data/iliada.txt') as f:\n",
    "    iliada = f.read().replace(',','').replace('.','').split()"
   ]
  },
  {
   "cell_type": "code",
   "execution_count": 67,
   "metadata": {},
   "outputs": [
    {
     "data": {
      "text/plain": [
       "155731"
      ]
     },
     "execution_count": 67,
     "metadata": {},
     "output_type": "execute_result"
    }
   ],
   "source": [
    "len(iliada)"
   ]
  },
  {
   "cell_type": "code",
   "execution_count": 68,
   "metadata": {},
   "outputs": [
    {
     "data": {
      "text/plain": [
       "10882"
      ]
     },
     "execution_count": 68,
     "metadata": {},
     "output_type": "execute_result"
    }
   ],
   "source": [
    "palabras_iliada = set(iliada)\n",
    "len(palabras_iliada)"
   ]
  },
  {
   "cell_type": "markdown",
   "metadata": {},
   "source": [
    "# Pandas y Matplotlib"
   ]
  },
  {
   "cell_type": "markdown",
   "metadata": {},
   "source": [
    "Ya sabiendo utilzar Python básico, podemos comenzar a utilizar una de las librerías que más se utilizan para manejar datos y otra para visualización de datos."
   ]
  },
  {
   "cell_type": "code",
   "execution_count": 101,
   "metadata": {},
   "outputs": [],
   "source": [
    "%matplotlib inline\n",
    "import pandas as pd\n",
    "import matplotlib.pyplot as plt"
   ]
  },
  {
   "cell_type": "markdown",
   "metadata": {},
   "source": [
    "## Series y DataFrames"
   ]
  },
  {
   "cell_type": "code",
   "execution_count": 70,
   "metadata": {},
   "outputs": [
    {
     "data": {
      "text/plain": [
       "a    [1, 2, 3, 4, 5, 6]\n",
       "dtype: object"
      ]
     },
     "execution_count": 70,
     "metadata": {},
     "output_type": "execute_result"
    }
   ],
   "source": [
    "pd.Series({'a':[1,2,3,4,5,6]})"
   ]
  },
  {
   "cell_type": "code",
   "execution_count": 71,
   "metadata": {},
   "outputs": [
    {
     "data": {
      "text/html": [
       "<div>\n",
       "<style scoped>\n",
       "    .dataframe tbody tr th:only-of-type {\n",
       "        vertical-align: middle;\n",
       "    }\n",
       "\n",
       "    .dataframe tbody tr th {\n",
       "        vertical-align: top;\n",
       "    }\n",
       "\n",
       "    .dataframe thead th {\n",
       "        text-align: right;\n",
       "    }\n",
       "</style>\n",
       "<table border=\"1\" class=\"dataframe\">\n",
       "  <thead>\n",
       "    <tr style=\"text-align: right;\">\n",
       "      <th></th>\n",
       "      <th>a</th>\n",
       "      <th>b</th>\n",
       "    </tr>\n",
       "  </thead>\n",
       "  <tbody>\n",
       "    <tr>\n",
       "      <th>0</th>\n",
       "      <td>1</td>\n",
       "      <td>5</td>\n",
       "    </tr>\n",
       "    <tr>\n",
       "      <th>1</th>\n",
       "      <td>2</td>\n",
       "      <td>4</td>\n",
       "    </tr>\n",
       "    <tr>\n",
       "      <th>2</th>\n",
       "      <td>3</td>\n",
       "      <td>3</td>\n",
       "    </tr>\n",
       "    <tr>\n",
       "      <th>3</th>\n",
       "      <td>4</td>\n",
       "      <td>2</td>\n",
       "    </tr>\n",
       "    <tr>\n",
       "      <th>4</th>\n",
       "      <td>5</td>\n",
       "      <td>1</td>\n",
       "    </tr>\n",
       "  </tbody>\n",
       "</table>\n",
       "</div>"
      ],
      "text/plain": [
       "   a  b\n",
       "0  1  5\n",
       "1  2  4\n",
       "2  3  3\n",
       "3  4  2\n",
       "4  5  1"
      ]
     },
     "execution_count": 71,
     "metadata": {},
     "output_type": "execute_result"
    }
   ],
   "source": [
    "pd.DataFrame({'a':[1,2,3,4,5], 'b':[5,4,3,2,1]})"
   ]
  },
  {
   "cell_type": "code",
   "execution_count": 72,
   "metadata": {},
   "outputs": [
    {
     "data": {
      "text/html": [
       "<div>\n",
       "<style scoped>\n",
       "    .dataframe tbody tr th:only-of-type {\n",
       "        vertical-align: middle;\n",
       "    }\n",
       "\n",
       "    .dataframe tbody tr th {\n",
       "        vertical-align: top;\n",
       "    }\n",
       "\n",
       "    .dataframe thead th {\n",
       "        text-align: right;\n",
       "    }\n",
       "</style>\n",
       "<table border=\"1\" class=\"dataframe\">\n",
       "  <thead>\n",
       "    <tr style=\"text-align: right;\">\n",
       "      <th></th>\n",
       "      <th>1</th>\n",
       "      <th>2</th>\n",
       "      <th>3</th>\n",
       "      <th>4</th>\n",
       "      <th>5</th>\n",
       "    </tr>\n",
       "  </thead>\n",
       "  <tbody>\n",
       "    <tr>\n",
       "      <th>a</th>\n",
       "      <td>NaN</td>\n",
       "      <td>NaN</td>\n",
       "      <td>NaN</td>\n",
       "      <td>NaN</td>\n",
       "      <td>NaN</td>\n",
       "    </tr>\n",
       "    <tr>\n",
       "      <th>b</th>\n",
       "      <td>NaN</td>\n",
       "      <td>NaN</td>\n",
       "      <td>NaN</td>\n",
       "      <td>NaN</td>\n",
       "      <td>NaN</td>\n",
       "    </tr>\n",
       "    <tr>\n",
       "      <th>c</th>\n",
       "      <td>NaN</td>\n",
       "      <td>NaN</td>\n",
       "      <td>NaN</td>\n",
       "      <td>NaN</td>\n",
       "      <td>NaN</td>\n",
       "    </tr>\n",
       "    <tr>\n",
       "      <th>d</th>\n",
       "      <td>NaN</td>\n",
       "      <td>NaN</td>\n",
       "      <td>NaN</td>\n",
       "      <td>NaN</td>\n",
       "      <td>NaN</td>\n",
       "    </tr>\n",
       "  </tbody>\n",
       "</table>\n",
       "</div>"
      ],
      "text/plain": [
       "     1    2    3    4    5\n",
       "a  NaN  NaN  NaN  NaN  NaN\n",
       "b  NaN  NaN  NaN  NaN  NaN\n",
       "c  NaN  NaN  NaN  NaN  NaN\n",
       "d  NaN  NaN  NaN  NaN  NaN"
      ]
     },
     "execution_count": 72,
     "metadata": {},
     "output_type": "execute_result"
    }
   ],
   "source": [
    "indices = ['a','b','c','d']\n",
    "columns = [1,2,3,4,5]\n",
    "df = pd.DataFrame(index=indices,columns=columns)\n",
    "df"
   ]
  },
  {
   "cell_type": "code",
   "execution_count": 73,
   "metadata": {},
   "outputs": [
    {
     "data": {
      "text/html": [
       "<div>\n",
       "<style scoped>\n",
       "    .dataframe tbody tr th:only-of-type {\n",
       "        vertical-align: middle;\n",
       "    }\n",
       "\n",
       "    .dataframe tbody tr th {\n",
       "        vertical-align: top;\n",
       "    }\n",
       "\n",
       "    .dataframe thead th {\n",
       "        text-align: right;\n",
       "    }\n",
       "</style>\n",
       "<table border=\"1\" class=\"dataframe\">\n",
       "  <thead>\n",
       "    <tr style=\"text-align: right;\">\n",
       "      <th></th>\n",
       "      <th>1</th>\n",
       "      <th>2</th>\n",
       "      <th>3</th>\n",
       "      <th>4</th>\n",
       "      <th>5</th>\n",
       "    </tr>\n",
       "  </thead>\n",
       "  <tbody>\n",
       "    <tr>\n",
       "      <th>a</th>\n",
       "      <td>0</td>\n",
       "      <td>0</td>\n",
       "      <td>0</td>\n",
       "      <td>0</td>\n",
       "      <td>0</td>\n",
       "    </tr>\n",
       "    <tr>\n",
       "      <th>b</th>\n",
       "      <td>0</td>\n",
       "      <td>0</td>\n",
       "      <td>0</td>\n",
       "      <td>0</td>\n",
       "      <td>0</td>\n",
       "    </tr>\n",
       "    <tr>\n",
       "      <th>c</th>\n",
       "      <td>0</td>\n",
       "      <td>0</td>\n",
       "      <td>0</td>\n",
       "      <td>0</td>\n",
       "      <td>0</td>\n",
       "    </tr>\n",
       "    <tr>\n",
       "      <th>d</th>\n",
       "      <td>0</td>\n",
       "      <td>0</td>\n",
       "      <td>0</td>\n",
       "      <td>0</td>\n",
       "      <td>0</td>\n",
       "    </tr>\n",
       "  </tbody>\n",
       "</table>\n",
       "</div>"
      ],
      "text/plain": [
       "   1  2  3  4  5\n",
       "a  0  0  0  0  0\n",
       "b  0  0  0  0  0\n",
       "c  0  0  0  0  0\n",
       "d  0  0  0  0  0"
      ]
     },
     "execution_count": 73,
     "metadata": {},
     "output_type": "execute_result"
    }
   ],
   "source": [
    "df.fillna(0)"
   ]
  },
  {
   "cell_type": "markdown",
   "metadata": {},
   "source": [
    "## Trabajando con datos"
   ]
  },
  {
   "cell_type": "markdown",
   "metadata": {},
   "source": [
    "Bajen el DataSet de futbol de https://www.kaggle.com/tadhgfitzgerald/fifa-international-soccer-mens-ranking-1993now y pongan el archivo CSV en la misma carpeta en que están trabajando."
   ]
  },
  {
   "cell_type": "code",
   "execution_count": 74,
   "metadata": {},
   "outputs": [
    {
     "data": {
      "text/html": [
       "<div>\n",
       "<style scoped>\n",
       "    .dataframe tbody tr th:only-of-type {\n",
       "        vertical-align: middle;\n",
       "    }\n",
       "\n",
       "    .dataframe tbody tr th {\n",
       "        vertical-align: top;\n",
       "    }\n",
       "\n",
       "    .dataframe thead th {\n",
       "        text-align: right;\n",
       "    }\n",
       "</style>\n",
       "<table border=\"1\" class=\"dataframe\">\n",
       "  <thead>\n",
       "    <tr style=\"text-align: right;\">\n",
       "      <th></th>\n",
       "      <th>rank</th>\n",
       "      <th>country_full</th>\n",
       "      <th>country_abrv</th>\n",
       "      <th>total_points</th>\n",
       "      <th>previous_points</th>\n",
       "      <th>rank_change</th>\n",
       "      <th>cur_year_avg</th>\n",
       "      <th>cur_year_avg_weighted</th>\n",
       "      <th>last_year_avg</th>\n",
       "      <th>last_year_avg_weighted</th>\n",
       "      <th>two_year_ago_avg</th>\n",
       "      <th>two_year_ago_weighted</th>\n",
       "      <th>three_year_ago_avg</th>\n",
       "      <th>three_year_ago_weighted</th>\n",
       "      <th>confederation</th>\n",
       "      <th>rank_date</th>\n",
       "    </tr>\n",
       "  </thead>\n",
       "  <tbody>\n",
       "    <tr>\n",
       "      <th>0</th>\n",
       "      <td>1</td>\n",
       "      <td>Germany</td>\n",
       "      <td>GER</td>\n",
       "      <td>0.0</td>\n",
       "      <td>57</td>\n",
       "      <td>0</td>\n",
       "      <td>0.0</td>\n",
       "      <td>0.0</td>\n",
       "      <td>0.0</td>\n",
       "      <td>0.0</td>\n",
       "      <td>0.0</td>\n",
       "      <td>0.0</td>\n",
       "      <td>0.0</td>\n",
       "      <td>0.0</td>\n",
       "      <td>UEFA</td>\n",
       "      <td>1993-08-08</td>\n",
       "    </tr>\n",
       "    <tr>\n",
       "      <th>1</th>\n",
       "      <td>2</td>\n",
       "      <td>Italy</td>\n",
       "      <td>ITA</td>\n",
       "      <td>0.0</td>\n",
       "      <td>57</td>\n",
       "      <td>0</td>\n",
       "      <td>0.0</td>\n",
       "      <td>0.0</td>\n",
       "      <td>0.0</td>\n",
       "      <td>0.0</td>\n",
       "      <td>0.0</td>\n",
       "      <td>0.0</td>\n",
       "      <td>0.0</td>\n",
       "      <td>0.0</td>\n",
       "      <td>UEFA</td>\n",
       "      <td>1993-08-08</td>\n",
       "    </tr>\n",
       "    <tr>\n",
       "      <th>2</th>\n",
       "      <td>3</td>\n",
       "      <td>Switzerland</td>\n",
       "      <td>SUI</td>\n",
       "      <td>0.0</td>\n",
       "      <td>50</td>\n",
       "      <td>9</td>\n",
       "      <td>0.0</td>\n",
       "      <td>0.0</td>\n",
       "      <td>0.0</td>\n",
       "      <td>0.0</td>\n",
       "      <td>0.0</td>\n",
       "      <td>0.0</td>\n",
       "      <td>0.0</td>\n",
       "      <td>0.0</td>\n",
       "      <td>UEFA</td>\n",
       "      <td>1993-08-08</td>\n",
       "    </tr>\n",
       "    <tr>\n",
       "      <th>3</th>\n",
       "      <td>4</td>\n",
       "      <td>Sweden</td>\n",
       "      <td>SWE</td>\n",
       "      <td>0.0</td>\n",
       "      <td>55</td>\n",
       "      <td>0</td>\n",
       "      <td>0.0</td>\n",
       "      <td>0.0</td>\n",
       "      <td>0.0</td>\n",
       "      <td>0.0</td>\n",
       "      <td>0.0</td>\n",
       "      <td>0.0</td>\n",
       "      <td>0.0</td>\n",
       "      <td>0.0</td>\n",
       "      <td>UEFA</td>\n",
       "      <td>1993-08-08</td>\n",
       "    </tr>\n",
       "    <tr>\n",
       "      <th>4</th>\n",
       "      <td>5</td>\n",
       "      <td>Argentina</td>\n",
       "      <td>ARG</td>\n",
       "      <td>0.0</td>\n",
       "      <td>51</td>\n",
       "      <td>5</td>\n",
       "      <td>0.0</td>\n",
       "      <td>0.0</td>\n",
       "      <td>0.0</td>\n",
       "      <td>0.0</td>\n",
       "      <td>0.0</td>\n",
       "      <td>0.0</td>\n",
       "      <td>0.0</td>\n",
       "      <td>0.0</td>\n",
       "      <td>CONMEBOL</td>\n",
       "      <td>1993-08-08</td>\n",
       "    </tr>\n",
       "  </tbody>\n",
       "</table>\n",
       "</div>"
      ],
      "text/plain": [
       "   rank country_full country_abrv  total_points  previous_points  rank_change  \\\n",
       "0     1      Germany          GER           0.0               57            0   \n",
       "1     2        Italy          ITA           0.0               57            0   \n",
       "2     3  Switzerland          SUI           0.0               50            9   \n",
       "3     4       Sweden          SWE           0.0               55            0   \n",
       "4     5    Argentina          ARG           0.0               51            5   \n",
       "\n",
       "   cur_year_avg  cur_year_avg_weighted  last_year_avg  last_year_avg_weighted  \\\n",
       "0           0.0                    0.0            0.0                     0.0   \n",
       "1           0.0                    0.0            0.0                     0.0   \n",
       "2           0.0                    0.0            0.0                     0.0   \n",
       "3           0.0                    0.0            0.0                     0.0   \n",
       "4           0.0                    0.0            0.0                     0.0   \n",
       "\n",
       "   two_year_ago_avg  two_year_ago_weighted  three_year_ago_avg  \\\n",
       "0               0.0                    0.0                 0.0   \n",
       "1               0.0                    0.0                 0.0   \n",
       "2               0.0                    0.0                 0.0   \n",
       "3               0.0                    0.0                 0.0   \n",
       "4               0.0                    0.0                 0.0   \n",
       "\n",
       "   three_year_ago_weighted confederation   rank_date  \n",
       "0                      0.0          UEFA  1993-08-08  \n",
       "1                      0.0          UEFA  1993-08-08  \n",
       "2                      0.0          UEFA  1993-08-08  \n",
       "3                      0.0          UEFA  1993-08-08  \n",
       "4                      0.0      CONMEBOL  1993-08-08  "
      ]
     },
     "execution_count": 74,
     "metadata": {},
     "output_type": "execute_result"
    }
   ],
   "source": [
    "fifa = pd.read_csv('./data/fifa_ranking.csv')\n",
    "fifa.head(5)"
   ]
  },
  {
   "cell_type": "code",
   "execution_count": 75,
   "metadata": {},
   "outputs": [
    {
     "data": {
      "text/html": [
       "<div>\n",
       "<style scoped>\n",
       "    .dataframe tbody tr th:only-of-type {\n",
       "        vertical-align: middle;\n",
       "    }\n",
       "\n",
       "    .dataframe tbody tr th {\n",
       "        vertical-align: top;\n",
       "    }\n",
       "\n",
       "    .dataframe thead th {\n",
       "        text-align: right;\n",
       "    }\n",
       "</style>\n",
       "<table border=\"1\" class=\"dataframe\">\n",
       "  <thead>\n",
       "    <tr style=\"text-align: right;\">\n",
       "      <th></th>\n",
       "      <th>country_full</th>\n",
       "      <th>country_abrv</th>\n",
       "      <th>total_points</th>\n",
       "      <th>previous_points</th>\n",
       "      <th>rank_change</th>\n",
       "      <th>cur_year_avg</th>\n",
       "      <th>cur_year_avg_weighted</th>\n",
       "      <th>last_year_avg</th>\n",
       "      <th>last_year_avg_weighted</th>\n",
       "      <th>two_year_ago_avg</th>\n",
       "      <th>two_year_ago_weighted</th>\n",
       "      <th>three_year_ago_avg</th>\n",
       "      <th>three_year_ago_weighted</th>\n",
       "      <th>confederation</th>\n",
       "      <th>rank_date</th>\n",
       "    </tr>\n",
       "    <tr>\n",
       "      <th>rank</th>\n",
       "      <th></th>\n",
       "      <th></th>\n",
       "      <th></th>\n",
       "      <th></th>\n",
       "      <th></th>\n",
       "      <th></th>\n",
       "      <th></th>\n",
       "      <th></th>\n",
       "      <th></th>\n",
       "      <th></th>\n",
       "      <th></th>\n",
       "      <th></th>\n",
       "      <th></th>\n",
       "      <th></th>\n",
       "      <th></th>\n",
       "    </tr>\n",
       "  </thead>\n",
       "  <tbody>\n",
       "    <tr>\n",
       "      <th>1</th>\n",
       "      <td>Germany</td>\n",
       "      <td>GER</td>\n",
       "      <td>0.0</td>\n",
       "      <td>57</td>\n",
       "      <td>0</td>\n",
       "      <td>0.0</td>\n",
       "      <td>0.0</td>\n",
       "      <td>0.0</td>\n",
       "      <td>0.0</td>\n",
       "      <td>0.0</td>\n",
       "      <td>0.0</td>\n",
       "      <td>0.0</td>\n",
       "      <td>0.0</td>\n",
       "      <td>UEFA</td>\n",
       "      <td>1993-08-08</td>\n",
       "    </tr>\n",
       "    <tr>\n",
       "      <th>2</th>\n",
       "      <td>Italy</td>\n",
       "      <td>ITA</td>\n",
       "      <td>0.0</td>\n",
       "      <td>57</td>\n",
       "      <td>0</td>\n",
       "      <td>0.0</td>\n",
       "      <td>0.0</td>\n",
       "      <td>0.0</td>\n",
       "      <td>0.0</td>\n",
       "      <td>0.0</td>\n",
       "      <td>0.0</td>\n",
       "      <td>0.0</td>\n",
       "      <td>0.0</td>\n",
       "      <td>UEFA</td>\n",
       "      <td>1993-08-08</td>\n",
       "    </tr>\n",
       "    <tr>\n",
       "      <th>3</th>\n",
       "      <td>Switzerland</td>\n",
       "      <td>SUI</td>\n",
       "      <td>0.0</td>\n",
       "      <td>50</td>\n",
       "      <td>9</td>\n",
       "      <td>0.0</td>\n",
       "      <td>0.0</td>\n",
       "      <td>0.0</td>\n",
       "      <td>0.0</td>\n",
       "      <td>0.0</td>\n",
       "      <td>0.0</td>\n",
       "      <td>0.0</td>\n",
       "      <td>0.0</td>\n",
       "      <td>UEFA</td>\n",
       "      <td>1993-08-08</td>\n",
       "    </tr>\n",
       "    <tr>\n",
       "      <th>4</th>\n",
       "      <td>Sweden</td>\n",
       "      <td>SWE</td>\n",
       "      <td>0.0</td>\n",
       "      <td>55</td>\n",
       "      <td>0</td>\n",
       "      <td>0.0</td>\n",
       "      <td>0.0</td>\n",
       "      <td>0.0</td>\n",
       "      <td>0.0</td>\n",
       "      <td>0.0</td>\n",
       "      <td>0.0</td>\n",
       "      <td>0.0</td>\n",
       "      <td>0.0</td>\n",
       "      <td>UEFA</td>\n",
       "      <td>1993-08-08</td>\n",
       "    </tr>\n",
       "    <tr>\n",
       "      <th>5</th>\n",
       "      <td>Argentina</td>\n",
       "      <td>ARG</td>\n",
       "      <td>0.0</td>\n",
       "      <td>51</td>\n",
       "      <td>5</td>\n",
       "      <td>0.0</td>\n",
       "      <td>0.0</td>\n",
       "      <td>0.0</td>\n",
       "      <td>0.0</td>\n",
       "      <td>0.0</td>\n",
       "      <td>0.0</td>\n",
       "      <td>0.0</td>\n",
       "      <td>0.0</td>\n",
       "      <td>CONMEBOL</td>\n",
       "      <td>1993-08-08</td>\n",
       "    </tr>\n",
       "  </tbody>\n",
       "</table>\n",
       "</div>"
      ],
      "text/plain": [
       "     country_full country_abrv  total_points  previous_points  rank_change  \\\n",
       "rank                                                                         \n",
       "1         Germany          GER           0.0               57            0   \n",
       "2           Italy          ITA           0.0               57            0   \n",
       "3     Switzerland          SUI           0.0               50            9   \n",
       "4          Sweden          SWE           0.0               55            0   \n",
       "5       Argentina          ARG           0.0               51            5   \n",
       "\n",
       "      cur_year_avg  cur_year_avg_weighted  last_year_avg  \\\n",
       "rank                                                       \n",
       "1              0.0                    0.0            0.0   \n",
       "2              0.0                    0.0            0.0   \n",
       "3              0.0                    0.0            0.0   \n",
       "4              0.0                    0.0            0.0   \n",
       "5              0.0                    0.0            0.0   \n",
       "\n",
       "      last_year_avg_weighted  two_year_ago_avg  two_year_ago_weighted  \\\n",
       "rank                                                                    \n",
       "1                        0.0               0.0                    0.0   \n",
       "2                        0.0               0.0                    0.0   \n",
       "3                        0.0               0.0                    0.0   \n",
       "4                        0.0               0.0                    0.0   \n",
       "5                        0.0               0.0                    0.0   \n",
       "\n",
       "      three_year_ago_avg  three_year_ago_weighted confederation   rank_date  \n",
       "rank                                                                         \n",
       "1                    0.0                      0.0          UEFA  1993-08-08  \n",
       "2                    0.0                      0.0          UEFA  1993-08-08  \n",
       "3                    0.0                      0.0          UEFA  1993-08-08  \n",
       "4                    0.0                      0.0          UEFA  1993-08-08  \n",
       "5                    0.0                      0.0      CONMEBOL  1993-08-08  "
      ]
     },
     "execution_count": 75,
     "metadata": {},
     "output_type": "execute_result"
    }
   ],
   "source": [
    "fifa.set_index('rank', inplace = True)\n",
    "fifa.head()"
   ]
  },
  {
   "cell_type": "code",
   "execution_count": 76,
   "metadata": {},
   "outputs": [
    {
     "data": {
      "text/plain": [
       "Index(['country_full', 'country_abrv', 'total_points', 'previous_points',\n",
       "       'rank_change', 'cur_year_avg', 'cur_year_avg_weighted', 'last_year_avg',\n",
       "       'last_year_avg_weighted', 'two_year_ago_avg', 'two_year_ago_weighted',\n",
       "       'three_year_ago_avg', 'three_year_ago_weighted', 'confederation',\n",
       "       'rank_date'],\n",
       "      dtype='object')"
      ]
     },
     "execution_count": 76,
     "metadata": {},
     "output_type": "execute_result"
    }
   ],
   "source": [
    "fifa.columns"
   ]
  },
  {
   "cell_type": "code",
   "execution_count": 77,
   "metadata": {},
   "outputs": [
    {
     "data": {
      "text/plain": [
       "rank\n",
       "1        Germany\n",
       "2          Italy\n",
       "3    Switzerland\n",
       "4         Sweden\n",
       "5      Argentina\n",
       "Name: country_full, dtype: object"
      ]
     },
     "execution_count": 77,
     "metadata": {},
     "output_type": "execute_result"
    }
   ],
   "source": [
    "fifa['country_full'].head()"
   ]
  },
  {
   "cell_type": "code",
   "execution_count": 78,
   "metadata": {},
   "outputs": [
    {
     "data": {
      "text/plain": [
       "country_full               Switzerland\n",
       "country_abrv                       SUI\n",
       "total_points                         0\n",
       "previous_points                     50\n",
       "rank_change                          9\n",
       "cur_year_avg                         0\n",
       "cur_year_avg_weighted                0\n",
       "last_year_avg                        0\n",
       "last_year_avg_weighted               0\n",
       "two_year_ago_avg                     0\n",
       "two_year_ago_weighted                0\n",
       "three_year_ago_avg                   0\n",
       "three_year_ago_weighted              0\n",
       "confederation                     UEFA\n",
       "rank_date                   1993-08-08\n",
       "Name: 3, dtype: object"
      ]
     },
     "execution_count": 78,
     "metadata": {},
     "output_type": "execute_result"
    }
   ],
   "source": [
    "fifa.iloc[2]"
   ]
  },
  {
   "cell_type": "code",
   "execution_count": 79,
   "metadata": {},
   "outputs": [
    {
     "data": {
      "text/html": [
       "<div>\n",
       "<style scoped>\n",
       "    .dataframe tbody tr th:only-of-type {\n",
       "        vertical-align: middle;\n",
       "    }\n",
       "\n",
       "    .dataframe tbody tr th {\n",
       "        vertical-align: top;\n",
       "    }\n",
       "\n",
       "    .dataframe thead th {\n",
       "        text-align: right;\n",
       "    }\n",
       "</style>\n",
       "<table border=\"1\" class=\"dataframe\">\n",
       "  <thead>\n",
       "    <tr style=\"text-align: right;\">\n",
       "      <th></th>\n",
       "      <th>country_full</th>\n",
       "      <th>country_abrv</th>\n",
       "      <th>total_points</th>\n",
       "      <th>previous_points</th>\n",
       "      <th>rank_change</th>\n",
       "      <th>cur_year_avg</th>\n",
       "      <th>cur_year_avg_weighted</th>\n",
       "      <th>last_year_avg</th>\n",
       "      <th>last_year_avg_weighted</th>\n",
       "      <th>two_year_ago_avg</th>\n",
       "      <th>two_year_ago_weighted</th>\n",
       "      <th>three_year_ago_avg</th>\n",
       "      <th>three_year_ago_weighted</th>\n",
       "      <th>confederation</th>\n",
       "      <th>rank_date</th>\n",
       "    </tr>\n",
       "    <tr>\n",
       "      <th>rank</th>\n",
       "      <th></th>\n",
       "      <th></th>\n",
       "      <th></th>\n",
       "      <th></th>\n",
       "      <th></th>\n",
       "      <th></th>\n",
       "      <th></th>\n",
       "      <th></th>\n",
       "      <th></th>\n",
       "      <th></th>\n",
       "      <th></th>\n",
       "      <th></th>\n",
       "      <th></th>\n",
       "      <th></th>\n",
       "      <th></th>\n",
       "    </tr>\n",
       "  </thead>\n",
       "  <tbody>\n",
       "    <tr>\n",
       "      <th>13</th>\n",
       "      <td>Spain</td>\n",
       "      <td>ESP</td>\n",
       "      <td>0.0</td>\n",
       "      <td>49</td>\n",
       "      <td>2</td>\n",
       "      <td>0.0</td>\n",
       "      <td>0.0</td>\n",
       "      <td>0.0</td>\n",
       "      <td>0.0</td>\n",
       "      <td>0.0</td>\n",
       "      <td>0.0</td>\n",
       "      <td>0.0</td>\n",
       "      <td>0.0</td>\n",
       "      <td>UEFA</td>\n",
       "      <td>1993-08-08</td>\n",
       "    </tr>\n",
       "    <tr>\n",
       "      <th>15</th>\n",
       "      <td>RCS</td>\n",
       "      <td>TCH</td>\n",
       "      <td>0.0</td>\n",
       "      <td>47</td>\n",
       "      <td>3</td>\n",
       "      <td>0.0</td>\n",
       "      <td>0.0</td>\n",
       "      <td>0.0</td>\n",
       "      <td>0.0</td>\n",
       "      <td>0.0</td>\n",
       "      <td>0.0</td>\n",
       "      <td>0.0</td>\n",
       "      <td>0.0</td>\n",
       "      <td>UEFA</td>\n",
       "      <td>1993-08-08</td>\n",
       "    </tr>\n",
       "    <tr>\n",
       "      <th>17</th>\n",
       "      <td>Nigeria</td>\n",
       "      <td>NGA</td>\n",
       "      <td>0.0</td>\n",
       "      <td>49</td>\n",
       "      <td>-4</td>\n",
       "      <td>0.0</td>\n",
       "      <td>0.0</td>\n",
       "      <td>0.0</td>\n",
       "      <td>0.0</td>\n",
       "      <td>0.0</td>\n",
       "      <td>0.0</td>\n",
       "      <td>0.0</td>\n",
       "      <td>0.0</td>\n",
       "      <td>CAF</td>\n",
       "      <td>1993-08-08</td>\n",
       "    </tr>\n",
       "    <tr>\n",
       "      <th>19</th>\n",
       "      <td>Colombia</td>\n",
       "      <td>COL</td>\n",
       "      <td>0.0</td>\n",
       "      <td>36</td>\n",
       "      <td>16</td>\n",
       "      <td>0.0</td>\n",
       "      <td>0.0</td>\n",
       "      <td>0.0</td>\n",
       "      <td>0.0</td>\n",
       "      <td>0.0</td>\n",
       "      <td>0.0</td>\n",
       "      <td>0.0</td>\n",
       "      <td>0.0</td>\n",
       "      <td>CONMEBOL</td>\n",
       "      <td>1993-08-08</td>\n",
       "    </tr>\n",
       "    <tr>\n",
       "      <th>21</th>\n",
       "      <td>Romania</td>\n",
       "      <td>ROU</td>\n",
       "      <td>0.0</td>\n",
       "      <td>51</td>\n",
       "      <td>-10</td>\n",
       "      <td>0.0</td>\n",
       "      <td>0.0</td>\n",
       "      <td>0.0</td>\n",
       "      <td>0.0</td>\n",
       "      <td>0.0</td>\n",
       "      <td>0.0</td>\n",
       "      <td>0.0</td>\n",
       "      <td>0.0</td>\n",
       "      <td>UEFA</td>\n",
       "      <td>1993-08-08</td>\n",
       "    </tr>\n",
       "    <tr>\n",
       "      <th>23</th>\n",
       "      <td>Portugal</td>\n",
       "      <td>POR</td>\n",
       "      <td>0.0</td>\n",
       "      <td>38</td>\n",
       "      <td>10</td>\n",
       "      <td>0.0</td>\n",
       "      <td>0.0</td>\n",
       "      <td>0.0</td>\n",
       "      <td>0.0</td>\n",
       "      <td>0.0</td>\n",
       "      <td>0.0</td>\n",
       "      <td>0.0</td>\n",
       "      <td>0.0</td>\n",
       "      <td>UEFA</td>\n",
       "      <td>1993-08-08</td>\n",
       "    </tr>\n",
       "    <tr>\n",
       "      <th>25</th>\n",
       "      <td>Zambia</td>\n",
       "      <td>ZAM</td>\n",
       "      <td>0.0</td>\n",
       "      <td>38</td>\n",
       "      <td>7</td>\n",
       "      <td>0.0</td>\n",
       "      <td>0.0</td>\n",
       "      <td>0.0</td>\n",
       "      <td>0.0</td>\n",
       "      <td>0.0</td>\n",
       "      <td>0.0</td>\n",
       "      <td>0.0</td>\n",
       "      <td>0.0</td>\n",
       "      <td>CAF</td>\n",
       "      <td>1993-08-08</td>\n",
       "    </tr>\n",
       "    <tr>\n",
       "      <th>27</th>\n",
       "      <td>Wales</td>\n",
       "      <td>WAL</td>\n",
       "      <td>0.0</td>\n",
       "      <td>40</td>\n",
       "      <td>1</td>\n",
       "      <td>0.0</td>\n",
       "      <td>0.0</td>\n",
       "      <td>0.0</td>\n",
       "      <td>0.0</td>\n",
       "      <td>0.0</td>\n",
       "      <td>0.0</td>\n",
       "      <td>0.0</td>\n",
       "      <td>0.0</td>\n",
       "      <td>UEFA</td>\n",
       "      <td>1993-08-08</td>\n",
       "    </tr>\n",
       "    <tr>\n",
       "      <th>29</th>\n",
       "      <td>Côte d'Ivoire</td>\n",
       "      <td>CIV</td>\n",
       "      <td>0.0</td>\n",
       "      <td>41</td>\n",
       "      <td>-2</td>\n",
       "      <td>0.0</td>\n",
       "      <td>0.0</td>\n",
       "      <td>0.0</td>\n",
       "      <td>0.0</td>\n",
       "      <td>0.0</td>\n",
       "      <td>0.0</td>\n",
       "      <td>0.0</td>\n",
       "      <td>0.0</td>\n",
       "      <td>CAF</td>\n",
       "      <td>1993-08-08</td>\n",
       "    </tr>\n",
       "    <tr>\n",
       "      <th>31</th>\n",
       "      <td>Tunisia</td>\n",
       "      <td>TUN</td>\n",
       "      <td>0.0</td>\n",
       "      <td>35</td>\n",
       "      <td>7</td>\n",
       "      <td>0.0</td>\n",
       "      <td>0.0</td>\n",
       "      <td>0.0</td>\n",
       "      <td>0.0</td>\n",
       "      <td>0.0</td>\n",
       "      <td>0.0</td>\n",
       "      <td>0.0</td>\n",
       "      <td>0.0</td>\n",
       "      <td>CAF</td>\n",
       "      <td>1993-08-08</td>\n",
       "    </tr>\n",
       "  </tbody>\n",
       "</table>\n",
       "</div>"
      ],
      "text/plain": [
       "       country_full country_abrv  total_points  previous_points  rank_change  \\\n",
       "rank                                                                           \n",
       "13            Spain          ESP           0.0               49            2   \n",
       "15              RCS          TCH           0.0               47            3   \n",
       "17          Nigeria          NGA           0.0               49           -4   \n",
       "19         Colombia          COL           0.0               36           16   \n",
       "21          Romania          ROU           0.0               51          -10   \n",
       "23         Portugal          POR           0.0               38           10   \n",
       "25           Zambia          ZAM           0.0               38            7   \n",
       "27            Wales          WAL           0.0               40            1   \n",
       "29    Côte d'Ivoire          CIV           0.0               41           -2   \n",
       "31          Tunisia          TUN           0.0               35            7   \n",
       "\n",
       "      cur_year_avg  cur_year_avg_weighted  last_year_avg  \\\n",
       "rank                                                       \n",
       "13             0.0                    0.0            0.0   \n",
       "15             0.0                    0.0            0.0   \n",
       "17             0.0                    0.0            0.0   \n",
       "19             0.0                    0.0            0.0   \n",
       "21             0.0                    0.0            0.0   \n",
       "23             0.0                    0.0            0.0   \n",
       "25             0.0                    0.0            0.0   \n",
       "27             0.0                    0.0            0.0   \n",
       "29             0.0                    0.0            0.0   \n",
       "31             0.0                    0.0            0.0   \n",
       "\n",
       "      last_year_avg_weighted  two_year_ago_avg  two_year_ago_weighted  \\\n",
       "rank                                                                    \n",
       "13                       0.0               0.0                    0.0   \n",
       "15                       0.0               0.0                    0.0   \n",
       "17                       0.0               0.0                    0.0   \n",
       "19                       0.0               0.0                    0.0   \n",
       "21                       0.0               0.0                    0.0   \n",
       "23                       0.0               0.0                    0.0   \n",
       "25                       0.0               0.0                    0.0   \n",
       "27                       0.0               0.0                    0.0   \n",
       "29                       0.0               0.0                    0.0   \n",
       "31                       0.0               0.0                    0.0   \n",
       "\n",
       "      three_year_ago_avg  three_year_ago_weighted confederation   rank_date  \n",
       "rank                                                                         \n",
       "13                   0.0                      0.0          UEFA  1993-08-08  \n",
       "15                   0.0                      0.0          UEFA  1993-08-08  \n",
       "17                   0.0                      0.0           CAF  1993-08-08  \n",
       "19                   0.0                      0.0      CONMEBOL  1993-08-08  \n",
       "21                   0.0                      0.0          UEFA  1993-08-08  \n",
       "23                   0.0                      0.0          UEFA  1993-08-08  \n",
       "25                   0.0                      0.0           CAF  1993-08-08  \n",
       "27                   0.0                      0.0          UEFA  1993-08-08  \n",
       "29                   0.0                      0.0           CAF  1993-08-08  \n",
       "31                   0.0                      0.0           CAF  1993-08-08  "
      ]
     },
     "execution_count": 79,
     "metadata": {},
     "output_type": "execute_result"
    }
   ],
   "source": [
    "fifa.iloc[12:32:2]"
   ]
  },
  {
   "cell_type": "code",
   "execution_count": 80,
   "metadata": {},
   "outputs": [
    {
     "data": {
      "text/html": [
       "<div>\n",
       "<style scoped>\n",
       "    .dataframe tbody tr th:only-of-type {\n",
       "        vertical-align: middle;\n",
       "    }\n",
       "\n",
       "    .dataframe tbody tr th {\n",
       "        vertical-align: top;\n",
       "    }\n",
       "\n",
       "    .dataframe thead th {\n",
       "        text-align: right;\n",
       "    }\n",
       "</style>\n",
       "<table border=\"1\" class=\"dataframe\">\n",
       "  <thead>\n",
       "    <tr style=\"text-align: right;\">\n",
       "      <th></th>\n",
       "      <th>country_full</th>\n",
       "      <th>country_abrv</th>\n",
       "      <th>total_points</th>\n",
       "      <th>previous_points</th>\n",
       "      <th>rank_change</th>\n",
       "      <th>cur_year_avg</th>\n",
       "      <th>cur_year_avg_weighted</th>\n",
       "      <th>last_year_avg</th>\n",
       "      <th>last_year_avg_weighted</th>\n",
       "      <th>two_year_ago_avg</th>\n",
       "      <th>two_year_ago_weighted</th>\n",
       "      <th>three_year_ago_avg</th>\n",
       "      <th>three_year_ago_weighted</th>\n",
       "      <th>confederation</th>\n",
       "      <th>rank_date</th>\n",
       "    </tr>\n",
       "    <tr>\n",
       "      <th>rank</th>\n",
       "      <th></th>\n",
       "      <th></th>\n",
       "      <th></th>\n",
       "      <th></th>\n",
       "      <th></th>\n",
       "      <th></th>\n",
       "      <th></th>\n",
       "      <th></th>\n",
       "      <th></th>\n",
       "      <th></th>\n",
       "      <th></th>\n",
       "      <th></th>\n",
       "      <th></th>\n",
       "      <th></th>\n",
       "      <th></th>\n",
       "    </tr>\n",
       "  </thead>\n",
       "  <tbody>\n",
       "    <tr>\n",
       "      <th>12</th>\n",
       "      <td>France</td>\n",
       "      <td>FRA</td>\n",
       "      <td>0.0</td>\n",
       "      <td>45</td>\n",
       "      <td>7</td>\n",
       "      <td>0.0</td>\n",
       "      <td>0.0</td>\n",
       "      <td>0.0</td>\n",
       "      <td>0.0</td>\n",
       "      <td>0.0</td>\n",
       "      <td>0.0</td>\n",
       "      <td>0.0</td>\n",
       "      <td>0.0</td>\n",
       "      <td>UEFA</td>\n",
       "      <td>1993-08-08</td>\n",
       "    </tr>\n",
       "    <tr>\n",
       "      <th>12</th>\n",
       "      <td>Argentina</td>\n",
       "      <td>ARG</td>\n",
       "      <td>0.0</td>\n",
       "      <td>56</td>\n",
       "      <td>-7</td>\n",
       "      <td>0.0</td>\n",
       "      <td>0.0</td>\n",
       "      <td>0.0</td>\n",
       "      <td>0.0</td>\n",
       "      <td>0.0</td>\n",
       "      <td>0.0</td>\n",
       "      <td>0.0</td>\n",
       "      <td>0.0</td>\n",
       "      <td>CONMEBOL</td>\n",
       "      <td>1993-09-23</td>\n",
       "    </tr>\n",
       "    <tr>\n",
       "      <th>12</th>\n",
       "      <td>Romania</td>\n",
       "      <td>ROU</td>\n",
       "      <td>0.0</td>\n",
       "      <td>52</td>\n",
       "      <td>3</td>\n",
       "      <td>0.0</td>\n",
       "      <td>0.0</td>\n",
       "      <td>0.0</td>\n",
       "      <td>0.0</td>\n",
       "      <td>0.0</td>\n",
       "      <td>0.0</td>\n",
       "      <td>0.0</td>\n",
       "      <td>0.0</td>\n",
       "      <td>UEFA</td>\n",
       "      <td>1993-11-19</td>\n",
       "    </tr>\n",
       "    <tr>\n",
       "      <th>12</th>\n",
       "      <td>Switzerland</td>\n",
       "      <td>SUI</td>\n",
       "      <td>0.0</td>\n",
       "      <td>55</td>\n",
       "      <td>-3</td>\n",
       "      <td>0.0</td>\n",
       "      <td>0.0</td>\n",
       "      <td>0.0</td>\n",
       "      <td>0.0</td>\n",
       "      <td>0.0</td>\n",
       "      <td>0.0</td>\n",
       "      <td>0.0</td>\n",
       "      <td>0.0</td>\n",
       "      <td>UEFA</td>\n",
       "      <td>1993-12-23</td>\n",
       "    </tr>\n",
       "    <tr>\n",
       "      <th>12</th>\n",
       "      <td>England</td>\n",
       "      <td>ENG</td>\n",
       "      <td>0.0</td>\n",
       "      <td>54</td>\n",
       "      <td>-1</td>\n",
       "      <td>0.0</td>\n",
       "      <td>0.0</td>\n",
       "      <td>0.0</td>\n",
       "      <td>0.0</td>\n",
       "      <td>0.0</td>\n",
       "      <td>0.0</td>\n",
       "      <td>0.0</td>\n",
       "      <td>0.0</td>\n",
       "      <td>UEFA</td>\n",
       "      <td>1994-02-15</td>\n",
       "    </tr>\n",
       "  </tbody>\n",
       "</table>\n",
       "</div>"
      ],
      "text/plain": [
       "     country_full country_abrv  total_points  previous_points  rank_change  \\\n",
       "rank                                                                         \n",
       "12         France          FRA           0.0               45            7   \n",
       "12      Argentina          ARG           0.0               56           -7   \n",
       "12        Romania          ROU           0.0               52            3   \n",
       "12    Switzerland          SUI           0.0               55           -3   \n",
       "12        England          ENG           0.0               54           -1   \n",
       "\n",
       "      cur_year_avg  cur_year_avg_weighted  last_year_avg  \\\n",
       "rank                                                       \n",
       "12             0.0                    0.0            0.0   \n",
       "12             0.0                    0.0            0.0   \n",
       "12             0.0                    0.0            0.0   \n",
       "12             0.0                    0.0            0.0   \n",
       "12             0.0                    0.0            0.0   \n",
       "\n",
       "      last_year_avg_weighted  two_year_ago_avg  two_year_ago_weighted  \\\n",
       "rank                                                                    \n",
       "12                       0.0               0.0                    0.0   \n",
       "12                       0.0               0.0                    0.0   \n",
       "12                       0.0               0.0                    0.0   \n",
       "12                       0.0               0.0                    0.0   \n",
       "12                       0.0               0.0                    0.0   \n",
       "\n",
       "      three_year_ago_avg  three_year_ago_weighted confederation   rank_date  \n",
       "rank                                                                         \n",
       "12                   0.0                      0.0          UEFA  1993-08-08  \n",
       "12                   0.0                      0.0      CONMEBOL  1993-09-23  \n",
       "12                   0.0                      0.0          UEFA  1993-11-19  \n",
       "12                   0.0                      0.0          UEFA  1993-12-23  \n",
       "12                   0.0                      0.0          UEFA  1994-02-15  "
      ]
     },
     "execution_count": 80,
     "metadata": {},
     "output_type": "execute_result"
    }
   ],
   "source": [
    "fifa.loc[12].head()"
   ]
  },
  {
   "cell_type": "code",
   "execution_count": 81,
   "metadata": {},
   "outputs": [
    {
     "data": {
      "text/plain": [
       "rank\n",
       "12    FRA\n",
       "12    ARG\n",
       "12    ROU\n",
       "12    SUI\n",
       "12    ENG\n",
       "Name: country_abrv, dtype: object"
      ]
     },
     "execution_count": 81,
     "metadata": {},
     "output_type": "execute_result"
    }
   ],
   "source": [
    "fifa.loc[12, 'country_abrv'].head()"
   ]
  },
  {
   "cell_type": "code",
   "execution_count": 82,
   "metadata": {},
   "outputs": [
    {
     "data": {
      "text/html": [
       "<div>\n",
       "<style scoped>\n",
       "    .dataframe tbody tr th:only-of-type {\n",
       "        vertical-align: middle;\n",
       "    }\n",
       "\n",
       "    .dataframe tbody tr th {\n",
       "        vertical-align: top;\n",
       "    }\n",
       "\n",
       "    .dataframe thead th {\n",
       "        text-align: right;\n",
       "    }\n",
       "</style>\n",
       "<table border=\"1\" class=\"dataframe\">\n",
       "  <thead>\n",
       "    <tr style=\"text-align: right;\">\n",
       "      <th></th>\n",
       "      <th>pais_f</th>\n",
       "      <th>pais_a</th>\n",
       "      <th>total_points</th>\n",
       "      <th>previous_points</th>\n",
       "      <th>rank_change</th>\n",
       "      <th>cur_year_avg</th>\n",
       "      <th>cur_year_avg_weighted</th>\n",
       "      <th>last_year_avg</th>\n",
       "      <th>last_year_avg_weighted</th>\n",
       "      <th>two_year_ago_avg</th>\n",
       "      <th>two_year_ago_weighted</th>\n",
       "      <th>three_year_ago_avg</th>\n",
       "      <th>three_year_ago_weighted</th>\n",
       "      <th>confederation</th>\n",
       "      <th>rank_date</th>\n",
       "    </tr>\n",
       "    <tr>\n",
       "      <th>rank</th>\n",
       "      <th></th>\n",
       "      <th></th>\n",
       "      <th></th>\n",
       "      <th></th>\n",
       "      <th></th>\n",
       "      <th></th>\n",
       "      <th></th>\n",
       "      <th></th>\n",
       "      <th></th>\n",
       "      <th></th>\n",
       "      <th></th>\n",
       "      <th></th>\n",
       "      <th></th>\n",
       "      <th></th>\n",
       "      <th></th>\n",
       "    </tr>\n",
       "  </thead>\n",
       "  <tbody>\n",
       "    <tr>\n",
       "      <th>1</th>\n",
       "      <td>Germany</td>\n",
       "      <td>GER</td>\n",
       "      <td>0.0</td>\n",
       "      <td>57</td>\n",
       "      <td>0</td>\n",
       "      <td>0.0</td>\n",
       "      <td>0.0</td>\n",
       "      <td>0.0</td>\n",
       "      <td>0.0</td>\n",
       "      <td>0.0</td>\n",
       "      <td>0.0</td>\n",
       "      <td>0.0</td>\n",
       "      <td>0.0</td>\n",
       "      <td>UEFA</td>\n",
       "      <td>1993-08-08</td>\n",
       "    </tr>\n",
       "    <tr>\n",
       "      <th>2</th>\n",
       "      <td>Italy</td>\n",
       "      <td>ITA</td>\n",
       "      <td>0.0</td>\n",
       "      <td>57</td>\n",
       "      <td>0</td>\n",
       "      <td>0.0</td>\n",
       "      <td>0.0</td>\n",
       "      <td>0.0</td>\n",
       "      <td>0.0</td>\n",
       "      <td>0.0</td>\n",
       "      <td>0.0</td>\n",
       "      <td>0.0</td>\n",
       "      <td>0.0</td>\n",
       "      <td>UEFA</td>\n",
       "      <td>1993-08-08</td>\n",
       "    </tr>\n",
       "    <tr>\n",
       "      <th>3</th>\n",
       "      <td>Switzerland</td>\n",
       "      <td>SUI</td>\n",
       "      <td>0.0</td>\n",
       "      <td>50</td>\n",
       "      <td>9</td>\n",
       "      <td>0.0</td>\n",
       "      <td>0.0</td>\n",
       "      <td>0.0</td>\n",
       "      <td>0.0</td>\n",
       "      <td>0.0</td>\n",
       "      <td>0.0</td>\n",
       "      <td>0.0</td>\n",
       "      <td>0.0</td>\n",
       "      <td>UEFA</td>\n",
       "      <td>1993-08-08</td>\n",
       "    </tr>\n",
       "    <tr>\n",
       "      <th>4</th>\n",
       "      <td>Sweden</td>\n",
       "      <td>SWE</td>\n",
       "      <td>0.0</td>\n",
       "      <td>55</td>\n",
       "      <td>0</td>\n",
       "      <td>0.0</td>\n",
       "      <td>0.0</td>\n",
       "      <td>0.0</td>\n",
       "      <td>0.0</td>\n",
       "      <td>0.0</td>\n",
       "      <td>0.0</td>\n",
       "      <td>0.0</td>\n",
       "      <td>0.0</td>\n",
       "      <td>UEFA</td>\n",
       "      <td>1993-08-08</td>\n",
       "    </tr>\n",
       "    <tr>\n",
       "      <th>5</th>\n",
       "      <td>Argentina</td>\n",
       "      <td>ARG</td>\n",
       "      <td>0.0</td>\n",
       "      <td>51</td>\n",
       "      <td>5</td>\n",
       "      <td>0.0</td>\n",
       "      <td>0.0</td>\n",
       "      <td>0.0</td>\n",
       "      <td>0.0</td>\n",
       "      <td>0.0</td>\n",
       "      <td>0.0</td>\n",
       "      <td>0.0</td>\n",
       "      <td>0.0</td>\n",
       "      <td>CONMEBOL</td>\n",
       "      <td>1993-08-08</td>\n",
       "    </tr>\n",
       "  </tbody>\n",
       "</table>\n",
       "</div>"
      ],
      "text/plain": [
       "           pais_f pais_a  total_points  previous_points  rank_change  \\\n",
       "rank                                                                   \n",
       "1         Germany    GER           0.0               57            0   \n",
       "2           Italy    ITA           0.0               57            0   \n",
       "3     Switzerland    SUI           0.0               50            9   \n",
       "4          Sweden    SWE           0.0               55            0   \n",
       "5       Argentina    ARG           0.0               51            5   \n",
       "\n",
       "      cur_year_avg  cur_year_avg_weighted  last_year_avg  \\\n",
       "rank                                                       \n",
       "1              0.0                    0.0            0.0   \n",
       "2              0.0                    0.0            0.0   \n",
       "3              0.0                    0.0            0.0   \n",
       "4              0.0                    0.0            0.0   \n",
       "5              0.0                    0.0            0.0   \n",
       "\n",
       "      last_year_avg_weighted  two_year_ago_avg  two_year_ago_weighted  \\\n",
       "rank                                                                    \n",
       "1                        0.0               0.0                    0.0   \n",
       "2                        0.0               0.0                    0.0   \n",
       "3                        0.0               0.0                    0.0   \n",
       "4                        0.0               0.0                    0.0   \n",
       "5                        0.0               0.0                    0.0   \n",
       "\n",
       "      three_year_ago_avg  three_year_ago_weighted confederation   rank_date  \n",
       "rank                                                                         \n",
       "1                    0.0                      0.0          UEFA  1993-08-08  \n",
       "2                    0.0                      0.0          UEFA  1993-08-08  \n",
       "3                    0.0                      0.0          UEFA  1993-08-08  \n",
       "4                    0.0                      0.0          UEFA  1993-08-08  \n",
       "5                    0.0                      0.0      CONMEBOL  1993-08-08  "
      ]
     },
     "execution_count": 82,
     "metadata": {},
     "output_type": "execute_result"
    }
   ],
   "source": [
    "fifa.rename(columns={'country_full':'pais_f', 'country_abrv':'pais_a'}).head()"
   ]
  },
  {
   "cell_type": "code",
   "execution_count": 83,
   "metadata": {},
   "outputs": [
    {
     "data": {
      "text/html": [
       "<div>\n",
       "<style scoped>\n",
       "    .dataframe tbody tr th:only-of-type {\n",
       "        vertical-align: middle;\n",
       "    }\n",
       "\n",
       "    .dataframe tbody tr th {\n",
       "        vertical-align: top;\n",
       "    }\n",
       "\n",
       "    .dataframe thead th {\n",
       "        text-align: right;\n",
       "    }\n",
       "</style>\n",
       "<table border=\"1\" class=\"dataframe\">\n",
       "  <thead>\n",
       "    <tr style=\"text-align: right;\">\n",
       "      <th></th>\n",
       "      <th>country_full</th>\n",
       "      <th>country_abrv</th>\n",
       "      <th>total_points</th>\n",
       "      <th>previous_points</th>\n",
       "      <th>rank_change</th>\n",
       "      <th>cur_year_avg</th>\n",
       "      <th>cur_year_avg_weighted</th>\n",
       "      <th>last_year_avg</th>\n",
       "      <th>last_year_avg_weighted</th>\n",
       "      <th>two_year_ago_avg</th>\n",
       "      <th>two_year_ago_weighted</th>\n",
       "      <th>three_year_ago_avg</th>\n",
       "      <th>three_year_ago_weighted</th>\n",
       "      <th>confederation</th>\n",
       "      <th>rank_date</th>\n",
       "    </tr>\n",
       "    <tr>\n",
       "      <th>rank</th>\n",
       "      <th></th>\n",
       "      <th></th>\n",
       "      <th></th>\n",
       "      <th></th>\n",
       "      <th></th>\n",
       "      <th></th>\n",
       "      <th></th>\n",
       "      <th></th>\n",
       "      <th></th>\n",
       "      <th></th>\n",
       "      <th></th>\n",
       "      <th></th>\n",
       "      <th></th>\n",
       "      <th></th>\n",
       "      <th></th>\n",
       "    </tr>\n",
       "  </thead>\n",
       "  <tbody>\n",
       "    <tr>\n",
       "      <th>1</th>\n",
       "      <td>Germany</td>\n",
       "      <td>GER</td>\n",
       "      <td>0.0</td>\n",
       "      <td>57</td>\n",
       "      <td>0</td>\n",
       "      <td>0.0</td>\n",
       "      <td>0.0</td>\n",
       "      <td>0.0</td>\n",
       "      <td>0.0</td>\n",
       "      <td>0.0</td>\n",
       "      <td>0.0</td>\n",
       "      <td>0.0</td>\n",
       "      <td>0.0</td>\n",
       "      <td>UEFA</td>\n",
       "      <td>1993-08-08</td>\n",
       "    </tr>\n",
       "    <tr>\n",
       "      <th>2</th>\n",
       "      <td>Italy</td>\n",
       "      <td>ITA</td>\n",
       "      <td>0.0</td>\n",
       "      <td>57</td>\n",
       "      <td>0</td>\n",
       "      <td>0.0</td>\n",
       "      <td>0.0</td>\n",
       "      <td>0.0</td>\n",
       "      <td>0.0</td>\n",
       "      <td>0.0</td>\n",
       "      <td>0.0</td>\n",
       "      <td>0.0</td>\n",
       "      <td>0.0</td>\n",
       "      <td>UEFA</td>\n",
       "      <td>1993-08-08</td>\n",
       "    </tr>\n",
       "    <tr>\n",
       "      <th>3</th>\n",
       "      <td>Switzerland</td>\n",
       "      <td>SUI</td>\n",
       "      <td>0.0</td>\n",
       "      <td>50</td>\n",
       "      <td>9</td>\n",
       "      <td>0.0</td>\n",
       "      <td>0.0</td>\n",
       "      <td>0.0</td>\n",
       "      <td>0.0</td>\n",
       "      <td>0.0</td>\n",
       "      <td>0.0</td>\n",
       "      <td>0.0</td>\n",
       "      <td>0.0</td>\n",
       "      <td>UEFA</td>\n",
       "      <td>1993-08-08</td>\n",
       "    </tr>\n",
       "    <tr>\n",
       "      <th>4</th>\n",
       "      <td>Sweden</td>\n",
       "      <td>SWE</td>\n",
       "      <td>0.0</td>\n",
       "      <td>55</td>\n",
       "      <td>0</td>\n",
       "      <td>0.0</td>\n",
       "      <td>0.0</td>\n",
       "      <td>0.0</td>\n",
       "      <td>0.0</td>\n",
       "      <td>0.0</td>\n",
       "      <td>0.0</td>\n",
       "      <td>0.0</td>\n",
       "      <td>0.0</td>\n",
       "      <td>UEFA</td>\n",
       "      <td>1993-08-08</td>\n",
       "    </tr>\n",
       "    <tr>\n",
       "      <th>5</th>\n",
       "      <td>Argentina</td>\n",
       "      <td>ARG</td>\n",
       "      <td>0.0</td>\n",
       "      <td>51</td>\n",
       "      <td>5</td>\n",
       "      <td>0.0</td>\n",
       "      <td>0.0</td>\n",
       "      <td>0.0</td>\n",
       "      <td>0.0</td>\n",
       "      <td>0.0</td>\n",
       "      <td>0.0</td>\n",
       "      <td>0.0</td>\n",
       "      <td>0.0</td>\n",
       "      <td>CONMEBOL</td>\n",
       "      <td>1993-08-08</td>\n",
       "    </tr>\n",
       "  </tbody>\n",
       "</table>\n",
       "</div>"
      ],
      "text/plain": [
       "     country_full country_abrv  total_points  previous_points  rank_change  \\\n",
       "rank                                                                         \n",
       "1         Germany          GER           0.0               57            0   \n",
       "2           Italy          ITA           0.0               57            0   \n",
       "3     Switzerland          SUI           0.0               50            9   \n",
       "4          Sweden          SWE           0.0               55            0   \n",
       "5       Argentina          ARG           0.0               51            5   \n",
       "\n",
       "      cur_year_avg  cur_year_avg_weighted  last_year_avg  \\\n",
       "rank                                                       \n",
       "1              0.0                    0.0            0.0   \n",
       "2              0.0                    0.0            0.0   \n",
       "3              0.0                    0.0            0.0   \n",
       "4              0.0                    0.0            0.0   \n",
       "5              0.0                    0.0            0.0   \n",
       "\n",
       "      last_year_avg_weighted  two_year_ago_avg  two_year_ago_weighted  \\\n",
       "rank                                                                    \n",
       "1                        0.0               0.0                    0.0   \n",
       "2                        0.0               0.0                    0.0   \n",
       "3                        0.0               0.0                    0.0   \n",
       "4                        0.0               0.0                    0.0   \n",
       "5                        0.0               0.0                    0.0   \n",
       "\n",
       "      three_year_ago_avg  three_year_ago_weighted confederation   rank_date  \n",
       "rank                                                                         \n",
       "1                    0.0                      0.0          UEFA  1993-08-08  \n",
       "2                    0.0                      0.0          UEFA  1993-08-08  \n",
       "3                    0.0                      0.0          UEFA  1993-08-08  \n",
       "4                    0.0                      0.0          UEFA  1993-08-08  \n",
       "5                    0.0                      0.0      CONMEBOL  1993-08-08  "
      ]
     },
     "execution_count": 83,
     "metadata": {},
     "output_type": "execute_result"
    }
   ],
   "source": [
    "fifa.head(5)"
   ]
  },
  {
   "cell_type": "code",
   "execution_count": 84,
   "metadata": {},
   "outputs": [
    {
     "data": {
      "text/html": [
       "<div>\n",
       "<style scoped>\n",
       "    .dataframe tbody tr th:only-of-type {\n",
       "        vertical-align: middle;\n",
       "    }\n",
       "\n",
       "    .dataframe tbody tr th {\n",
       "        vertical-align: top;\n",
       "    }\n",
       "\n",
       "    .dataframe thead th {\n",
       "        text-align: right;\n",
       "    }\n",
       "</style>\n",
       "<table border=\"1\" class=\"dataframe\">\n",
       "  <thead>\n",
       "    <tr style=\"text-align: right;\">\n",
       "      <th></th>\n",
       "      <th>country_full</th>\n",
       "      <th>country_abrv</th>\n",
       "    </tr>\n",
       "    <tr>\n",
       "      <th>rank</th>\n",
       "      <th></th>\n",
       "      <th></th>\n",
       "    </tr>\n",
       "  </thead>\n",
       "  <tbody>\n",
       "    <tr>\n",
       "      <th>1</th>\n",
       "      <td>Germany</td>\n",
       "      <td>GER</td>\n",
       "    </tr>\n",
       "    <tr>\n",
       "      <th>2</th>\n",
       "      <td>Italy</td>\n",
       "      <td>ITA</td>\n",
       "    </tr>\n",
       "    <tr>\n",
       "      <th>3</th>\n",
       "      <td>Switzerland</td>\n",
       "      <td>SUI</td>\n",
       "    </tr>\n",
       "    <tr>\n",
       "      <th>4</th>\n",
       "      <td>Sweden</td>\n",
       "      <td>SWE</td>\n",
       "    </tr>\n",
       "    <tr>\n",
       "      <th>5</th>\n",
       "      <td>Argentina</td>\n",
       "      <td>ARG</td>\n",
       "    </tr>\n",
       "  </tbody>\n",
       "</table>\n",
       "</div>"
      ],
      "text/plain": [
       "     country_full country_abrv\n",
       "rank                          \n",
       "1         Germany          GER\n",
       "2           Italy          ITA\n",
       "3     Switzerland          SUI\n",
       "4          Sweden          SWE\n",
       "5       Argentina          ARG"
      ]
     },
     "execution_count": 84,
     "metadata": {},
     "output_type": "execute_result"
    }
   ],
   "source": [
    "fifa[['country_full','country_abrv']].head()"
   ]
  },
  {
   "cell_type": "code",
   "execution_count": 85,
   "metadata": {},
   "outputs": [
    {
     "data": {
      "text/plain": [
       "array([ True,  True, False, ..., False, False, False])"
      ]
     },
     "execution_count": 85,
     "metadata": {},
     "output_type": "execute_result"
    }
   ],
   "source": [
    "fifa.index < 3"
   ]
  },
  {
   "cell_type": "code",
   "execution_count": 86,
   "metadata": {},
   "outputs": [
    {
     "data": {
      "text/plain": [
       "rank\n",
       "1      False\n",
       "2      False\n",
       "3      False\n",
       "4      False\n",
       "5      False\n",
       "6      False\n",
       "7      False\n",
       "8      False\n",
       "9      False\n",
       "10     False\n",
       "11     False\n",
       "12     False\n",
       "13     False\n",
       "14      True\n",
       "15     False\n",
       "16     False\n",
       "17     False\n",
       "18     False\n",
       "19     False\n",
       "20     False\n",
       "21     False\n",
       "22     False\n",
       "23     False\n",
       "24     False\n",
       "25     False\n",
       "26     False\n",
       "27     False\n",
       "28     False\n",
       "29     False\n",
       "30     False\n",
       "       ...  \n",
       "182    False\n",
       "183    False\n",
       "184    False\n",
       "185    False\n",
       "186    False\n",
       "186    False\n",
       "188    False\n",
       "188    False\n",
       "190    False\n",
       "190    False\n",
       "192    False\n",
       "192    False\n",
       "194    False\n",
       "195    False\n",
       "195    False\n",
       "197    False\n",
       "197    False\n",
       "199    False\n",
       "200    False\n",
       "201    False\n",
       "202    False\n",
       "203    False\n",
       "204    False\n",
       "204    False\n",
       "206    False\n",
       "206    False\n",
       "206    False\n",
       "206    False\n",
       "206    False\n",
       "206    False\n",
       "Name: country_abrv, Length: 57793, dtype: bool"
      ]
     },
     "execution_count": 86,
     "metadata": {},
     "output_type": "execute_result"
    }
   ],
   "source": [
    "fifa['country_abrv']=='MEX'"
   ]
  },
  {
   "cell_type": "code",
   "execution_count": 87,
   "metadata": {},
   "outputs": [],
   "source": [
    "fifa['rank_date']=fifa['rank_date'].astype('datetime64')"
   ]
  },
  {
   "cell_type": "code",
   "execution_count": 88,
   "metadata": {},
   "outputs": [],
   "source": [
    "fifa['year']=fifa['rank_date'].apply(lambda x: x.year)"
   ]
  },
  {
   "cell_type": "code",
   "execution_count": 89,
   "metadata": {},
   "outputs": [
    {
     "data": {
      "text/plain": [
       "rank\n",
       "1      1993\n",
       "2      1993\n",
       "3      1993\n",
       "4      1993\n",
       "5      1993\n",
       "6      1993\n",
       "7      1993\n",
       "8      1993\n",
       "9      1993\n",
       "10     1993\n",
       "11     1993\n",
       "12     1993\n",
       "13     1993\n",
       "14     1993\n",
       "15     1993\n",
       "16     1993\n",
       "17     1993\n",
       "18     1993\n",
       "19     1993\n",
       "20     1993\n",
       "21     1993\n",
       "22     1993\n",
       "23     1993\n",
       "24     1993\n",
       "25     1993\n",
       "26     1993\n",
       "27     1993\n",
       "28     1993\n",
       "29     1993\n",
       "30     1993\n",
       "       ... \n",
       "182    2018\n",
       "183    2018\n",
       "184    2018\n",
       "185    2018\n",
       "186    2018\n",
       "186    2018\n",
       "188    2018\n",
       "188    2018\n",
       "190    2018\n",
       "190    2018\n",
       "192    2018\n",
       "192    2018\n",
       "194    2018\n",
       "195    2018\n",
       "195    2018\n",
       "197    2018\n",
       "197    2018\n",
       "199    2018\n",
       "200    2018\n",
       "201    2018\n",
       "202    2018\n",
       "203    2018\n",
       "204    2018\n",
       "204    2018\n",
       "206    2018\n",
       "206    2018\n",
       "206    2018\n",
       "206    2018\n",
       "206    2018\n",
       "206    2018\n",
       "Name: year, Length: 57793, dtype: int64"
      ]
     },
     "execution_count": 89,
     "metadata": {},
     "output_type": "execute_result"
    }
   ],
   "source": [
    "fifa['year']"
   ]
  },
  {
   "cell_type": "code",
   "execution_count": 90,
   "metadata": {},
   "outputs": [
    {
     "data": {
      "text/html": [
       "<div>\n",
       "<style scoped>\n",
       "    .dataframe tbody tr th:only-of-type {\n",
       "        vertical-align: middle;\n",
       "    }\n",
       "\n",
       "    .dataframe tbody tr th {\n",
       "        vertical-align: top;\n",
       "    }\n",
       "\n",
       "    .dataframe thead th {\n",
       "        text-align: right;\n",
       "    }\n",
       "</style>\n",
       "<table border=\"1\" class=\"dataframe\">\n",
       "  <thead>\n",
       "    <tr style=\"text-align: right;\">\n",
       "      <th></th>\n",
       "      <th>country_full</th>\n",
       "      <th>country_abrv</th>\n",
       "      <th>total_points</th>\n",
       "      <th>previous_points</th>\n",
       "      <th>rank_change</th>\n",
       "      <th>cur_year_avg</th>\n",
       "      <th>cur_year_avg_weighted</th>\n",
       "      <th>last_year_avg</th>\n",
       "      <th>last_year_avg_weighted</th>\n",
       "      <th>two_year_ago_avg</th>\n",
       "      <th>two_year_ago_weighted</th>\n",
       "      <th>three_year_ago_avg</th>\n",
       "      <th>three_year_ago_weighted</th>\n",
       "      <th>confederation</th>\n",
       "      <th>rank_date</th>\n",
       "    </tr>\n",
       "    <tr>\n",
       "      <th>rank</th>\n",
       "      <th></th>\n",
       "      <th></th>\n",
       "      <th></th>\n",
       "      <th></th>\n",
       "      <th></th>\n",
       "      <th></th>\n",
       "      <th></th>\n",
       "      <th></th>\n",
       "      <th></th>\n",
       "      <th></th>\n",
       "      <th></th>\n",
       "      <th></th>\n",
       "      <th></th>\n",
       "      <th></th>\n",
       "      <th></th>\n",
       "    </tr>\n",
       "  </thead>\n",
       "  <tbody>\n",
       "    <tr>\n",
       "      <th>1</th>\n",
       "      <td>Germany</td>\n",
       "      <td>GER</td>\n",
       "      <td>0.0</td>\n",
       "      <td>57</td>\n",
       "      <td>0</td>\n",
       "      <td>0.0</td>\n",
       "      <td>0.0</td>\n",
       "      <td>0.0</td>\n",
       "      <td>0.0</td>\n",
       "      <td>0.0</td>\n",
       "      <td>0.0</td>\n",
       "      <td>0.0</td>\n",
       "      <td>0.0</td>\n",
       "      <td>UEFA</td>\n",
       "      <td>1993-08-08</td>\n",
       "    </tr>\n",
       "    <tr>\n",
       "      <th>2</th>\n",
       "      <td>Italy</td>\n",
       "      <td>ITA</td>\n",
       "      <td>0.0</td>\n",
       "      <td>57</td>\n",
       "      <td>0</td>\n",
       "      <td>0.0</td>\n",
       "      <td>0.0</td>\n",
       "      <td>0.0</td>\n",
       "      <td>0.0</td>\n",
       "      <td>0.0</td>\n",
       "      <td>0.0</td>\n",
       "      <td>0.0</td>\n",
       "      <td>0.0</td>\n",
       "      <td>UEFA</td>\n",
       "      <td>1993-08-08</td>\n",
       "    </tr>\n",
       "    <tr>\n",
       "      <th>3</th>\n",
       "      <td>Switzerland</td>\n",
       "      <td>SUI</td>\n",
       "      <td>0.0</td>\n",
       "      <td>50</td>\n",
       "      <td>9</td>\n",
       "      <td>0.0</td>\n",
       "      <td>0.0</td>\n",
       "      <td>0.0</td>\n",
       "      <td>0.0</td>\n",
       "      <td>0.0</td>\n",
       "      <td>0.0</td>\n",
       "      <td>0.0</td>\n",
       "      <td>0.0</td>\n",
       "      <td>UEFA</td>\n",
       "      <td>1993-08-08</td>\n",
       "    </tr>\n",
       "    <tr>\n",
       "      <th>4</th>\n",
       "      <td>Sweden</td>\n",
       "      <td>SWE</td>\n",
       "      <td>0.0</td>\n",
       "      <td>55</td>\n",
       "      <td>0</td>\n",
       "      <td>0.0</td>\n",
       "      <td>0.0</td>\n",
       "      <td>0.0</td>\n",
       "      <td>0.0</td>\n",
       "      <td>0.0</td>\n",
       "      <td>0.0</td>\n",
       "      <td>0.0</td>\n",
       "      <td>0.0</td>\n",
       "      <td>UEFA</td>\n",
       "      <td>1993-08-08</td>\n",
       "    </tr>\n",
       "    <tr>\n",
       "      <th>5</th>\n",
       "      <td>Argentina</td>\n",
       "      <td>ARG</td>\n",
       "      <td>0.0</td>\n",
       "      <td>51</td>\n",
       "      <td>5</td>\n",
       "      <td>0.0</td>\n",
       "      <td>0.0</td>\n",
       "      <td>0.0</td>\n",
       "      <td>0.0</td>\n",
       "      <td>0.0</td>\n",
       "      <td>0.0</td>\n",
       "      <td>0.0</td>\n",
       "      <td>0.0</td>\n",
       "      <td>CONMEBOL</td>\n",
       "      <td>1993-08-08</td>\n",
       "    </tr>\n",
       "  </tbody>\n",
       "</table>\n",
       "</div>"
      ],
      "text/plain": [
       "     country_full country_abrv  total_points  previous_points  rank_change  \\\n",
       "rank                                                                         \n",
       "1         Germany          GER           0.0               57            0   \n",
       "2           Italy          ITA           0.0               57            0   \n",
       "3     Switzerland          SUI           0.0               50            9   \n",
       "4          Sweden          SWE           0.0               55            0   \n",
       "5       Argentina          ARG           0.0               51            5   \n",
       "\n",
       "      cur_year_avg  cur_year_avg_weighted  last_year_avg  \\\n",
       "rank                                                       \n",
       "1              0.0                    0.0            0.0   \n",
       "2              0.0                    0.0            0.0   \n",
       "3              0.0                    0.0            0.0   \n",
       "4              0.0                    0.0            0.0   \n",
       "5              0.0                    0.0            0.0   \n",
       "\n",
       "      last_year_avg_weighted  two_year_ago_avg  two_year_ago_weighted  \\\n",
       "rank                                                                    \n",
       "1                        0.0               0.0                    0.0   \n",
       "2                        0.0               0.0                    0.0   \n",
       "3                        0.0               0.0                    0.0   \n",
       "4                        0.0               0.0                    0.0   \n",
       "5                        0.0               0.0                    0.0   \n",
       "\n",
       "      three_year_ago_avg  three_year_ago_weighted confederation  rank_date  \n",
       "rank                                                                        \n",
       "1                    0.0                      0.0          UEFA 1993-08-08  \n",
       "2                    0.0                      0.0          UEFA 1993-08-08  \n",
       "3                    0.0                      0.0          UEFA 1993-08-08  \n",
       "4                    0.0                      0.0          UEFA 1993-08-08  \n",
       "5                    0.0                      0.0      CONMEBOL 1993-08-08  "
      ]
     },
     "execution_count": 90,
     "metadata": {},
     "output_type": "execute_result"
    }
   ],
   "source": [
    "fifa.drop(columns='year').head()"
   ]
  },
  {
   "cell_type": "code",
   "execution_count": 91,
   "metadata": {},
   "outputs": [
    {
     "data": {
      "text/html": [
       "<div>\n",
       "<style scoped>\n",
       "    .dataframe tbody tr th:only-of-type {\n",
       "        vertical-align: middle;\n",
       "    }\n",
       "\n",
       "    .dataframe tbody tr th {\n",
       "        vertical-align: top;\n",
       "    }\n",
       "\n",
       "    .dataframe thead th {\n",
       "        text-align: right;\n",
       "    }\n",
       "</style>\n",
       "<table border=\"1\" class=\"dataframe\">\n",
       "  <thead>\n",
       "    <tr style=\"text-align: right;\">\n",
       "      <th></th>\n",
       "      <th>country_full</th>\n",
       "      <th>country_abrv</th>\n",
       "      <th>total_points</th>\n",
       "      <th>previous_points</th>\n",
       "      <th>rank_change</th>\n",
       "      <th>cur_year_avg</th>\n",
       "      <th>cur_year_avg_weighted</th>\n",
       "      <th>last_year_avg</th>\n",
       "      <th>last_year_avg_weighted</th>\n",
       "      <th>two_year_ago_avg</th>\n",
       "      <th>two_year_ago_weighted</th>\n",
       "      <th>three_year_ago_avg</th>\n",
       "      <th>three_year_ago_weighted</th>\n",
       "      <th>confederation</th>\n",
       "      <th>rank_date</th>\n",
       "      <th>year</th>\n",
       "    </tr>\n",
       "    <tr>\n",
       "      <th>rank</th>\n",
       "      <th></th>\n",
       "      <th></th>\n",
       "      <th></th>\n",
       "      <th></th>\n",
       "      <th></th>\n",
       "      <th></th>\n",
       "      <th></th>\n",
       "      <th></th>\n",
       "      <th></th>\n",
       "      <th></th>\n",
       "      <th></th>\n",
       "      <th></th>\n",
       "      <th></th>\n",
       "      <th></th>\n",
       "      <th></th>\n",
       "      <th></th>\n",
       "    </tr>\n",
       "  </thead>\n",
       "  <tbody>\n",
       "    <tr>\n",
       "      <th>12</th>\n",
       "      <td>Mexico</td>\n",
       "      <td>MEX</td>\n",
       "      <td>0.0</td>\n",
       "      <td>693</td>\n",
       "      <td>0</td>\n",
       "      <td>0.0</td>\n",
       "      <td>0.0</td>\n",
       "      <td>0.0</td>\n",
       "      <td>0.0</td>\n",
       "      <td>0.0</td>\n",
       "      <td>0.0</td>\n",
       "      <td>0.0</td>\n",
       "      <td>0.0</td>\n",
       "      <td>CONCACAF</td>\n",
       "      <td>2001-01-17</td>\n",
       "      <td>2001</td>\n",
       "    </tr>\n",
       "    <tr>\n",
       "      <th>12</th>\n",
       "      <td>Mexico</td>\n",
       "      <td>MEX</td>\n",
       "      <td>0.0</td>\n",
       "      <td>691</td>\n",
       "      <td>0</td>\n",
       "      <td>0.0</td>\n",
       "      <td>0.0</td>\n",
       "      <td>0.0</td>\n",
       "      <td>0.0</td>\n",
       "      <td>0.0</td>\n",
       "      <td>0.0</td>\n",
       "      <td>0.0</td>\n",
       "      <td>0.0</td>\n",
       "      <td>CONCACAF</td>\n",
       "      <td>2001-02-14</td>\n",
       "      <td>2001</td>\n",
       "    </tr>\n",
       "    <tr>\n",
       "      <th>12</th>\n",
       "      <td>Mexico</td>\n",
       "      <td>MEX</td>\n",
       "      <td>0.0</td>\n",
       "      <td>688</td>\n",
       "      <td>0</td>\n",
       "      <td>0.0</td>\n",
       "      <td>0.0</td>\n",
       "      <td>0.0</td>\n",
       "      <td>0.0</td>\n",
       "      <td>0.0</td>\n",
       "      <td>0.0</td>\n",
       "      <td>0.0</td>\n",
       "      <td>0.0</td>\n",
       "      <td>CONCACAF</td>\n",
       "      <td>2001-03-14</td>\n",
       "      <td>2001</td>\n",
       "    </tr>\n",
       "    <tr>\n",
       "      <th>13</th>\n",
       "      <td>Mexico</td>\n",
       "      <td>MEX</td>\n",
       "      <td>0.0</td>\n",
       "      <td>684</td>\n",
       "      <td>-1</td>\n",
       "      <td>0.0</td>\n",
       "      <td>0.0</td>\n",
       "      <td>0.0</td>\n",
       "      <td>0.0</td>\n",
       "      <td>0.0</td>\n",
       "      <td>0.0</td>\n",
       "      <td>0.0</td>\n",
       "      <td>0.0</td>\n",
       "      <td>CONCACAF</td>\n",
       "      <td>2001-04-11</td>\n",
       "      <td>2001</td>\n",
       "    </tr>\n",
       "    <tr>\n",
       "      <th>13</th>\n",
       "      <td>Mexico</td>\n",
       "      <td>MEX</td>\n",
       "      <td>0.0</td>\n",
       "      <td>681</td>\n",
       "      <td>0</td>\n",
       "      <td>0.0</td>\n",
       "      <td>0.0</td>\n",
       "      <td>0.0</td>\n",
       "      <td>0.0</td>\n",
       "      <td>0.0</td>\n",
       "      <td>0.0</td>\n",
       "      <td>0.0</td>\n",
       "      <td>0.0</td>\n",
       "      <td>CONCACAF</td>\n",
       "      <td>2001-05-16</td>\n",
       "      <td>2001</td>\n",
       "    </tr>\n",
       "  </tbody>\n",
       "</table>\n",
       "</div>"
      ],
      "text/plain": [
       "     country_full country_abrv  total_points  previous_points  rank_change  \\\n",
       "rank                                                                         \n",
       "12         Mexico          MEX           0.0              693            0   \n",
       "12         Mexico          MEX           0.0              691            0   \n",
       "12         Mexico          MEX           0.0              688            0   \n",
       "13         Mexico          MEX           0.0              684           -1   \n",
       "13         Mexico          MEX           0.0              681            0   \n",
       "\n",
       "      cur_year_avg  cur_year_avg_weighted  last_year_avg  \\\n",
       "rank                                                       \n",
       "12             0.0                    0.0            0.0   \n",
       "12             0.0                    0.0            0.0   \n",
       "12             0.0                    0.0            0.0   \n",
       "13             0.0                    0.0            0.0   \n",
       "13             0.0                    0.0            0.0   \n",
       "\n",
       "      last_year_avg_weighted  two_year_ago_avg  two_year_ago_weighted  \\\n",
       "rank                                                                    \n",
       "12                       0.0               0.0                    0.0   \n",
       "12                       0.0               0.0                    0.0   \n",
       "12                       0.0               0.0                    0.0   \n",
       "13                       0.0               0.0                    0.0   \n",
       "13                       0.0               0.0                    0.0   \n",
       "\n",
       "      three_year_ago_avg  three_year_ago_weighted confederation  rank_date  \\\n",
       "rank                                                                         \n",
       "12                   0.0                      0.0      CONCACAF 2001-01-17   \n",
       "12                   0.0                      0.0      CONCACAF 2001-02-14   \n",
       "12                   0.0                      0.0      CONCACAF 2001-03-14   \n",
       "13                   0.0                      0.0      CONCACAF 2001-04-11   \n",
       "13                   0.0                      0.0      CONCACAF 2001-05-16   \n",
       "\n",
       "      year  \n",
       "rank        \n",
       "12    2001  \n",
       "12    2001  \n",
       "12    2001  \n",
       "13    2001  \n",
       "13    2001  "
      ]
     },
     "execution_count": 91,
     "metadata": {},
     "output_type": "execute_result"
    }
   ],
   "source": [
    "mex=fifa[(fifa['country_abrv']=='MEX') & (fifa['year']>2000)]\n",
    "mex.head()"
   ]
  },
  {
   "cell_type": "code",
   "execution_count": 92,
   "metadata": {},
   "outputs": [
    {
     "data": {
      "text/html": [
       "<div>\n",
       "<style scoped>\n",
       "    .dataframe tbody tr th:only-of-type {\n",
       "        vertical-align: middle;\n",
       "    }\n",
       "\n",
       "    .dataframe tbody tr th {\n",
       "        vertical-align: top;\n",
       "    }\n",
       "\n",
       "    .dataframe thead th {\n",
       "        text-align: right;\n",
       "    }\n",
       "</style>\n",
       "<table border=\"1\" class=\"dataframe\">\n",
       "  <thead>\n",
       "    <tr style=\"text-align: right;\">\n",
       "      <th></th>\n",
       "      <th>country_full</th>\n",
       "      <th>country_abrv</th>\n",
       "      <th>total_points</th>\n",
       "      <th>previous_points</th>\n",
       "      <th>rank_change</th>\n",
       "      <th>cur_year_avg</th>\n",
       "      <th>cur_year_avg_weighted</th>\n",
       "      <th>last_year_avg</th>\n",
       "      <th>last_year_avg_weighted</th>\n",
       "      <th>two_year_ago_avg</th>\n",
       "      <th>two_year_ago_weighted</th>\n",
       "      <th>three_year_ago_avg</th>\n",
       "      <th>three_year_ago_weighted</th>\n",
       "      <th>confederation</th>\n",
       "      <th>rank_date</th>\n",
       "      <th>year</th>\n",
       "    </tr>\n",
       "    <tr>\n",
       "      <th>rank</th>\n",
       "      <th></th>\n",
       "      <th></th>\n",
       "      <th></th>\n",
       "      <th></th>\n",
       "      <th></th>\n",
       "      <th></th>\n",
       "      <th></th>\n",
       "      <th></th>\n",
       "      <th></th>\n",
       "      <th></th>\n",
       "      <th></th>\n",
       "      <th></th>\n",
       "      <th></th>\n",
       "      <th></th>\n",
       "      <th></th>\n",
       "      <th></th>\n",
       "    </tr>\n",
       "  </thead>\n",
       "  <tbody>\n",
       "    <tr>\n",
       "      <th>12</th>\n",
       "      <td>Mexico</td>\n",
       "      <td>MEX</td>\n",
       "      <td>0.0</td>\n",
       "      <td>693</td>\n",
       "      <td>0</td>\n",
       "      <td>0.0</td>\n",
       "      <td>0.0</td>\n",
       "      <td>0.0</td>\n",
       "      <td>0.0</td>\n",
       "      <td>0.0</td>\n",
       "      <td>0.0</td>\n",
       "      <td>0.0</td>\n",
       "      <td>0.0</td>\n",
       "      <td>CONCACAF</td>\n",
       "      <td>2001-01-17</td>\n",
       "      <td>2001</td>\n",
       "    </tr>\n",
       "    <tr>\n",
       "      <th>12</th>\n",
       "      <td>Mexico</td>\n",
       "      <td>MEX</td>\n",
       "      <td>0.0</td>\n",
       "      <td>691</td>\n",
       "      <td>0</td>\n",
       "      <td>0.0</td>\n",
       "      <td>0.0</td>\n",
       "      <td>0.0</td>\n",
       "      <td>0.0</td>\n",
       "      <td>0.0</td>\n",
       "      <td>0.0</td>\n",
       "      <td>0.0</td>\n",
       "      <td>0.0</td>\n",
       "      <td>CONCACAF</td>\n",
       "      <td>2001-02-14</td>\n",
       "      <td>2001</td>\n",
       "    </tr>\n",
       "    <tr>\n",
       "      <th>12</th>\n",
       "      <td>Mexico</td>\n",
       "      <td>MEX</td>\n",
       "      <td>0.0</td>\n",
       "      <td>688</td>\n",
       "      <td>0</td>\n",
       "      <td>0.0</td>\n",
       "      <td>0.0</td>\n",
       "      <td>0.0</td>\n",
       "      <td>0.0</td>\n",
       "      <td>0.0</td>\n",
       "      <td>0.0</td>\n",
       "      <td>0.0</td>\n",
       "      <td>0.0</td>\n",
       "      <td>CONCACAF</td>\n",
       "      <td>2001-03-14</td>\n",
       "      <td>2001</td>\n",
       "    </tr>\n",
       "    <tr>\n",
       "      <th>13</th>\n",
       "      <td>Mexico</td>\n",
       "      <td>MEX</td>\n",
       "      <td>0.0</td>\n",
       "      <td>684</td>\n",
       "      <td>-1</td>\n",
       "      <td>0.0</td>\n",
       "      <td>0.0</td>\n",
       "      <td>0.0</td>\n",
       "      <td>0.0</td>\n",
       "      <td>0.0</td>\n",
       "      <td>0.0</td>\n",
       "      <td>0.0</td>\n",
       "      <td>0.0</td>\n",
       "      <td>CONCACAF</td>\n",
       "      <td>2001-04-11</td>\n",
       "      <td>2001</td>\n",
       "    </tr>\n",
       "    <tr>\n",
       "      <th>13</th>\n",
       "      <td>Mexico</td>\n",
       "      <td>MEX</td>\n",
       "      <td>0.0</td>\n",
       "      <td>681</td>\n",
       "      <td>0</td>\n",
       "      <td>0.0</td>\n",
       "      <td>0.0</td>\n",
       "      <td>0.0</td>\n",
       "      <td>0.0</td>\n",
       "      <td>0.0</td>\n",
       "      <td>0.0</td>\n",
       "      <td>0.0</td>\n",
       "      <td>0.0</td>\n",
       "      <td>CONCACAF</td>\n",
       "      <td>2001-05-16</td>\n",
       "      <td>2001</td>\n",
       "    </tr>\n",
       "  </tbody>\n",
       "</table>\n",
       "</div>"
      ],
      "text/plain": [
       "     country_full country_abrv  total_points  previous_points  rank_change  \\\n",
       "rank                                                                         \n",
       "12         Mexico          MEX           0.0              693            0   \n",
       "12         Mexico          MEX           0.0              691            0   \n",
       "12         Mexico          MEX           0.0              688            0   \n",
       "13         Mexico          MEX           0.0              684           -1   \n",
       "13         Mexico          MEX           0.0              681            0   \n",
       "\n",
       "      cur_year_avg  cur_year_avg_weighted  last_year_avg  \\\n",
       "rank                                                       \n",
       "12             0.0                    0.0            0.0   \n",
       "12             0.0                    0.0            0.0   \n",
       "12             0.0                    0.0            0.0   \n",
       "13             0.0                    0.0            0.0   \n",
       "13             0.0                    0.0            0.0   \n",
       "\n",
       "      last_year_avg_weighted  two_year_ago_avg  two_year_ago_weighted  \\\n",
       "rank                                                                    \n",
       "12                       0.0               0.0                    0.0   \n",
       "12                       0.0               0.0                    0.0   \n",
       "12                       0.0               0.0                    0.0   \n",
       "13                       0.0               0.0                    0.0   \n",
       "13                       0.0               0.0                    0.0   \n",
       "\n",
       "      three_year_ago_avg  three_year_ago_weighted confederation  rank_date  \\\n",
       "rank                                                                         \n",
       "12                   0.0                      0.0      CONCACAF 2001-01-17   \n",
       "12                   0.0                      0.0      CONCACAF 2001-02-14   \n",
       "12                   0.0                      0.0      CONCACAF 2001-03-14   \n",
       "13                   0.0                      0.0      CONCACAF 2001-04-11   \n",
       "13                   0.0                      0.0      CONCACAF 2001-05-16   \n",
       "\n",
       "      year  \n",
       "rank        \n",
       "12    2001  \n",
       "12    2001  \n",
       "12    2001  \n",
       "13    2001  \n",
       "13    2001  "
      ]
     },
     "execution_count": 92,
     "metadata": {},
     "output_type": "execute_result"
    }
   ],
   "source": [
    "mex=mex.sort_values(by='rank_date')\n",
    "mex.head()"
   ]
  },
  {
   "cell_type": "markdown",
   "metadata": {},
   "source": [
    "Para hacer gráficas, utilizamos matplotlib."
   ]
  },
  {
   "cell_type": "code",
   "execution_count": 93,
   "metadata": {},
   "outputs": [],
   "source": [
    "plt.plot(mex['rank_date'], mex.index)\n",
    "plt.show()"
   ]
  },
  {
   "cell_type": "markdown",
   "metadata": {},
   "source": [
    "## Agrupación"
   ]
  },
  {
   "cell_type": "code",
   "execution_count": 94,
   "metadata": {},
   "outputs": [
    {
     "data": {
      "text/html": [
       "<div>\n",
       "<style scoped>\n",
       "    .dataframe tbody tr th:only-of-type {\n",
       "        vertical-align: middle;\n",
       "    }\n",
       "\n",
       "    .dataframe tbody tr th {\n",
       "        vertical-align: top;\n",
       "    }\n",
       "\n",
       "    .dataframe thead th {\n",
       "        text-align: right;\n",
       "    }\n",
       "</style>\n",
       "<table border=\"1\" class=\"dataframe\">\n",
       "  <thead>\n",
       "    <tr style=\"text-align: right;\">\n",
       "      <th></th>\n",
       "      <th>country_full</th>\n",
       "      <th>country_abrv</th>\n",
       "      <th>total_points</th>\n",
       "      <th>previous_points</th>\n",
       "      <th>rank_change</th>\n",
       "      <th>cur_year_avg</th>\n",
       "      <th>cur_year_avg_weighted</th>\n",
       "      <th>last_year_avg</th>\n",
       "      <th>last_year_avg_weighted</th>\n",
       "      <th>two_year_ago_avg</th>\n",
       "      <th>two_year_ago_weighted</th>\n",
       "      <th>three_year_ago_avg</th>\n",
       "      <th>three_year_ago_weighted</th>\n",
       "      <th>confederation</th>\n",
       "      <th>rank_date</th>\n",
       "      <th>year</th>\n",
       "    </tr>\n",
       "    <tr>\n",
       "      <th>rank</th>\n",
       "      <th></th>\n",
       "      <th></th>\n",
       "      <th></th>\n",
       "      <th></th>\n",
       "      <th></th>\n",
       "      <th></th>\n",
       "      <th></th>\n",
       "      <th></th>\n",
       "      <th></th>\n",
       "      <th></th>\n",
       "      <th></th>\n",
       "      <th></th>\n",
       "      <th></th>\n",
       "      <th></th>\n",
       "      <th></th>\n",
       "      <th></th>\n",
       "    </tr>\n",
       "  </thead>\n",
       "  <tbody>\n",
       "    <tr>\n",
       "      <th>1</th>\n",
       "      <td>Germany</td>\n",
       "      <td>GER</td>\n",
       "      <td>0.00</td>\n",
       "      <td>57</td>\n",
       "      <td>0</td>\n",
       "      <td>0.00</td>\n",
       "      <td>0.00</td>\n",
       "      <td>0.00</td>\n",
       "      <td>0.00</td>\n",
       "      <td>0.00</td>\n",
       "      <td>0.00</td>\n",
       "      <td>0.00</td>\n",
       "      <td>0.00</td>\n",
       "      <td>UEFA</td>\n",
       "      <td>1993-08-08</td>\n",
       "      <td>1993</td>\n",
       "    </tr>\n",
       "    <tr>\n",
       "      <th>2</th>\n",
       "      <td>Italy</td>\n",
       "      <td>ITA</td>\n",
       "      <td>0.00</td>\n",
       "      <td>57</td>\n",
       "      <td>0</td>\n",
       "      <td>0.00</td>\n",
       "      <td>0.00</td>\n",
       "      <td>0.00</td>\n",
       "      <td>0.00</td>\n",
       "      <td>0.00</td>\n",
       "      <td>0.00</td>\n",
       "      <td>0.00</td>\n",
       "      <td>0.00</td>\n",
       "      <td>UEFA</td>\n",
       "      <td>1993-08-08</td>\n",
       "      <td>1993</td>\n",
       "    </tr>\n",
       "    <tr>\n",
       "      <th>3</th>\n",
       "      <td>Switzerland</td>\n",
       "      <td>SUI</td>\n",
       "      <td>0.00</td>\n",
       "      <td>50</td>\n",
       "      <td>9</td>\n",
       "      <td>0.00</td>\n",
       "      <td>0.00</td>\n",
       "      <td>0.00</td>\n",
       "      <td>0.00</td>\n",
       "      <td>0.00</td>\n",
       "      <td>0.00</td>\n",
       "      <td>0.00</td>\n",
       "      <td>0.00</td>\n",
       "      <td>UEFA</td>\n",
       "      <td>1993-08-08</td>\n",
       "      <td>1993</td>\n",
       "    </tr>\n",
       "    <tr>\n",
       "      <th>4</th>\n",
       "      <td>Sweden</td>\n",
       "      <td>SWE</td>\n",
       "      <td>0.00</td>\n",
       "      <td>55</td>\n",
       "      <td>0</td>\n",
       "      <td>0.00</td>\n",
       "      <td>0.00</td>\n",
       "      <td>0.00</td>\n",
       "      <td>0.00</td>\n",
       "      <td>0.00</td>\n",
       "      <td>0.00</td>\n",
       "      <td>0.00</td>\n",
       "      <td>0.00</td>\n",
       "      <td>UEFA</td>\n",
       "      <td>1993-08-08</td>\n",
       "      <td>1993</td>\n",
       "    </tr>\n",
       "    <tr>\n",
       "      <th>5</th>\n",
       "      <td>Argentina</td>\n",
       "      <td>ARG</td>\n",
       "      <td>0.00</td>\n",
       "      <td>51</td>\n",
       "      <td>5</td>\n",
       "      <td>0.00</td>\n",
       "      <td>0.00</td>\n",
       "      <td>0.00</td>\n",
       "      <td>0.00</td>\n",
       "      <td>0.00</td>\n",
       "      <td>0.00</td>\n",
       "      <td>0.00</td>\n",
       "      <td>0.00</td>\n",
       "      <td>CONMEBOL</td>\n",
       "      <td>1993-08-08</td>\n",
       "      <td>1993</td>\n",
       "    </tr>\n",
       "    <tr>\n",
       "      <th>1</th>\n",
       "      <td>Germany</td>\n",
       "      <td>GER</td>\n",
       "      <td>0.00</td>\n",
       "      <td>59</td>\n",
       "      <td>0</td>\n",
       "      <td>0.00</td>\n",
       "      <td>0.00</td>\n",
       "      <td>0.00</td>\n",
       "      <td>0.00</td>\n",
       "      <td>0.00</td>\n",
       "      <td>0.00</td>\n",
       "      <td>0.00</td>\n",
       "      <td>0.00</td>\n",
       "      <td>UEFA</td>\n",
       "      <td>1994-02-15</td>\n",
       "      <td>1994</td>\n",
       "    </tr>\n",
       "    <tr>\n",
       "      <th>2</th>\n",
       "      <td>Brazil</td>\n",
       "      <td>BRA</td>\n",
       "      <td>0.00</td>\n",
       "      <td>58</td>\n",
       "      <td>1</td>\n",
       "      <td>0.00</td>\n",
       "      <td>0.00</td>\n",
       "      <td>0.00</td>\n",
       "      <td>0.00</td>\n",
       "      <td>0.00</td>\n",
       "      <td>0.00</td>\n",
       "      <td>0.00</td>\n",
       "      <td>0.00</td>\n",
       "      <td>CONMEBOL</td>\n",
       "      <td>1994-02-15</td>\n",
       "      <td>1994</td>\n",
       "    </tr>\n",
       "    <tr>\n",
       "      <th>3</th>\n",
       "      <td>Netherlands</td>\n",
       "      <td>NED</td>\n",
       "      <td>0.00</td>\n",
       "      <td>56</td>\n",
       "      <td>4</td>\n",
       "      <td>0.00</td>\n",
       "      <td>0.00</td>\n",
       "      <td>0.00</td>\n",
       "      <td>0.00</td>\n",
       "      <td>0.00</td>\n",
       "      <td>0.00</td>\n",
       "      <td>0.00</td>\n",
       "      <td>0.00</td>\n",
       "      <td>UEFA</td>\n",
       "      <td>1994-02-15</td>\n",
       "      <td>1994</td>\n",
       "    </tr>\n",
       "    <tr>\n",
       "      <th>4</th>\n",
       "      <td>Denmark</td>\n",
       "      <td>DEN</td>\n",
       "      <td>0.00</td>\n",
       "      <td>57</td>\n",
       "      <td>2</td>\n",
       "      <td>0.00</td>\n",
       "      <td>0.00</td>\n",
       "      <td>0.00</td>\n",
       "      <td>0.00</td>\n",
       "      <td>0.00</td>\n",
       "      <td>0.00</td>\n",
       "      <td>0.00</td>\n",
       "      <td>0.00</td>\n",
       "      <td>UEFA</td>\n",
       "      <td>1994-02-15</td>\n",
       "      <td>1994</td>\n",
       "    </tr>\n",
       "    <tr>\n",
       "      <th>5</th>\n",
       "      <td>Norway</td>\n",
       "      <td>NOR</td>\n",
       "      <td>0.00</td>\n",
       "      <td>57</td>\n",
       "      <td>-1</td>\n",
       "      <td>0.00</td>\n",
       "      <td>0.00</td>\n",
       "      <td>0.00</td>\n",
       "      <td>0.00</td>\n",
       "      <td>0.00</td>\n",
       "      <td>0.00</td>\n",
       "      <td>0.00</td>\n",
       "      <td>0.00</td>\n",
       "      <td>UEFA</td>\n",
       "      <td>1994-02-15</td>\n",
       "      <td>1994</td>\n",
       "    </tr>\n",
       "    <tr>\n",
       "      <th>1</th>\n",
       "      <td>Brazil</td>\n",
       "      <td>BRA</td>\n",
       "      <td>0.00</td>\n",
       "      <td>67</td>\n",
       "      <td>0</td>\n",
       "      <td>0.00</td>\n",
       "      <td>0.00</td>\n",
       "      <td>0.00</td>\n",
       "      <td>0.00</td>\n",
       "      <td>0.00</td>\n",
       "      <td>0.00</td>\n",
       "      <td>0.00</td>\n",
       "      <td>0.00</td>\n",
       "      <td>CONMEBOL</td>\n",
       "      <td>1995-02-20</td>\n",
       "      <td>1995</td>\n",
       "    </tr>\n",
       "    <tr>\n",
       "      <th>2</th>\n",
       "      <td>Spain</td>\n",
       "      <td>ESP</td>\n",
       "      <td>0.00</td>\n",
       "      <td>61</td>\n",
       "      <td>0</td>\n",
       "      <td>0.00</td>\n",
       "      <td>0.00</td>\n",
       "      <td>0.00</td>\n",
       "      <td>0.00</td>\n",
       "      <td>0.00</td>\n",
       "      <td>0.00</td>\n",
       "      <td>0.00</td>\n",
       "      <td>0.00</td>\n",
       "      <td>UEFA</td>\n",
       "      <td>1995-02-20</td>\n",
       "      <td>1995</td>\n",
       "    </tr>\n",
       "    <tr>\n",
       "      <th>3</th>\n",
       "      <td>Italy</td>\n",
       "      <td>ITA</td>\n",
       "      <td>0.00</td>\n",
       "      <td>61</td>\n",
       "      <td>1</td>\n",
       "      <td>0.00</td>\n",
       "      <td>0.00</td>\n",
       "      <td>0.00</td>\n",
       "      <td>0.00</td>\n",
       "      <td>0.00</td>\n",
       "      <td>0.00</td>\n",
       "      <td>0.00</td>\n",
       "      <td>0.00</td>\n",
       "      <td>UEFA</td>\n",
       "      <td>1995-02-20</td>\n",
       "      <td>1995</td>\n",
       "    </tr>\n",
       "    <tr>\n",
       "      <th>4</th>\n",
       "      <td>Sweden</td>\n",
       "      <td>SWE</td>\n",
       "      <td>0.00</td>\n",
       "      <td>61</td>\n",
       "      <td>-1</td>\n",
       "      <td>0.00</td>\n",
       "      <td>0.00</td>\n",
       "      <td>0.00</td>\n",
       "      <td>0.00</td>\n",
       "      <td>0.00</td>\n",
       "      <td>0.00</td>\n",
       "      <td>0.00</td>\n",
       "      <td>0.00</td>\n",
       "      <td>UEFA</td>\n",
       "      <td>1995-02-20</td>\n",
       "      <td>1995</td>\n",
       "    </tr>\n",
       "    <tr>\n",
       "      <th>5</th>\n",
       "      <td>Germany</td>\n",
       "      <td>GER</td>\n",
       "      <td>0.00</td>\n",
       "      <td>61</td>\n",
       "      <td>0</td>\n",
       "      <td>0.00</td>\n",
       "      <td>0.00</td>\n",
       "      <td>0.00</td>\n",
       "      <td>0.00</td>\n",
       "      <td>0.00</td>\n",
       "      <td>0.00</td>\n",
       "      <td>0.00</td>\n",
       "      <td>0.00</td>\n",
       "      <td>UEFA</td>\n",
       "      <td>1995-02-20</td>\n",
       "      <td>1995</td>\n",
       "    </tr>\n",
       "    <tr>\n",
       "      <th>1</th>\n",
       "      <td>Brazil</td>\n",
       "      <td>BRA</td>\n",
       "      <td>0.00</td>\n",
       "      <td>68</td>\n",
       "      <td>0</td>\n",
       "      <td>0.00</td>\n",
       "      <td>0.00</td>\n",
       "      <td>0.00</td>\n",
       "      <td>0.00</td>\n",
       "      <td>0.00</td>\n",
       "      <td>0.00</td>\n",
       "      <td>0.00</td>\n",
       "      <td>0.00</td>\n",
       "      <td>CONMEBOL</td>\n",
       "      <td>1996-01-24</td>\n",
       "      <td>1996</td>\n",
       "    </tr>\n",
       "    <tr>\n",
       "      <th>2</th>\n",
       "      <td>Germany</td>\n",
       "      <td>GER</td>\n",
       "      <td>0.00</td>\n",
       "      <td>61</td>\n",
       "      <td>0</td>\n",
       "      <td>0.00</td>\n",
       "      <td>0.00</td>\n",
       "      <td>0.00</td>\n",
       "      <td>0.00</td>\n",
       "      <td>0.00</td>\n",
       "      <td>0.00</td>\n",
       "      <td>0.00</td>\n",
       "      <td>0.00</td>\n",
       "      <td>UEFA</td>\n",
       "      <td>1996-01-24</td>\n",
       "      <td>1996</td>\n",
       "    </tr>\n",
       "    <tr>\n",
       "      <th>3</th>\n",
       "      <td>Italy</td>\n",
       "      <td>ITA</td>\n",
       "      <td>0.00</td>\n",
       "      <td>61</td>\n",
       "      <td>0</td>\n",
       "      <td>0.00</td>\n",
       "      <td>0.00</td>\n",
       "      <td>0.00</td>\n",
       "      <td>0.00</td>\n",
       "      <td>0.00</td>\n",
       "      <td>0.00</td>\n",
       "      <td>0.00</td>\n",
       "      <td>0.00</td>\n",
       "      <td>UEFA</td>\n",
       "      <td>1996-01-24</td>\n",
       "      <td>1996</td>\n",
       "    </tr>\n",
       "    <tr>\n",
       "      <th>4</th>\n",
       "      <td>Spain</td>\n",
       "      <td>ESP</td>\n",
       "      <td>0.00</td>\n",
       "      <td>59</td>\n",
       "      <td>0</td>\n",
       "      <td>0.00</td>\n",
       "      <td>0.00</td>\n",
       "      <td>0.00</td>\n",
       "      <td>0.00</td>\n",
       "      <td>0.00</td>\n",
       "      <td>0.00</td>\n",
       "      <td>0.00</td>\n",
       "      <td>0.00</td>\n",
       "      <td>UEFA</td>\n",
       "      <td>1996-01-24</td>\n",
       "      <td>1996</td>\n",
       "    </tr>\n",
       "    <tr>\n",
       "      <th>5</th>\n",
       "      <td>Russia</td>\n",
       "      <td>RUS</td>\n",
       "      <td>0.00</td>\n",
       "      <td>58</td>\n",
       "      <td>0</td>\n",
       "      <td>0.00</td>\n",
       "      <td>0.00</td>\n",
       "      <td>0.00</td>\n",
       "      <td>0.00</td>\n",
       "      <td>0.00</td>\n",
       "      <td>0.00</td>\n",
       "      <td>0.00</td>\n",
       "      <td>0.00</td>\n",
       "      <td>UEFA</td>\n",
       "      <td>1996-01-24</td>\n",
       "      <td>1996</td>\n",
       "    </tr>\n",
       "    <tr>\n",
       "      <th>1</th>\n",
       "      <td>Brazil</td>\n",
       "      <td>BRA</td>\n",
       "      <td>0.00</td>\n",
       "      <td>68</td>\n",
       "      <td>0</td>\n",
       "      <td>0.00</td>\n",
       "      <td>0.00</td>\n",
       "      <td>0.00</td>\n",
       "      <td>0.00</td>\n",
       "      <td>0.00</td>\n",
       "      <td>0.00</td>\n",
       "      <td>0.00</td>\n",
       "      <td>0.00</td>\n",
       "      <td>CONMEBOL</td>\n",
       "      <td>1997-02-27</td>\n",
       "      <td>1997</td>\n",
       "    </tr>\n",
       "    <tr>\n",
       "      <th>2</th>\n",
       "      <td>Germany</td>\n",
       "      <td>GER</td>\n",
       "      <td>0.00</td>\n",
       "      <td>64</td>\n",
       "      <td>0</td>\n",
       "      <td>0.00</td>\n",
       "      <td>0.00</td>\n",
       "      <td>0.00</td>\n",
       "      <td>0.00</td>\n",
       "      <td>0.00</td>\n",
       "      <td>0.00</td>\n",
       "      <td>0.00</td>\n",
       "      <td>0.00</td>\n",
       "      <td>UEFA</td>\n",
       "      <td>1997-02-27</td>\n",
       "      <td>1997</td>\n",
       "    </tr>\n",
       "    <tr>\n",
       "      <th>3</th>\n",
       "      <td>France</td>\n",
       "      <td>FRA</td>\n",
       "      <td>0.00</td>\n",
       "      <td>61</td>\n",
       "      <td>0</td>\n",
       "      <td>0.00</td>\n",
       "      <td>0.00</td>\n",
       "      <td>0.00</td>\n",
       "      <td>0.00</td>\n",
       "      <td>0.00</td>\n",
       "      <td>0.00</td>\n",
       "      <td>0.00</td>\n",
       "      <td>0.00</td>\n",
       "      <td>UEFA</td>\n",
       "      <td>1997-02-27</td>\n",
       "      <td>1997</td>\n",
       "    </tr>\n",
       "    <tr>\n",
       "      <th>4</th>\n",
       "      <td>Denmark</td>\n",
       "      <td>DEN</td>\n",
       "      <td>0.00</td>\n",
       "      <td>60</td>\n",
       "      <td>2</td>\n",
       "      <td>0.00</td>\n",
       "      <td>0.00</td>\n",
       "      <td>0.00</td>\n",
       "      <td>0.00</td>\n",
       "      <td>0.00</td>\n",
       "      <td>0.00</td>\n",
       "      <td>0.00</td>\n",
       "      <td>0.00</td>\n",
       "      <td>UEFA</td>\n",
       "      <td>1997-02-27</td>\n",
       "      <td>1997</td>\n",
       "    </tr>\n",
       "    <tr>\n",
       "      <th>5</th>\n",
       "      <td>Colombia</td>\n",
       "      <td>COL</td>\n",
       "      <td>0.00</td>\n",
       "      <td>61</td>\n",
       "      <td>-1</td>\n",
       "      <td>0.00</td>\n",
       "      <td>0.00</td>\n",
       "      <td>0.00</td>\n",
       "      <td>0.00</td>\n",
       "      <td>0.00</td>\n",
       "      <td>0.00</td>\n",
       "      <td>0.00</td>\n",
       "      <td>0.00</td>\n",
       "      <td>CONMEBOL</td>\n",
       "      <td>1997-02-27</td>\n",
       "      <td>1997</td>\n",
       "    </tr>\n",
       "    <tr>\n",
       "      <th>1</th>\n",
       "      <td>Brazil</td>\n",
       "      <td>BRA</td>\n",
       "      <td>0.00</td>\n",
       "      <td>73</td>\n",
       "      <td>0</td>\n",
       "      <td>0.00</td>\n",
       "      <td>0.00</td>\n",
       "      <td>0.00</td>\n",
       "      <td>0.00</td>\n",
       "      <td>0.00</td>\n",
       "      <td>0.00</td>\n",
       "      <td>0.00</td>\n",
       "      <td>0.00</td>\n",
       "      <td>CONMEBOL</td>\n",
       "      <td>1998-02-18</td>\n",
       "      <td>1998</td>\n",
       "    </tr>\n",
       "    <tr>\n",
       "      <th>2</th>\n",
       "      <td>Germany</td>\n",
       "      <td>GER</td>\n",
       "      <td>0.00</td>\n",
       "      <td>65</td>\n",
       "      <td>0</td>\n",
       "      <td>0.00</td>\n",
       "      <td>0.00</td>\n",
       "      <td>0.00</td>\n",
       "      <td>0.00</td>\n",
       "      <td>0.00</td>\n",
       "      <td>0.00</td>\n",
       "      <td>0.00</td>\n",
       "      <td>0.00</td>\n",
       "      <td>UEFA</td>\n",
       "      <td>1998-02-18</td>\n",
       "      <td>1998</td>\n",
       "    </tr>\n",
       "    <tr>\n",
       "      <th>3</th>\n",
       "      <td>Czech Republic</td>\n",
       "      <td>CZE</td>\n",
       "      <td>0.00</td>\n",
       "      <td>64</td>\n",
       "      <td>0</td>\n",
       "      <td>0.00</td>\n",
       "      <td>0.00</td>\n",
       "      <td>0.00</td>\n",
       "      <td>0.00</td>\n",
       "      <td>0.00</td>\n",
       "      <td>0.00</td>\n",
       "      <td>0.00</td>\n",
       "      <td>0.00</td>\n",
       "      <td>UEFA</td>\n",
       "      <td>1998-02-18</td>\n",
       "      <td>1998</td>\n",
       "    </tr>\n",
       "    <tr>\n",
       "      <th>4</th>\n",
       "      <td>Mexico</td>\n",
       "      <td>MEX</td>\n",
       "      <td>0.00</td>\n",
       "      <td>60</td>\n",
       "      <td>1</td>\n",
       "      <td>0.00</td>\n",
       "      <td>0.00</td>\n",
       "      <td>0.00</td>\n",
       "      <td>0.00</td>\n",
       "      <td>0.00</td>\n",
       "      <td>0.00</td>\n",
       "      <td>0.00</td>\n",
       "      <td>0.00</td>\n",
       "      <td>CONCACAF</td>\n",
       "      <td>1998-02-18</td>\n",
       "      <td>1998</td>\n",
       "    </tr>\n",
       "    <tr>\n",
       "      <th>5</th>\n",
       "      <td>England</td>\n",
       "      <td>ENG</td>\n",
       "      <td>0.00</td>\n",
       "      <td>61</td>\n",
       "      <td>-1</td>\n",
       "      <td>0.00</td>\n",
       "      <td>0.00</td>\n",
       "      <td>0.00</td>\n",
       "      <td>0.00</td>\n",
       "      <td>0.00</td>\n",
       "      <td>0.00</td>\n",
       "      <td>0.00</td>\n",
       "      <td>0.00</td>\n",
       "      <td>UEFA</td>\n",
       "      <td>1998-02-18</td>\n",
       "      <td>1998</td>\n",
       "    </tr>\n",
       "    <tr>\n",
       "      <th>...</th>\n",
       "      <td>...</td>\n",
       "      <td>...</td>\n",
       "      <td>...</td>\n",
       "      <td>...</td>\n",
       "      <td>...</td>\n",
       "      <td>...</td>\n",
       "      <td>...</td>\n",
       "      <td>...</td>\n",
       "      <td>...</td>\n",
       "      <td>...</td>\n",
       "      <td>...</td>\n",
       "      <td>...</td>\n",
       "      <td>...</td>\n",
       "      <td>...</td>\n",
       "      <td>...</td>\n",
       "      <td>...</td>\n",
       "    </tr>\n",
       "    <tr>\n",
       "      <th>1</th>\n",
       "      <td>Spain</td>\n",
       "      <td>ESP</td>\n",
       "      <td>1605.76</td>\n",
       "      <td>1606</td>\n",
       "      <td>0</td>\n",
       "      <td>830.72</td>\n",
       "      <td>830.72</td>\n",
       "      <td>610.39</td>\n",
       "      <td>305.20</td>\n",
       "      <td>1044.29</td>\n",
       "      <td>313.29</td>\n",
       "      <td>782.76</td>\n",
       "      <td>156.55</td>\n",
       "      <td>UEFA</td>\n",
       "      <td>2013-01-17</td>\n",
       "      <td>2013</td>\n",
       "    </tr>\n",
       "    <tr>\n",
       "      <th>2</th>\n",
       "      <td>Germany</td>\n",
       "      <td>GER</td>\n",
       "      <td>1437.49</td>\n",
       "      <td>1437</td>\n",
       "      <td>0</td>\n",
       "      <td>765.86</td>\n",
       "      <td>765.86</td>\n",
       "      <td>607.88</td>\n",
       "      <td>303.94</td>\n",
       "      <td>926.92</td>\n",
       "      <td>278.07</td>\n",
       "      <td>448.10</td>\n",
       "      <td>89.62</td>\n",
       "      <td>UEFA</td>\n",
       "      <td>2013-01-17</td>\n",
       "      <td>2013</td>\n",
       "    </tr>\n",
       "    <tr>\n",
       "      <th>3</th>\n",
       "      <td>Argentina</td>\n",
       "      <td>ARG</td>\n",
       "      <td>1289.95</td>\n",
       "      <td>1290</td>\n",
       "      <td>0</td>\n",
       "      <td>733.76</td>\n",
       "      <td>733.76</td>\n",
       "      <td>425.62</td>\n",
       "      <td>212.81</td>\n",
       "      <td>827.70</td>\n",
       "      <td>248.31</td>\n",
       "      <td>475.37</td>\n",
       "      <td>95.07</td>\n",
       "      <td>CONMEBOL</td>\n",
       "      <td>2013-01-17</td>\n",
       "      <td>2013</td>\n",
       "    </tr>\n",
       "    <tr>\n",
       "      <th>4</th>\n",
       "      <td>Italy</td>\n",
       "      <td>ITA</td>\n",
       "      <td>1164.67</td>\n",
       "      <td>1165</td>\n",
       "      <td>0</td>\n",
       "      <td>633.64</td>\n",
       "      <td>633.64</td>\n",
       "      <td>619.46</td>\n",
       "      <td>309.73</td>\n",
       "      <td>395.30</td>\n",
       "      <td>118.59</td>\n",
       "      <td>513.56</td>\n",
       "      <td>102.71</td>\n",
       "      <td>UEFA</td>\n",
       "      <td>2013-01-17</td>\n",
       "      <td>2013</td>\n",
       "    </tr>\n",
       "    <tr>\n",
       "      <th>5</th>\n",
       "      <td>Colombia</td>\n",
       "      <td>COL</td>\n",
       "      <td>1163.55</td>\n",
       "      <td>1164</td>\n",
       "      <td>0</td>\n",
       "      <td>794.27</td>\n",
       "      <td>794.27</td>\n",
       "      <td>446.83</td>\n",
       "      <td>223.41</td>\n",
       "      <td>184.48</td>\n",
       "      <td>55.34</td>\n",
       "      <td>452.66</td>\n",
       "      <td>90.53</td>\n",
       "      <td>CONMEBOL</td>\n",
       "      <td>2013-01-17</td>\n",
       "      <td>2013</td>\n",
       "    </tr>\n",
       "    <tr>\n",
       "      <th>1</th>\n",
       "      <td>Spain</td>\n",
       "      <td>ESP</td>\n",
       "      <td>1507.03</td>\n",
       "      <td>1507</td>\n",
       "      <td>0</td>\n",
       "      <td>699.69</td>\n",
       "      <td>699.69</td>\n",
       "      <td>830.72</td>\n",
       "      <td>415.36</td>\n",
       "      <td>610.39</td>\n",
       "      <td>183.12</td>\n",
       "      <td>1044.29</td>\n",
       "      <td>208.86</td>\n",
       "      <td>UEFA</td>\n",
       "      <td>2014-01-16</td>\n",
       "      <td>2014</td>\n",
       "    </tr>\n",
       "    <tr>\n",
       "      <th>2</th>\n",
       "      <td>Germany</td>\n",
       "      <td>GER</td>\n",
       "      <td>1317.51</td>\n",
       "      <td>1318</td>\n",
       "      <td>0</td>\n",
       "      <td>566.83</td>\n",
       "      <td>566.83</td>\n",
       "      <td>765.86</td>\n",
       "      <td>382.93</td>\n",
       "      <td>607.88</td>\n",
       "      <td>182.37</td>\n",
       "      <td>926.92</td>\n",
       "      <td>185.38</td>\n",
       "      <td>UEFA</td>\n",
       "      <td>2014-01-16</td>\n",
       "      <td>2014</td>\n",
       "    </tr>\n",
       "    <tr>\n",
       "      <th>3</th>\n",
       "      <td>Argentina</td>\n",
       "      <td>ARG</td>\n",
       "      <td>1251.01</td>\n",
       "      <td>1251</td>\n",
       "      <td>0</td>\n",
       "      <td>590.90</td>\n",
       "      <td>590.90</td>\n",
       "      <td>733.76</td>\n",
       "      <td>366.88</td>\n",
       "      <td>425.62</td>\n",
       "      <td>127.69</td>\n",
       "      <td>827.70</td>\n",
       "      <td>165.54</td>\n",
       "      <td>CONMEBOL</td>\n",
       "      <td>2014-01-16</td>\n",
       "      <td>2014</td>\n",
       "    </tr>\n",
       "    <tr>\n",
       "      <th>4</th>\n",
       "      <td>Colombia</td>\n",
       "      <td>COL</td>\n",
       "      <td>1200.39</td>\n",
       "      <td>1200</td>\n",
       "      <td>0</td>\n",
       "      <td>632.31</td>\n",
       "      <td>632.31</td>\n",
       "      <td>794.27</td>\n",
       "      <td>397.14</td>\n",
       "      <td>446.83</td>\n",
       "      <td>134.05</td>\n",
       "      <td>184.48</td>\n",
       "      <td>36.90</td>\n",
       "      <td>CONMEBOL</td>\n",
       "      <td>2014-01-16</td>\n",
       "      <td>2014</td>\n",
       "    </tr>\n",
       "    <tr>\n",
       "      <th>5</th>\n",
       "      <td>Portugal</td>\n",
       "      <td>POR</td>\n",
       "      <td>1172.48</td>\n",
       "      <td>1172</td>\n",
       "      <td>0</td>\n",
       "      <td>611.29</td>\n",
       "      <td>611.29</td>\n",
       "      <td>573.67</td>\n",
       "      <td>286.83</td>\n",
       "      <td>561.05</td>\n",
       "      <td>168.32</td>\n",
       "      <td>530.21</td>\n",
       "      <td>106.04</td>\n",
       "      <td>UEFA</td>\n",
       "      <td>2014-01-16</td>\n",
       "      <td>2014</td>\n",
       "    </tr>\n",
       "    <tr>\n",
       "      <th>1</th>\n",
       "      <td>Germany</td>\n",
       "      <td>GER</td>\n",
       "      <td>1725.29</td>\n",
       "      <td>1725</td>\n",
       "      <td>0</td>\n",
       "      <td>1090.54</td>\n",
       "      <td>1090.54</td>\n",
       "      <td>566.83</td>\n",
       "      <td>283.42</td>\n",
       "      <td>765.86</td>\n",
       "      <td>229.76</td>\n",
       "      <td>607.88</td>\n",
       "      <td>121.58</td>\n",
       "      <td>UEFA</td>\n",
       "      <td>2015-01-08</td>\n",
       "      <td>2015</td>\n",
       "    </tr>\n",
       "    <tr>\n",
       "      <th>2</th>\n",
       "      <td>Argentina</td>\n",
       "      <td>ARG</td>\n",
       "      <td>1538.29</td>\n",
       "      <td>1538</td>\n",
       "      <td>0</td>\n",
       "      <td>937.59</td>\n",
       "      <td>937.59</td>\n",
       "      <td>590.90</td>\n",
       "      <td>295.45</td>\n",
       "      <td>733.76</td>\n",
       "      <td>220.13</td>\n",
       "      <td>425.62</td>\n",
       "      <td>85.12</td>\n",
       "      <td>CONMEBOL</td>\n",
       "      <td>2015-01-08</td>\n",
       "      <td>2015</td>\n",
       "    </tr>\n",
       "    <tr>\n",
       "      <th>3</th>\n",
       "      <td>Colombia</td>\n",
       "      <td>COL</td>\n",
       "      <td>1449.77</td>\n",
       "      <td>1450</td>\n",
       "      <td>0</td>\n",
       "      <td>805.97</td>\n",
       "      <td>805.97</td>\n",
       "      <td>632.31</td>\n",
       "      <td>316.15</td>\n",
       "      <td>794.27</td>\n",
       "      <td>238.28</td>\n",
       "      <td>446.83</td>\n",
       "      <td>89.37</td>\n",
       "      <td>CONMEBOL</td>\n",
       "      <td>2015-01-08</td>\n",
       "      <td>2015</td>\n",
       "    </tr>\n",
       "    <tr>\n",
       "      <th>4</th>\n",
       "      <td>Belgium</td>\n",
       "      <td>BEL</td>\n",
       "      <td>1417.27</td>\n",
       "      <td>1417</td>\n",
       "      <td>0</td>\n",
       "      <td>849.03</td>\n",
       "      <td>849.03</td>\n",
       "      <td>652.93</td>\n",
       "      <td>326.46</td>\n",
       "      <td>542.17</td>\n",
       "      <td>162.65</td>\n",
       "      <td>395.59</td>\n",
       "      <td>79.12</td>\n",
       "      <td>UEFA</td>\n",
       "      <td>2015-01-08</td>\n",
       "      <td>2015</td>\n",
       "    </tr>\n",
       "    <tr>\n",
       "      <th>5</th>\n",
       "      <td>Netherlands</td>\n",
       "      <td>NED</td>\n",
       "      <td>1374.24</td>\n",
       "      <td>1374</td>\n",
       "      <td>0</td>\n",
       "      <td>884.29</td>\n",
       "      <td>884.29</td>\n",
       "      <td>527.71</td>\n",
       "      <td>263.86</td>\n",
       "      <td>428.54</td>\n",
       "      <td>128.56</td>\n",
       "      <td>487.68</td>\n",
       "      <td>97.54</td>\n",
       "      <td>UEFA</td>\n",
       "      <td>2015-01-08</td>\n",
       "      <td>2015</td>\n",
       "    </tr>\n",
       "    <tr>\n",
       "      <th>1</th>\n",
       "      <td>Belgium</td>\n",
       "      <td>BEL</td>\n",
       "      <td>1493.77</td>\n",
       "      <td>1494</td>\n",
       "      <td>0</td>\n",
       "      <td>764.94</td>\n",
       "      <td>764.94</td>\n",
       "      <td>849.03</td>\n",
       "      <td>424.52</td>\n",
       "      <td>652.93</td>\n",
       "      <td>195.88</td>\n",
       "      <td>542.17</td>\n",
       "      <td>108.43</td>\n",
       "      <td>UEFA</td>\n",
       "      <td>2016-01-07</td>\n",
       "      <td>2016</td>\n",
       "    </tr>\n",
       "    <tr>\n",
       "      <th>2</th>\n",
       "      <td>Argentina</td>\n",
       "      <td>ARG</td>\n",
       "      <td>1455.47</td>\n",
       "      <td>1455</td>\n",
       "      <td>0</td>\n",
       "      <td>662.66</td>\n",
       "      <td>662.66</td>\n",
       "      <td>937.59</td>\n",
       "      <td>468.79</td>\n",
       "      <td>590.90</td>\n",
       "      <td>177.27</td>\n",
       "      <td>733.76</td>\n",
       "      <td>146.75</td>\n",
       "      <td>CONMEBOL</td>\n",
       "      <td>2016-01-07</td>\n",
       "      <td>2016</td>\n",
       "    </tr>\n",
       "    <tr>\n",
       "      <th>3</th>\n",
       "      <td>Spain</td>\n",
       "      <td>ESP</td>\n",
       "      <td>1369.63</td>\n",
       "      <td>1370</td>\n",
       "      <td>0</td>\n",
       "      <td>783.37</td>\n",
       "      <td>783.37</td>\n",
       "      <td>420.42</td>\n",
       "      <td>210.21</td>\n",
       "      <td>699.69</td>\n",
       "      <td>209.91</td>\n",
       "      <td>830.72</td>\n",
       "      <td>166.14</td>\n",
       "      <td>UEFA</td>\n",
       "      <td>2016-01-07</td>\n",
       "      <td>2016</td>\n",
       "    </tr>\n",
       "    <tr>\n",
       "      <th>4</th>\n",
       "      <td>Germany</td>\n",
       "      <td>GER</td>\n",
       "      <td>1347.15</td>\n",
       "      <td>1347</td>\n",
       "      <td>0</td>\n",
       "      <td>478.66</td>\n",
       "      <td>478.66</td>\n",
       "      <td>1090.54</td>\n",
       "      <td>545.27</td>\n",
       "      <td>566.83</td>\n",
       "      <td>170.05</td>\n",
       "      <td>765.86</td>\n",
       "      <td>153.17</td>\n",
       "      <td>UEFA</td>\n",
       "      <td>2016-01-07</td>\n",
       "      <td>2016</td>\n",
       "    </tr>\n",
       "    <tr>\n",
       "      <th>5</th>\n",
       "      <td>Chile</td>\n",
       "      <td>CHI</td>\n",
       "      <td>1268.85</td>\n",
       "      <td>1273</td>\n",
       "      <td>0</td>\n",
       "      <td>763.35</td>\n",
       "      <td>763.35</td>\n",
       "      <td>523.75</td>\n",
       "      <td>261.87</td>\n",
       "      <td>627.18</td>\n",
       "      <td>188.15</td>\n",
       "      <td>277.33</td>\n",
       "      <td>55.47</td>\n",
       "      <td>CONMEBOL</td>\n",
       "      <td>2016-01-07</td>\n",
       "      <td>2016</td>\n",
       "    </tr>\n",
       "    <tr>\n",
       "      <th>1</th>\n",
       "      <td>Argentina</td>\n",
       "      <td>ARG</td>\n",
       "      <td>1634.02</td>\n",
       "      <td>1634</td>\n",
       "      <td>0</td>\n",
       "      <td>903.24</td>\n",
       "      <td>903.24</td>\n",
       "      <td>662.66</td>\n",
       "      <td>331.33</td>\n",
       "      <td>937.59</td>\n",
       "      <td>281.28</td>\n",
       "      <td>590.90</td>\n",
       "      <td>118.18</td>\n",
       "      <td>CONMEBOL</td>\n",
       "      <td>2017-01-12</td>\n",
       "      <td>2017</td>\n",
       "    </tr>\n",
       "    <tr>\n",
       "      <th>2</th>\n",
       "      <td>Brazil</td>\n",
       "      <td>BRA</td>\n",
       "      <td>1544.05</td>\n",
       "      <td>1544</td>\n",
       "      <td>0</td>\n",
       "      <td>879.22</td>\n",
       "      <td>879.22</td>\n",
       "      <td>584.70</td>\n",
       "      <td>292.35</td>\n",
       "      <td>796.05</td>\n",
       "      <td>238.81</td>\n",
       "      <td>668.33</td>\n",
       "      <td>133.67</td>\n",
       "      <td>CONMEBOL</td>\n",
       "      <td>2017-01-12</td>\n",
       "      <td>2017</td>\n",
       "    </tr>\n",
       "    <tr>\n",
       "      <th>3</th>\n",
       "      <td>Germany</td>\n",
       "      <td>GER</td>\n",
       "      <td>1432.54</td>\n",
       "      <td>1433</td>\n",
       "      <td>0</td>\n",
       "      <td>752.68</td>\n",
       "      <td>752.68</td>\n",
       "      <td>478.66</td>\n",
       "      <td>239.33</td>\n",
       "      <td>1090.54</td>\n",
       "      <td>327.16</td>\n",
       "      <td>566.83</td>\n",
       "      <td>113.37</td>\n",
       "      <td>UEFA</td>\n",
       "      <td>2017-01-12</td>\n",
       "      <td>2017</td>\n",
       "    </tr>\n",
       "    <tr>\n",
       "      <th>4</th>\n",
       "      <td>Chile</td>\n",
       "      <td>CHI</td>\n",
       "      <td>1403.96</td>\n",
       "      <td>1404</td>\n",
       "      <td>0</td>\n",
       "      <td>739.73</td>\n",
       "      <td>739.73</td>\n",
       "      <td>763.35</td>\n",
       "      <td>381.68</td>\n",
       "      <td>523.75</td>\n",
       "      <td>157.12</td>\n",
       "      <td>627.18</td>\n",
       "      <td>125.44</td>\n",
       "      <td>CONMEBOL</td>\n",
       "      <td>2017-01-12</td>\n",
       "      <td>2017</td>\n",
       "    </tr>\n",
       "    <tr>\n",
       "      <th>5</th>\n",
       "      <td>Belgium</td>\n",
       "      <td>BEL</td>\n",
       "      <td>1367.77</td>\n",
       "      <td>1368</td>\n",
       "      <td>0</td>\n",
       "      <td>600.01</td>\n",
       "      <td>600.01</td>\n",
       "      <td>764.94</td>\n",
       "      <td>382.47</td>\n",
       "      <td>849.03</td>\n",
       "      <td>254.71</td>\n",
       "      <td>652.93</td>\n",
       "      <td>130.59</td>\n",
       "      <td>UEFA</td>\n",
       "      <td>2017-01-12</td>\n",
       "      <td>2017</td>\n",
       "    </tr>\n",
       "    <tr>\n",
       "      <th>1</th>\n",
       "      <td>Germany</td>\n",
       "      <td>GER</td>\n",
       "      <td>1601.91</td>\n",
       "      <td>1602</td>\n",
       "      <td>0</td>\n",
       "      <td>863.86</td>\n",
       "      <td>863.86</td>\n",
       "      <td>752.68</td>\n",
       "      <td>376.34</td>\n",
       "      <td>478.66</td>\n",
       "      <td>143.60</td>\n",
       "      <td>1090.54</td>\n",
       "      <td>218.11</td>\n",
       "      <td>UEFA</td>\n",
       "      <td>2018-01-18</td>\n",
       "      <td>2018</td>\n",
       "    </tr>\n",
       "    <tr>\n",
       "      <th>2</th>\n",
       "      <td>Brazil</td>\n",
       "      <td>BRA</td>\n",
       "      <td>1482.53</td>\n",
       "      <td>1483</td>\n",
       "      <td>0</td>\n",
       "      <td>708.30</td>\n",
       "      <td>708.30</td>\n",
       "      <td>879.22</td>\n",
       "      <td>439.61</td>\n",
       "      <td>584.70</td>\n",
       "      <td>175.41</td>\n",
       "      <td>796.05</td>\n",
       "      <td>159.21</td>\n",
       "      <td>CONMEBOL</td>\n",
       "      <td>2018-01-18</td>\n",
       "      <td>2018</td>\n",
       "    </tr>\n",
       "    <tr>\n",
       "      <th>3</th>\n",
       "      <td>Portugal</td>\n",
       "      <td>POR</td>\n",
       "      <td>1357.89</td>\n",
       "      <td>1358</td>\n",
       "      <td>0</td>\n",
       "      <td>744.16</td>\n",
       "      <td>744.16</td>\n",
       "      <td>617.85</td>\n",
       "      <td>308.92</td>\n",
       "      <td>635.88</td>\n",
       "      <td>190.76</td>\n",
       "      <td>570.26</td>\n",
       "      <td>114.05</td>\n",
       "      <td>UEFA</td>\n",
       "      <td>2018-01-18</td>\n",
       "      <td>2018</td>\n",
       "    </tr>\n",
       "    <tr>\n",
       "      <th>4</th>\n",
       "      <td>Argentina</td>\n",
       "      <td>ARG</td>\n",
       "      <td>1348.36</td>\n",
       "      <td>1348</td>\n",
       "      <td>0</td>\n",
       "      <td>510.42</td>\n",
       "      <td>510.42</td>\n",
       "      <td>903.24</td>\n",
       "      <td>451.62</td>\n",
       "      <td>662.66</td>\n",
       "      <td>198.80</td>\n",
       "      <td>937.59</td>\n",
       "      <td>187.52</td>\n",
       "      <td>CONMEBOL</td>\n",
       "      <td>2018-01-18</td>\n",
       "      <td>2018</td>\n",
       "    </tr>\n",
       "    <tr>\n",
       "      <th>5</th>\n",
       "      <td>Belgium</td>\n",
       "      <td>BEL</td>\n",
       "      <td>1325.29</td>\n",
       "      <td>1325</td>\n",
       "      <td>0</td>\n",
       "      <td>626.00</td>\n",
       "      <td>626.00</td>\n",
       "      <td>600.01</td>\n",
       "      <td>300.00</td>\n",
       "      <td>764.94</td>\n",
       "      <td>229.48</td>\n",
       "      <td>849.03</td>\n",
       "      <td>169.81</td>\n",
       "      <td>UEFA</td>\n",
       "      <td>2018-01-18</td>\n",
       "      <td>2018</td>\n",
       "    </tr>\n",
       "  </tbody>\n",
       "</table>\n",
       "<p>130 rows × 16 columns</p>\n",
       "</div>"
      ],
      "text/plain": [
       "        country_full country_abrv  total_points  previous_points  rank_change  \\\n",
       "rank                                                                            \n",
       "1            Germany          GER          0.00               57            0   \n",
       "2              Italy          ITA          0.00               57            0   \n",
       "3        Switzerland          SUI          0.00               50            9   \n",
       "4             Sweden          SWE          0.00               55            0   \n",
       "5          Argentina          ARG          0.00               51            5   \n",
       "1            Germany          GER          0.00               59            0   \n",
       "2             Brazil          BRA          0.00               58            1   \n",
       "3        Netherlands          NED          0.00               56            4   \n",
       "4            Denmark          DEN          0.00               57            2   \n",
       "5             Norway          NOR          0.00               57           -1   \n",
       "1             Brazil          BRA          0.00               67            0   \n",
       "2              Spain          ESP          0.00               61            0   \n",
       "3              Italy          ITA          0.00               61            1   \n",
       "4             Sweden          SWE          0.00               61           -1   \n",
       "5            Germany          GER          0.00               61            0   \n",
       "1             Brazil          BRA          0.00               68            0   \n",
       "2            Germany          GER          0.00               61            0   \n",
       "3              Italy          ITA          0.00               61            0   \n",
       "4              Spain          ESP          0.00               59            0   \n",
       "5             Russia          RUS          0.00               58            0   \n",
       "1             Brazil          BRA          0.00               68            0   \n",
       "2            Germany          GER          0.00               64            0   \n",
       "3             France          FRA          0.00               61            0   \n",
       "4            Denmark          DEN          0.00               60            2   \n",
       "5           Colombia          COL          0.00               61           -1   \n",
       "1             Brazil          BRA          0.00               73            0   \n",
       "2            Germany          GER          0.00               65            0   \n",
       "3     Czech Republic          CZE          0.00               64            0   \n",
       "4             Mexico          MEX          0.00               60            1   \n",
       "5            England          ENG          0.00               61           -1   \n",
       "...              ...          ...           ...              ...          ...   \n",
       "1              Spain          ESP       1605.76             1606            0   \n",
       "2            Germany          GER       1437.49             1437            0   \n",
       "3          Argentina          ARG       1289.95             1290            0   \n",
       "4              Italy          ITA       1164.67             1165            0   \n",
       "5           Colombia          COL       1163.55             1164            0   \n",
       "1              Spain          ESP       1507.03             1507            0   \n",
       "2            Germany          GER       1317.51             1318            0   \n",
       "3          Argentina          ARG       1251.01             1251            0   \n",
       "4           Colombia          COL       1200.39             1200            0   \n",
       "5           Portugal          POR       1172.48             1172            0   \n",
       "1            Germany          GER       1725.29             1725            0   \n",
       "2          Argentina          ARG       1538.29             1538            0   \n",
       "3           Colombia          COL       1449.77             1450            0   \n",
       "4            Belgium          BEL       1417.27             1417            0   \n",
       "5        Netherlands          NED       1374.24             1374            0   \n",
       "1            Belgium          BEL       1493.77             1494            0   \n",
       "2          Argentina          ARG       1455.47             1455            0   \n",
       "3              Spain          ESP       1369.63             1370            0   \n",
       "4            Germany          GER       1347.15             1347            0   \n",
       "5              Chile          CHI       1268.85             1273            0   \n",
       "1          Argentina          ARG       1634.02             1634            0   \n",
       "2             Brazil          BRA       1544.05             1544            0   \n",
       "3            Germany          GER       1432.54             1433            0   \n",
       "4              Chile          CHI       1403.96             1404            0   \n",
       "5            Belgium          BEL       1367.77             1368            0   \n",
       "1            Germany          GER       1601.91             1602            0   \n",
       "2             Brazil          BRA       1482.53             1483            0   \n",
       "3           Portugal          POR       1357.89             1358            0   \n",
       "4          Argentina          ARG       1348.36             1348            0   \n",
       "5            Belgium          BEL       1325.29             1325            0   \n",
       "\n",
       "      cur_year_avg  cur_year_avg_weighted  last_year_avg  \\\n",
       "rank                                                       \n",
       "1             0.00                   0.00           0.00   \n",
       "2             0.00                   0.00           0.00   \n",
       "3             0.00                   0.00           0.00   \n",
       "4             0.00                   0.00           0.00   \n",
       "5             0.00                   0.00           0.00   \n",
       "1             0.00                   0.00           0.00   \n",
       "2             0.00                   0.00           0.00   \n",
       "3             0.00                   0.00           0.00   \n",
       "4             0.00                   0.00           0.00   \n",
       "5             0.00                   0.00           0.00   \n",
       "1             0.00                   0.00           0.00   \n",
       "2             0.00                   0.00           0.00   \n",
       "3             0.00                   0.00           0.00   \n",
       "4             0.00                   0.00           0.00   \n",
       "5             0.00                   0.00           0.00   \n",
       "1             0.00                   0.00           0.00   \n",
       "2             0.00                   0.00           0.00   \n",
       "3             0.00                   0.00           0.00   \n",
       "4             0.00                   0.00           0.00   \n",
       "5             0.00                   0.00           0.00   \n",
       "1             0.00                   0.00           0.00   \n",
       "2             0.00                   0.00           0.00   \n",
       "3             0.00                   0.00           0.00   \n",
       "4             0.00                   0.00           0.00   \n",
       "5             0.00                   0.00           0.00   \n",
       "1             0.00                   0.00           0.00   \n",
       "2             0.00                   0.00           0.00   \n",
       "3             0.00                   0.00           0.00   \n",
       "4             0.00                   0.00           0.00   \n",
       "5             0.00                   0.00           0.00   \n",
       "...            ...                    ...            ...   \n",
       "1           830.72                 830.72         610.39   \n",
       "2           765.86                 765.86         607.88   \n",
       "3           733.76                 733.76         425.62   \n",
       "4           633.64                 633.64         619.46   \n",
       "5           794.27                 794.27         446.83   \n",
       "1           699.69                 699.69         830.72   \n",
       "2           566.83                 566.83         765.86   \n",
       "3           590.90                 590.90         733.76   \n",
       "4           632.31                 632.31         794.27   \n",
       "5           611.29                 611.29         573.67   \n",
       "1          1090.54                1090.54         566.83   \n",
       "2           937.59                 937.59         590.90   \n",
       "3           805.97                 805.97         632.31   \n",
       "4           849.03                 849.03         652.93   \n",
       "5           884.29                 884.29         527.71   \n",
       "1           764.94                 764.94         849.03   \n",
       "2           662.66                 662.66         937.59   \n",
       "3           783.37                 783.37         420.42   \n",
       "4           478.66                 478.66        1090.54   \n",
       "5           763.35                 763.35         523.75   \n",
       "1           903.24                 903.24         662.66   \n",
       "2           879.22                 879.22         584.70   \n",
       "3           752.68                 752.68         478.66   \n",
       "4           739.73                 739.73         763.35   \n",
       "5           600.01                 600.01         764.94   \n",
       "1           863.86                 863.86         752.68   \n",
       "2           708.30                 708.30         879.22   \n",
       "3           744.16                 744.16         617.85   \n",
       "4           510.42                 510.42         903.24   \n",
       "5           626.00                 626.00         600.01   \n",
       "\n",
       "      last_year_avg_weighted  two_year_ago_avg  two_year_ago_weighted  \\\n",
       "rank                                                                    \n",
       "1                       0.00              0.00                   0.00   \n",
       "2                       0.00              0.00                   0.00   \n",
       "3                       0.00              0.00                   0.00   \n",
       "4                       0.00              0.00                   0.00   \n",
       "5                       0.00              0.00                   0.00   \n",
       "1                       0.00              0.00                   0.00   \n",
       "2                       0.00              0.00                   0.00   \n",
       "3                       0.00              0.00                   0.00   \n",
       "4                       0.00              0.00                   0.00   \n",
       "5                       0.00              0.00                   0.00   \n",
       "1                       0.00              0.00                   0.00   \n",
       "2                       0.00              0.00                   0.00   \n",
       "3                       0.00              0.00                   0.00   \n",
       "4                       0.00              0.00                   0.00   \n",
       "5                       0.00              0.00                   0.00   \n",
       "1                       0.00              0.00                   0.00   \n",
       "2                       0.00              0.00                   0.00   \n",
       "3                       0.00              0.00                   0.00   \n",
       "4                       0.00              0.00                   0.00   \n",
       "5                       0.00              0.00                   0.00   \n",
       "1                       0.00              0.00                   0.00   \n",
       "2                       0.00              0.00                   0.00   \n",
       "3                       0.00              0.00                   0.00   \n",
       "4                       0.00              0.00                   0.00   \n",
       "5                       0.00              0.00                   0.00   \n",
       "1                       0.00              0.00                   0.00   \n",
       "2                       0.00              0.00                   0.00   \n",
       "3                       0.00              0.00                   0.00   \n",
       "4                       0.00              0.00                   0.00   \n",
       "5                       0.00              0.00                   0.00   \n",
       "...                      ...               ...                    ...   \n",
       "1                     305.20           1044.29                 313.29   \n",
       "2                     303.94            926.92                 278.07   \n",
       "3                     212.81            827.70                 248.31   \n",
       "4                     309.73            395.30                 118.59   \n",
       "5                     223.41            184.48                  55.34   \n",
       "1                     415.36            610.39                 183.12   \n",
       "2                     382.93            607.88                 182.37   \n",
       "3                     366.88            425.62                 127.69   \n",
       "4                     397.14            446.83                 134.05   \n",
       "5                     286.83            561.05                 168.32   \n",
       "1                     283.42            765.86                 229.76   \n",
       "2                     295.45            733.76                 220.13   \n",
       "3                     316.15            794.27                 238.28   \n",
       "4                     326.46            542.17                 162.65   \n",
       "5                     263.86            428.54                 128.56   \n",
       "1                     424.52            652.93                 195.88   \n",
       "2                     468.79            590.90                 177.27   \n",
       "3                     210.21            699.69                 209.91   \n",
       "4                     545.27            566.83                 170.05   \n",
       "5                     261.87            627.18                 188.15   \n",
       "1                     331.33            937.59                 281.28   \n",
       "2                     292.35            796.05                 238.81   \n",
       "3                     239.33           1090.54                 327.16   \n",
       "4                     381.68            523.75                 157.12   \n",
       "5                     382.47            849.03                 254.71   \n",
       "1                     376.34            478.66                 143.60   \n",
       "2                     439.61            584.70                 175.41   \n",
       "3                     308.92            635.88                 190.76   \n",
       "4                     451.62            662.66                 198.80   \n",
       "5                     300.00            764.94                 229.48   \n",
       "\n",
       "      three_year_ago_avg  three_year_ago_weighted confederation  rank_date  \\\n",
       "rank                                                                         \n",
       "1                   0.00                     0.00          UEFA 1993-08-08   \n",
       "2                   0.00                     0.00          UEFA 1993-08-08   \n",
       "3                   0.00                     0.00          UEFA 1993-08-08   \n",
       "4                   0.00                     0.00          UEFA 1993-08-08   \n",
       "5                   0.00                     0.00      CONMEBOL 1993-08-08   \n",
       "1                   0.00                     0.00          UEFA 1994-02-15   \n",
       "2                   0.00                     0.00      CONMEBOL 1994-02-15   \n",
       "3                   0.00                     0.00          UEFA 1994-02-15   \n",
       "4                   0.00                     0.00          UEFA 1994-02-15   \n",
       "5                   0.00                     0.00          UEFA 1994-02-15   \n",
       "1                   0.00                     0.00      CONMEBOL 1995-02-20   \n",
       "2                   0.00                     0.00          UEFA 1995-02-20   \n",
       "3                   0.00                     0.00          UEFA 1995-02-20   \n",
       "4                   0.00                     0.00          UEFA 1995-02-20   \n",
       "5                   0.00                     0.00          UEFA 1995-02-20   \n",
       "1                   0.00                     0.00      CONMEBOL 1996-01-24   \n",
       "2                   0.00                     0.00          UEFA 1996-01-24   \n",
       "3                   0.00                     0.00          UEFA 1996-01-24   \n",
       "4                   0.00                     0.00          UEFA 1996-01-24   \n",
       "5                   0.00                     0.00          UEFA 1996-01-24   \n",
       "1                   0.00                     0.00      CONMEBOL 1997-02-27   \n",
       "2                   0.00                     0.00          UEFA 1997-02-27   \n",
       "3                   0.00                     0.00          UEFA 1997-02-27   \n",
       "4                   0.00                     0.00          UEFA 1997-02-27   \n",
       "5                   0.00                     0.00      CONMEBOL 1997-02-27   \n",
       "1                   0.00                     0.00      CONMEBOL 1998-02-18   \n",
       "2                   0.00                     0.00          UEFA 1998-02-18   \n",
       "3                   0.00                     0.00          UEFA 1998-02-18   \n",
       "4                   0.00                     0.00      CONCACAF 1998-02-18   \n",
       "5                   0.00                     0.00          UEFA 1998-02-18   \n",
       "...                  ...                      ...           ...        ...   \n",
       "1                 782.76                   156.55          UEFA 2013-01-17   \n",
       "2                 448.10                    89.62          UEFA 2013-01-17   \n",
       "3                 475.37                    95.07      CONMEBOL 2013-01-17   \n",
       "4                 513.56                   102.71          UEFA 2013-01-17   \n",
       "5                 452.66                    90.53      CONMEBOL 2013-01-17   \n",
       "1                1044.29                   208.86          UEFA 2014-01-16   \n",
       "2                 926.92                   185.38          UEFA 2014-01-16   \n",
       "3                 827.70                   165.54      CONMEBOL 2014-01-16   \n",
       "4                 184.48                    36.90      CONMEBOL 2014-01-16   \n",
       "5                 530.21                   106.04          UEFA 2014-01-16   \n",
       "1                 607.88                   121.58          UEFA 2015-01-08   \n",
       "2                 425.62                    85.12      CONMEBOL 2015-01-08   \n",
       "3                 446.83                    89.37      CONMEBOL 2015-01-08   \n",
       "4                 395.59                    79.12          UEFA 2015-01-08   \n",
       "5                 487.68                    97.54          UEFA 2015-01-08   \n",
       "1                 542.17                   108.43          UEFA 2016-01-07   \n",
       "2                 733.76                   146.75      CONMEBOL 2016-01-07   \n",
       "3                 830.72                   166.14          UEFA 2016-01-07   \n",
       "4                 765.86                   153.17          UEFA 2016-01-07   \n",
       "5                 277.33                    55.47      CONMEBOL 2016-01-07   \n",
       "1                 590.90                   118.18      CONMEBOL 2017-01-12   \n",
       "2                 668.33                   133.67      CONMEBOL 2017-01-12   \n",
       "3                 566.83                   113.37          UEFA 2017-01-12   \n",
       "4                 627.18                   125.44      CONMEBOL 2017-01-12   \n",
       "5                 652.93                   130.59          UEFA 2017-01-12   \n",
       "1                1090.54                   218.11          UEFA 2018-01-18   \n",
       "2                 796.05                   159.21      CONMEBOL 2018-01-18   \n",
       "3                 570.26                   114.05          UEFA 2018-01-18   \n",
       "4                 937.59                   187.52      CONMEBOL 2018-01-18   \n",
       "5                 849.03                   169.81          UEFA 2018-01-18   \n",
       "\n",
       "      year  \n",
       "rank        \n",
       "1     1993  \n",
       "2     1993  \n",
       "3     1993  \n",
       "4     1993  \n",
       "5     1993  \n",
       "1     1994  \n",
       "2     1994  \n",
       "3     1994  \n",
       "4     1994  \n",
       "5     1994  \n",
       "1     1995  \n",
       "2     1995  \n",
       "3     1995  \n",
       "4     1995  \n",
       "5     1995  \n",
       "1     1996  \n",
       "2     1996  \n",
       "3     1996  \n",
       "4     1996  \n",
       "5     1996  \n",
       "1     1997  \n",
       "2     1997  \n",
       "3     1997  \n",
       "4     1997  \n",
       "5     1997  \n",
       "1     1998  \n",
       "2     1998  \n",
       "3     1998  \n",
       "4     1998  \n",
       "5     1998  \n",
       "...    ...  \n",
       "1     2013  \n",
       "2     2013  \n",
       "3     2013  \n",
       "4     2013  \n",
       "5     2013  \n",
       "1     2014  \n",
       "2     2014  \n",
       "3     2014  \n",
       "4     2014  \n",
       "5     2014  \n",
       "1     2015  \n",
       "2     2015  \n",
       "3     2015  \n",
       "4     2015  \n",
       "5     2015  \n",
       "1     2016  \n",
       "2     2016  \n",
       "3     2016  \n",
       "4     2016  \n",
       "5     2016  \n",
       "1     2017  \n",
       "2     2017  \n",
       "3     2017  \n",
       "4     2017  \n",
       "5     2017  \n",
       "1     2018  \n",
       "2     2018  \n",
       "3     2018  \n",
       "4     2018  \n",
       "5     2018  \n",
       "\n",
       "[130 rows x 16 columns]"
      ]
     },
     "execution_count": 94,
     "metadata": {},
     "output_type": "execute_result"
    }
   ],
   "source": [
    "fifa.groupby('year').head(5)"
   ]
  },
  {
   "cell_type": "code",
   "execution_count": 95,
   "metadata": {},
   "outputs": [
    {
     "data": {
      "text/html": [
       "<div>\n",
       "<style scoped>\n",
       "    .dataframe tbody tr th:only-of-type {\n",
       "        vertical-align: middle;\n",
       "    }\n",
       "\n",
       "    .dataframe tbody tr th {\n",
       "        vertical-align: top;\n",
       "    }\n",
       "\n",
       "    .dataframe thead th {\n",
       "        text-align: right;\n",
       "    }\n",
       "</style>\n",
       "<table border=\"1\" class=\"dataframe\">\n",
       "  <thead>\n",
       "    <tr style=\"text-align: right;\">\n",
       "      <th></th>\n",
       "      <th>total_points</th>\n",
       "      <th>previous_points</th>\n",
       "      <th>rank_change</th>\n",
       "      <th>cur_year_avg</th>\n",
       "      <th>cur_year_avg_weighted</th>\n",
       "      <th>last_year_avg</th>\n",
       "      <th>last_year_avg_weighted</th>\n",
       "      <th>two_year_ago_avg</th>\n",
       "      <th>two_year_ago_weighted</th>\n",
       "      <th>three_year_ago_avg</th>\n",
       "      <th>three_year_ago_weighted</th>\n",
       "    </tr>\n",
       "    <tr>\n",
       "      <th>year</th>\n",
       "      <th></th>\n",
       "      <th></th>\n",
       "      <th></th>\n",
       "      <th></th>\n",
       "      <th></th>\n",
       "      <th></th>\n",
       "      <th></th>\n",
       "      <th></th>\n",
       "      <th></th>\n",
       "      <th></th>\n",
       "      <th></th>\n",
       "    </tr>\n",
       "  </thead>\n",
       "  <tbody>\n",
       "    <tr>\n",
       "      <th>1993</th>\n",
       "      <td>0.0</td>\n",
       "      <td>21.554361</td>\n",
       "      <td>-0.072879</td>\n",
       "      <td>0.0</td>\n",
       "      <td>0.0</td>\n",
       "      <td>0.0</td>\n",
       "      <td>0.0</td>\n",
       "      <td>0.0</td>\n",
       "      <td>0.0</td>\n",
       "      <td>0.0</td>\n",
       "      <td>0.0</td>\n",
       "    </tr>\n",
       "    <tr>\n",
       "      <th>1994</th>\n",
       "      <td>0.0</td>\n",
       "      <td>21.917245</td>\n",
       "      <td>-0.142361</td>\n",
       "      <td>0.0</td>\n",
       "      <td>0.0</td>\n",
       "      <td>0.0</td>\n",
       "      <td>0.0</td>\n",
       "      <td>0.0</td>\n",
       "      <td>0.0</td>\n",
       "      <td>0.0</td>\n",
       "      <td>0.0</td>\n",
       "    </tr>\n",
       "    <tr>\n",
       "      <th>1995</th>\n",
       "      <td>0.0</td>\n",
       "      <td>23.567522</td>\n",
       "      <td>-0.044643</td>\n",
       "      <td>0.0</td>\n",
       "      <td>0.0</td>\n",
       "      <td>0.0</td>\n",
       "      <td>0.0</td>\n",
       "      <td>0.0</td>\n",
       "      <td>0.0</td>\n",
       "      <td>0.0</td>\n",
       "      <td>0.0</td>\n",
       "    </tr>\n",
       "    <tr>\n",
       "      <th>1996</th>\n",
       "      <td>0.0</td>\n",
       "      <td>25.881971</td>\n",
       "      <td>-0.028154</td>\n",
       "      <td>0.0</td>\n",
       "      <td>0.0</td>\n",
       "      <td>0.0</td>\n",
       "      <td>0.0</td>\n",
       "      <td>0.0</td>\n",
       "      <td>0.0</td>\n",
       "      <td>0.0</td>\n",
       "      <td>0.0</td>\n",
       "    </tr>\n",
       "    <tr>\n",
       "      <th>1997</th>\n",
       "      <td>0.0</td>\n",
       "      <td>28.939457</td>\n",
       "      <td>-0.008873</td>\n",
       "      <td>0.0</td>\n",
       "      <td>0.0</td>\n",
       "      <td>0.0</td>\n",
       "      <td>0.0</td>\n",
       "      <td>0.0</td>\n",
       "      <td>0.0</td>\n",
       "      <td>0.0</td>\n",
       "      <td>0.0</td>\n",
       "    </tr>\n",
       "  </tbody>\n",
       "</table>\n",
       "</div>"
      ],
      "text/plain": [
       "      total_points  previous_points  rank_change  cur_year_avg  \\\n",
       "year                                                             \n",
       "1993           0.0        21.554361    -0.072879           0.0   \n",
       "1994           0.0        21.917245    -0.142361           0.0   \n",
       "1995           0.0        23.567522    -0.044643           0.0   \n",
       "1996           0.0        25.881971    -0.028154           0.0   \n",
       "1997           0.0        28.939457    -0.008873           0.0   \n",
       "\n",
       "      cur_year_avg_weighted  last_year_avg  last_year_avg_weighted  \\\n",
       "year                                                                 \n",
       "1993                    0.0            0.0                     0.0   \n",
       "1994                    0.0            0.0                     0.0   \n",
       "1995                    0.0            0.0                     0.0   \n",
       "1996                    0.0            0.0                     0.0   \n",
       "1997                    0.0            0.0                     0.0   \n",
       "\n",
       "      two_year_ago_avg  two_year_ago_weighted  three_year_ago_avg  \\\n",
       "year                                                                \n",
       "1993               0.0                    0.0                 0.0   \n",
       "1994               0.0                    0.0                 0.0   \n",
       "1995               0.0                    0.0                 0.0   \n",
       "1996               0.0                    0.0                 0.0   \n",
       "1997               0.0                    0.0                 0.0   \n",
       "\n",
       "      three_year_ago_weighted  \n",
       "year                           \n",
       "1993                      0.0  \n",
       "1994                      0.0  \n",
       "1995                      0.0  \n",
       "1996                      0.0  \n",
       "1997                      0.0  "
      ]
     },
     "execution_count": 95,
     "metadata": {},
     "output_type": "execute_result"
    }
   ],
   "source": [
    "fifa.groupby('year').mean().head()"
   ]
  },
  {
   "cell_type": "code",
   "execution_count": 96,
   "metadata": {},
   "outputs": [
    {
     "data": {
      "text/html": [
       "<div>\n",
       "<style scoped>\n",
       "    .dataframe tbody tr th:only-of-type {\n",
       "        vertical-align: middle;\n",
       "    }\n",
       "\n",
       "    .dataframe tbody tr th {\n",
       "        vertical-align: top;\n",
       "    }\n",
       "\n",
       "    .dataframe thead th {\n",
       "        text-align: right;\n",
       "    }\n",
       "</style>\n",
       "<table border=\"1\" class=\"dataframe\">\n",
       "  <thead>\n",
       "    <tr style=\"text-align: right;\">\n",
       "      <th></th>\n",
       "      <th></th>\n",
       "      <th>total_points</th>\n",
       "      <th>previous_points</th>\n",
       "      <th>rank_change</th>\n",
       "      <th>cur_year_avg</th>\n",
       "      <th>cur_year_avg_weighted</th>\n",
       "      <th>last_year_avg</th>\n",
       "      <th>last_year_avg_weighted</th>\n",
       "      <th>two_year_ago_avg</th>\n",
       "      <th>two_year_ago_weighted</th>\n",
       "      <th>three_year_ago_avg</th>\n",
       "      <th>three_year_ago_weighted</th>\n",
       "    </tr>\n",
       "    <tr>\n",
       "      <th>year</th>\n",
       "      <th>country_full</th>\n",
       "      <th></th>\n",
       "      <th></th>\n",
       "      <th></th>\n",
       "      <th></th>\n",
       "      <th></th>\n",
       "      <th></th>\n",
       "      <th></th>\n",
       "      <th></th>\n",
       "      <th></th>\n",
       "      <th></th>\n",
       "      <th></th>\n",
       "    </tr>\n",
       "  </thead>\n",
       "  <tbody>\n",
       "    <tr>\n",
       "      <th rowspan=\"5\" valign=\"top\">1993</th>\n",
       "      <th>Albania</th>\n",
       "      <td>0.0</td>\n",
       "      <td>15.2</td>\n",
       "      <td>-1.2</td>\n",
       "      <td>0.0</td>\n",
       "      <td>0.0</td>\n",
       "      <td>0.0</td>\n",
       "      <td>0.0</td>\n",
       "      <td>0.0</td>\n",
       "      <td>0.0</td>\n",
       "      <td>0.0</td>\n",
       "      <td>0.0</td>\n",
       "    </tr>\n",
       "    <tr>\n",
       "      <th>Algeria</th>\n",
       "      <td>0.0</td>\n",
       "      <td>40.6</td>\n",
       "      <td>-1.0</td>\n",
       "      <td>0.0</td>\n",
       "      <td>0.0</td>\n",
       "      <td>0.0</td>\n",
       "      <td>0.0</td>\n",
       "      <td>0.0</td>\n",
       "      <td>0.0</td>\n",
       "      <td>0.0</td>\n",
       "      <td>0.0</td>\n",
       "    </tr>\n",
       "    <tr>\n",
       "      <th>Angola</th>\n",
       "      <td>0.0</td>\n",
       "      <td>13.0</td>\n",
       "      <td>0.0</td>\n",
       "      <td>0.0</td>\n",
       "      <td>0.0</td>\n",
       "      <td>0.0</td>\n",
       "      <td>0.0</td>\n",
       "      <td>0.0</td>\n",
       "      <td>0.0</td>\n",
       "      <td>0.0</td>\n",
       "      <td>0.0</td>\n",
       "    </tr>\n",
       "    <tr>\n",
       "      <th>Antigua and Barbuda</th>\n",
       "      <td>0.0</td>\n",
       "      <td>6.4</td>\n",
       "      <td>-1.6</td>\n",
       "      <td>0.0</td>\n",
       "      <td>0.0</td>\n",
       "      <td>0.0</td>\n",
       "      <td>0.0</td>\n",
       "      <td>0.0</td>\n",
       "      <td>0.0</td>\n",
       "      <td>0.0</td>\n",
       "      <td>0.0</td>\n",
       "    </tr>\n",
       "    <tr>\n",
       "      <th>Argentina</th>\n",
       "      <td>0.0</td>\n",
       "      <td>54.4</td>\n",
       "      <td>0.4</td>\n",
       "      <td>0.0</td>\n",
       "      <td>0.0</td>\n",
       "      <td>0.0</td>\n",
       "      <td>0.0</td>\n",
       "      <td>0.0</td>\n",
       "      <td>0.0</td>\n",
       "      <td>0.0</td>\n",
       "      <td>0.0</td>\n",
       "    </tr>\n",
       "  </tbody>\n",
       "</table>\n",
       "</div>"
      ],
      "text/plain": [
       "                          total_points  previous_points  rank_change  \\\n",
       "year country_full                                                      \n",
       "1993 Albania                       0.0             15.2         -1.2   \n",
       "     Algeria                       0.0             40.6         -1.0   \n",
       "     Angola                        0.0             13.0          0.0   \n",
       "     Antigua and Barbuda           0.0              6.4         -1.6   \n",
       "     Argentina                     0.0             54.4          0.4   \n",
       "\n",
       "                          cur_year_avg  cur_year_avg_weighted  last_year_avg  \\\n",
       "year country_full                                                              \n",
       "1993 Albania                       0.0                    0.0            0.0   \n",
       "     Algeria                       0.0                    0.0            0.0   \n",
       "     Angola                        0.0                    0.0            0.0   \n",
       "     Antigua and Barbuda           0.0                    0.0            0.0   \n",
       "     Argentina                     0.0                    0.0            0.0   \n",
       "\n",
       "                          last_year_avg_weighted  two_year_ago_avg  \\\n",
       "year country_full                                                    \n",
       "1993 Albania                                 0.0               0.0   \n",
       "     Algeria                                 0.0               0.0   \n",
       "     Angola                                  0.0               0.0   \n",
       "     Antigua and Barbuda                     0.0               0.0   \n",
       "     Argentina                               0.0               0.0   \n",
       "\n",
       "                          two_year_ago_weighted  three_year_ago_avg  \\\n",
       "year country_full                                                     \n",
       "1993 Albania                                0.0                 0.0   \n",
       "     Algeria                                0.0                 0.0   \n",
       "     Angola                                 0.0                 0.0   \n",
       "     Antigua and Barbuda                    0.0                 0.0   \n",
       "     Argentina                              0.0                 0.0   \n",
       "\n",
       "                          three_year_ago_weighted  \n",
       "year country_full                                  \n",
       "1993 Albania                                  0.0  \n",
       "     Algeria                                  0.0  \n",
       "     Angola                                   0.0  \n",
       "     Antigua and Barbuda                      0.0  \n",
       "     Argentina                                0.0  "
      ]
     },
     "execution_count": 96,
     "metadata": {},
     "output_type": "execute_result"
    }
   ],
   "source": [
    "fifa.groupby(by=['year','country_full']).mean().head()"
   ]
  },
  {
   "cell_type": "markdown",
   "metadata": {},
   "source": [
    "# Ejercicios Tarea"
   ]
  },
  {
   "cell_type": "markdown",
   "metadata": {},
   "source": [
    "Utilizando el texto de la Iliada:\n",
    "* ¿Cuáles son las 10 palabras más utilizadas en la Iliada?\n",
    "* ¿Cuáles son las 10 palabras con más letras?"
   ]
  },
  {
   "cell_type": "markdown",
   "metadata": {},
   "source": [
    "Utilizando el DataSet de fifa:\n",
    "* ¿Cuáles son los 10 países que han cambiado de rango más de un año para el siguiente?\n",
    "* ¿Cuántos países han logrado llegar a los primeros 10 rangos más de una vez?"
   ]
  },
  {
   "cell_type": "markdown",
   "metadata": {},
   "source": [
    "# Redes Neuronales Artificiales \n",
    "\n",
    "### Que son?\n",
    "\n",
    "Comunmente conocidas como __Redes Neuronales__, podemos definirlas simplemente como:\n",
    "\n",
    "\n",
    "_\"... un sistema de computación compuesto por una serie de elementos de procesamiento simples y altamente interconectados, que procesan información mediante su respuesta de estado dinámico a entradas externas.\"_ - __Dr. Robert Hecht-Nielsen.__\n",
    "\n",
    "Las Redes Neuoronales Artificiales(ANN), son dispositivos de procesamiento (algoritmos o hardware) que estan modelados de una manera _holgada_ y de mucho menor escala con la estructura de la corteza cerebral de los mamiferos. Una ANN muy grande puede tener cientos o miles de unidades de procesamiento mientras que el cerebro de un mamifero tiene miles de millones de neuronas con un incremento importante dependiendo de la interaccion o la actividad que se este realizando.\n",
    "\n",
    "Al dia de hoy hemos podido replicar el comportamiento de la retina de una manera muy correcta aunque aun estamos lejos de hacerlo al 100%.\n",
    "\n",
    "Entendamos que hay componente matematico muy importante y de alto nivel detras de las ANN, sin embargo un buen desarrollador no necesariamiente tiene que comprenderlo todo para poder entender las arquitecturas de las diversas ANN."
   ]
  },
  {
   "cell_type": "markdown",
   "metadata": {},
   "source": [
    "### Lo basico\n",
    "\n",
    "Las __ANN__ comunmente estan organizadas en capaz/layers. Los **layers** estan compuestos por un numero de **nodos** que contienen un **activation function**. Los patrones son presentados a la **ANN** via el **input layer**, el cual le comunica a los **hidden layers** donde se hara el procesamiento via el sistema de conecciones ponderadas. Los **hidden layers** se conectan al **output layer** en donde el resultado del proceso se muestra.\n",
    "\n",
    "<img src='./img/ANN.jpg'>\n",
    "\n",
    "La mayoría de las **ANN** contienen alguna forma de \"regla de aprendizaje/learning rule\" que modifica los pesos de las conexiones según los patrones de entrada con los que se presenta. En cierto sentido, las **ANN** aprenden con el ejemplo al igual que sus contrapartes biológicas; Un niño aprende a reconocer perros de ejemplos de perros.\n",
    "\n",
    "Aunque existen muchos tipos diferentes de reglas de aprendizaje utilizadas por las redes neuronales, esta demostración se ocupa solo de una; La regla delta. La regla delta a menudo es utilizada por la clase más común de **ANN** denominadas 'redes neuronales de contraportación/backpropagation' (BPNN). Backpropagation es una abreviatura para la propagación del error hacia atrás.\n",
    "\n",
    "Con la regla delta, al igual que con otros tipos de propagación hacia atrás/__backpropagation__, el \"aprendizaje\" es un proceso supervisado que ocurre con cada ciclo o \"época/epoch\" (es decir, cada vez que la red se presenta con un nuevo patrón de entrada) a través de un flujo de activación de salidas hacia adelante. y la propagación de errores hacia atrás de los ajustes de peso. Más simplemente, cuando una red neuronal se presenta inicialmente con un patrón, hace una \"suposición\" al azar de lo que podría ser. Luego ve qué tan lejos estaba su respuesta de la real y hace un ajuste apropiado a sus pesos de conexión. Más gráficamente, el proceso se ve algo así:\n",
    "\n",
    "<img src='./img/Backpropagation-Learning.png'>\n",
    "\n",
    "También ten en cuenta que dentro de cada nodo de capa oculta hay una función de activación sigmoidal/__sigmoidal activation__ que polariza la actividad de la red y la ayuda a estabilizarse.\n",
    "\n",
    "La propagación hacia atrás/__backpropagation__ realiza un descenso de gradiente dentro del espacio vectorial de la solución hacia un \"mínimo global/__global minimum__\" a lo largo del vector más empinado de la superficie de error. El mínimo global/__global minimum__ es esa solución teórica con el menor error posible. La superficie del error en sí es un hiperparaboloide, pero rara vez es \"suave\" como se muestra en el gráfico a continuación. De hecho, en la mayoría de los problemas, el espacio de la solución es bastante irregular con numerosos \"pozos\" y \"colinas\" que pueden hacer que la red se establezca en un \"mínimo local\" que no es la mejor solución general.\n",
    "\n",
    "<img src='./img/delta_rule.gif'>\n",
    "<img src='./img/bprop.png'>\n",
    "\n",
    "Dado que la naturaleza del espacio de error no se puede conocer a priori, el análisis de redes neuronales a menudo requiere un gran número de ejecuciones individuales para determinar la mejor solución. La mayoría de las reglas de aprendizaje tienen términos matemáticos incorporados para ayudar en este proceso que controla la \"velocidad\" (Beta-coeficiente) y el \"impulso\" del aprendizaje. La velocidad de aprendizaje es en realidad la tasa de convergencia entre la solución actual y el mínimo global. Momentum ayuda a la red a superar obstáculos (mínimos locales) en la superficie del error y se establece en o cerca del mínimo global.\n",
    "\n",
    "Una vez que una red neuronal se \"entrena\" a un nivel satisfactorio, se puede utilizar como una herramienta analítica en otros datos. Para hacer esto, el usuario ya no especifica ninguna ejecución de capacitación y, en cambio, permite que la red funcione solo en modo de propagación hacia adelante. Las nuevas entradas se presentan al patrón de entrada donde se filtran y son procesadas por las capas intermedias como si el entrenamiento se llevara a cabo, sin embargo, en este punto, la salida se conserva y no se produce ninguna propagación hacia atrás. La salida de una ejecución de propagación hacia adelante es el modelo predicho para los datos que luego se pueden utilizar para un análisis e interpretación adicional.\n",
    "\n",
    "También es posible sobreentrenar una red neuronal, lo que significa que la red ha sido entrenada exactamente para responder a un solo tipo de entrada; que es muy parecido a la memorización de memoria. Si esto sucede, el aprendizaje ya no puede ocurrir y se hace referencia a la red como \"abuela\" en la jerga de la red neuronal. En aplicaciones del mundo real, esta situación no es muy útil, ya que se necesitaría una red de abuelas separada para cada nuevo tipo de entrada."
   ]
  },
  {
   "cell_type": "markdown",
   "metadata": {},
   "source": [
    "### Diferencias entre las ANN y la computación convencional?\n",
    "\n",
    "Para comprender mejor la computación neuronal artificial, es importante saber primero cómo una computadora 'serial' convencional y su información de proceso de software. Una computadora en serie tiene un procesador central que puede abordar un conjunto de ubicaciones de memoria donde se almacenan los datos y las instrucciones. Los cálculos se realizan mediante la lectura de una instrucción por parte del procesador, así como los datos que la instrucción requiere de las direcciones de memoria, la instrucción se ejecuta y los resultados se guardan en una ubicación de memoria específica, según sea necesario. En un sistema en serie (y uno paralelo estándar también) los pasos computacionales son deterministas, secuenciales y lógicos, y el estado de una variable dada puede rastrearse de una operación a otra.\n",
    "\n",
    "En comparación, las ANN no son secuenciales ni necesariamente deterministas. No hay procesadores centrales complejos, sino que hay muchos procesadores simples que generalmente no hacen más que tomar la suma ponderada de sus aportes de otros procesadores. Las ANN no ejecutan instrucciones programadas; responden en paralelo (simulado o real) al patrón de entradas que se le presentan. Tampoco hay direcciones de memoria separadas para almacenar datos. En su lugar, la información está contenida en el estado de activación general de la red. El \"conocimiento\" está representado por la propia red, que es, literalmente, más que la suma de sus componentes individuales."
   ]
  },
  {
   "cell_type": "markdown",
   "metadata": {},
   "source": [
    "### En que se usan las ANN?\n",
    "\n",
    "Las redes neuronales son aproximadores universales, y funcionan mejor si el sistema que está utilizando para modelar tiene una alta tolerancia al error. ¡Por lo tanto, no se recomienda que utilice una red neuronal para equilibrar el talonario de cheques! Sin embargo funcionan muy bien para:\n",
    "\n",
    "\n",
    "    - Capturar asociaciones o descubrir regularidades dentro de un conjunto de patrones;\n",
    "    - Donde el volumen, número de variables o diversidad de datos es muy grande;\n",
    "    - Las relaciones entre las variables se entienden vagamente; o,\n",
    "    - Las relaciones son difíciles de describir adecuadamente con los enfoques convencionales."
   ]
  },
  {
   "cell_type": "markdown",
   "metadata": {},
   "source": [
    "### Limitantes de las ANN\n",
    "\n",
    "Hay muchas ventajas y limitaciones en el análisis de redes neuronales y para tratar este tema adecuadamente, tendríamos que analizar cada tipo de red individual, lo que no es necesario para esta discusión general. Sin embargo, en referencia a las redes backpropagational, hay algunos problemas específicos que los usuarios potenciales deben conocer.\n",
    "\n",
    "    - Las redes neuronales de contrapropagación (y muchos otros tipos de redes) son, en cierto sentido, las últimas \"cajas negras\". Además de definir la arquitectura general de una red y tal vez inicialmente sembrarla con números aleatorios, el usuario no tiene otra función que alimentar la entrada y verla entrenar y esperar la salida. De hecho, se ha dicho que con la propagación hacia atrás, \"casi no sabes lo que estás haciendo\". Algunos paquetes de software disponibles gratuitamente (NevProp, bp, Mactivation) permiten al usuario probar el \"progreso\" de las redes a intervalos regulares de tiempo, pero el aprendizaje en sí mismo progresa por sí solo. El producto final de esta actividad es una red entrenada que no proporciona ecuaciones ni coeficientes que definan una relación (como en regresión) más allá de sus propias matemáticas internas. La red 'ES' la ecuación final de la relación.\n",
    "\n",
    "    - Las redes de backpropagational también tienden a ser más lentas de entrenar que otros tipos de redes y algunas veces requieren miles de épocas. Si se ejecuta en un sistema informático verdaderamente paralelo, este problema no es realmente un problema, pero si la BPNN se está simulando en una máquina serie estándar (es decir, un solo SPARC, Mac o PC), la capacitación puede llevar algún tiempo. Esto se debe a que la CPU de las máquinas debe calcular la función de cada nodo y la conexión por separado, lo que puede ser problemático en redes muy grandes con una gran cantidad de datos. Sin embargo, la velocidad de la mayoría de las máquinas actuales es tal que esto no suele ser un problema."
   ]
  },
  {
   "cell_type": "markdown",
   "metadata": {},
   "source": [
    "### Ventajas de las ANN\n",
    "\n",
    "Dependiendo de la naturaleza de la aplicación y la solidez de los patrones de datos internos, generalmente se puede esperar que una red se capacite bastante bien. Esto se aplica a problemas donde las relaciones pueden ser bastante dinámicas o no lineales. Las ANN proporcionan una alternativa analítica a las técnicas convencionales que a menudo están limitadas por supuestos estrictos de normalidad, linealidad, independencia variable, etc. Debido a que una ANN puede capturar muchos tipos de relaciones, permite al usuario modelar de manera rápida y relativamente fácil fenómenos que de otra manera podrían haber sido muy complejos. Difícil o imposible de explicar de otra manera."
   ]
  },
  {
   "cell_type": "markdown",
   "metadata": {},
   "source": [
    "# A codear!"
   ]
  },
  {
   "cell_type": "code",
   "execution_count": 97,
   "metadata": {},
   "outputs": [],
   "source": [
    "from numpy import exp, array, random, dot"
   ]
  },
  {
   "cell_type": "code",
   "execution_count": 98,
   "metadata": {},
   "outputs": [],
   "source": [
    "class NeuralNetwork():\n",
    "    def __init__(self):\n",
    "        # Fiajamos'/Seed el generador de numeros aleatorios para que \n",
    "        #siempre genere el mismo numero cada vez que corremos el codigo.\n",
    "        random.seed(1)\n",
    "        \n",
    "        # Modelamos una sola neurona, con 3 conecciones de entrada y \n",
    "        # 1 de salida. Asignamos ponderaciones aleatorias a una matriz de 3 x 1, \n",
    "        # con valores en un rango de -1 a 1 y media 0\n",
    "        self.synaptic_weights = 2 * random.random((3, 1)) - 1\n",
    "\n",
    "    # La función sigmoidea, que describe una curva en forma de S.\n",
    "    # Pasamos la suma ponderada de las entradas a través de esta función para\n",
    "    # normalizarlas entre 0 y 1.\n",
    "    def __sigmoid(self, x):\n",
    "        return 1 / (1 + exp(-x))\n",
    "    \n",
    "    # La derivada de la función sigmoidea. \n",
    "    # Este es el gradiente de la curva sigmoidea. \n",
    "    # Indica cuánta confianza tenemos sobre la ponderacion existente.\n",
    "    def __sigmoid_derivative(self, x):\n",
    "        return x * (1 - x)\n",
    "    \n",
    "    # Entrenamos la red neuronal a través de un proceso de prueba y error. \n",
    "    # Ajustando los pesos sinápticos cada vez.\n",
    "    def train(self, training_set_inputs, training_set_outputs, number_of_training_iterations):\n",
    "        for iteration in range(number_of_training_iterations):\n",
    "            # Pasamos nuestro training set a través de nuestra red neuronal (una sola neurona).\n",
    "            output = self.think(training_set_inputs)\n",
    "            # Calcula el error (La diferencia entre el output deseado\n",
    "            # y el output previsto).\n",
    "            error = training_set_outputs - output\n",
    "            \n",
    "            # Multiplica el error por el input y nuevamente por el gradiente de la curva Sigmoide. \n",
    "            # Esto significa que las ponderaciones con menos confianza se ajustan más. \n",
    "            # Esto significa que los inputs, que son cero, no causan cambios en los pesos.\n",
    "            adjustment = dot(training_set_inputs.T, error * self.__sigmoid_derivative(output))\n",
    "            # Ajustamos la ponderacion\n",
    "            self.synaptic_weights += adjustment\n",
    "\n",
    "    # La red ANN comienza a pensar\n",
    "    def think(self, inputs):\n",
    "        # Pasa los inputs por nuestra ANN (una sola neurona)\n",
    "        return self.__sigmoid(dot(inputs, self.synaptic_weights))"
   ]
  },
  {
   "cell_type": "code",
   "execution_count": 99,
   "metadata": {},
   "outputs": [
    {
     "name": "stdout",
     "output_type": "stream",
     "text": [
      "Random starting synaptic weights: \n",
      "[[-0.16595599]\n",
      " [ 0.44064899]\n",
      " [-0.99977125]]\n",
      "New synaptic weights after training: \n",
      "[[ 9.67299303]\n",
      " [-0.2078435 ]\n",
      " [-4.62963669]]\n",
      "Considering new situation [1, 0, 0] -> ?: \n",
      "[0.99993704]\n"
     ]
    }
   ],
   "source": [
    "if __name__ == \"__main__\":\n",
    "    \n",
    "    # Iniciamos una sola red neuronal neuronal.\n",
    "    neural_network = NeuralNetwork()\n",
    "\n",
    "    print(\"Random starting synaptic weights: \")\n",
    "    print(neural_network.synaptic_weights)\n",
    "    \n",
    "    # El Training set. Tenemos 4 ejemplos, cada uno consta de 3 inputs y 1 output.\n",
    "    training_set_inputs = array([[0, 0, 1], [1, 1, 1], [1, 0, 1], [0, 1, 1]])\n",
    "    training_set_outputs = array([[0, 1, 1, 0]]).T\n",
    "    \n",
    "    # Entrena la red neuronal utilizando el training set. Hazlo 10,000 veces y haz pequeños ajustes cada vez.\n",
    "    neural_network.train(training_set_inputs, training_set_outputs, 10000)\n",
    "\n",
    "    print(\"New synaptic weights after training: \")\n",
    "    print(neural_network.synaptic_weights)\n",
    "\n",
    "    # Probar la red neuronal con una nueva situación. \n",
    "    print(\"Considering new situation [1, 0, 0] -> ?: \")\n",
    "    print(neural_network.think(array([1, 0, 0])))"
   ]
  },
  {
   "cell_type": "markdown",
   "metadata": {},
   "source": [
    "### La version corta"
   ]
  },
  {
   "cell_type": "code",
   "execution_count": 100,
   "metadata": {},
   "outputs": [
    {
     "name": "stdout",
     "output_type": "stream",
     "text": [
      "[0.99993704]\n"
     ]
    }
   ],
   "source": [
    "training_set_inputs = array([[0, 0, 1], [1, 1, 1], [1, 0, 1], [0, 1, 1]])\n",
    "training_set_outputs = array([[0, 1, 1, 0]]).T\n",
    "random.seed(1)\n",
    "synaptic_weights = 2 * random.random((3, 1)) - 1\n",
    "for iteration in range(10000):\n",
    "    output = 1 / (1 + exp(-(dot(training_set_inputs, synaptic_weights))))\n",
    "    synaptic_weights += dot(training_set_inputs.T, (training_set_outputs - output) * output * (1 - output))\n",
    "print(1 / (1 + exp(-(dot(array([1, 0, 0]), synaptic_weights)))))"
   ]
  },
  {
   "cell_type": "markdown",
   "metadata": {},
   "source": [
    "### Como interpretamos esto?\n",
    "\n",
    "    - Dado que el dataset es ridiculamente chico toma milisegundos en procesar\n",
    "    - Nuestas ponderaciones se actualizaron solos a traves de 10000 iteraciones (backpropagation)\n",
    "    - Cuando el proceso termino nos dijo que el resultado seguramente era un 1"
   ]
  },
  {
   "cell_type": "markdown",
   "metadata": {},
   "source": [
    "### Resumen de todo esto\n",
    "\n",
    "Con todo lo anterior podemos concluir que las __ANN__ son utiles en una gran variedad de tareas y en casos muy especificos sobrepasan a sus contrapartes mamiferas en tareas que creiamos que solo nosotros podiamos hacer aun nivel muy elevado, como:\n",
    "\n",
    "    - Vision\n",
    "    - Text to speech\n",
    "    - Speech to text\n",
    "    \n",
    "Todo esto se logra sin la necesidad de una manifestacion fisica de las __ANN__ y solo esta representada en transistores a base de silicio!\n",
    "\n",
    "Para recordar:\n",
    "\n",
    "    - Una ANN es un algoritmo(basado en la biologia mamifera) que aprende a identificar patrones en un dataset\n",
    "    \n",
    "    -  Backpropagation es una tecnica para entrenar una ANN acutalizando las ponderaciones via una gradiente descendiente\n",
    "    \n",
    "    - Deep learning = ANN con cientos o miles de layers + Big Data + Big Compute\n",
    " "
   ]
  }
 ],
 "metadata": {
  "kernelspec": {
   "display_name": "Python 3",
   "language": "python",
   "name": "python3"
  },
  "language_info": {
   "codemirror_mode": {
    "name": "ipython",
    "version": 3
   },
   "file_extension": ".py",
   "mimetype": "text/x-python",
   "name": "python",
   "nbconvert_exporter": "python",
   "pygments_lexer": "ipython3",
   "version": "3.6.5"
  }
 },
 "nbformat": 4,
 "nbformat_minor": 2
}
