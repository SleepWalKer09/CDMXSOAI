{
 "cells": [
  {
   "cell_type": "markdown",
   "metadata": {},
   "source": [
    "# Estructuras de Datos pt II"
   ]
  },
  {
   "cell_type": "markdown",
   "metadata": {
    "collapsed": true
   },
   "source": [
    "#### Implementacion, Aplicaciones y Herramientas\n",
    "\n",
    "Aprender sobre algoritmos sin ninguna aplicación en la vida real sigue siendo un objetivo puramente académico. Vamos a explorar estructuras de datos y algoritmos que están dando forma a nuestro mundo.\n",
    "\n",
    "Una de las pepitas de oro de esta era es la abundancia de datos. Los correos electrónicos, números de teléfono, texto y documentos de imágenes contienen grandes cantidades de datos. En estos datos se encuentra información valiosa que hace que los datos sean más importantes. Pero para extraer esta información de los datos en bruto, tendremos que utilizar estructuras de datos, procesos y algoritmos especializados para esta tarea.\n",
    "\n",
    "El aprendizaje automático emplea una cantidad significativa de algoritmos para analizar y predecir la ocurrencia de ciertas variables. El análisis de datos sobre una base puramente numérica todavía deja gran parte de la información latente oculta en los datos sin procesar. La presentación de datos visualmente, por lo tanto, le permite a uno entender y obtener información valiosa también.\n",
    "\n",
    "De manera ideal hoy aprenderemos a:\n",
    "\n",
    "    - Podar y presentar los datos con precisión.\n",
    "    - Utilice los algoritmos de aprendizaje supervisados ​​y no supervisados ​​para fines de predicción\n",
    "    - Representar visualmente los datos para obtener más información."
   ]
  },
  {
   "cell_type": "markdown",
   "metadata": {},
   "source": [
    "#### Nuestros 'fierros'\n",
    "\n",
    "Para continuar hay que instalar los siguientes paquetes. Estos paquetes se utilizarán para preprocesar y representar visualmente los datos que se procesan. Algunos de los paquetes también contienen algoritmos bien escritos y perfeccionados que operarán en nuestros datos.\n",
    "\n",
    "Preferiblemente, estos módulos deberían instalarse dentro de un entorno virtual tal como pip:\n",
    "\n",
    "    - pip install numpy\n",
    "    - pip install scikit-learn\n",
    "    - pip install matplotlib\n",
    "    - pip install pandas\n",
    "    - pip install textblob  \n",
    "\n",
    "Estos paquetes pueden requerir que se instalen primero otros módulos específicos de la plataforma:\n",
    "\n",
    "    Numpy: una biblioteca con funciones para operar en matrices y matrices n-dimensionales.\n",
    "    Scikit-learn: Un módulo muy avanzado para el aprendizaje automático. Contiene un buen número de algoritmos para clasificación, regresión y agrupamiento, entre otros.\n",
    "    Matplotlib: esta es una biblioteca de gráficos que utiliza NumPy para representar gráficamente una buena variedad de gráficos, incluidos gráficos de líneas, histogramas, gráficos de dispersión e incluso gráficos en 3D.\n",
    "    Pandas: esta biblioteca se ocupa de la manipulación y análisis de datos."
   ]
  },
  {
   "cell_type": "markdown",
   "metadata": {},
   "source": [
    "#### Preprocesamiento de datos\n",
    "\n",
    "La recopilación de datos del mundo real está llena de desafíos masivos. Los datos en bruto recopilados están plagados de muchos problemas, tanto que necesitamos adoptar formas de sanear los datos para que sean adecuados para su uso en estudios posteriores.\n",
    "\n",
    "#### Por qué procesar datos en bruto?\n",
    "\n",
    "Los datos sin procesar como se recopilan del campo están equipados con errores humanos. La entrada de datos es una fuente importante de error al recopilar datos. Incluso los métodos tecnológicos de recopilación de datos no se salvan. La lectura incorrecta de dispositivos, dispositivos defectuosos y cambios en los factores ambientales pueden introducir márgenes significativos de errores a medida que se recopilan los datos.\n",
    "\n",
    "Los datos recopilados también pueden ser inconsistentes con otros registros recopilados a lo largo del tiempo. La existencia de entradas duplicadas y registros incompletos garantiza que tratamos los datos de manera tal que resulte un tesoro escondido y enterrado. Los datos en bruto también pueden estar envueltos en un mar de datos irrelevantes.\n",
    "\n",
    "Para limpiar los datos, podemos descartar totalmente los datos irrelevantes, mejor conocidos como ruido. Los datos con partes faltantes o atributos pueden reemplazarse con estimaciones razonables. Además, cuando los datos sin procesar sufren de inconsistencia, es necesario detectarlos y corregirlos.\n",
    "\n",
    "Exploremos cómo podemos usar NumPy y pandas para las técnicas de preprocesamiento de datos.\n",
    "\n",
    "#### Datos perdidos\n",
    "\n",
    "La recopilación de datos es tediosa y, como tal, una vez que se recopilan los datos, no debe descartarse fácilmente. El hecho de que a un conjunto de datos le falten campos o atributos no significa que no sea útil. Se pueden utilizar varios métodos para rellenar las partes inexistentes. Uno de estos métodos es mediante el uso de una constante global, el uso del valor medio en el conjunto de datos o el suministro manual de los datos. La elección se basa en el contexto y la sensibilidad de para qué se van a utilizar los datos.\n",
    "\n",
    "Tomemos, por ejemplo, los siguientes datos:"
   ]
  },
  {
   "cell_type": "code",
   "execution_count": 2,
   "metadata": {},
   "outputs": [],
   "source": [
    "import numpy as np \n",
    "import pandas as pd\n",
    "\n",
    "\n",
    "\n",
    "data = pd.DataFrame([ \n",
    "    [4., 45., 984.], \n",
    "    [np.NAN, np.NAN, 5.], \n",
    "    [94., 23., 55.], \n",
    "]) "
   ]
  },
  {
   "cell_type": "markdown",
   "metadata": {},
   "source": [
    "Como podemos ver, los elementos de datos datos [1] [0] y datos [1] [1] tienen valores que son np.NAN, lo que representa el hecho de que no tienen ningún valor. Si los valores np.NAN no son deseados en un conjunto de datos determinado, se pueden establecer en una cifra constante.\n",
    "\n",
    "Vamos a establecer elementos de datos con el valor np.NAN a 0.1:"
   ]
  },
  {
   "cell_type": "code",
   "execution_count": 3,
   "metadata": {},
   "outputs": [
    {
     "name": "stdout",
     "output_type": "stream",
     "text": [
      "      0     1      2\n",
      "0   4.0  45.0  984.0\n",
      "1   NaN   NaN    5.0\n",
      "2  94.0  23.0   55.0\n"
     ]
    }
   ],
   "source": [
    "print(data)"
   ]
  },
  {
   "cell_type": "code",
   "execution_count": 4,
   "metadata": {},
   "outputs": [
    {
     "name": "stdout",
     "output_type": "stream",
     "text": [
      "      0     1      2\n",
      "0   4.0  45.0  984.0\n",
      "1   0.1   0.1    5.0\n",
      "2  94.0  23.0   55.0\n"
     ]
    }
   ],
   "source": [
    "print(data.fillna(0.1)) \n",
    "# El nuevo estado de los datos se convierte en el siguiente:"
   ]
  },
  {
   "cell_type": "markdown",
   "metadata": {},
   "source": [
    "Para aplicar los valores promedio en su lugar, hacemos lo siguiente:"
   ]
  },
  {
   "cell_type": "code",
   "execution_count": 5,
   "metadata": {},
   "outputs": [
    {
     "name": "stdout",
     "output_type": "stream",
     "text": [
      "      0     1      2\n",
      "0   4.0  45.0  984.0\n",
      "1  49.0  34.0    5.0\n",
      "2  94.0  23.0   55.0\n"
     ]
    }
   ],
   "source": [
    "print(data.fillna(data.mean())) \n",
    "# El valor medio para cada columna se calcula y se inserta en esas \n",
    "# áreas de datos con el valor np.NAN:"
   ]
  },
  {
   "cell_type": "markdown",
   "metadata": {},
   "source": [
    "Para la primera columna, columna 0, el valor medio se obtuvo mediante (4 + 94) / 2. El 49.0 resultante se almacena luego en los datos [1] [0]. Una operación similar se lleva a cabo para las columnas 1 y 2."
   ]
  },
  {
   "cell_type": "markdown",
   "metadata": {},
   "source": [
    "#### Escalado de características\n",
    "\n",
    "Las columnas en un marco de datos se conocen como sus características. Las filas son conocidas como registros u observaciones. Ahora examina la siguiente matriz de datos. Se hará referencia a estos datos en las subsecciones, así que tome nota:"
   ]
  },
  {
   "cell_type": "code",
   "execution_count": 7,
   "metadata": {},
   "outputs": [],
   "source": [
    "data_1 =[[  58,    1,   43],\n",
    " [  10,  200,   65],\n",
    " [  20,   75,    7]]"
   ]
  },
  {
   "cell_type": "markdown",
   "metadata": {},
   "source": [
    "La característica 1, con los datos 58, 10, 20, tiene valores entre 10 y 58. Para la característica 2, los datos se encuentran entre 1 y 200. Se producirán resultados inconsistentes si suministramos estos datos a cualquier algoritmo de aprendizaje automático. Idealmente, necesitaremos escalar los datos a un cierto rango para obtener resultados consistentes.\n",
    "\n",
    "Una vez más, una inspección más cercana revela que cada característica (o columna) se encuentra alrededor de diferentes valores medios. Por lo tanto, lo que nos gustaría hacer es alinear las características alrededor de medios similares.\n",
    "\n",
    "Un beneficio de la escala de características es que aumenta las partes de aprendizaje del aprendizaje automático.\n",
    "\n",
    "El módulo scikit tiene un número considerable de algoritmos de escala que aplicaremos a nuestros datos.\n",
    "\n",
    "#### Min-Max Scalar\n",
    "\n",
    "La forma de normalización escalar mín-máx utiliza la media y la desviación estándar para encuadrar todos los datos en un rango comprendido entre un determinado valor máximo y mínimo. Para la mayoría de los propósitos, el rango se establece entre 0 y 1. En otros momentos, se pueden aplicar otros rangos, pero el rango de 0 a 1 sigue siendo el predeterminado:"
   ]
  },
  {
   "cell_type": "code",
   "execution_count": 8,
   "metadata": {},
   "outputs": [],
   "source": [
    "from sklearn import preprocessing\n",
    "\n",
    "scaled_values = preprocessing.MinMaxScaler(feature_range=(0,1)) \n",
    "results = scaled_values.fit(data_1).transform(data_1)  "
   ]
  },
  {
   "cell_type": "markdown",
   "metadata": {},
   "source": [
    "Se crea una instancia de la clase MinMaxScaler con el rango (0,1) y se pasa a la variable valores_escalados. Se llama a la función de ajuste para realizar los cálculos necesarios que se utilizarán internamente para cambiar el conjunto de datos. La función de transformación efectúa la operación real en el conjunto de datos, devolviendo el valor a los resultados:"
   ]
  },
  {
   "cell_type": "code",
   "execution_count": 9,
   "metadata": {},
   "outputs": [
    {
     "name": "stdout",
     "output_type": "stream",
     "text": [
      "[[1.         0.         0.62068966]\n",
      " [0.         1.         1.        ]\n",
      " [0.20833333 0.3718593  0.        ]]\n"
     ]
    }
   ],
   "source": [
    "print(results)"
   ]
  },
  {
   "cell_type": "markdown",
   "metadata": {},
   "source": [
    "Podemos ver en la salida anterior que todos los datos están normalizados y se encuentran entre 0 y 1. Este tipo de salida ahora puede suministrarse a un algoritmo de Machine Learning.\n",
    "\n",
    "#### Standard Scalar\n",
    "\n",
    "Los valores medios para las características respectivas en nuestro conjunto de datos o tabla inicial son 29.3, 92 y 38. Para hacer que todos los datos tengan una media similar, es decir, una media cero y una varianza de unidades en todos los datos, aplicaremos el estándar algoritmo escalar:"
   ]
  },
  {
   "cell_type": "code",
   "execution_count": 11,
   "metadata": {},
   "outputs": [],
   "source": [
    "stand_scalar =  preprocessing.StandardScaler().fit(data_1) \n",
    "results = stand_scalar.transform(data_1) "
   ]
  },
  {
   "cell_type": "markdown",
   "metadata": {},
   "source": [
    "Los datos se pasan al método de ajuste del objeto devuelto al crear una instancia de la clase StandardScaler. El método de transformación actúa sobre los elementos de datos en los datos y devuelve la salida a los resultados:"
   ]
  },
  {
   "cell_type": "code",
   "execution_count": 12,
   "metadata": {},
   "outputs": [
    {
     "name": "stdout",
     "output_type": "stream",
     "text": [
      "[[ 1.38637564 -1.10805456  0.19519899]\n",
      " [-0.93499753  1.31505377  1.11542277]\n",
      " [-0.45137812 -0.2069992  -1.31062176]]\n"
     ]
    }
   ],
   "source": [
    "print(results)"
   ]
  },
  {
   "cell_type": "markdown",
   "metadata": {},
   "source": [
    "Al examinar los resultados, observamos que todas nuestras características ahora están distribuidas uniformemente.\n",
    "\n",
    "#### Binarizing data\n",
    "\n",
    "Para binarizar un conjunto de características dado, utilizamos un umbral. Si cualquier valor dentro de un conjunto de datos dado es mayor que el umbral, el valor se reemplaza por 1. Si el valor es menor que el umbral 1, lo reemplazaremos:"
   ]
  },
  {
   "cell_type": "code",
   "execution_count": 13,
   "metadata": {},
   "outputs": [],
   "source": [
    "results = preprocessing.Binarizer(50.0).fit(data_1).transform(data_1) "
   ]
  },
  {
   "cell_type": "markdown",
   "metadata": {},
   "source": [
    "Se crea una instancia de Binarizer con el argumento 50.0. 50.0 es el umbral que se utilizará en el algoritmo de binarización:"
   ]
  },
  {
   "cell_type": "code",
   "execution_count": 15,
   "metadata": {},
   "outputs": [
    {
     "name": "stdout",
     "output_type": "stream",
     "text": [
      "[[1 0 0]\n",
      " [0 1 1]\n",
      " [0 1 0]]\n"
     ]
    }
   ],
   "source": [
    "print(results)"
   ]
  },
  {
   "cell_type": "markdown",
   "metadata": {},
   "source": [
    "Todos los valores en los datos que son menos de 50 tendrán 0 en su lugar. Lo contrario también es cierto.\n",
    "\n",
    "### Machine Learning\n",
    "\n",
    "Machine Learning es un subcampo de la inteligencia artificial. Sabemos que nunca podemos realmente crear máquinas que realmente \"piensen\", pero podemos suministrar máquinas con datos y modelos suficientes mediante los cuales se puede llegar a un buen juicio. \n",
    "\n",
    "\n",
    "    - DISCUSION GENERAL GRUPAL \n",
    "\n",
    "\n",
    "El Machine Learning se enfoca en crear sistemas autónomos que puedan continuar el proceso de toma de decisiones, con poca o ninguna intervención humana.\n",
    "\n",
    "Para enseñar la máquina, necesitamos datos extraídos del mundo real. Por ejemplo, para cambiar a través de qué correos electrónicos constituyen spam y cuáles no, necesitamos alimentar a la máquina con muestras de cada uno. Después de obtener estos datos, tenemos que ejecutar los datos a través de modelos (algoritmos) que usarán probabilidad y estadísticas para desenterrar patrones y estructuras a partir de los datos. Si esto se hace correctamente, el algoritmo por sí mismo podrá analizar los correos electrónicos y clasificarlos correctamente. Ordenar los correos electrónicos es solo un ejemplo de lo que pueden hacer las máquinas si están \"trained/entrenados\".\n",
    "\n",
    "#### Tipos de Machine Learning\n",
    "\n",
    "Hay tres categorías amplias de aprendizaje automático, como sigue:\n",
    "\n",
    "**Supervised Learning** Aquí, un algoritmo se alimenta de un conjunto de entradas y sus salidas correspondientes. El algoritmo entonces tiene que averiguar cuál será la salida para una entrada desconocida. Los ejemplos de tales algoritmos incluyen Naivce Bayes, regresión lineal y algoritmos de árbol de decisión.\n",
    "\n",
    "**Unsupervised Learning** Sin usar la relación que existe entre un conjunto de variables de entrada y salida, el algoritmo de aprendizaje no supervisado usa solo las entradas para desenterrar grupos, patrones y grupos dentro de los datos. Los ejemplos de tales algoritmos incluyen la agrupación/clustering jerárquica y la agrupación/clustering k-means.\n",
    "\n",
    "**Reinforcement Learning** La computadora en este tipo de aprendizaje interactúa dinámicamente con su entorno de tal manera que mejora su rendimiento.\n",
    "\n",
    "\n",
    "#### Hello Classifier\n",
    "\n",
    "Para invocar la bendición de los dioses de la programación en nuestra búsqueda por comprender el Machine Learning, comenzamos con un ejemplo de **Hola mundo** de un clasificador de texto. Esto pretende ser una introducción suave al Machine Learning.\n",
    "\n",
    "Este ejemplo predecirá si un texto dado tiene una connotación negativa o positiva. Antes de poder hacer esto, necesitamos entrenar nuestro algoritmo (modelo) con algunos datos.\n",
    "\n",
    "El modelo Naive Bayes es adecuado para propósitos de clasificación de texto. Los algoritmos basados en Naive Bayes son generalmente rápidos y producen resultados precisos. Todo el modelo se basa en el supuesto de que las características son independientes entre sí. Para predecir con precisión la ocurrencia de lluvias, se deben considerar tres condiciones. Estos son la velocidad del viento, la temperatura y la cantidad de humedad en el aire. En realidad, estos factores tienen una influencia mutua para determinar la probabilidad de lluvia. Pero la abstracción en Bayes ingenuo es suponer que estas características no están relacionadas de ninguna manera y, por lo tanto, contribuyen de manera independiente a las posibilidades de lluvia. Naive Bayes es útil para predecir la clase de un conjunto de datos desconocido, como veremos pronto.\n",
    "\n",
    "Ahora volvamos a nuestro clasificador hola. Una vez que hayamos entrenado nuestro modo, su predicción caerá en la categoría positiva o negativa\n",
    "\n",
    "Primero, importaremos la clase NaiveBayesClassifier del paquete textblob. Es muy fácil trabajar con este clasificador y se basa en el teorema de Bayes.\n",
    "\n",
    "La variable de train consiste en tuplas en las que cada una contiene los datos de entrenamiento reales. Cada tupla contiene la oración y el grupo al que está asociada."
   ]
  },
  {
   "cell_type": "code",
   "execution_count": 16,
   "metadata": {},
   "outputs": [],
   "source": [
    "from textblob.classifiers import NaiveBayesClassifier \n",
    "train = [ \n",
    "        ('I love this sandwich.', 'pos'), \n",
    "        ('This is an amazing shop!', 'pos'), \n",
    "        ('We feel very good about these beers.', 'pos'), \n",
    "        ('That is my best sword.', 'pos'), \n",
    "        ('This is an awesome post', 'pos'), \n",
    "        ('I do not like this cafe', 'neg'), \n",
    "        ('I am tired of this bed.', 'neg'), \n",
    "        (\"I can't deal with this\", 'neg'), \n",
    "        ('She is my sworn enemy!', 'neg'), \n",
    "        ('I never had a caring mom.', 'neg') \n",
    "    ] "
   ]
  },
  {
   "cell_type": "markdown",
   "metadata": {},
   "source": [
    "Ahora, para entrenar a nuestro modelo, instanciaremos un objeto NaiveBayesClassifier pasando el tren a él:"
   ]
  },
  {
   "cell_type": "code",
   "execution_count": 17,
   "metadata": {
    "scrolled": false
   },
   "outputs": [],
   "source": [
    "cl = NaiveBayesClassifier(train)"
   ]
  },
  {
   "cell_type": "markdown",
   "metadata": {},
   "source": [
    "El modelo Naive Bayes actualizado cl predecirá la categoría a la que pertenece una oración desconocida. Hasta este punto, nuestro modelo conoce solo dos categorías a las que puede pertenecer una frase, neg y pos.\n",
    "\n",
    "Unas pruebas:"
   ]
  },
  {
   "cell_type": "code",
   "execution_count": 19,
   "metadata": {},
   "outputs": [
    {
     "name": "stdout",
     "output_type": "stream",
     "text": [
      "pos\n",
      "pos\n",
      "neg\n",
      "neg\n",
      "neg\n"
     ]
    }
   ],
   "source": [
    "print(cl.classify(\"I just love breakfast\")) \n",
    "print(cl.classify(\"Yesterday was Sunday\")) \n",
    "print(cl.classify(\"Why can't he pay my bills\")) \n",
    "print(cl.classify(\"They want to kill the president of Bantu\")) \n",
    "print(cl.classify('I hate WeWork!'))"
   ]
  },
  {
   "cell_type": "markdown",
   "metadata": {},
   "source": [
    "Podemos ver que el algoritmo ha tenido cierto grado de éxito al clasificar bien las frases de entrada en sus categorías.\n",
    "\n",
    "Este ejemplo artificial es demasiado simplista, pero muestra la promesa de que si se dan las cantidades correctas de datos y un algoritmo o modelo adecuado, es posible que una máquina lleve a cabo tareas sin ayuda humana.\n",
    "\n",
    "La clase especializada NaiveBayesClassifier también hizo un trabajo pesado para nosotros en el fondo, por lo que no pudimos apreciar las entrañas por las que el algoritmo llegó a las diversas predicciones. Nuestro siguiente ejemplo utilizará el módulo scikit para predecir la categoría a la que puede pertenecer una frase.\n",
    "\n",
    "#### Un ejemplo de Supervised Learning\n",
    "\n",
    "Supongamos que tenemos un conjunto de publicaciones para categorizar. Al igual que con el aprendizaje supervisado, primero debemos entrenar el modelo para que pueda predecir con precisión la categoría de una publicación desconocida.\n",
    "\n",
    "#### Reuniendo datos\n",
    "\n",
    "El módulo scikit viene con una serie de datos de muestra que utilizaremos para entrenar nuestro modelo. En este caso, utilizaremos las publicaciones de los grupos de noticias. Para cargar las publicaciones, usaremos las siguientes líneas de código:"
   ]
  },
  {
   "cell_type": "code",
   "execution_count": 21,
   "metadata": {},
   "outputs": [],
   "source": [
    "from sklearn.datasets import fetch_20newsgroups \n",
    "categories = ['alt.atheism', 'soc.religion.christian','comp.graphics', 'sci.med']\n",
    "training_data = fetch_20newsgroups(categories=categories,subset='train', shuffle=True, random_state=42)"
   ]
  },
  {
   "cell_type": "markdown",
   "metadata": {},
   "source": [
    "El número de registros que vamos a utilizar como datos de entrenamiento se obtiene de la siguiente manera:"
   ]
  },
  {
   "cell_type": "code",
   "execution_count": 22,
   "metadata": {},
   "outputs": [
    {
     "name": "stdout",
     "output_type": "stream",
     "text": [
      "5\n"
     ]
    }
   ],
   "source": [
    "print(len(training_data)) "
   ]
  },
  {
   "cell_type": "markdown",
   "metadata": {},
   "source": [
    "Los algoritmos de Machine Learning no se combinan bien con los atributos textuales, por lo que las categorías a las que pertenece cada publicación se presentan como números:"
   ]
  },
  {
   "cell_type": "code",
   "execution_count": 23,
   "metadata": {},
   "outputs": [
    {
     "name": "stdout",
     "output_type": "stream",
     "text": [
      "{0, 1, 2, 3}\n"
     ]
    }
   ],
   "source": [
    "print(set(training_data.target)) "
   ]
  },
  {
   "cell_type": "markdown",
   "metadata": {},
   "source": [
    "Las categorías tienen valores enteros/integers que podemos asignar de nuevo a las categorías con print (training_data.target_names [0]).\n",
    "\n",
    "Aquí, 0 es un índice aleatorio numérico seleccionado del conjunto (training_data.target).\n",
    "\n",
    "Ahora que se han obtenido los datos de entrenamiento, debemos enviar los datos a un algoritmo de aprendizaje automático. El modelo de bolsa de palabras desglosará los datos de entrenamiento para prepararlos para el algoritmo o modelo de aprendizaje.\n",
    "\n",
    "#### Bag of words\n",
    "\n",
    "La bolsa de palabras/Bag of words es un modelo que se utiliza para representar datos de texto de tal manera que no toma en cuenta el orden de las palabras, sino que utiliza recuentos de palabras para segmentar palabras en regiones.\n",
    "\n",
    "Tome las siguientes oraciones:"
   ]
  },
  {
   "cell_type": "code",
   "execution_count": 24,
   "metadata": {},
   "outputs": [],
   "source": [
    "sentence_1 = \"As fit as a fiddle\"\n",
    "sentence_2 = \"As you like it\""
   ]
  },
  {
   "cell_type": "markdown",
   "metadata": {},
   "source": [
    "La bolsa de palabras nos permite descomponer el texto en vectores de características numéricas representados por una matriz.\n",
    "\n",
    "Para reducir nuestras dos oraciones en el modelo de bolsa de palabras, necesitamos obtener una lista única de todas las palabras:"
   ]
  },
  {
   "cell_type": "code",
   "execution_count": 25,
   "metadata": {},
   "outputs": [
    {
     "data": {
      "text/plain": [
       "{'As', 'a', 'as', 'fiddleAs', 'fit', 'it', 'like', 'you'}"
      ]
     },
     "execution_count": 25,
     "metadata": {},
     "output_type": "execute_result"
    }
   ],
   "source": [
    "set((sentence_1 + sentence_2).split(\" \")) "
   ]
  },
  {
   "cell_type": "markdown",
   "metadata": {},
   "source": [
    "Este conjunto se convertirá en nuestras columnas en la matriz. Las filas en la matriz representarán los documentos que se están utilizando en la capacitación. La intersección de una fila y una columna almacenará el número de veces que esa palabra aparece en el documento. Usando nuestras dos oraciones como ejemplos, obtenemos la siguiente matriz:\n",
    "\n",
    "<img src='./img/BagofWords.png'>"
   ]
  },
  {
   "cell_type": "markdown",
   "metadata": {},
   "source": [
    "Los datos anteriores por sí solos no nos permitirán predecir con precisión la categoría a la que pertenecerán los nuevos documentos o artículos. La matriz tiene algunos defectos inherentes. Puede haber situaciones en las que los documentos más largos o las palabras que aparecen en muchas de las publicaciones reduzcan la precisión del algoritmo. Las palabras de parada se pueden eliminar para asegurarse de que solo se analizan los datos relevantes. Las palabras de detención incluyen es, son, fueron y así sucesivamente. Dado que el modelo de bolsa de palabras no tiene en cuenta la gramática en su análisis, las palabras de parada se pueden eliminar de forma segura. También es posible agregar a la lista de palabras vacías que uno siente que deberían estar exentas del análisis final.\n",
    "\n",
    "Para generar los valores que van en las columnas de nuestra matriz, tenemos que tokenizar nuestros datos de entrenamiento:"
   ]
  },
  {
   "cell_type": "code",
   "execution_count": 26,
   "metadata": {},
   "outputs": [],
   "source": [
    "from sklearn.feature_extraction.text import CountVectorizer \n",
    "from sklearn.feature_extraction.text import TfidfTransformer \n",
    "from sklearn.naive_bayes import MultinomialNB \n",
    "count_vect = CountVectorizer() \n",
    "training_matrix = count_vect.fit_transform(training_data.data) "
   ]
  },
  {
   "cell_type": "markdown",
   "metadata": {},
   "source": [
    "El training_matrix tiene una dimensión de (2257, 35788). Esto significa que 2257 corresponde al conjunto de datos, mientras que 35788 corresponde al número de columnas que forman el conjunto único de palabras en todas las publicaciones.\n",
    "\n",
    "Creamos una instancia de la clase CountVectorizer y pasamos training_data.data al método fit_transform del objeto count_vect. El resultado se almacena en training_matrix. La training_matrix contiene todas las palabras únicas y sus respectivas frecuencias.\n",
    "\n",
    "Para mitigar el problema de basar la predicción solo en el recuento de frecuencia, importaremos el TfidfTransformer que ayuda a suavizar las imprecisiones en nuestros datos:"
   ]
  },
  {
   "cell_type": "code",
   "execution_count": 27,
   "metadata": {},
   "outputs": [
    {
     "name": "stdout",
     "output_type": "stream",
     "text": [
      "[[0. 0. 0. ... 0. 0. 0.]\n",
      " [0. 0. 0. ... 0. 0. 0.]\n",
      " [0. 0. 0. ... 0. 0. 0.]]\n"
     ]
    }
   ],
   "source": [
    "matrix_transformer = TfidfTransformer() \n",
    "tfidf_data = matrix_transformer.fit_transform(training_matrix) \n",
    "\n",
    "print(tfidf_data[1:4].todense()) "
   ]
  },
  {
   "cell_type": "markdown",
   "metadata": {},
   "source": [
    "tfidf_data [1: 4] .todense () solo muestra una lista truncada de una matriz de tres filas por 35,788 columnas. Los valores que se ven son el término frecuencia: frecuencia inversa de documentos que reduce la imprecisión resultante del uso de un recuento de frecuencia:"
   ]
  },
  {
   "cell_type": "code",
   "execution_count": 28,
   "metadata": {},
   "outputs": [],
   "source": [
    "model = MultinomialNB().fit(tfidf_data, training_data.target) "
   ]
  },
  {
   "cell_type": "markdown",
   "metadata": {},
   "source": [
    "MultinomialNB es una variante del modelo Naive Bayes. Pasamos la matriz de datos racionalizada, tfidf_data y categorías, training_data.target, a su método de ajuste."
   ]
  },
  {
   "cell_type": "markdown",
   "metadata": {},
   "source": [
    "#### Predicción\n",
    "\n",
    "Para probar si nuestro modelo ha aprendido lo suficiente como para predecir la categoría a la que probablemente pertenezca una publicación desconocida, tenemos los siguientes datos de muestra:"
   ]
  },
  {
   "cell_type": "code",
   "execution_count": 29,
   "metadata": {},
   "outputs": [],
   "source": [
    "test_data = [\"My God is good\", \"Arm chip set will rival intel\"] \n",
    "test_counts = count_vect.transform(test_data) \n",
    "new_tfidf = matrix_transformer.transform(test_counts) "
   ]
  },
  {
   "cell_type": "markdown",
   "metadata": {},
   "source": [
    "La lista test_data se pasa a la función count_vect.transform para obtener la forma vectorizada de los datos de prueba. Para obtener el término frecuencia - representación inversa de la frecuencia del documento del conjunto de datos de prueba, llamamos el método de transformación del objeto matrix_transformer.\n",
    "\n",
    "Para predecir a qué categoría pertenecen los documentos, hacemos lo siguiente:"
   ]
  },
  {
   "cell_type": "code",
   "execution_count": 30,
   "metadata": {},
   "outputs": [],
   "source": [
    "prediction = model.predict(new_tfidf)  "
   ]
  },
  {
   "cell_type": "markdown",
   "metadata": {},
   "source": [
    "El loop que se utiliza para iterar sobre la predicción, mostrando las categorías a las que se predice que pertenecen:"
   ]
  },
  {
   "cell_type": "code",
   "execution_count": 31,
   "metadata": {},
   "outputs": [
    {
     "name": "stdout",
     "output_type": "stream",
     "text": [
      "'My God is good' => soc.religion.christian\n",
      "'Arm chip set will rival intel' => comp.graphics\n"
     ]
    }
   ],
   "source": [
    "for doc, category in zip(test_data, prediction): \n",
    "    print('%r => %s' % (doc, training_data.target_names[category])) \n",
    "\n",
    "# Cuando el loop se ha ejecutado hasta completarse, se muestra la frase, \n",
    "# junto con la categoría a la que puede pertenecer. Una salida de muestra es la siguiente:"
   ]
  },
  {
   "cell_type": "markdown",
   "metadata": {},
   "source": [
    "Todo lo que hemos visto hasta este punto es un excelente ejemplo de aprendizaje supervisado. Comenzamos cargando publicaciones cuyas categorías ya son conocidas. Estas publicaciones se incorporaron al algoritmo de aprendizaje automático más adecuado para el procesamiento de texto basado en el ingenuo teorema de Bayes. Se proporcionó un conjunto de fragmentos de post de prueba al modelo y se predijo la categoría.\n",
    "\n",
    "Para explorar un ejemplo de un algoritmo de aprendizaje no supervisado, estudiaremos el algoritmo k-means para agrupar algunos datos.\n",
    "\n",
    "#### Un ejemplo de unsupervised learning\n",
    "\n",
    "Una categoría de algoritmos de aprendizaje puede descubrir grupos inherentes que pueden existir en un conjunto de datos. Un ejemplo de estos algoritmos es el algoritmo k-means.\n",
    "\n",
    "#### K-Means algorithm\n",
    "\n",
    "El algoritmo k-means usa los puntos medios en un conjunto de datos determinado para agrupar y descubrir grupos dentro del conjunto de datos. K es la cantidad de grupos que queremos y esperamos descubrir. Después de que el algoritmo k-means haya generado las agrupaciones, podemos pasarle datos adicionales pero desconocidos para que pueda predecir a qué grupo pertenecerá.\n",
    "\n",
    "Ten en cuenta que en este tipo de algoritmo, solo se ingresan los datos sin categorizar sin procesar al algoritmo. Depende del algoritmo averiguar si los datos tienen grupos inherentes dentro de él.\n",
    "\n",
    "Para comprender cómo funciona este algoritmo, examinaremos 100 puntos de datos que consisten en valores de x e y. Alimentaremos estos valores al algoritmo de aprendizaje y esperaremos que el algoritmo agrupará los datos en dos conjuntos. Colorearemos los dos conjuntos para que los grupos sean visibles.\n",
    "\n",
    "Vamos a crear una muestra de datos de 100 registros x & y:"
   ]
  },
  {
   "cell_type": "code",
   "execution_count": 32,
   "metadata": {},
   "outputs": [],
   "source": [
    "import numpy as np \n",
    "import matplotlib.pyplot as plt \n",
    "original_set = -2 * np.random.rand(100, 2) \n",
    "second_set = 1 + 2 * np.random.rand(50, 2) \n",
    "original_set[50: 100, :] = second_set "
   ]
  },
  {
   "cell_type": "markdown",
   "metadata": {},
   "source": [
    "Primero, creamos 100 registros con -2 * np.random.rand (100, 2). En cada uno de los registros, utilizaremos los datos que contiene para representar los valores de x e y que finalmente se trazarán.\n",
    "\n",
    "Los últimos 50 números en original_set serán reemplazados por 1 + 2 * np.random.rand (50, 2). En efecto, lo que hemos hecho es crear dos subconjuntos de datos, donde un conjunto tiene números en negativo mientras que el otro conjunto tiene números en positivo. Ahora es responsabilidad del algoritmo descubrir estos segmentos de manera adecuada.\n",
    "\n",
    "Creamos una instancia de la clase de algoritmo KMeans y la pasamos n_clusters = 2. Eso hace que el algoritmo agrupe todos sus datos en solo dos grupos. Es a través de una serie de prueba y error que se obtiene esta cifra, 2. Pero para fines académicos, ya conocemos este número. No es del todo obvio cuando se trabaja con conjuntos de datos desconocidos del mundo real.\n",
    "\n",
    "El conjunto de datos se pasa a la función de ajuste de kmean, kmean.fit (original_set). Los grupos generados por el algoritmo girarán alrededor de un cierto punto medio. Los puntos que definen estos dos puntos medios se obtienen mediante kmean.cluster_centers_."
   ]
  },
  {
   "cell_type": "code",
   "execution_count": 33,
   "metadata": {},
   "outputs": [
    {
     "name": "stdout",
     "output_type": "stream",
     "text": [
      "[[ 2.0675647   2.1143614 ]\n",
      " [-1.07223991 -0.86508621]]\n",
      "[1 1 1 1 1 1 1 1 1 1 1 1 1 1 1 1 1 1 1 1 1 1 1 1 1 1 1 1 1 1 1 1 1 1 1 1 1\n",
      " 1 1 1 1 1 1 1 1 1 1 1 1 1 0 0 0 0 0 0 0 0 0 0 0 0 0 0 0 0 0 0 0 0 0 0 0 0\n",
      " 0 0 0 0 0 0 0 0 0 0 0 0 0 0 0 0 0 0 0 0 0 0 0 0 0 0]\n"
     ]
    }
   ],
   "source": [
    "from sklearn.cluster import KMeans \n",
    "kmean = KMeans(n_clusters=2) \n",
    "\n",
    "kmean.fit(original_set) \n",
    "#Los puntos medios cuando se imprimen aparecen como sigue:\n",
    "print(kmean.cluster_centers_) \n",
    "# Cada punto de datos en original_set pertenecerá a un grupo después de que \n",
    "# nuestro algoritmo k-means haya finalizado su entrenamiento. El algoritmo k-mean \n",
    "# representa los dos grupos que descubre como 1s y 0s. Si hubiéramos pedido al algoritmo \n",
    "# que agrupara los datos en cuatro, la representación interna de estos grupos habría sido 0, 1, 2 y 3. \n",
    "#Para imprimir los diferentes grupos a los que pertenece cada conjunto de datos, hacemos lo siguiente:\n",
    "print(kmean.labels_) \n",
    "\n"
   ]
  },
  {
   "cell_type": "markdown",
   "metadata": {},
   "source": [
    "Hay 100 1s y 0s. Cada uno muestra el grupo en el que se encuentra cada punto de datos. Al usar matplotlib.pyplot, podemos trazar los puntos de cada grupo y colorearlos adecuadamente para mostrar los grupos:"
   ]
  },
  {
   "cell_type": "code",
   "execution_count": 35,
   "metadata": {},
   "outputs": [
    {
     "data": {
      "image/png": "[encoded data removed]",
      "text/plain": [
       "<Figure size 432x288 with 1 Axes>"
      ]
     },
     "metadata": {},
     "output_type": "display_data"
    }
   ],
   "source": [
    "import matplotlib.pyplot as plt \n",
    "% matplotlib inline\n",
    "for i in set(kmean.labels_): \n",
    "    index = kmean.labels_ == i \n",
    "    plt.plot(original_set[index,0], original_set[index,1], 'o') \n",
    "plt.plot(kmean.cluster_centers_[0][0],kmean.cluster_centers_[0][1], '*', c='r', ms=10) \n",
    "plt.plot(kmean.cluster_centers_[1][0],kmean.cluster_centers_[1][1], '*', c='r', ms=10) \n",
    "plt.show()"
   ]
  },
  {
   "cell_type": "markdown",
   "metadata": {},
   "source": [
    "index = kmean.labels_ == i es una forma ingeniosa por la cual seleccionamos todos los puntos que corresponden al grupo i. Cuando i = 0, todos los puntos que pertenecen al grupo 0 se devuelven al índice. Es lo mismo para el índice = 1, 2 ... y así sucesivamente.\n",
    "\n",
    "plt.plot (original_set [index, 0], original_set [index, 1], 'o') luego traza estos puntos de datos usando o como el carácter para dibujar cada punto.\n",
    "\n",
    "El algoritmo descubre dos grupos distintos en nuestros datos de muestra. Los dos puntos medios de los dos grupos se indican con el símbolo de estrella roja.\n",
    "\n",
    "#### Predicción\n",
    "\n",
    "Con los dos clústeres que hemos obtenido, podemos predecir el grupo al que podría pertenecer un nuevo conjunto de datos.\n",
    "\n",
    "Vamos a predecir a qué grupo pertenecerán los puntos [[-1.4, -1.4]] y [[2.5, 2.5]]:"
   ]
  },
  {
   "cell_type": "code",
   "execution_count": 36,
   "metadata": {},
   "outputs": [
    {
     "name": "stdout",
     "output_type": "stream",
     "text": [
      "[1]\n",
      "[0]\n"
     ]
    }
   ],
   "source": [
    "sample = np.array([[-1.4, -1.4]]) \n",
    "print(kmean.predict(sample)) \n",
    "\n",
    "another_sample = np.array([[2.5, 2.5]]) \n",
    "print(kmean.predict(another_sample)) "
   ]
  },
  {
   "cell_type": "markdown",
   "metadata": {},
   "source": [
    "Como mínimo, podemos esperar que los dos conjuntos de datos de prueba pertenezcan a diferentes grupos. Nuestra expectativa es correcta cuando la declaración de impresión se imprime en 1 y 0, lo que confirma que nuestros datos de prueba se encuentran en dos grupos diferentes.\n",
    "\n",
    "#### Visualización de datos\n",
    "\n",
    "El análisis numérico a veces no se presta a una fácil comprensión. De hecho, una sola imagen vale más que 1.000 palabras y en esta sección, una imagen valdría más que 1.000 tablas compuestas de números solamente. Las imágenes presentan una forma rápida de analizar los datos. Las diferencias en tamaño y longitudes son marcadores rápidos en una imagen sobre la que se pueden extraer conclusiones. En esta sección, haremos un recorrido por las diferentes formas de representar datos. Además de los gráficos que se enumeran aquí, hay más que se pueden lograr al chatear datos.\n",
    "\n",
    "#### Gráfica de barras\n",
    "\n",
    "Para graficar los valores 25, 5, 150 y 100 en un gráfico de barras, almacenaremos los valores en una matriz y los pasaremos a la función de barra. Las barras en el gráfico representan la magnitud a lo largo del eje y:"
   ]
  },
  {
   "cell_type": "code",
   "execution_count": 37,
   "metadata": {},
   "outputs": [
    {
     "data": {
      "image/png": "[encoded data removed]",
      "text/plain": [
       "<Figure size 432x288 with 1 Axes>"
      ]
     },
     "metadata": {},
     "output_type": "display_data"
    }
   ],
   "source": [
    "import matplotlib.pyplot as plt \n",
    "\n",
    "data = [25., 5., 150., 100.] \n",
    "x_values = range(len(data)) \n",
    "plt.bar(x_values, data) \n",
    "\n",
    "plt.show() \n",
    "\n",
    "# x_values almacena una matriz de valores generados por rango (len (datos)). \n",
    "#Además, los valores de x determinarán los puntos en el eje x donde se dibujarán las barras. \n",
    "#La primera barra se dibujará en el eje x donde x es 0. \n",
    "#La segunda barra con datos 5 se dibujará en el eje x donde x es 1:"
   ]
  },
  {
   "cell_type": "code",
   "execution_count": 38,
   "metadata": {},
   "outputs": [
    {
     "data": {
      "text/plain": [
       "<BarContainer object of 4 artists>"
      ]
     },
     "execution_count": 38,
     "metadata": {},
     "output_type": "execute_result"
    },
    {
     "data": {
      "image/png": "[encoded data removed]",
      "text/plain": [
       "<Figure size 432x288 with 1 Axes>"
      ]
     },
     "metadata": {},
     "output_type": "display_data"
    }
   ],
   "source": [
    "# El ancho de cada barra se puede cambiar modificando la siguiente línea:\n",
    "plt.bar(x_values, data, width=1.)  "
   ]
  },
  {
   "cell_type": "markdown",
   "metadata": {},
   "source": [
    "Sin embargo, esto no es visualmente atractivo porque no hay espacio entre las barras, lo que hace que se vea torpe. Cada barra ahora ocupa una unidad en el eje x.\n",
    "\n",
    "#### Gráfica de barras múltiples\n",
    "\n",
    "Al tratar de visualizar datos, apilar una cantidad de barras permite comprender mejor cómo un dato o variable varía con otro.\n",
    "\n",
    "Los valores de y para el primer lote de datos son [8., 57., 22., 10.]. El segundo lote es [16., 7., 32., 40.]. Cuando se dibujan las barras, 8 y 16 ocuparán la misma posición x, lado a lado.\n",
    "\n",
    "x_values = np.arange (4) genera la matriz con valores [0, 1, 2, 3]. El primer conjunto de barras se dibuja primero en la posición x valores + 0.30. Por lo tanto, los primeros valores de x se representarán en 0.00, 1.00, 2.00 y 3.00.\n",
    "\n",
    "El segundo lote de valores_x se graficará a las 0.30, 1.30, 2.30 y 3.30:"
   ]
  },
  {
   "cell_type": "code",
   "execution_count": 39,
   "metadata": {},
   "outputs": [
    {
     "data": {
      "image/png": "[encoded data removed]",
      "text/plain": [
       "<Figure size 432x288 with 1 Axes>"
      ]
     },
     "metadata": {},
     "output_type": "display_data"
    }
   ],
   "source": [
    "data = [[8., 57., 22., 10.], \n",
    "        [16., 7., 32., 40.],] \n",
    "\n",
    "import numpy as np \n",
    "x_values = np.arange(4) \n",
    "plt.bar(x_values + 0.00, data[0], color='r', width=0.30) \n",
    "plt.bar(x_values + 0.30, data[1], color='y', width=0.30) \n",
    "\n",
    "plt.show() "
   ]
  },
  {
   "cell_type": "markdown",
   "metadata": {},
   "source": [
    "#### Diagrama de caja\n",
    "\n",
    "La gráfica de caja se usa para visualizar el valor de la mediana y los rangos alto y bajo de una distribución. También se le conoce como una trama de caja y bigotes.\n",
    "\n",
    "Vamos a trazar un diagrama de caja simple.\n",
    "\n",
    "Comenzamos generando 50 números a partir de una distribución normal. Estos se pasan luego a plt.boxplot (datos) para ser graficados:"
   ]
  },
  {
   "cell_type": "code",
   "execution_count": 40,
   "metadata": {},
   "outputs": [
    {
     "data": {
      "image/png": "[encoded data removed]",
      "text/plain": [
       "<Figure size 432x288 with 1 Axes>"
      ]
     },
     "metadata": {},
     "output_type": "display_data"
    }
   ],
   "source": [
    "import numpy as np \n",
    "import matplotlib.pyplot as plt \n",
    "\n",
    "data = np.random.randn(50) \n",
    "\n",
    "plt.boxplot(data) \n",
    "plt.show() "
   ]
  },
  {
   "cell_type": "markdown",
   "metadata": {},
   "source": [
    "Algunos comentarios sobre la figura anterior: las características del diagrama de caja incluyen una caja que abarca el rango intercuartil, que mide la dispersión; las franjas exteriores de los datos están indicadas por los bigotes conectados a la caja central; La línea roja representa la mediana.\n",
    "\n",
    "El diagrama de caja es útil para identificar fácilmente los valores atípicos en un conjunto de datos, así como para determinar en qué dirección puede sesgarse un conjunto de datos.\n",
    "\n",
    "#### Gráfico circular\n",
    "\n",
    "El gráfico circular interpreta y presenta visualmente los datos como si estuvieran en un círculo. Los puntos de datos individuales se expresan como sectores de un círculo que suman 360 grados. Este gráfico es bueno para mostrar datos categóricos y resúmenes también:"
   ]
  },
  {
   "cell_type": "code",
   "execution_count": 41,
   "metadata": {},
   "outputs": [
    {
     "data": {
      "image/png": "[encoded data removed]",
      "text/plain": [
       "<Figure size 432x288 with 1 Axes>"
      ]
     },
     "metadata": {},
     "output_type": "display_data"
    }
   ],
   "source": [
    "import matplotlib.pyplot as plt \n",
    "data = [500, 200, 250] \n",
    "\n",
    "labels = [\"Agriculture\", \"Aide\", \"News\"] \n",
    "\n",
    "plt.pie(data, labels=labels,autopct='%1.1f%%') \n",
    "plt.show() "
   ]
  },
  {
   "cell_type": "markdown",
   "metadata": {},
   "source": [
    "#### Gráfico de burbujas\n",
    "\n",
    "Otra variante del diagrama de dispersión es el gráfico de burbujas. En un diagrama de dispersión, solo trazamos los puntos x, y de los datos. Los gráficos de burbujas agregan otra dimensión al ilustrar el tamaño de los puntos. Esta tercera dimensión puede representar tamaños de mercados o incluso ganancias.\n",
    "\n",
    "Con la variable n, especificamos el número de valores xey generados aleatoriamente. Este mismo número se utiliza para determinar los colores aleatorios para nuestras coordenadas x e y. Los tamaños de burbuja aleatorios se determinan por área = np.pi * (60 * np.random.rand (n)) ** 2.\n",
    "\n",
    "La siguiente figura muestra este gráfico de burbujas:"
   ]
  },
  {
   "cell_type": "code",
   "execution_count": 42,
   "metadata": {},
   "outputs": [
    {
     "data": {
      "image/png": "[encoded data removed]",
      "text/plain": [
       "<Figure size 432x288 with 1 Axes>"
      ]
     },
     "metadata": {},
     "output_type": "display_data"
    }
   ],
   "source": [
    "import numpy as np \n",
    "import matplotlib.pyplot as plt \n",
    "\n",
    "\n",
    "n = 10 \n",
    "x = np.random.rand(n) \n",
    "y = np.random.rand(n) \n",
    "colors = np.random.rand(n) \n",
    "area = np.pi * (60 * np.random.rand(n))**2 \n",
    "\n",
    "plt.scatter(x, y, s=area, c=colors, alpha=0.5) \n",
    "plt.show() "
   ]
  },
  {
   "cell_type": "code",
   "execution_count": null,
   "metadata": {},
   "outputs": [],
   "source": []
  }
 ],
 "metadata": {
  "kernelspec": {
   "display_name": "Python 3",
   "language": "python",
   "name": "python3"
  },
  "language_info": {
   "codemirror_mode": {
    "name": "ipython",
    "version": 3
   },
   "file_extension": ".py",
   "mimetype": "text/x-python",
   "name": "python",
   "nbconvert_exporter": "python",
   "pygments_lexer": "ipython3",
   "version": "3.6.5"
  }
 },
 "nbformat": 4,
 "nbformat_minor": 1
}
